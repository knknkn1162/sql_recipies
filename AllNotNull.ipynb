{
 "cells": [
  {
   "cell_type": "code",
   "execution_count": 71,
   "id": "251cdae8-460c-4144-a5dc-0a28c27e7ecb",
   "metadata": {},
   "outputs": [
    {
     "name": "stdout",
     "output_type": "stream",
     "text": [
      "The sql extension is already loaded. To reload it, use:\n",
      "  %reload_ext sql\n",
      "\u001b[33mThere's a new jupysql version available (0.10.2), you're running 0.7.2. To upgrade: pip install jupysql --upgrade\u001b[0m\n"
     ]
    }
   ],
   "source": [
    "%load_ext sql\n",
    "import os\n",
    "from sqlalchemy import create_engine\n",
    "\n",
    "pgconfig = {\n",
    "    'host': 'db',\n",
    "    'port': os.environ['PG_PORT'],\n",
    "    'database': os.environ['PG_DATABASE'],\n",
    "    'user': os.environ['PG_USER'],\n",
    "    'password': os.environ['PG_PASSWORD'],\n",
    "}\n",
    "dsl = 'postgresql://{user}:{password}@{host}:{port}/{database}'.format(**pgconfig)\n",
    "conn = create_engine(dsl)\n",
    "\n",
    "# MagicコマンドでSQLを書くための設定\n",
    "%sql conn"
   ]
  },
  {
   "cell_type": "code",
   "execution_count": 72,
   "id": "26f3e1ac-5314-42b3-be92-e0a353ff1b16",
   "metadata": {},
   "outputs": [
    {
     "name": "stdout",
     "output_type": "stream",
     "text": [
      "*  postgresql://padawan:***@db:5432/dsdojo_db\n",
      "Done.\n",
      "Done.\n",
      "1 rows affected.\n",
      "1 rows affected.\n",
      "1 rows affected.\n",
      "1 rows affected.\n",
      "1 rows affected.\n",
      "1 rows affected.\n",
      "1 rows affected.\n"
     ]
    },
    {
     "data": {
      "text/plain": [
       "[]"
      ]
     },
     "execution_count": 72,
     "metadata": {},
     "output_type": "execute_result"
    }
   ],
   "source": [
    "%%sql\n",
    "drop table if exists Students;\n",
    "CREATE TABLE Students\n",
    "(student_id   INTEGER PRIMARY KEY,\n",
    " dpt          VARCHAR(16) NOT NULL,\n",
    " sbmt_date    DATE);\n",
    "\n",
    "INSERT INTO Students VALUES(100,  '理学部',   '2018-10-10');\n",
    "INSERT INTO Students VALUES(101,  '理学部',   '2018-09-22');\n",
    "INSERT INTO Students VALUES(102,  '文学部',   NULL);\n",
    "INSERT INTO Students VALUES(103,  '文学部',   '2018-09-10');\n",
    "INSERT INTO Students VALUES(200,  '文学部',   '2018-09-22');\n",
    "INSERT INTO Students VALUES(201,  '工学部',   NULL);\n",
    "INSERT INTO Students VALUES(202,  '経済学部', '2018-09-25');"
   ]
  },
  {
   "cell_type": "markdown",
   "id": "6409f392-488a-48d7-bff8-c896b813d711",
   "metadata": {},
   "source": [
    "## やりたいこと\n",
    "すべての生徒がsbmt_dateある(提出している)学部を見つける"
   ]
  },
  {
   "cell_type": "code",
   "execution_count": 81,
   "id": "bf2eccee-853a-48ae-b26b-434a15ee11f3",
   "metadata": {},
   "outputs": [
    {
     "name": "stdout",
     "output_type": "stream",
     "text": [
      "*  postgresql://padawan:***@db:5432/dsdojo_db\n",
      "2 rows affected.\n"
     ]
    },
    {
     "data": {
      "text/html": [
       "<table>\n",
       "    <thead>\n",
       "        <tr>\n",
       "            <th>dpt</th>\n",
       "        </tr>\n",
       "    </thead>\n",
       "    <tbody>\n",
       "        <tr>\n",
       "            <td>理学部</td>\n",
       "        </tr>\n",
       "        <tr>\n",
       "            <td>経済学部</td>\n",
       "        </tr>\n",
       "    </tbody>\n",
       "</table>"
      ],
      "text/plain": [
       "[('理学部',), ('経済学部',)]"
      ]
     },
     "execution_count": 81,
     "metadata": {},
     "output_type": "execute_result"
    }
   ],
   "source": [
    "%%sql\n",
    "select dpt\n",
    "from Students\n",
    "group by dpt\n",
    "having count(sbmt_date) = count(*)"
   ]
  },
  {
   "cell_type": "code",
   "execution_count": 80,
   "id": "086177fe-e6ed-403d-8322-60bb95e62c31",
   "metadata": {},
   "outputs": [
    {
     "name": "stdout",
     "output_type": "stream",
     "text": [
      "*  postgresql://padawan:***@db:5432/dsdojo_db\n",
      "2 rows affected.\n"
     ]
    },
    {
     "data": {
      "text/html": [
       "<table>\n",
       "    <thead>\n",
       "        <tr>\n",
       "            <th>dpt</th>\n",
       "        </tr>\n",
       "    </thead>\n",
       "    <tbody>\n",
       "        <tr>\n",
       "            <td>理学部</td>\n",
       "        </tr>\n",
       "        <tr>\n",
       "            <td>経済学部</td>\n",
       "        </tr>\n",
       "    </tbody>\n",
       "</table>"
      ],
      "text/plain": [
       "[('理学部',), ('経済学部',)]"
      ]
     },
     "execution_count": 80,
     "metadata": {},
     "output_type": "execute_result"
    }
   ],
   "source": [
    "%%sql\n",
    "select dpt\n",
    "from Students\n",
    "group by dpt\n",
    "having sum(case when sbmt_date is not null then 1 else 0 end) = count(*)"
   ]
  },
  {
   "cell_type": "code",
   "execution_count": 78,
   "id": "f766c91f-41c0-4b33-ab34-ef3c552ecbdb",
   "metadata": {},
   "outputs": [
    {
     "name": "stdout",
     "output_type": "stream",
     "text": [
      "*  postgresql://padawan:***@db:5432/dsdojo_db\n",
      "2 rows affected.\n"
     ]
    },
    {
     "data": {
      "text/html": [
       "<table>\n",
       "    <thead>\n",
       "        <tr>\n",
       "            <th>dpt</th>\n",
       "        </tr>\n",
       "    </thead>\n",
       "    <tbody>\n",
       "        <tr>\n",
       "            <td>理学部</td>\n",
       "        </tr>\n",
       "        <tr>\n",
       "            <td>経済学部</td>\n",
       "        </tr>\n",
       "    </tbody>\n",
       "</table>"
      ],
      "text/plain": [
       "[('理学部',), ('経済学部',)]"
      ]
     },
     "execution_count": 78,
     "metadata": {},
     "output_type": "execute_result"
    }
   ],
   "source": [
    "%%sql\n",
    "select distinct dpt\n",
    "from students as s1\n",
    "where not exists (\n",
    "    select *\n",
    "    from students as s2\n",
    "    where s1.dpt = s2.dpt and\n",
    "    s2.sbmt_date is null\n",
    ")"
   ]
  },
  {
   "cell_type": "code",
   "execution_count": null,
   "id": "fba4a797-9b06-48c8-bf2c-4e3ab68a663f",
   "metadata": {},
   "outputs": [],
   "source": []
  }
 ],
 "metadata": {
  "kernelspec": {
   "display_name": "Python 3 (ipykernel)",
   "language": "python",
   "name": "python3"
  },
  "language_info": {
   "codemirror_mode": {
    "name": "ipython",
    "version": 3
   },
   "file_extension": ".py",
   "mimetype": "text/x-python",
   "name": "python",
   "nbconvert_exporter": "python",
   "pygments_lexer": "ipython3",
   "version": "3.11.5"
  }
 },
 "nbformat": 4,
 "nbformat_minor": 5
}
