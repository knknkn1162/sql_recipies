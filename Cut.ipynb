{
 "cells": [
  {
   "cell_type": "code",
   "execution_count": 1,
   "id": "b5cbea58-0528-411f-99bc-d60adec61ea1",
   "metadata": {},
   "outputs": [],
   "source": [
    "%load_ext sql\n",
    "import os\n",
    "from sqlalchemy import create_engine\n",
    "\n",
    "pgconfig = {\n",
    "    'host': 'db',\n",
    "    'port': os.environ['PG_PORT'],\n",
    "    'database': os.environ['PG_DATABASE'],\n",
    "    'user': os.environ['PG_USER'],\n",
    "    'password': os.environ['PG_PASSWORD'],\n",
    "}\n",
    "dsl = 'postgresql://{user}:{password}@{host}:{port}/{database}'.format(**pgconfig)\n",
    "conn = create_engine(dsl)\n",
    "\n",
    "# MagicコマンドでSQLを書くための設定\n",
    "%sql conn"
   ]
  },
  {
   "cell_type": "code",
   "execution_count": 3,
   "id": "d6641beb-f6ee-4a7d-b8ee-604da5c247b6",
   "metadata": {},
   "outputs": [
    {
     "name": "stdout",
     "output_type": "stream",
     "text": [
      "*  postgresql://padawan:***@db:5432/dsdojo_db\n",
      "Done.\n",
      "Done.\n",
      "5 rows affected.\n"
     ]
    },
    {
     "data": {
      "text/plain": [
       "[]"
      ]
     },
     "execution_count": 3,
     "metadata": {},
     "output_type": "execute_result"
    }
   ],
   "source": [
    "%%sql\n",
    "drop table if exists tbl;\n",
    "create table tbl (\n",
    "    name varchar(32) primary key,\n",
    "    point integer not null check (point >= 0 and point <= 100)\n",
    ");\n",
    "\n",
    "insert into tbl\n",
    "values ('Alice', 68),\n",
    "    ('Bob', 79),\n",
    "    ('Carol', 81),\n",
    "    ('Dave', 0),\n",
    "    ('Eve', 100);"
   ]
  },
  {
   "cell_type": "markdown",
   "id": "4e549e2f-a807-438c-88f2-2ebd359961ca",
   "metadata": {},
   "source": [
    "## やりたいこと\n",
    "+ 点数によってA~Dに分類する(Rの`cut`相当)\n",
    "    + A: 91~100\n",
    "    + B: 81~90\n",
    "    + C: 71~80\n",
    "    + D: それ以下"
   ]
  },
  {
   "cell_type": "code",
   "execution_count": 5,
   "id": "f112e9b0-c04c-4cff-83f6-e453fc62486a",
   "metadata": {},
   "outputs": [
    {
     "name": "stdout",
     "output_type": "stream",
     "text": [
      "*  postgresql://padawan:***@db:5432/dsdojo_db\n",
      "5 rows affected.\n"
     ]
    },
    {
     "data": {
      "text/html": [
       "<table>\n",
       "    <thead>\n",
       "        <tr>\n",
       "            <th>name</th>\n",
       "            <th>point</th>\n",
       "            <th>grade</th>\n",
       "        </tr>\n",
       "    </thead>\n",
       "    <tbody>\n",
       "        <tr>\n",
       "            <td>Alice</td>\n",
       "            <td>68</td>\n",
       "            <td>D</td>\n",
       "        </tr>\n",
       "        <tr>\n",
       "            <td>Bob</td>\n",
       "            <td>79</td>\n",
       "            <td>C</td>\n",
       "        </tr>\n",
       "        <tr>\n",
       "            <td>Carol</td>\n",
       "            <td>81</td>\n",
       "            <td>B</td>\n",
       "        </tr>\n",
       "        <tr>\n",
       "            <td>Dave</td>\n",
       "            <td>0</td>\n",
       "            <td>D</td>\n",
       "        </tr>\n",
       "        <tr>\n",
       "            <td>Eve</td>\n",
       "            <td>100</td>\n",
       "            <td>A</td>\n",
       "        </tr>\n",
       "    </tbody>\n",
       "</table>"
      ],
      "text/plain": [
       "[('Alice', 68, 'D'),\n",
       " ('Bob', 79, 'C'),\n",
       " ('Carol', 81, 'B'),\n",
       " ('Dave', 0, 'D'),\n",
       " ('Eve', 100, 'A')]"
      ]
     },
     "execution_count": 5,
     "metadata": {},
     "output_type": "execute_result"
    }
   ],
   "source": [
    "%%sql\n",
    "-- 素直にcase文で\n",
    "select *,\n",
    "    case\n",
    "        when point between 0 and 70 then 'D'\n",
    "        when point between 71 and 80 then 'C'\n",
    "        when point between 81 and 90 then 'B'\n",
    "        when point between 91 and 100 then 'A'\n",
    "        else null\n",
    "    end as grade\n",
    "from tbl"
   ]
  },
  {
   "cell_type": "code",
   "execution_count": 8,
   "id": "bb1182d1-ec50-4119-aaf9-6197251b080e",
   "metadata": {},
   "outputs": [
    {
     "name": "stdout",
     "output_type": "stream",
     "text": [
      "*  postgresql://padawan:***@db:5432/dsdojo_db\n",
      "Done.\n",
      "5 rows affected.\n",
      "5 rows affected.\n"
     ]
    },
    {
     "data": {
      "text/html": [
       "<table>\n",
       "    <thead>\n",
       "        <tr>\n",
       "            <th>name</th>\n",
       "            <th>point</th>\n",
       "            <th>grade</th>\n",
       "        </tr>\n",
       "    </thead>\n",
       "    <tbody>\n",
       "        <tr>\n",
       "            <td>Alice</td>\n",
       "            <td>68</td>\n",
       "            <td>D</td>\n",
       "        </tr>\n",
       "        <tr>\n",
       "            <td>Bob</td>\n",
       "            <td>79</td>\n",
       "            <td>C</td>\n",
       "        </tr>\n",
       "        <tr>\n",
       "            <td>Carol</td>\n",
       "            <td>81</td>\n",
       "            <td>B</td>\n",
       "        </tr>\n",
       "        <tr>\n",
       "            <td>Dave</td>\n",
       "            <td>0</td>\n",
       "            <td>D</td>\n",
       "        </tr>\n",
       "        <tr>\n",
       "            <td>Eve</td>\n",
       "            <td>100</td>\n",
       "            <td>A</td>\n",
       "        </tr>\n",
       "    </tbody>\n",
       "</table>"
      ],
      "text/plain": [
       "[('Alice', 68, 'D'),\n",
       " ('Bob', 79, 'C'),\n",
       " ('Carol', 81, 'B'),\n",
       " ('Dave', 0, 'D'),\n",
       " ('Eve', 100, 'A')]"
      ]
     },
     "execution_count": 8,
     "metadata": {},
     "output_type": "execute_result"
    }
   ],
   "source": [
    "%%sql\n",
    "-- updateする場合もcase文が有効\n",
    "ALTER TABLE tbl\n",
    "ADD if not exists grade char(1);\n",
    "\n",
    "update tbl\n",
    "set grade = case\n",
    "        when point between 0 and 70 then 'D'\n",
    "        when point between 71 and 80 then 'C'\n",
    "        when point between 81 and 90 then 'B'\n",
    "        when point between 91 and 100 then 'A'\n",
    "        else null\n",
    "    end;\n",
    "\n",
    "select *\n",
    "from tbl;"
   ]
  },
  {
   "cell_type": "code",
   "execution_count": 7,
   "id": "c8c243c7-cb7a-4cc6-9abe-c9018e19630d",
   "metadata": {},
   "outputs": [
    {
     "name": "stdout",
     "output_type": "stream",
     "text": [
      "*  postgresql://padawan:***@db:5432/dsdojo_db\n",
      "Done.\n",
      "4 rows affected.\n"
     ]
    },
    {
     "data": {
      "text/plain": [
       "[]"
      ]
     },
     "execution_count": 7,
     "metadata": {},
     "output_type": "execute_result"
    }
   ],
   "source": [
    "%%sql\n",
    "create table Grades (\n",
    "    low integer not null,\n",
    "    high integer not null,\n",
    "    label char(1) check (label in ('A', 'B', 'C', 'D')),\n",
    "    primary key(low, high)\n",
    ");\n",
    "insert into Grades\n",
    "values (91,100, 'A'),\n",
    "    (81,90, 'B'),\n",
    "    (71,80, 'C'),\n",
    "    (0,70,'D');"
   ]
  },
  {
   "cell_type": "code",
   "execution_count": 8,
   "id": "1c6de34e-7fa4-4d89-b925-90e1c81e834b",
   "metadata": {},
   "outputs": [
    {
     "name": "stdout",
     "output_type": "stream",
     "text": [
      "*  postgresql://padawan:***@db:5432/dsdojo_db\n",
      "5 rows affected.\n"
     ]
    },
    {
     "data": {
      "text/html": [
       "<table>\n",
       "    <thead>\n",
       "        <tr>\n",
       "            <th>name</th>\n",
       "            <th>point</th>\n",
       "            <th>label</th>\n",
       "        </tr>\n",
       "    </thead>\n",
       "    <tbody>\n",
       "        <tr>\n",
       "            <td>Alice</td>\n",
       "            <td>68</td>\n",
       "            <td>D</td>\n",
       "        </tr>\n",
       "        <tr>\n",
       "            <td>Bob</td>\n",
       "            <td>79</td>\n",
       "            <td>C</td>\n",
       "        </tr>\n",
       "        <tr>\n",
       "            <td>Carol</td>\n",
       "            <td>81</td>\n",
       "            <td>B</td>\n",
       "        </tr>\n",
       "        <tr>\n",
       "            <td>Dave</td>\n",
       "            <td>0</td>\n",
       "            <td>D</td>\n",
       "        </tr>\n",
       "        <tr>\n",
       "            <td>Eve</td>\n",
       "            <td>100</td>\n",
       "            <td>A</td>\n",
       "        </tr>\n",
       "    </tbody>\n",
       "</table>"
      ],
      "text/plain": [
       "[('Alice', 68, 'D'),\n",
       " ('Bob', 79, 'C'),\n",
       " ('Carol', 81, 'B'),\n",
       " ('Dave', 0, 'D'),\n",
       " ('Eve', 100, 'A')]"
      ]
     },
     "execution_count": 8,
     "metadata": {},
     "output_type": "execute_result"
    }
   ],
   "source": [
    "%%sql\n",
    "-- Gradesというテーブルを作ってjoinする\n",
    "select t.*, g.label\n",
    "from tbl as t\n",
    "inner join Grades as g\n",
    "on t.point between g.low and g.high"
   ]
  },
  {
   "cell_type": "code",
   "execution_count": null,
   "id": "fbf7a205-3f3e-4492-8770-a987f51e4d44",
   "metadata": {},
   "outputs": [],
   "source": []
  }
 ],
 "metadata": {
  "kernelspec": {
   "display_name": "Python 3 (ipykernel)",
   "language": "python",
   "name": "python3"
  },
  "language_info": {
   "codemirror_mode": {
    "name": "ipython",
    "version": 3
   },
   "file_extension": ".py",
   "mimetype": "text/x-python",
   "name": "python",
   "nbconvert_exporter": "python",
   "pygments_lexer": "ipython3",
   "version": "3.11.5"
  }
 },
 "nbformat": 4,
 "nbformat_minor": 5
}
