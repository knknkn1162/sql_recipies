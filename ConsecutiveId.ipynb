{
 "cells": [
  {
   "cell_type": "code",
   "execution_count": 3,
   "id": "2d3356df-7db2-428f-b62f-7c6c02cd5a75",
   "metadata": {},
   "outputs": [
    {
     "name": "stdout",
     "output_type": "stream",
     "text": [
      "The sql extension is already loaded. To reload it, use:\n",
      "  %reload_ext sql\n"
     ]
    }
   ],
   "source": [
    "%load_ext sql\n",
    "import os\n",
    "from sqlalchemy import create_engine\n",
    "\n",
    "pgconfig = {\n",
    "    'host': 'db',\n",
    "    'port': os.environ['PG_PORT'],\n",
    "    'database': os.environ['PG_DATABASE'],\n",
    "    'user': os.environ['PG_USER'],\n",
    "    'password': os.environ['PG_PASSWORD'],\n",
    "}\n",
    "dsl = 'postgresql://{user}:{password}@{host}:{port}/{database}'.format(**pgconfig)\n",
    "conn = create_engine(dsl)\n",
    "\n",
    "# MagicコマンドでSQLを書くための設定\n",
    "%sql conn"
   ]
  },
  {
   "cell_type": "markdown",
   "id": "21b68a39-689c-4513-bcb5-581472d4d24d",
   "metadata": {},
   "source": [
    "## やりたいこと\n",
    "+ 連続する数列の範囲を求める"
   ]
  },
  {
   "cell_type": "code",
   "execution_count": 5,
   "id": "765b3b80-f912-48a4-8295-ea86dd8cbf61",
   "metadata": {},
   "outputs": [
    {
     "name": "stdout",
     "output_type": "stream",
     "text": [
      "*  postgresql://padawan:***@db:5432/dsdojo_db\n",
      "Done.\n",
      "Done.\n",
      "9 rows affected.\n"
     ]
    },
    {
     "data": {
      "text/plain": [
       "[]"
      ]
     },
     "execution_count": 5,
     "metadata": {},
     "output_type": "execute_result"
    }
   ],
   "source": [
    "%%sql\n",
    "drop table if exists tbl;\n",
    "create table tbl (\n",
    "    id integer primary key,\n",
    "    col1 integer not null\n",
    ");\n",
    "\n",
    "insert into tbl\n",
    "values (1,1),(2,2),(3,3),\n",
    "    (4,5),(5,7),(6,8),(7,10),(8,11),(9,12);"
   ]
  },
  {
   "cell_type": "code",
   "execution_count": 18,
   "id": "d69dcddf-65fd-4bfa-81bd-24b18a537f4f",
   "metadata": {},
   "outputs": [
    {
     "name": "stdout",
     "output_type": "stream",
     "text": [
      "*  postgresql://padawan:***@db:5432/dsdojo_db\n",
      "4 rows affected.\n"
     ]
    },
    {
     "data": {
      "text/html": [
       "<table>\n",
       "    <thead>\n",
       "        <tr>\n",
       "            <th>group_id</th>\n",
       "            <th>start_num</th>\n",
       "            <th>end_num</th>\n",
       "        </tr>\n",
       "    </thead>\n",
       "    <tbody>\n",
       "        <tr>\n",
       "            <td>1</td>\n",
       "            <td>1</td>\n",
       "            <td>3</td>\n",
       "        </tr>\n",
       "        <tr>\n",
       "            <td>2</td>\n",
       "            <td>5</td>\n",
       "            <td>5</td>\n",
       "        </tr>\n",
       "        <tr>\n",
       "            <td>3</td>\n",
       "            <td>7</td>\n",
       "            <td>8</td>\n",
       "        </tr>\n",
       "        <tr>\n",
       "            <td>4</td>\n",
       "            <td>10</td>\n",
       "            <td>12</td>\n",
       "        </tr>\n",
       "    </tbody>\n",
       "</table>"
      ],
      "text/plain": [
       "[(1, 1, 3), (2, 5, 5), (3, 7, 8), (4, 10, 12)]"
      ]
     },
     "execution_count": 18,
     "metadata": {},
     "output_type": "execute_result"
    }
   ],
   "source": [
    "%%sql\n",
    "-- lagを使って、diffを求める -> 差が1でなければ足し込んでいって、階段関数にする\n",
    "select group_id+1 as group_id,\n",
    "    min(col1) as start_num,\n",
    "    max(col1) as end_num\n",
    "from (\n",
    "    select *,\n",
    "        -- consecutive_id相当\n",
    "        sum(case when diff = 1 then 0 else 1 end) over (order by id) as group_id\n",
    "    from (\n",
    "        select *,\n",
    "            coalesce(col1 - lag(col1,1) over (order by id),1) as diff\n",
    "        from tbl\n",
    "    ) as tmp1\n",
    ") as tmp2\n",
    "group by group_id\n",
    "order by group_id"
   ]
  },
  {
   "cell_type": "code",
   "execution_count": null,
   "id": "402a9b24-5271-4daa-a5c7-c95621701e61",
   "metadata": {},
   "outputs": [],
   "source": []
  }
 ],
 "metadata": {
  "kernelspec": {
   "display_name": "Python 3 (ipykernel)",
   "language": "python",
   "name": "python3"
  },
  "language_info": {
   "codemirror_mode": {
    "name": "ipython",
    "version": 3
   },
   "file_extension": ".py",
   "mimetype": "text/x-python",
   "name": "python",
   "nbconvert_exporter": "python",
   "pygments_lexer": "ipython3",
   "version": "3.11.5"
  }
 },
 "nbformat": 4,
 "nbformat_minor": 5
}
