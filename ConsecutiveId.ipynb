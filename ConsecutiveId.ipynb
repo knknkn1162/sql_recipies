{
 "cells": [
  {
   "cell_type": "code",
   "execution_count": 3,
   "id": "2d3356df-7db2-428f-b62f-7c6c02cd5a75",
   "metadata": {},
   "outputs": [
    {
     "name": "stdout",
     "output_type": "stream",
     "text": [
      "The sql extension is already loaded. To reload it, use:\n",
      "  %reload_ext sql\n"
     ]
    }
   ],
   "source": [
    "%load_ext sql\n",
    "import os\n",
    "from sqlalchemy import create_engine\n",
    "\n",
    "pgconfig = {\n",
    "    'host': 'db',\n",
    "    'port': os.environ['PG_PORT'],\n",
    "    'database': os.environ['PG_DATABASE'],\n",
    "    'user': os.environ['PG_USER'],\n",
    "    'password': os.environ['PG_PASSWORD'],\n",
    "}\n",
    "dsl = 'postgresql://{user}:{password}@{host}:{port}/{database}'.format(**pgconfig)\n",
    "conn = create_engine(dsl)\n",
    "\n",
    "# MagicコマンドでSQLを書くための設定\n",
    "%sql conn"
   ]
  },
  {
   "cell_type": "markdown",
   "id": "21b68a39-689c-4513-bcb5-581472d4d24d",
   "metadata": {},
   "source": [
    "# やりたいこと\n",
    "\n",
    "## その1\n",
    "+ 連続する数列の範囲を求める"
   ]
  },
  {
   "cell_type": "code",
   "execution_count": 5,
   "id": "765b3b80-f912-48a4-8295-ea86dd8cbf61",
   "metadata": {},
   "outputs": [
    {
     "name": "stdout",
     "output_type": "stream",
     "text": [
      "*  postgresql://padawan:***@db:5432/dsdojo_db\n",
      "Done.\n",
      "Done.\n",
      "9 rows affected.\n"
     ]
    },
    {
     "data": {
      "text/plain": [
       "[]"
      ]
     },
     "execution_count": 5,
     "metadata": {},
     "output_type": "execute_result"
    }
   ],
   "source": [
    "%%sql\n",
    "drop table if exists tbl;\n",
    "create table tbl (\n",
    "    id integer primary key,\n",
    "    col1 integer not null\n",
    ");\n",
    "\n",
    "insert into tbl\n",
    "values (1,1),(2,2),(3,3),\n",
    "    (4,5),(5,7),(6,8),(7,10),(8,11),(9,12);"
   ]
  },
  {
   "cell_type": "code",
   "execution_count": 18,
   "id": "d69dcddf-65fd-4bfa-81bd-24b18a537f4f",
   "metadata": {},
   "outputs": [
    {
     "name": "stdout",
     "output_type": "stream",
     "text": [
      "*  postgresql://padawan:***@db:5432/dsdojo_db\n",
      "4 rows affected.\n"
     ]
    },
    {
     "data": {
      "text/html": [
       "<table>\n",
       "    <thead>\n",
       "        <tr>\n",
       "            <th>group_id</th>\n",
       "            <th>start_num</th>\n",
       "            <th>end_num</th>\n",
       "        </tr>\n",
       "    </thead>\n",
       "    <tbody>\n",
       "        <tr>\n",
       "            <td>1</td>\n",
       "            <td>1</td>\n",
       "            <td>3</td>\n",
       "        </tr>\n",
       "        <tr>\n",
       "            <td>2</td>\n",
       "            <td>5</td>\n",
       "            <td>5</td>\n",
       "        </tr>\n",
       "        <tr>\n",
       "            <td>3</td>\n",
       "            <td>7</td>\n",
       "            <td>8</td>\n",
       "        </tr>\n",
       "        <tr>\n",
       "            <td>4</td>\n",
       "            <td>10</td>\n",
       "            <td>12</td>\n",
       "        </tr>\n",
       "    </tbody>\n",
       "</table>"
      ],
      "text/plain": [
       "[(1, 1, 3), (2, 5, 5), (3, 7, 8), (4, 10, 12)]"
      ]
     },
     "execution_count": 18,
     "metadata": {},
     "output_type": "execute_result"
    }
   ],
   "source": [
    "%%sql\n",
    "-- lagを使って、diffを求める -> 差が1でなければ足し込んでいって、階段関数にする\n",
    "select group_id+1 as group_id,\n",
    "    min(col1) as start_num,\n",
    "    max(col1) as end_num\n",
    "from (\n",
    "    select *,\n",
    "        -- consecutive_id相当\n",
    "        sum(case when diff = 1 then 0 else 1 end) over (order by id) as group_id\n",
    "    from (\n",
    "        select *,\n",
    "            coalesce(col1 - lag(col1,1) over (order by id),1) as diff\n",
    "        from tbl\n",
    "    ) as tmp1\n",
    ") as tmp2\n",
    "group by group_id\n",
    "order by group_id"
   ]
  },
  {
   "cell_type": "code",
   "execution_count": 33,
   "id": "402a9b24-5271-4daa-a5c7-c95621701e61",
   "metadata": {},
   "outputs": [
    {
     "name": "stdout",
     "output_type": "stream",
     "text": [
      "*  postgresql://padawan:***@db:5432/dsdojo_db\n",
      "5 rows affected.\n"
     ]
    },
    {
     "data": {
      "text/html": [
       "<table>\n",
       "    <thead>\n",
       "        <tr>\n",
       "            <th>start_num</th>\n",
       "            <th>end_num</th>\n",
       "        </tr>\n",
       "    </thead>\n",
       "    <tbody>\n",
       "        <tr>\n",
       "            <td>1</td>\n",
       "            <td>3</td>\n",
       "        </tr>\n",
       "        <tr>\n",
       "            <td>5</td>\n",
       "            <td>5</td>\n",
       "        </tr>\n",
       "        <tr>\n",
       "            <td>7</td>\n",
       "            <td>8</td>\n",
       "        </tr>\n",
       "        <tr>\n",
       "            <td>10</td>\n",
       "            <td>12</td>\n",
       "        </tr>\n",
       "        <tr>\n",
       "            <td>14</td>\n",
       "            <td>None</td>\n",
       "        </tr>\n",
       "    </tbody>\n",
       "</table>"
      ],
      "text/plain": [
       "[(1, 3), (5, 5), (7, 8), (10, 12), (14, None)]"
      ]
     },
     "execution_count": 33,
     "metadata": {},
     "output_type": "execute_result"
    }
   ],
   "source": [
    "%%sql\n",
    "-- 差集合: 0 4,6,9 14の間が連続した数列になることを利用\n",
    "select col+1 as start_num,\n",
    "    lead(col,1) over (order by col) - 1 as end_num\n",
    "from (\n",
    "    select generate_series(\n",
    "        (select min(col1) from tbl), (select max(col1) from tbl)\n",
    "    ) as col\n",
    "    except\n",
    "    select col1\n",
    "    from tbl\n",
    "    union\n",
    "    values ((select max(col1) from tbl)+1), ((select min(col1) from tbl)-1)\n",
    ") as tmp\n"
   ]
  },
  {
   "cell_type": "markdown",
   "id": "293c888c-afeb-4a94-ad8c-e6b42e33266a",
   "metadata": {},
   "source": [
    "## その2\n",
    "+ 連続した'o'の範囲を列挙する"
   ]
  },
  {
   "cell_type": "code",
   "execution_count": 46,
   "id": "3300316f-74b1-45a4-ab05-14145c444ff0",
   "metadata": {},
   "outputs": [
    {
     "name": "stdout",
     "output_type": "stream",
     "text": [
      "*  postgresql://padawan:***@db:5432/dsdojo_db\n",
      "Done.\n",
      "Done.\n",
      "1 rows affected.\n",
      "1 rows affected.\n",
      "1 rows affected.\n",
      "1 rows affected.\n",
      "1 rows affected.\n",
      "1 rows affected.\n",
      "1 rows affected.\n",
      "1 rows affected.\n",
      "1 rows affected.\n",
      "1 rows affected.\n",
      "1 rows affected.\n",
      "1 rows affected.\n",
      "1 rows affected.\n",
      "1 rows affected.\n",
      "1 rows affected.\n",
      "1 rows affected.\n"
     ]
    },
    {
     "data": {
      "text/plain": [
       "[]"
      ]
     },
     "execution_count": 46,
     "metadata": {},
     "output_type": "execute_result"
    }
   ],
   "source": [
    "%%sql\n",
    "drop table if exists Seats;\n",
    "CREATE TABLE Seats\n",
    " ( seat   INTEGER NOT NULL  PRIMARY KEY,\n",
    "   line_id CHAR(1) NOT NULL,\n",
    "   status CHAR(2) NOT NULL\n",
    "     CHECK (status IN ('空', '占')) ); \n",
    "\n",
    "INSERT INTO Seats VALUES (1, 'A', '占');\n",
    "INSERT INTO Seats VALUES (2, 'A', '占');\n",
    "INSERT INTO Seats VALUES (3, 'A', '空');\n",
    "INSERT INTO Seats VALUES (4, 'A', '空');\n",
    "INSERT INTO Seats VALUES (5, 'A', '空');\n",
    "INSERT INTO Seats VALUES (6, 'B', '占');\n",
    "INSERT INTO Seats VALUES (7, 'B', '占');\n",
    "INSERT INTO Seats VALUES (8, 'B', '空');\n",
    "INSERT INTO Seats VALUES (9, 'B', '空');\n",
    "INSERT INTO Seats VALUES (10,'B', '空');\n",
    "INSERT INTO Seats VALUES (11,'C', '空');\n",
    "INSERT INTO Seats VALUES (12,'C', '占');\n",
    "INSERT INTO Seats VALUES (13,'C', '空');\n",
    "INSERT INTO Seats VALUES (14,'C', '占');\n",
    "INSERT INTO Seats VALUES (15,'C', '空');\n",
    "INSERT INTO Seats VALUES (16,'C', '空');"
   ]
  },
  {
   "cell_type": "code",
   "execution_count": 47,
   "id": "d90ed9e6-0cb1-4d77-a55b-861a47aec1ff",
   "metadata": {},
   "outputs": [
    {
     "name": "stdout",
     "output_type": "stream",
     "text": [
      "*  postgresql://padawan:***@db:5432/dsdojo_db\n",
      "4 rows affected.\n"
     ]
    },
    {
     "data": {
      "text/html": [
       "<table>\n",
       "    <thead>\n",
       "        <tr>\n",
       "            <th>start_seat</th>\n",
       "            <th>end_seat</th>\n",
       "        </tr>\n",
       "    </thead>\n",
       "    <tbody>\n",
       "        <tr>\n",
       "            <td>3</td>\n",
       "            <td>5</td>\n",
       "        </tr>\n",
       "        <tr>\n",
       "            <td>8</td>\n",
       "            <td>11</td>\n",
       "        </tr>\n",
       "        <tr>\n",
       "            <td>13</td>\n",
       "            <td>13</td>\n",
       "        </tr>\n",
       "        <tr>\n",
       "            <td>15</td>\n",
       "            <td>16</td>\n",
       "        </tr>\n",
       "    </tbody>\n",
       "</table>"
      ],
      "text/plain": [
       "[(3, 5), (8, 11), (13, 13), (15, 16)]"
      ]
     },
     "execution_count": 47,
     "metadata": {},
     "output_type": "execute_result"
    }
   ],
   "source": [
    "%%sql\n",
    "-- lagとcumsumを組み合わせる\n",
    "select\n",
    "    min(seat) as start_seat,\n",
    "    max(seat) as end_seat\n",
    "from (\n",
    "    select seat, prev_seat, status,\n",
    "        -- consecutive_id\n",
    "        sum(diff) over (order by seat) as group_id\n",
    "    from (\n",
    "        select *,\n",
    "            lag(seat, 1) over (\n",
    "                order by seat\n",
    "            ) as prev_seat,\n",
    "            case when lag(status,1) over (\n",
    "                order by seat\n",
    "            ) = status then 0 else 1 end as diff\n",
    "        from Seats\n",
    "    ) as tmp1\n",
    ") as tmp2\n",
    "group by group_id\n",
    "having max(status) = '空'\n",
    "order by group_id"
   ]
  },
  {
   "cell_type": "code",
   "execution_count": 62,
   "id": "73b692b1-27fe-4f01-9102-6e79ea7155a1",
   "metadata": {},
   "outputs": [
    {
     "name": "stdout",
     "output_type": "stream",
     "text": [
      "*  postgresql://padawan:***@db:5432/dsdojo_db\n",
      "4 rows affected.\n"
     ]
    },
    {
     "data": {
      "text/html": [
       "<table>\n",
       "    <thead>\n",
       "        <tr>\n",
       "            <th>start_num</th>\n",
       "            <th>end_num</th>\n",
       "        </tr>\n",
       "    </thead>\n",
       "    <tbody>\n",
       "        <tr>\n",
       "            <td>3</td>\n",
       "            <td>5</td>\n",
       "        </tr>\n",
       "        <tr>\n",
       "            <td>8</td>\n",
       "            <td>11</td>\n",
       "        </tr>\n",
       "        <tr>\n",
       "            <td>13</td>\n",
       "            <td>13</td>\n",
       "        </tr>\n",
       "        <tr>\n",
       "            <td>15</td>\n",
       "            <td>16</td>\n",
       "        </tr>\n",
       "    </tbody>\n",
       "</table>"
      ],
      "text/plain": [
       "[(3, 5), (8, 11), (13, 13), (15, 16)]"
      ]
     },
     "execution_count": 62,
     "metadata": {},
     "output_type": "execute_result"
    }
   ],
   "source": [
    "%%sql\n",
    "-- 3つの自己結合で相関サブクエリ\n",
    "select min(start_num) as start_num,\n",
    "    end_num\n",
    "from (\n",
    "    select s1.seat as start_num,\n",
    "        max(s2.seat) as end_num\n",
    "    from Seats as s1, Seats as s2\n",
    "    where s1.seat <= s2.seat and\n",
    "    not exists (\n",
    "        select *\n",
    "        from Seats as s3\n",
    "        where s3.seat between s1.seat and s2.seat and\n",
    "        s3.status <> '空'\n",
    "    )\n",
    "    group by s1.seat\n",
    ") as tmp\n",
    "group by end_num"
   ]
  },
  {
   "cell_type": "code",
   "execution_count": 52,
   "id": "890decd1-7dbb-450b-a0f1-2bf5475652d5",
   "metadata": {},
   "outputs": [
    {
     "name": "stdout",
     "output_type": "stream",
     "text": [
      "*  postgresql://padawan:***@db:5432/dsdojo_db\n",
      "6 rows affected.\n"
     ]
    },
    {
     "data": {
      "text/html": [
       "<table>\n",
       "    <thead>\n",
       "        <tr>\n",
       "            <th>?column?</th>\n",
       "            <th>seat</th>\n",
       "        </tr>\n",
       "    </thead>\n",
       "    <tbody>\n",
       "        <tr>\n",
       "            <td>3</td>\n",
       "            <td>4</td>\n",
       "        </tr>\n",
       "        <tr>\n",
       "            <td>4</td>\n",
       "            <td>5</td>\n",
       "        </tr>\n",
       "        <tr>\n",
       "            <td>8</td>\n",
       "            <td>9</td>\n",
       "        </tr>\n",
       "        <tr>\n",
       "            <td>9</td>\n",
       "            <td>10</td>\n",
       "        </tr>\n",
       "        <tr>\n",
       "            <td>10</td>\n",
       "            <td>11</td>\n",
       "        </tr>\n",
       "        <tr>\n",
       "            <td>15</td>\n",
       "            <td>16</td>\n",
       "        </tr>\n",
       "    </tbody>\n",
       "</table>"
      ],
      "text/plain": [
       "[(3, 4), (4, 5), (8, 9), (9, 10), (10, 11), (15, 16)]"
      ]
     },
     "execution_count": 52,
     "metadata": {},
     "output_type": "execute_result"
    }
   ],
   "source": [
    "%%sql\n",
    "-- 2つの連番を数えるならmaxを使って、すべてのstatusが空であるものを見つける\n",
    "select seat-1 as start_num,\n",
    "    seat as end_num\n",
    "from (\n",
    "    select *,\n",
    "        max(status) over (\n",
    "            order by seat\n",
    "            rows between 1 preceding and current row\n",
    "        ) as flag\n",
    "    from Seats\n",
    ") as tmp\n",
    "where flag = '空'"
   ]
  },
  {
   "cell_type": "code",
   "execution_count": null,
   "id": "b2b88766-2be0-41c9-8dc9-6e1a40ba4ac8",
   "metadata": {},
   "outputs": [],
   "source": []
  }
 ],
 "metadata": {
  "kernelspec": {
   "display_name": "Python 3 (ipykernel)",
   "language": "python",
   "name": "python3"
  },
  "language_info": {
   "codemirror_mode": {
    "name": "ipython",
    "version": 3
   },
   "file_extension": ".py",
   "mimetype": "text/x-python",
   "name": "python",
   "nbconvert_exporter": "python",
   "pygments_lexer": "ipython3",
   "version": "3.11.5"
  }
 },
 "nbformat": 4,
 "nbformat_minor": 5
}
