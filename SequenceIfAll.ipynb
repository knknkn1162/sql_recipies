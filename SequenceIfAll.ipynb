{
 "cells": [
  {
   "cell_type": "code",
   "execution_count": 257,
   "id": "e20cdb99-4511-4a07-9474-a8a49a8d3da0",
   "metadata": {},
   "outputs": [
    {
     "name": "stdout",
     "output_type": "stream",
     "text": [
      "The sql extension is already loaded. To reload it, use:\n",
      "  %reload_ext sql\n"
     ]
    }
   ],
   "source": [
    "%load_ext sql\n",
    "import os\n",
    "from sqlalchemy import create_engine\n",
    "\n",
    "pgconfig = {\n",
    "    'host': 'db',\n",
    "    'port': os.environ['PG_PORT'],\n",
    "    'database': os.environ['PG_DATABASE'],\n",
    "    'user': os.environ['PG_USER'],\n",
    "    'password': os.environ['PG_PASSWORD'],\n",
    "}\n",
    "dsl = 'postgresql://{user}:{password}@{host}:{port}/{database}'.format(**pgconfig)\n",
    "conn = create_engine(dsl)\n",
    "\n",
    "# MagicコマンドでSQLを書くための設定\n",
    "%sql conn"
   ]
  },
  {
   "cell_type": "code",
   "execution_count": 258,
   "id": "30731608-0967-4894-9cf0-dc5b97fcb0a8",
   "metadata": {},
   "outputs": [
    {
     "name": "stdout",
     "output_type": "stream",
     "text": [
      "*  postgresql://padawan:***@db:5432/dsdojo_db\n",
      "Done.\n",
      "Done.\n",
      "1 rows affected.\n",
      "1 rows affected.\n",
      "1 rows affected.\n",
      "1 rows affected.\n",
      "1 rows affected.\n",
      "1 rows affected.\n",
      "1 rows affected.\n",
      "1 rows affected.\n",
      "1 rows affected.\n",
      "1 rows affected.\n",
      "1 rows affected.\n",
      "1 rows affected.\n",
      "1 rows affected.\n",
      "1 rows affected.\n",
      "1 rows affected.\n"
     ]
    },
    {
     "data": {
      "text/plain": [
       "[]"
      ]
     },
     "execution_count": 258,
     "metadata": {},
     "output_type": "execute_result"
    }
   ],
   "source": [
    "%%sql\n",
    "drop table if exists Seats;\n",
    "CREATE TABLE Seats\n",
    "(seat   INTEGER NOT NULL  PRIMARY KEY,\n",
    " status CHAR(2) NOT NULL\n",
    " CHECK (status IN ('空', '占')) ); \n",
    "\n",
    "INSERT INTO Seats VALUES (1,  '占');\n",
    "INSERT INTO Seats VALUES (2,  '占');\n",
    "INSERT INTO Seats VALUES (3,  '空');\n",
    "INSERT INTO Seats VALUES (4,  '空');\n",
    "INSERT INTO Seats VALUES (5,  '空');\n",
    "INSERT INTO Seats VALUES (6,  '占');\n",
    "INSERT INTO Seats VALUES (7,  '空');\n",
    "INSERT INTO Seats VALUES (8,  '空');\n",
    "INSERT INTO Seats VALUES (9,  '空');\n",
    "INSERT INTO Seats VALUES (10, '空');\n",
    "INSERT INTO Seats VALUES (11, '空');\n",
    "INSERT INTO Seats VALUES (12, '占');\n",
    "INSERT INTO Seats VALUES (13, '占');\n",
    "INSERT INTO Seats VALUES (14, '空');\n",
    "INSERT INTO Seats VALUES (15, '空');"
   ]
  },
  {
   "cell_type": "code",
   "execution_count": 260,
   "id": "050f4d1b-f8a8-4c86-b6a1-6e847b3b7db4",
   "metadata": {},
   "outputs": [
    {
     "name": "stdout",
     "output_type": "stream",
     "text": [
      "*  postgresql://padawan:***@db:5432/dsdojo_db\n",
      "4 rows affected.\n"
     ]
    },
    {
     "data": {
      "text/html": [
       "<table>\n",
       "    <thead>\n",
       "        <tr>\n",
       "            <th>seat</th>\n",
       "        </tr>\n",
       "    </thead>\n",
       "    <tbody>\n",
       "        <tr>\n",
       "            <td>3</td>\n",
       "        </tr>\n",
       "        <tr>\n",
       "            <td>7</td>\n",
       "        </tr>\n",
       "        <tr>\n",
       "            <td>8</td>\n",
       "        </tr>\n",
       "        <tr>\n",
       "            <td>9</td>\n",
       "        </tr>\n",
       "    </tbody>\n",
       "</table>"
      ],
      "text/plain": [
       "[(3,), (7,), (8,), (9,)]"
      ]
     },
     "execution_count": 260,
     "metadata": {},
     "output_type": "execute_result"
    }
   ],
   "source": [
    "%%sql\n",
    "-- cross joinを用いる方法\n",
    "select s1.seat\n",
    "from seats s1\n",
    "cross join seats s2\n",
    "where s2.seat = s1.seat + 2\n",
    "and not exists (\n",
    "    select *\n",
    "    from Seats s3\n",
    "    where s3.seat between s1.seat and s2.seat and\n",
    "    s3.status <> '空'\n",
    ")"
   ]
  },
  {
   "cell_type": "code",
   "execution_count": 261,
   "id": "0fb7dda5-ae5c-4a24-8ee8-f260ee6b0f03",
   "metadata": {},
   "outputs": [
    {
     "name": "stdout",
     "output_type": "stream",
     "text": [
      "*  postgresql://padawan:***@db:5432/dsdojo_db\n",
      "4 rows affected.\n"
     ]
    },
    {
     "data": {
      "text/html": [
       "<table>\n",
       "    <thead>\n",
       "        <tr>\n",
       "            <th>seat</th>\n",
       "        </tr>\n",
       "    </thead>\n",
       "    <tbody>\n",
       "        <tr>\n",
       "            <td>3</td>\n",
       "        </tr>\n",
       "        <tr>\n",
       "            <td>7</td>\n",
       "        </tr>\n",
       "        <tr>\n",
       "            <td>8</td>\n",
       "        </tr>\n",
       "        <tr>\n",
       "            <td>9</td>\n",
       "        </tr>\n",
       "    </tbody>\n",
       "</table>"
      ],
      "text/plain": [
       "[(3,), (7,), (8,), (9,)]"
      ]
     },
     "execution_count": 261,
     "metadata": {},
     "output_type": "execute_result"
    }
   ],
   "source": [
    "%%sql\n",
    "-- havingを用いる方法\n",
    "select s1.seat\n",
    "from seats s1\n",
    "inner join seats s2\n",
    "on s2.seat between s1.seat and s1.seat + 2\n",
    "group by s1.seat\n",
    "having count(*) = 3 and\n",
    "min(s2.status) = '空' and\n",
    "max(s2.status) = '空'"
   ]
  },
  {
   "cell_type": "code",
   "execution_count": 268,
   "id": "f022f0cb-cb47-44bb-9615-001bc3a2ea37",
   "metadata": {},
   "outputs": [
    {
     "name": "stdout",
     "output_type": "stream",
     "text": [
      "*  postgresql://padawan:***@db:5432/dsdojo_db\n",
      "4 rows affected.\n"
     ]
    },
    {
     "data": {
      "text/html": [
       "<table>\n",
       "    <thead>\n",
       "        <tr>\n",
       "            <th>seat</th>\n",
       "        </tr>\n",
       "    </thead>\n",
       "    <tbody>\n",
       "        <tr>\n",
       "            <td>3</td>\n",
       "        </tr>\n",
       "        <tr>\n",
       "            <td>7</td>\n",
       "        </tr>\n",
       "        <tr>\n",
       "            <td>8</td>\n",
       "        </tr>\n",
       "        <tr>\n",
       "            <td>9</td>\n",
       "        </tr>\n",
       "    </tbody>\n",
       "</table>"
      ],
      "text/plain": [
       "[(3,), (7,), (8,), (9,)]"
      ]
     },
     "execution_count": 268,
     "metadata": {},
     "output_type": "execute_result"
    }
   ],
   "source": [
    "%%sql\n",
    "-- inner joinを用いずやると冗長になる\n",
    "select seat\n",
    "from Seats as s1\n",
    "where exists (\n",
    "    select 1\n",
    "    from Seats s2\n",
    "    where s1.seat <= s2.seat and\n",
    "    3 >= (\n",
    "        select count(*)\n",
    "        from Seats s3\n",
    "        where s3.seat between s1.seat and s2.seat\n",
    "    )\n",
    "    having count(*) = 3 and\n",
    "    max(status) = '空' and\n",
    "    min(status) = '空'\n",
    ")"
   ]
  },
  {
   "cell_type": "code",
   "execution_count": 272,
   "id": "292dd186-fd3c-42b0-b761-0fd3ed49700f",
   "metadata": {},
   "outputs": [
    {
     "name": "stdout",
     "output_type": "stream",
     "text": [
      "*  postgresql://padawan:***@db:5432/dsdojo_db\n",
      "4 rows affected.\n"
     ]
    },
    {
     "data": {
      "text/html": [
       "<table>\n",
       "    <thead>\n",
       "        <tr>\n",
       "            <th>seat</th>\n",
       "        </tr>\n",
       "    </thead>\n",
       "    <tbody>\n",
       "        <tr>\n",
       "            <td>3</td>\n",
       "        </tr>\n",
       "        <tr>\n",
       "            <td>7</td>\n",
       "        </tr>\n",
       "        <tr>\n",
       "            <td>8</td>\n",
       "        </tr>\n",
       "        <tr>\n",
       "            <td>9</td>\n",
       "        </tr>\n",
       "    </tbody>\n",
       "</table>"
      ],
      "text/plain": [
       "[(3,), (7,), (8,), (9,)]"
      ]
     },
     "execution_count": 272,
     "metadata": {},
     "output_type": "execute_result"
    }
   ],
   "source": [
    "%%sql\n",
    "-- 連続するitemが'空'である数が3の場合を求めれば良い(その1)\n",
    "select seat\n",
    "from Seats s1\n",
    "where 3 = (\n",
    "    select count(*)\n",
    "    from seats s2\n",
    "    where s2.status = '空' and\n",
    "    s2.seat between s1.seat and s1.seat+2\n",
    ")"
   ]
  },
  {
   "cell_type": "code",
   "execution_count": 271,
   "id": "2dd7eabe-a3fa-44b2-985b-69b7da2cb7db",
   "metadata": {},
   "outputs": [
    {
     "name": "stdout",
     "output_type": "stream",
     "text": [
      "*  postgresql://padawan:***@db:5432/dsdojo_db\n",
      "4 rows affected.\n"
     ]
    },
    {
     "data": {
      "text/html": [
       "<table>\n",
       "    <thead>\n",
       "        <tr>\n",
       "            <th>seat</th>\n",
       "        </tr>\n",
       "    </thead>\n",
       "    <tbody>\n",
       "        <tr>\n",
       "            <td>3</td>\n",
       "        </tr>\n",
       "        <tr>\n",
       "            <td>7</td>\n",
       "        </tr>\n",
       "        <tr>\n",
       "            <td>8</td>\n",
       "        </tr>\n",
       "        <tr>\n",
       "            <td>9</td>\n",
       "        </tr>\n",
       "    </tbody>\n",
       "</table>"
      ],
      "text/plain": [
       "[(3,), (7,), (8,), (9,)]"
      ]
     },
     "execution_count": 271,
     "metadata": {},
     "output_type": "execute_result"
    }
   ],
   "source": [
    "%%sql\n",
    "-- 連続するitemが'空'である数が3の場合を求めれば良い(その2)\n",
    "select seat\n",
    "from Seats as s1\n",
    "where not exists (\n",
    "    select count(*) as cnt\n",
    "    from Seats as s2\n",
    "    where s2.seat between s1.seat and s1.seat+2\n",
    "    and s2.status = '空'\n",
    "    having count(*) <> 3\n",
    ")"
   ]
  },
  {
   "cell_type": "code",
   "execution_count": 270,
   "id": "b47adc24-f07b-4201-bed7-1a57343beda1",
   "metadata": {},
   "outputs": [
    {
     "name": "stdout",
     "output_type": "stream",
     "text": [
      "*  postgresql://padawan:***@db:5432/dsdojo_db\n",
      "4 rows affected.\n"
     ]
    },
    {
     "data": {
      "text/html": [
       "<table>\n",
       "    <thead>\n",
       "        <tr>\n",
       "            <th>seat</th>\n",
       "        </tr>\n",
       "    </thead>\n",
       "    <tbody>\n",
       "        <tr>\n",
       "            <td>3</td>\n",
       "        </tr>\n",
       "        <tr>\n",
       "            <td>7</td>\n",
       "        </tr>\n",
       "        <tr>\n",
       "            <td>8</td>\n",
       "        </tr>\n",
       "        <tr>\n",
       "            <td>9</td>\n",
       "        </tr>\n",
       "    </tbody>\n",
       "</table>"
      ],
      "text/plain": [
       "[(3,), (7,), (8,), (9,)]"
      ]
     },
     "execution_count": 270,
     "metadata": {},
     "output_type": "execute_result"
    }
   ],
   "source": [
    "%%sql\n",
    "-- window関数を用いる方法\n",
    "select seat\n",
    "from (\n",
    "    select seat,\n",
    "        max(seat) over (\n",
    "            order by seat\n",
    "            rows between 2 following\n",
    "            and 2 following\n",
    "        ) as end_seat\n",
    "    from seats\n",
    "    where status = '空'\n",
    ") as tmp\n",
    "where end_seat - seat = 2"
   ]
  },
  {
   "cell_type": "code",
   "execution_count": null,
   "id": "a1b4d5aa-f175-4da1-a6f2-90b6e2786a26",
   "metadata": {},
   "outputs": [],
   "source": []
  }
 ],
 "metadata": {
  "kernelspec": {
   "display_name": "Python 3 (ipykernel)",
   "language": "python",
   "name": "python3"
  },
  "language_info": {
   "codemirror_mode": {
    "name": "ipython",
    "version": 3
   },
   "file_extension": ".py",
   "mimetype": "text/x-python",
   "name": "python",
   "nbconvert_exporter": "python",
   "pygments_lexer": "ipython3",
   "version": "3.11.5"
  }
 },
 "nbformat": 4,
 "nbformat_minor": 5
}
