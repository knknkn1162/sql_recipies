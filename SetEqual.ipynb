{
 "cells": [
  {
   "cell_type": "code",
   "execution_count": 43,
   "id": "b506f438-624f-49aa-9fde-c450437279f0",
   "metadata": {},
   "outputs": [
    {
     "name": "stdout",
     "output_type": "stream",
     "text": [
      "The sql extension is already loaded. To reload it, use:\n",
      "  %reload_ext sql\n"
     ]
    }
   ],
   "source": [
    "%load_ext sql\n",
    "import os\n",
    "from sqlalchemy import create_engine\n",
    "\n",
    "pgconfig = {\n",
    "    'host': 'db',\n",
    "    'port': os.environ['PG_PORT'],\n",
    "    'database': os.environ['PG_DATABASE'],\n",
    "    'user': os.environ['PG_USER'],\n",
    "    'password': os.environ['PG_PASSWORD'],\n",
    "}\n",
    "dsl = 'postgresql://{user}:{password}@{host}:{port}/{database}'.format(**pgconfig)\n",
    "conn = create_engine(dsl)\n",
    "\n",
    "# MagicコマンドでSQLを書くための設定\n",
    "%sql conn"
   ]
  },
  {
   "cell_type": "code",
   "execution_count": 44,
   "id": "3d847ac5-f0a4-46a6-a553-19bd669400bd",
   "metadata": {},
   "outputs": [
    {
     "name": "stdout",
     "output_type": "stream",
     "text": [
      "*  postgresql://padawan:***@db:5432/dsdojo_db\n",
      "Done.\n",
      "Done.\n",
      "Done.\n",
      "1 rows affected.\n",
      "1 rows affected.\n",
      "1 rows affected.\n",
      "1 rows affected.\n",
      "1 rows affected.\n",
      "1 rows affected.\n",
      "1 rows affected.\n",
      "1 rows affected.\n",
      "1 rows affected.\n",
      "1 rows affected.\n",
      "1 rows affected.\n",
      "1 rows affected.\n",
      "1 rows affected.\n"
     ]
    },
    {
     "data": {
      "text/plain": [
       "[]"
      ]
     },
     "execution_count": 44,
     "metadata": {},
     "output_type": "execute_result"
    }
   ],
   "source": [
    "%%sql\n",
    "drop table if exists Items,ShopItems;\n",
    "CREATE TABLE Items\n",
    "(item VARCHAR(16) PRIMARY KEY);\n",
    " \n",
    "CREATE TABLE ShopItems\n",
    "(shop VARCHAR(16),\n",
    " item VARCHAR(16),\n",
    "    PRIMARY KEY(shop, item));\n",
    "\n",
    "INSERT INTO Items VALUES('ビール');\n",
    "INSERT INTO Items VALUES('紙オムツ');\n",
    "INSERT INTO Items VALUES('自転車');\n",
    "\n",
    "INSERT INTO ShopItems VALUES('仙台',  'ビール');\n",
    "INSERT INTO ShopItems VALUES('仙台',  '紙オムツ');\n",
    "INSERT INTO ShopItems VALUES('仙台',  '自転車');\n",
    "INSERT INTO ShopItems VALUES('仙台',  'カーテン');\n",
    "INSERT INTO ShopItems VALUES('東京',  'ビール');\n",
    "INSERT INTO ShopItems VALUES('東京',  '紙オムツ');\n",
    "INSERT INTO ShopItems VALUES('東京',  '自転車');\n",
    "INSERT INTO ShopItems VALUES('大阪',  'テレビ');\n",
    "INSERT INTO ShopItems VALUES('大阪',  '紙オムツ');\n",
    "INSERT INTO ShopItems VALUES('大阪',  '自転車');"
   ]
  },
  {
   "cell_type": "code",
   "execution_count": 49,
   "id": "de580551-a458-43cc-8296-a25b156ef9ec",
   "metadata": {},
   "outputs": [
    {
     "name": "stdout",
     "output_type": "stream",
     "text": [
      "*  postgresql://padawan:***@db:5432/dsdojo_db\n",
      "10 rows affected.\n"
     ]
    },
    {
     "data": {
      "text/html": [
       "<table>\n",
       "    <thead>\n",
       "        <tr>\n",
       "            <th>shop</th>\n",
       "            <th>item</th>\n",
       "            <th>item_1</th>\n",
       "        </tr>\n",
       "    </thead>\n",
       "    <tbody>\n",
       "        <tr>\n",
       "            <td>仙台</td>\n",
       "            <td>ビール</td>\n",
       "            <td>ビール</td>\n",
       "        </tr>\n",
       "        <tr>\n",
       "            <td>仙台</td>\n",
       "            <td>紙オムツ</td>\n",
       "            <td>紙オムツ</td>\n",
       "        </tr>\n",
       "        <tr>\n",
       "            <td>仙台</td>\n",
       "            <td>自転車</td>\n",
       "            <td>自転車</td>\n",
       "        </tr>\n",
       "        <tr>\n",
       "            <td>仙台</td>\n",
       "            <td>カーテン</td>\n",
       "            <td>None</td>\n",
       "        </tr>\n",
       "        <tr>\n",
       "            <td>東京</td>\n",
       "            <td>ビール</td>\n",
       "            <td>ビール</td>\n",
       "        </tr>\n",
       "        <tr>\n",
       "            <td>東京</td>\n",
       "            <td>紙オムツ</td>\n",
       "            <td>紙オムツ</td>\n",
       "        </tr>\n",
       "        <tr>\n",
       "            <td>東京</td>\n",
       "            <td>自転車</td>\n",
       "            <td>自転車</td>\n",
       "        </tr>\n",
       "        <tr>\n",
       "            <td>大阪</td>\n",
       "            <td>テレビ</td>\n",
       "            <td>None</td>\n",
       "        </tr>\n",
       "        <tr>\n",
       "            <td>大阪</td>\n",
       "            <td>紙オムツ</td>\n",
       "            <td>紙オムツ</td>\n",
       "        </tr>\n",
       "        <tr>\n",
       "            <td>大阪</td>\n",
       "            <td>自転車</td>\n",
       "            <td>自転車</td>\n",
       "        </tr>\n",
       "    </tbody>\n",
       "</table>"
      ],
      "text/plain": [
       "[('仙台', 'ビール', 'ビール'),\n",
       " ('仙台', '紙オムツ', '紙オムツ'),\n",
       " ('仙台', '自転車', '自転車'),\n",
       " ('仙台', 'カーテン', None),\n",
       " ('東京', 'ビール', 'ビール'),\n",
       " ('東京', '紙オムツ', '紙オムツ'),\n",
       " ('東京', '自転車', '自転車'),\n",
       " ('大阪', 'テレビ', None),\n",
       " ('大阪', '紙オムツ', '紙オムツ'),\n",
       " ('大阪', '自転車', '自転車')]"
      ]
     },
     "execution_count": 49,
     "metadata": {},
     "output_type": "execute_result"
    }
   ],
   "source": [
    "%%sql\n",
    "select *\n",
    "from ShopItems si\n",
    "left join items it\n",
    "on si.item = it.item"
   ]
  },
  {
   "cell_type": "code",
   "execution_count": 50,
   "id": "c786a0bd-ee34-4fef-b67c-5366d627c8c8",
   "metadata": {},
   "outputs": [
    {
     "name": "stdout",
     "output_type": "stream",
     "text": [
      "*  postgresql://padawan:***@db:5432/dsdojo_db\n",
      "2 rows affected.\n"
     ]
    },
    {
     "data": {
      "text/html": [
       "<table>\n",
       "    <thead>\n",
       "        <tr>\n",
       "            <th>shop</th>\n",
       "        </tr>\n",
       "    </thead>\n",
       "    <tbody>\n",
       "        <tr>\n",
       "            <td>東京</td>\n",
       "        </tr>\n",
       "        <tr>\n",
       "            <td>大阪</td>\n",
       "        </tr>\n",
       "    </tbody>\n",
       "</table>"
      ],
      "text/plain": [
       "[('東京',), ('大阪',)]"
      ]
     },
     "execution_count": 50,
     "metadata": {},
     "output_type": "execute_result"
    }
   ],
   "source": [
    "%%sql\n",
    "-- havingを用いる\n",
    "select si.shop\n",
    "from ShopItems si\n",
    "left join items it\n",
    "on si.item = it.item\n",
    "group by si.shop\n",
    "-- (要求するitem) \\supset (店舗にあるitem)\n",
    "-- 仙台\tカーテン\tNoneなので'仙台'がNG\n",
    "having count(si.item) = (\n",
    "    select count(item) from items\n",
    ") and\n",
    "-- (要求するitem) \\subset (店舗にあるitem)\n",
    "-- 大阪\tテレビ\tNoneなので、'大阪'がNG\n",
    "count(it.item) = (\n",
    "    select count(item) from items\n",
    ")"
   ]
  },
  {
   "cell_type": "code",
   "execution_count": null,
   "id": "9a2b11fb-b602-4cdd-9770-42b22118ea7b",
   "metadata": {},
   "outputs": [],
   "source": []
  }
 ],
 "metadata": {
  "kernelspec": {
   "display_name": "Python 3 (ipykernel)",
   "language": "python",
   "name": "python3"
  },
  "language_info": {
   "codemirror_mode": {
    "name": "ipython",
    "version": 3
   },
   "file_extension": ".py",
   "mimetype": "text/x-python",
   "name": "python",
   "nbconvert_exporter": "python",
   "pygments_lexer": "ipython3",
   "version": "3.11.5"
  }
 },
 "nbformat": 4,
 "nbformat_minor": 5
}
