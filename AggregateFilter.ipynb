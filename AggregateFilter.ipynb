{
 "cells": [
  {
   "cell_type": "code",
   "execution_count": 2,
   "id": "50d8c8f8-bd20-42aa-b01f-20779eaf684f",
   "metadata": {},
   "outputs": [],
   "source": [
    "%load_ext sql\n",
    "import os\n",
    "from sqlalchemy import create_engine\n",
    "\n",
    "pgconfig = {\n",
    "    'host': 'db',\n",
    "    'port': os.environ['PG_PORT'],\n",
    "    'database': os.environ['PG_DATABASE'],\n",
    "    'user': os.environ['PG_USER'],\n",
    "    'password': os.environ['PG_PASSWORD'],\n",
    "}\n",
    "dsl = 'postgresql://{user}:{password}@{host}:{port}/{database}'.format(**pgconfig)\n",
    "conn = create_engine(dsl)\n",
    "\n",
    "# MagicコマンドでSQLを書くための設定\n",
    "%sql conn"
   ]
  },
  {
   "cell_type": "code",
   "execution_count": 3,
   "id": "70bc535f-acb8-4319-8d36-261f43d49fa2",
   "metadata": {},
   "outputs": [
    {
     "name": "stdout",
     "output_type": "stream",
     "text": [
      "*  postgresql://padawan:***@db:5432/dsdojo_db\n",
      "Done.\n",
      "Done.\n",
      "1 rows affected.\n",
      "1 rows affected.\n",
      "1 rows affected.\n",
      "1 rows affected.\n",
      "1 rows affected.\n",
      "1 rows affected.\n",
      "6 rows affected.\n"
     ]
    },
    {
     "data": {
      "text/html": [
       "<table>\n",
       "    <thead>\n",
       "        <tr>\n",
       "            <th>id</th>\n",
       "            <th>name</th>\n",
       "            <th>age</th>\n",
       "            <th>department</th>\n",
       "        </tr>\n",
       "    </thead>\n",
       "    <tbody>\n",
       "        <tr>\n",
       "            <td>1</td>\n",
       "            <td>Sato</td>\n",
       "            <td>23</td>\n",
       "            <td>営業</td>\n",
       "        </tr>\n",
       "        <tr>\n",
       "            <td>2</td>\n",
       "            <td>Suzuki</td>\n",
       "            <td>35</td>\n",
       "            <td>営業</td>\n",
       "        </tr>\n",
       "        <tr>\n",
       "            <td>3</td>\n",
       "            <td>Saito</td>\n",
       "            <td>38</td>\n",
       "            <td>営業</td>\n",
       "        </tr>\n",
       "        <tr>\n",
       "            <td>4</td>\n",
       "            <td>Yamada</td>\n",
       "            <td>42</td>\n",
       "            <td>開発</td>\n",
       "        </tr>\n",
       "        <tr>\n",
       "            <td>5</td>\n",
       "            <td>Tanaka</td>\n",
       "            <td>41</td>\n",
       "            <td>開発</td>\n",
       "        </tr>\n",
       "        <tr>\n",
       "            <td>6</td>\n",
       "            <td>Takahashi</td>\n",
       "            <td>35</td>\n",
       "            <td>開発</td>\n",
       "        </tr>\n",
       "    </tbody>\n",
       "</table>"
      ],
      "text/plain": [
       "[(1, 'Sato', 23, '営業'),\n",
       " (2, 'Suzuki', 35, '営業'),\n",
       " (3, 'Saito', 38, '営業'),\n",
       " (4, 'Yamada', 42, '開発'),\n",
       " (5, 'Tanaka', 41, '開発'),\n",
       " (6, 'Takahashi', 35, '開発')]"
      ]
     },
     "execution_count": 3,
     "metadata": {},
     "output_type": "execute_result"
    }
   ],
   "source": [
    "%%sql\n",
    "drop table if exists Employees;\n",
    "CREATE TABLE Employees (\n",
    "  id         INTEGER PRIMARY KEY,\n",
    "  name       VARCHAR(10) NOT NULL,\n",
    "  age        INTEGER NOT NULL,\n",
    "  department VARCHAR(10) NOT NULL\n",
    ");\n",
    "\n",
    "INSERT INTO Employees VALUES(1,'Sato',23,'営業');\n",
    "INSERT INTO Employees VALUES(2,'Suzuki',35,'営業');\n",
    "INSERT INTO Employees VALUES(3,'Saito',38,'営業');\n",
    "INSERT INTO Employees VALUES(4,'Yamada',42,'開発');\n",
    "INSERT INTO Employees VALUES(5,'Tanaka',41,'開発');\n",
    "INSERT INTO Employees VALUES(6,'Takahashi',35,'開発');\n",
    "\n",
    "select *\n",
    "from Employees;"
   ]
  },
  {
   "cell_type": "markdown",
   "id": "f1c991e4-d1fe-405e-a184-dc3c3c1d5b86",
   "metadata": {},
   "source": [
    "## やりたいこと\n",
    "+ 所属部署ごとに平均年齢よりも若い社員を表示する"
   ]
  },
  {
   "cell_type": "code",
   "execution_count": 11,
   "id": "d6d6e763-9d38-43bb-8b3f-9239f6175512",
   "metadata": {},
   "outputs": [
    {
     "name": "stdout",
     "output_type": "stream",
     "text": [
      "*  postgresql://padawan:***@db:5432/dsdojo_db\n",
      "2 rows affected.\n"
     ]
    },
    {
     "data": {
      "text/html": [
       "<table>\n",
       "    <thead>\n",
       "        <tr>\n",
       "            <th>id</th>\n",
       "            <th>name</th>\n",
       "            <th>age</th>\n",
       "            <th>department</th>\n",
       "        </tr>\n",
       "    </thead>\n",
       "    <tbody>\n",
       "        <tr>\n",
       "            <td>1</td>\n",
       "            <td>Sato</td>\n",
       "            <td>23</td>\n",
       "            <td>営業</td>\n",
       "        </tr>\n",
       "        <tr>\n",
       "            <td>6</td>\n",
       "            <td>Takahashi</td>\n",
       "            <td>35</td>\n",
       "            <td>開発</td>\n",
       "        </tr>\n",
       "    </tbody>\n",
       "</table>"
      ],
      "text/plain": [
       "[(1, 'Sato', 23, '営業'), (6, 'Takahashi', 35, '開発')]"
      ]
     },
     "execution_count": 11,
     "metadata": {},
     "output_type": "execute_result"
    }
   ],
   "source": [
    "%%sql\n",
    "-- joinを使う\n",
    "select e1.*\n",
    "from employees as e1\n",
    "join (\n",
    "    select avg(age) as avg_age, department\n",
    "    from employees\n",
    "    group by department \n",
    ") as e2\n",
    "on e1.department = e2.department\n",
    "where avg_age > e1.age"
   ]
  },
  {
   "cell_type": "code",
   "execution_count": 4,
   "id": "c1e8808f-a9b1-4007-8f54-95dd6dbc65c3",
   "metadata": {},
   "outputs": [
    {
     "name": "stdout",
     "output_type": "stream",
     "text": [
      "*  postgresql://padawan:***@db:5432/dsdojo_db\n",
      "2 rows affected.\n"
     ]
    },
    {
     "data": {
      "text/html": [
       "<table>\n",
       "    <thead>\n",
       "        <tr>\n",
       "            <th>id</th>\n",
       "            <th>name</th>\n",
       "            <th>age</th>\n",
       "            <th>department</th>\n",
       "            <th>avg</th>\n",
       "        </tr>\n",
       "    </thead>\n",
       "    <tbody>\n",
       "        <tr>\n",
       "            <td>1</td>\n",
       "            <td>Sato</td>\n",
       "            <td>23</td>\n",
       "            <td>営業</td>\n",
       "            <td>32.0000000000000000</td>\n",
       "        </tr>\n",
       "        <tr>\n",
       "            <td>6</td>\n",
       "            <td>Takahashi</td>\n",
       "            <td>35</td>\n",
       "            <td>開発</td>\n",
       "            <td>39.3333333333333333</td>\n",
       "        </tr>\n",
       "    </tbody>\n",
       "</table>"
      ],
      "text/plain": [
       "[(1, 'Sato', 23, '営業', Decimal('32.0000000000000000')),\n",
       " (6, 'Takahashi', 35, '開発', Decimal('39.3333333333333333'))]"
      ]
     },
     "execution_count": 4,
     "metadata": {},
     "output_type": "execute_result"
    }
   ],
   "source": [
    "%%sql\n",
    "select *\n",
    "from (\n",
    "    -- スカラサブクエリをつかう\n",
    "    select *, (\n",
    "        select avg(age)\n",
    "        from employees as e2\n",
    "        where e1.department = e2.department\n",
    "    )\n",
    "    from employees as e1\n",
    ") as tmp\n",
    "where avg > age"
   ]
  },
  {
   "cell_type": "code",
   "execution_count": 17,
   "id": "bf55e49a-45ae-4613-8db5-3a2646e01c8f",
   "metadata": {},
   "outputs": [
    {
     "name": "stdout",
     "output_type": "stream",
     "text": [
      "*  postgresql://padawan:***@db:5432/dsdojo_db\n",
      "2 rows affected.\n"
     ]
    },
    {
     "data": {
      "text/html": [
       "<table>\n",
       "    <thead>\n",
       "        <tr>\n",
       "            <th>id</th>\n",
       "            <th>name</th>\n",
       "            <th>age</th>\n",
       "            <th>department</th>\n",
       "        </tr>\n",
       "    </thead>\n",
       "    <tbody>\n",
       "        <tr>\n",
       "            <td>1</td>\n",
       "            <td>Sato</td>\n",
       "            <td>23</td>\n",
       "            <td>営業</td>\n",
       "        </tr>\n",
       "        <tr>\n",
       "            <td>6</td>\n",
       "            <td>Takahashi</td>\n",
       "            <td>35</td>\n",
       "            <td>開発</td>\n",
       "        </tr>\n",
       "    </tbody>\n",
       "</table>"
      ],
      "text/plain": [
       "[(1, 'Sato', 23, '営業'), (6, 'Takahashi', 35, '開発')]"
      ]
     },
     "execution_count": 17,
     "metadata": {},
     "output_type": "execute_result"
    }
   ],
   "source": [
    "%%sql\n",
    "-- 相関サブクエリを使う\n",
    "select *\n",
    "from employees as e1\n",
    "where age < (\n",
    "    select avg(age)\n",
    "    from employees as e2\n",
    "    where e1.department = e2.department\n",
    ")"
   ]
  },
  {
   "cell_type": "code",
   "execution_count": 12,
   "id": "f54ab16c-8ec3-4268-a0cf-3a6ca09b33aa",
   "metadata": {},
   "outputs": [
    {
     "name": "stdout",
     "output_type": "stream",
     "text": [
      "*  postgresql://padawan:***@db:5432/dsdojo_db\n",
      "2 rows affected.\n"
     ]
    },
    {
     "data": {
      "text/html": [
       "<table>\n",
       "    <thead>\n",
       "        <tr>\n",
       "            <th>id</th>\n",
       "            <th>name</th>\n",
       "            <th>age</th>\n",
       "            <th>department</th>\n",
       "        </tr>\n",
       "    </thead>\n",
       "    <tbody>\n",
       "        <tr>\n",
       "            <td>1</td>\n",
       "            <td>Sato</td>\n",
       "            <td>23</td>\n",
       "            <td>営業</td>\n",
       "        </tr>\n",
       "        <tr>\n",
       "            <td>6</td>\n",
       "            <td>Takahashi</td>\n",
       "            <td>35</td>\n",
       "            <td>開発</td>\n",
       "        </tr>\n",
       "    </tbody>\n",
       "</table>"
      ],
      "text/plain": [
       "[(1, 'Sato', 23, '営業'), (6, 'Takahashi', 35, '開発')]"
      ]
     },
     "execution_count": 12,
     "metadata": {},
     "output_type": "execute_result"
    }
   ],
   "source": [
    "%%sql\n",
    "-- not existsを使う(極値関数使うよりもいまいち)\n",
    "select *\n",
    "from employees as e1\n",
    "where not exists (\n",
    "    select *\n",
    "    from (\n",
    "        select\n",
    "            avg(age) as avg,\n",
    "            department\n",
    "        from employees\n",
    "        group by department\n",
    "    ) e3\n",
    "    where e1.department = e3.department and\n",
    "    e1.age >= e3.avg\n",
    ")"
   ]
  },
  {
   "cell_type": "code",
   "execution_count": 15,
   "id": "54e8c98d-e0a1-43bf-995d-7eb63472d1f0",
   "metadata": {},
   "outputs": [
    {
     "name": "stdout",
     "output_type": "stream",
     "text": [
      "*  postgresql://padawan:***@db:5432/dsdojo_db\n",
      "2 rows affected.\n"
     ]
    },
    {
     "data": {
      "text/html": [
       "<table>\n",
       "    <thead>\n",
       "        <tr>\n",
       "            <th>id</th>\n",
       "            <th>name</th>\n",
       "            <th>age</th>\n",
       "            <th>department</th>\n",
       "        </tr>\n",
       "    </thead>\n",
       "    <tbody>\n",
       "        <tr>\n",
       "            <td>3</td>\n",
       "            <td>Saito</td>\n",
       "            <td>38</td>\n",
       "            <td>営業</td>\n",
       "        </tr>\n",
       "        <tr>\n",
       "            <td>4</td>\n",
       "            <td>Yamada</td>\n",
       "            <td>42</td>\n",
       "            <td>開発</td>\n",
       "        </tr>\n",
       "    </tbody>\n",
       "</table>"
      ],
      "text/plain": [
       "[(3, 'Saito', 38, '営業'), (4, 'Yamada', 42, '開発')]"
      ]
     },
     "execution_count": 15,
     "metadata": {},
     "output_type": "execute_result"
    }
   ],
   "source": [
    "%%sql\n",
    "-- もし各グループごとのmaxの年齢の場合だとnot existsでスッキリする\n",
    "select *\n",
    "from employees as e1\n",
    "where not exists (\n",
    "    select *\n",
    "    from employees as e2\n",
    "    where e1.department = e2.department and\n",
    "    e1.age < e2.age\n",
    ")"
   ]
  },
  {
   "cell_type": "code",
   "execution_count": 19,
   "id": "269680bd-1224-4bfd-86df-f9faba439757",
   "metadata": {},
   "outputs": [
    {
     "name": "stdout",
     "output_type": "stream",
     "text": [
      "*  postgresql://padawan:***@db:5432/dsdojo_db\n",
      "2 rows affected.\n"
     ]
    },
    {
     "data": {
      "text/html": [
       "<table>\n",
       "    <thead>\n",
       "        <tr>\n",
       "            <th>id</th>\n",
       "            <th>name</th>\n",
       "            <th>age</th>\n",
       "            <th>department</th>\n",
       "        </tr>\n",
       "    </thead>\n",
       "    <tbody>\n",
       "        <tr>\n",
       "            <td>1</td>\n",
       "            <td>Sato</td>\n",
       "            <td>23</td>\n",
       "            <td>営業</td>\n",
       "        </tr>\n",
       "        <tr>\n",
       "            <td>6</td>\n",
       "            <td>Takahashi</td>\n",
       "            <td>35</td>\n",
       "            <td>開発</td>\n",
       "        </tr>\n",
       "    </tbody>\n",
       "</table>"
      ],
      "text/plain": [
       "[(1, 'Sato', 23, '営業'), (6, 'Takahashi', 35, '開発')]"
      ]
     },
     "execution_count": 19,
     "metadata": {},
     "output_type": "execute_result"
    }
   ],
   "source": [
    "%%sql\n",
    "-- ウィンドウ関数を使う\n",
    "select id,name,age,department\n",
    "from (\n",
    "    select *,\n",
    "    avg(age) over (\n",
    "        partition by department\n",
    "    ) as avg\n",
    "    from employees\n",
    ") as tmp\n",
    "where age < avg"
   ]
  },
  {
   "cell_type": "code",
   "execution_count": null,
   "id": "7aada5c7-d74d-4ae4-9630-47000e92cadd",
   "metadata": {},
   "outputs": [],
   "source": []
  }
 ],
 "metadata": {
  "kernelspec": {
   "display_name": "Python 3 (ipykernel)",
   "language": "python",
   "name": "python3"
  },
  "language_info": {
   "codemirror_mode": {
    "name": "ipython",
    "version": 3
   },
   "file_extension": ".py",
   "mimetype": "text/x-python",
   "name": "python",
   "nbconvert_exporter": "python",
   "pygments_lexer": "ipython3",
   "version": "3.11.5"
  }
 },
 "nbformat": 4,
 "nbformat_minor": 5
}
