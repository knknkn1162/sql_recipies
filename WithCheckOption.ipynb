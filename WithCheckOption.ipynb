{
 "cells": [
  {
   "cell_type": "code",
   "execution_count": 2,
   "id": "36c112aa-67d9-4c40-a2ab-7abdb0a8eb36",
   "metadata": {},
   "outputs": [],
   "source": [
    "%load_ext sql\n",
    "import os\n",
    "from sqlalchemy import create_engine\n",
    "\n",
    "pgconfig = {\n",
    "    'host': 'db',\n",
    "    'port': os.environ['PG_PORT'],\n",
    "    'database': os.environ['PG_DATABASE'],\n",
    "    'user': os.environ['PG_USER'],\n",
    "    'password': os.environ['PG_PASSWORD'],\n",
    "}\n",
    "dsl = 'postgresql://{user}:{password}@{host}:{port}/{database}'.format(**pgconfig)\n",
    "conn = create_engine(dsl)\n",
    "\n",
    "# MagicコマンドでSQLを書くための設定\n",
    "%sql conn"
   ]
  },
  {
   "cell_type": "markdown",
   "id": "b9efc1fa-0137-44a2-8d52-ab9fdd66ab42",
   "metadata": {},
   "source": [
    "# やりたいこと\n",
    "+ With check optionのユースケースをまとめる"
   ]
  },
  {
   "cell_type": "markdown",
   "id": "bdbf68c9-fd6a-4d63-8da6-b678766899dd",
   "metadata": {},
   "source": [
    "## with check optionとは\n",
    "+ insert/update時にもwhere句の条件をチェックさせるオプション\n",
    "  + check制約では相関サブクエリを入れられない代わりにwith check optionが使える"
   ]
  },
  {
   "cell_type": "code",
   "execution_count": 4,
   "id": "4a9f7688-a9f8-44dd-9546-b5d8d07e8842",
   "metadata": {},
   "outputs": [
    {
     "name": "stdout",
     "output_type": "stream",
     "text": [
      "*  postgresql://padawan:***@db:5432/dsdojo_db\n",
      "Done.\n",
      "Done.\n",
      "4 rows affected.\n"
     ]
    },
    {
     "data": {
      "text/plain": [
       "[]"
      ]
     },
     "execution_count": 4,
     "metadata": {},
     "output_type": "execute_result"
    }
   ],
   "source": [
    "%%sql\n",
    "drop table if exists tbl;\n",
    "create table tbl (\n",
    "    id integer primary key,\n",
    "    value boolean not null\n",
    ");\n",
    "\n",
    "insert into tbl\n",
    "values (1,true),\n",
    "    (2,true),\n",
    "    (3,false),\n",
    "    (4,false);"
   ]
  },
  {
   "cell_type": "code",
   "execution_count": 9,
   "id": "687de28b-7202-42c2-8607-82a600ac9929",
   "metadata": {},
   "outputs": [
    {
     "name": "stdout",
     "output_type": "stream",
     "text": [
      "*  postgresql://padawan:***@db:5432/dsdojo_db\n",
      "Done.\n",
      "Done.\n",
      "(psycopg2.errors.WithCheckOptionViolation) 新しい行はビュー\"v1\"のチェックオプションに違反しています\n",
      "DETAIL:  失敗した行は(5, f)を含みます\n",
      "\n",
      "[SQL: -- insert, updateをしようとすると失敗する\n",
      "-- 新しい行はビュー\"v1\"のチェックオプションに違反しています\n",
      "insert into v1\n",
      "values (5,false);]\n",
      "(Background on this error at: https://sqlalche.me/e/14/f405)\n"
     ]
    }
   ],
   "source": [
    "%%sql\n",
    "drop view if exists v1;\n",
    "create view v1 as\n",
    "select *\n",
    "from tbl\n",
    "where value = true\n",
    "with check option;\n",
    "\n",
    "-- insert, updateをしようとすると失敗する\n",
    "-- 新しい行はビュー\"v1\"のチェックオプションに違反しています\n",
    "insert into v1\n",
    "values (5,false);"
   ]
  },
  {
   "cell_type": "code",
   "execution_count": 11,
   "id": "3d1aaf15-6217-4793-8780-4f845f1aee93",
   "metadata": {},
   "outputs": [
    {
     "name": "stdout",
     "output_type": "stream",
     "text": [
      "*  postgresql://padawan:***@db:5432/dsdojo_db\n",
      "(psycopg2.errors.WithCheckOptionViolation) 新しい行はビュー\"v1\"のチェックオプションに違反しています\n",
      "DETAIL:  失敗した行は(1, f)を含みます\n",
      "\n",
      "[SQL: update v1\n",
      "set value = false\n",
      "where id = 1;]\n",
      "(Background on this error at: https://sqlalche.me/e/14/f405)\n"
     ]
    }
   ],
   "source": [
    "%%sql\n",
    "-- 新しい行はビュー\"v1\"のチェックオプションに違反しています\n",
    "update v1\n",
    "set value = false\n",
    "where id = 1;"
   ]
  },
  {
   "cell_type": "markdown",
   "id": "d05f20fa-253d-49db-b244-741e4bf30a7e",
   "metadata": {},
   "source": [
    "## 設定した範囲がお互い重複しないようにする\n",
    "+ 相関条件(相関サブクエリ)が必要なので、check制約では記述できない"
   ]
  },
  {
   "cell_type": "code",
   "execution_count": 12,
   "id": "070db74f-6dad-419a-9e15-632d99a24af1",
   "metadata": {},
   "outputs": [
    {
     "name": "stdout",
     "output_type": "stream",
     "text": [
      "*  postgresql://padawan:***@db:5432/dsdojo_db\n",
      "Done.\n",
      "Done.\n",
      "Done.\n",
      "4 rows affected.\n"
     ]
    },
    {
     "data": {
      "text/plain": [
       "[]"
      ]
     },
     "execution_count": 12,
     "metadata": {},
     "output_type": "execute_result"
    }
   ],
   "source": [
    "%%sql\n",
    "-- sql puzzle#47\n",
    "drop view if exists CheckReserved;\n",
    "drop table if exists Reservations;\n",
    "create table Reservations (\n",
    "    reserver char(10) not null primary key,\n",
    "    start_seat integer not null,\n",
    "    finish_seat integer not null\n",
    ");\n",
    "\n",
    "insert into Reservations\n",
    "values ('Eenie', 1,4),\n",
    "    ('Meanie', 6,7),\n",
    "    ('Mynie', 10, 15),\n",
    "    ('Melvin', 16, 18);"
   ]
  },
  {
   "cell_type": "code",
   "execution_count": 13,
   "id": "9d65bea8-b23b-42a8-bfb5-99db58ea7035",
   "metadata": {},
   "outputs": [
    {
     "name": "stdout",
     "output_type": "stream",
     "text": [
      "*  postgresql://padawan:***@db:5432/dsdojo_db\n",
      "Done.\n"
     ]
    },
    {
     "data": {
      "text/plain": [
       "[]"
      ]
     },
     "execution_count": 13,
     "metadata": {},
     "output_type": "execute_result"
    }
   ],
   "source": [
    "%%sql\n",
    "create view CheckReserved as\n",
    "select reserver, start_seat, finish_seat\n",
    "from Reservations as r1\n",
    "-- with check optionでwhere句がチェックされる\n",
    "where not exists (\n",
    "    select *\n",
    "    from Reservations as r2\n",
    "    where r1.reserver <> r2.reserver and\n",
    "    (r1.start_seat <= r2.finish_seat and r2.start_seat <= r1.finish_seat)\n",
    ")\n",
    "with check option;"
   ]
  },
  {
   "cell_type": "code",
   "execution_count": 14,
   "id": "d7b382db-ce02-45a6-9998-71107e3e7ddd",
   "metadata": {},
   "outputs": [
    {
     "name": "stdout",
     "output_type": "stream",
     "text": [
      "*  postgresql://padawan:***@db:5432/dsdojo_db\n",
      "(psycopg2.errors.WithCheckOptionViolation) 新しい行はビュー\"checkreserved\"のチェックオプションに違反しています\n",
      "DETAIL:  失敗した行は(dummy     , 5, 8)を含みます\n",
      "\n",
      "[SQL: -- 範囲が被るので、チェックオプションに違反する\n",
      "insert into CheckReserved\n",
      "values ('dummy', 5, 8);]\n",
      "(Background on this error at: https://sqlalche.me/e/14/f405)\n"
     ]
    }
   ],
   "source": [
    "%%sql\n",
    "-- 範囲が被るので、チェックオプションに違反する\n",
    "insert into CheckReserved\n",
    "values ('dummy', 5, 8);"
   ]
  },
  {
   "cell_type": "code",
   "execution_count": null,
   "id": "4e80bbb8-47cf-4977-973d-77c0cc2a90a6",
   "metadata": {},
   "outputs": [],
   "source": []
  }
 ],
 "metadata": {
  "kernelspec": {
   "display_name": "Python 3 (ipykernel)",
   "language": "python",
   "name": "python3"
  },
  "language_info": {
   "codemirror_mode": {
    "name": "ipython",
    "version": 3
   },
   "file_extension": ".py",
   "mimetype": "text/x-python",
   "name": "python",
   "nbconvert_exporter": "python",
   "pygments_lexer": "ipython3",
   "version": "3.11.5"
  }
 },
 "nbformat": 4,
 "nbformat_minor": 5
}
