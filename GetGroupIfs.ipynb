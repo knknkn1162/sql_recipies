{
 "cells": [
  {
   "cell_type": "code",
   "execution_count": 1,
   "id": "d51d3684-3b7c-430b-a304-53ebbc8b940d",
   "metadata": {},
   "outputs": [],
   "source": [
    "%load_ext sql\n",
    "import os\n",
    "from sqlalchemy import create_engine\n",
    "\n",
    "pgconfig = {\n",
    "    'host': 'db',\n",
    "    'port': os.environ['PG_PORT'],\n",
    "    'database': os.environ['PG_DATABASE'],\n",
    "    'user': os.environ['PG_USER'],\n",
    "    'password': os.environ['PG_PASSWORD'],\n",
    "}\n",
    "dsl = 'postgresql://{user}:{password}@{host}:{port}/{database}'.format(**pgconfig)\n",
    "conn = create_engine(dsl)\n",
    "\n",
    "# MagicコマンドでSQLを書くための設定\n",
    "%sql conn"
   ]
  },
  {
   "cell_type": "code",
   "execution_count": 2,
   "id": "f91143da-cc27-4649-84d4-ef4da3fb6a96",
   "metadata": {},
   "outputs": [
    {
     "name": "stdout",
     "output_type": "stream",
     "text": [
      "*  postgresql://padawan:***@db:5432/dsdojo_db\n",
      "Done.\n",
      "1 rows affected.\n",
      "1 rows affected.\n",
      "1 rows affected.\n",
      "1 rows affected.\n",
      "1 rows affected.\n",
      "1 rows affected.\n",
      "1 rows affected.\n"
     ]
    },
    {
     "data": {
      "text/plain": [
       "[]"
      ]
     },
     "execution_count": 2,
     "metadata": {},
     "output_type": "execute_result"
    }
   ],
   "source": [
    "%%sql\n",
    "CREATE TABLE Projects\n",
    "(workorder_id CHAR(5) NOT NULL,\n",
    " step_nbr INTEGER NOT NULL\n",
    "    CHECK (step_nbr BETWEEN 0 AND 1000),\n",
    " step_status CHAR(1) NOT NULL\n",
    "    CHECK (step_status IN ('C', 'W')), -- Cは完了、Wは待機\n",
    "    PRIMARY KEY (workorder_id, step_nbr));\n",
    "\n",
    "INSERT INTO Projects VALUES('AA100', 0, 'C' );\n",
    "INSERT INTO Projects VALUES('AA100', 1, 'W' );\n",
    "INSERT INTO Projects VALUES('AA100', 2, 'W' );\n",
    "INSERT INTO Projects VALUES('AA200', 0, 'W' );\n",
    "INSERT INTO Projects VALUES('AA200', 1, 'W' );\n",
    "INSERT INTO Projects VALUES('AA300', 0, 'C' );\n",
    "INSERT INTO Projects VALUES('AA300', 1, 'C' );"
   ]
  },
  {
   "cell_type": "markdown",
   "id": "4b7a699f-a677-4c75-8935-4888d7569c4a",
   "metadata": {},
   "source": [
    "## やりたいこと\n",
    "+ group内の要素のうち、複数の条件を満たすgroup名を取得する"
   ]
  },
  {
   "cell_type": "code",
   "execution_count": 3,
   "id": "5afc20a0-7444-44ae-89a1-77e0a93dfb88",
   "metadata": {},
   "outputs": [
    {
     "name": "stdout",
     "output_type": "stream",
     "text": [
      "*  postgresql://padawan:***@db:5432/dsdojo_db\n",
      "1 rows affected.\n"
     ]
    },
    {
     "data": {
      "text/html": [
       "<table>\n",
       "    <thead>\n",
       "        <tr>\n",
       "            <th>workorder_id</th>\n",
       "        </tr>\n",
       "    </thead>\n",
       "    <tbody>\n",
       "        <tr>\n",
       "            <td>AA100</td>\n",
       "        </tr>\n",
       "    </tbody>\n",
       "</table>"
      ],
      "text/plain": [
       "[('AA100',)]"
      ]
     },
     "execution_count": 3,
     "metadata": {},
     "output_type": "execute_result"
    }
   ],
   "source": [
    "%%sql\n",
    "select workorder_id\n",
    "from Projects\n",
    "group by workorder_id\n",
    "having count(*) = count(case when step_nbr = 0 and step_status = 'C' then 1 else null end) +\n",
    "    count(case when step_nbr <> 0 and step_status = 'W' then 1 else null end)"
   ]
  },
  {
   "cell_type": "code",
   "execution_count": 6,
   "id": "ce4da137-913b-47c9-a00d-cb07a18c187e",
   "metadata": {},
   "outputs": [
    {
     "name": "stdout",
     "output_type": "stream",
     "text": [
      "*  postgresql://padawan:***@db:5432/dsdojo_db\n",
      "1 rows affected.\n"
     ]
    },
    {
     "data": {
      "text/html": [
       "<table>\n",
       "    <thead>\n",
       "        <tr>\n",
       "            <th>workorder_id</th>\n",
       "        </tr>\n",
       "    </thead>\n",
       "    <tbody>\n",
       "        <tr>\n",
       "            <td>AA100</td>\n",
       "        </tr>\n",
       "    </tbody>\n",
       "</table>"
      ],
      "text/plain": [
       "[('AA100',)]"
      ]
     },
     "execution_count": 6,
     "metadata": {},
     "output_type": "execute_result"
    }
   ],
   "source": [
    "%%sql\n",
    "select workorder_id\n",
    "from Projects\n",
    "group by workorder_id\n",
    "having sum(case when (\n",
    "        step_nbr = 0 and step_status = 'C'\n",
    "    ) or (\n",
    "        step_nbr <> 0 and step_status = 'W'\n",
    "    ) then 1 else 0\n",
    "end ) = count(*)"
   ]
  },
  {
   "cell_type": "code",
   "execution_count": 4,
   "id": "a45e70c4-1f46-4e66-bf80-67a2c7fe845f",
   "metadata": {},
   "outputs": [
    {
     "name": "stdout",
     "output_type": "stream",
     "text": [
      "*  postgresql://padawan:***@db:5432/dsdojo_db\n",
      "1 rows affected.\n"
     ]
    },
    {
     "data": {
      "text/html": [
       "<table>\n",
       "    <thead>\n",
       "        <tr>\n",
       "            <th>workorder_id</th>\n",
       "        </tr>\n",
       "    </thead>\n",
       "    <tbody>\n",
       "        <tr>\n",
       "            <td>AA100</td>\n",
       "        </tr>\n",
       "    </tbody>\n",
       "</table>"
      ],
      "text/plain": [
       "[('AA100',)]"
      ]
     },
     "execution_count": 4,
     "metadata": {},
     "output_type": "execute_result"
    }
   ],
   "source": [
    "%%sql\n",
    "select workorder_id\n",
    "from Projects\n",
    "where step_status = 'C'\n",
    "group by workorder_id\n",
    "having sum(step_nbr) = 0"
   ]
  },
  {
   "cell_type": "code",
   "execution_count": 5,
   "id": "74b5258b-4092-4efe-8487-7e1a09d65acd",
   "metadata": {},
   "outputs": [
    {
     "name": "stdout",
     "output_type": "stream",
     "text": [
      "*  postgresql://padawan:***@db:5432/dsdojo_db\n",
      "1 rows affected.\n"
     ]
    },
    {
     "data": {
      "text/html": [
       "<table>\n",
       "    <thead>\n",
       "        <tr>\n",
       "            <th>workorder_id</th>\n",
       "        </tr>\n",
       "    </thead>\n",
       "    <tbody>\n",
       "        <tr>\n",
       "            <td>AA100</td>\n",
       "        </tr>\n",
       "    </tbody>\n",
       "</table>"
      ],
      "text/plain": [
       "[('AA100',)]"
      ]
     },
     "execution_count": 5,
     "metadata": {},
     "output_type": "execute_result"
    }
   ],
   "source": [
    "%%sql\n",
    "select workorder_id\n",
    "from (\n",
    "    select min(step_nbr) as min, step_status, workorder_id, count(*) as cnt\n",
    "    from Projects as p1\n",
    "    group by workorder_id, step_status\n",
    ") as tmp\n",
    "where (step_status = 'C' and min = 0 and cnt = 1)"
   ]
  },
  {
   "cell_type": "code",
   "execution_count": 7,
   "id": "a676b3da-d3f4-4742-9da5-cfdd0b14cc21",
   "metadata": {},
   "outputs": [
    {
     "name": "stdout",
     "output_type": "stream",
     "text": [
      "*  postgresql://padawan:***@db:5432/dsdojo_db\n",
      "1 rows affected.\n"
     ]
    },
    {
     "data": {
      "text/html": [
       "<table>\n",
       "    <thead>\n",
       "        <tr>\n",
       "            <th>workorder_id</th>\n",
       "        </tr>\n",
       "    </thead>\n",
       "    <tbody>\n",
       "        <tr>\n",
       "            <td>AA100</td>\n",
       "        </tr>\n",
       "    </tbody>\n",
       "</table>"
      ],
      "text/plain": [
       "[('AA100',)]"
      ]
     },
     "execution_count": 7,
     "metadata": {},
     "output_type": "execute_result"
    }
   ],
   "source": [
    "%%sql\n",
    "-- not existsを使う\n",
    "select workorder_id\n",
    "from Projects as p1\n",
    "where step_nbr = 0\n",
    "and step_status = 'C'\n",
    "and not exists (\n",
    "    select *\n",
    "    from Projects as p2\n",
    "    where p1.workorder_id = p2.workorder_id and\n",
    "    p1.step_nbr <> p2.step_nbr and\n",
    "    p2.step_status <> 'W'\n",
    ")"
   ]
  },
  {
   "cell_type": "code",
   "execution_count": 8,
   "id": "7d139435-f671-4780-88ce-5155b7daca3c",
   "metadata": {},
   "outputs": [
    {
     "name": "stdout",
     "output_type": "stream",
     "text": [
      "*  postgresql://padawan:***@db:5432/dsdojo_db\n",
      "1 rows affected.\n"
     ]
    },
    {
     "data": {
      "text/html": [
       "<table>\n",
       "    <thead>\n",
       "        <tr>\n",
       "            <th>workorder_id</th>\n",
       "        </tr>\n",
       "    </thead>\n",
       "    <tbody>\n",
       "        <tr>\n",
       "            <td>AA100</td>\n",
       "        </tr>\n",
       "    </tbody>\n",
       "</table>"
      ],
      "text/plain": [
       "[('AA100',)]"
      ]
     },
     "execution_count": 8,
     "metadata": {},
     "output_type": "execute_result"
    }
   ],
   "source": [
    "%%sql\n",
    "-- not existsを使う(where句に要件を全てまとめる)\n",
    "select distinct workorder_id\n",
    "from Projects as p1\n",
    "where not exists (\n",
    "    select *\n",
    "    from Projects as p2\n",
    "    where p1.workorder_id = p2.workorder_id and\n",
    "    p2.step_status <> (\n",
    "        case when step_nbr = 0 then 'C' else 'W' end\n",
    "    )\n",
    ")"
   ]
  },
  {
   "cell_type": "code",
   "execution_count": null,
   "id": "d392864a-1b16-400f-af41-3369d640f854",
   "metadata": {},
   "outputs": [],
   "source": []
  }
 ],
 "metadata": {
  "kernelspec": {
   "display_name": "Python 3 (ipykernel)",
   "language": "python",
   "name": "python3"
  },
  "language_info": {
   "codemirror_mode": {
    "name": "ipython",
    "version": 3
   },
   "file_extension": ".py",
   "mimetype": "text/x-python",
   "name": "python",
   "nbconvert_exporter": "python",
   "pygments_lexer": "ipython3",
   "version": "3.11.5"
  }
 },
 "nbformat": 4,
 "nbformat_minor": 5
}
