{
 "cells": [
  {
   "cell_type": "code",
   "execution_count": 1,
   "id": "c6a0ea13-4e63-40b5-827c-4ab2dc284dc3",
   "metadata": {},
   "outputs": [],
   "source": [
    "%load_ext sql\n",
    "import os\n",
    "from sqlalchemy import create_engine\n",
    "\n",
    "pgconfig = {\n",
    "    'host': 'db',\n",
    "    'port': os.environ['PG_PORT'],\n",
    "    'database': os.environ['PG_DATABASE'],\n",
    "    'user': os.environ['PG_USER'],\n",
    "    'password': os.environ['PG_PASSWORD'],\n",
    "}\n",
    "dsl = 'postgresql://{user}:{password}@{host}:{port}/{database}'.format(**pgconfig)\n",
    "conn = create_engine(dsl)\n",
    "\n",
    "# MagicコマンドでSQLを書くための設定\n",
    "%sql conn"
   ]
  },
  {
   "cell_type": "code",
   "execution_count": 2,
   "id": "8bf16fe9-0cb3-430d-9b86-4143fe9d66cd",
   "metadata": {},
   "outputs": [
    {
     "name": "stdout",
     "output_type": "stream",
     "text": [
      "*  postgresql://padawan:***@db:5432/dsdojo_db\n",
      "Done.\n",
      "Done.\n",
      "1 rows affected.\n",
      "1 rows affected.\n",
      "1 rows affected.\n",
      "1 rows affected.\n",
      "1 rows affected.\n",
      "1 rows affected.\n",
      "1 rows affected.\n",
      "1 rows affected.\n",
      "1 rows affected.\n",
      "1 rows affected.\n"
     ]
    },
    {
     "data": {
      "text/plain": [
       "[]"
      ]
     },
     "execution_count": 2,
     "metadata": {},
     "output_type": "execute_result"
    }
   ],
   "source": [
    "%%sql\n",
    "drop table if exists Graduates;\n",
    "CREATE TABLE Graduates\n",
    "(name   VARCHAR(16) PRIMARY KEY,\n",
    " income INTEGER NOT NULL);\n",
    "\n",
    "INSERT INTO Graduates VALUES('サンプソン', 400000);\n",
    "INSERT INTO Graduates VALUES('マイク',     30000);\n",
    "INSERT INTO Graduates VALUES('ホワイト',   20000);\n",
    "INSERT INTO Graduates VALUES('アーノルド', 20000);\n",
    "INSERT INTO Graduates VALUES('スミス',     20000);\n",
    "INSERT INTO Graduates VALUES('ロレンス',   15000);\n",
    "INSERT INTO Graduates VALUES('ハドソン',   15000);\n",
    "INSERT INTO Graduates VALUES('ケント',     10000);\n",
    "INSERT INTO Graduates VALUES('ベッカー',   10000);\n",
    "INSERT INTO Graduates VALUES('スコット',   10000);"
   ]
  },
  {
   "cell_type": "markdown",
   "id": "b9c6dd5f-064e-4f06-8a67-fb539927cd78",
   "metadata": {},
   "source": [
    "## やりたいこと\n",
    "+ 最頻値を求める"
   ]
  },
  {
   "cell_type": "code",
   "execution_count": 53,
   "id": "f7a60c78-ea54-4d67-9039-467723d375e9",
   "metadata": {},
   "outputs": [
    {
     "name": "stdout",
     "output_type": "stream",
     "text": [
      "*  postgresql://padawan:***@db:5432/dsdojo_db\n",
      "1 rows affected.\n"
     ]
    },
    {
     "data": {
      "text/html": [
       "<table>\n",
       "    <thead>\n",
       "        <tr>\n",
       "            <th>mode</th>\n",
       "        </tr>\n",
       "    </thead>\n",
       "    <tbody>\n",
       "        <tr>\n",
       "            <td>20000</td>\n",
       "        </tr>\n",
       "    </tbody>\n",
       "</table>"
      ],
      "text/plain": [
       "[(20000,)]"
      ]
     },
     "execution_count": 53,
     "metadata": {},
     "output_type": "execute_result"
    }
   ],
   "source": [
    "%%sql\n",
    "-- modeの使用(1つだけ)\n",
    "select\n",
    "    mode() within group (order by income desc)\n",
    "from Graduates"
   ]
  },
  {
   "cell_type": "code",
   "execution_count": 9,
   "id": "d7b7b49a-a22d-4126-bdb0-29d53856eecb",
   "metadata": {},
   "outputs": [
    {
     "name": "stdout",
     "output_type": "stream",
     "text": [
      "*  postgresql://padawan:***@db:5432/dsdojo_db\n",
      "2 rows affected.\n"
     ]
    },
    {
     "data": {
      "text/html": [
       "<table>\n",
       "    <thead>\n",
       "        <tr>\n",
       "            <th>income</th>\n",
       "            <th>cnt</th>\n",
       "        </tr>\n",
       "    </thead>\n",
       "    <tbody>\n",
       "        <tr>\n",
       "            <td>10000</td>\n",
       "            <td>3</td>\n",
       "        </tr>\n",
       "        <tr>\n",
       "            <td>20000</td>\n",
       "            <td>3</td>\n",
       "        </tr>\n",
       "    </tbody>\n",
       "</table>"
      ],
      "text/plain": [
       "[(10000, 3), (20000, 3)]"
      ]
     },
     "execution_count": 9,
     "metadata": {},
     "output_type": "execute_result"
    }
   ],
   "source": [
    "%%sql\n",
    "-- dense_rankを使う\n",
    "select income, cnt\n",
    "from (\n",
    "    select\n",
    "        income,\n",
    "        cnt,\n",
    "        dense_rank() over (order by cnt desc) as rnk\n",
    "    from (\n",
    "        select income, count(*) as cnt\n",
    "        from Graduates\n",
    "        group by income\n",
    "    ) as tmp\n",
    ")  as tmp2\n",
    "where rnk = 1"
   ]
  },
  {
   "cell_type": "code",
   "execution_count": 68,
   "id": "8403f862-0f90-4beb-a23b-a5a7c16bed49",
   "metadata": {},
   "outputs": [
    {
     "name": "stdout",
     "output_type": "stream",
     "text": [
      "*  postgresql://padawan:***@db:5432/dsdojo_db\n",
      "2 rows affected.\n"
     ]
    },
    {
     "data": {
      "text/html": [
       "<table>\n",
       "    <thead>\n",
       "        <tr>\n",
       "            <th>income</th>\n",
       "            <th>count</th>\n",
       "        </tr>\n",
       "    </thead>\n",
       "    <tbody>\n",
       "        <tr>\n",
       "            <td>10000</td>\n",
       "            <td>3</td>\n",
       "        </tr>\n",
       "        <tr>\n",
       "            <td>20000</td>\n",
       "            <td>3</td>\n",
       "        </tr>\n",
       "    </tbody>\n",
       "</table>"
      ],
      "text/plain": [
       "[(10000, 3), (20000, 3)]"
      ]
     },
     "execution_count": 68,
     "metadata": {},
     "output_type": "execute_result"
    }
   ],
   "source": [
    "%%sql\n",
    "-- allを使用\n",
    "select income, count(*)\n",
    "from Graduates\n",
    "group by income\n",
    "having count(*) >= all(\n",
    "    select count(*)\n",
    "    from Graduates\n",
    "    group by income\n",
    ")"
   ]
  },
  {
   "cell_type": "code",
   "execution_count": 69,
   "id": "f734b2bf-7125-4300-954c-37727f13610e",
   "metadata": {},
   "outputs": [
    {
     "name": "stdout",
     "output_type": "stream",
     "text": [
      "*  postgresql://padawan:***@db:5432/dsdojo_db\n",
      "2 rows affected.\n"
     ]
    },
    {
     "data": {
      "text/html": [
       "<table>\n",
       "    <thead>\n",
       "        <tr>\n",
       "            <th>income</th>\n",
       "            <th>count</th>\n",
       "        </tr>\n",
       "    </thead>\n",
       "    <tbody>\n",
       "        <tr>\n",
       "            <td>10000</td>\n",
       "            <td>3</td>\n",
       "        </tr>\n",
       "        <tr>\n",
       "            <td>20000</td>\n",
       "            <td>3</td>\n",
       "        </tr>\n",
       "    </tbody>\n",
       "</table>"
      ],
      "text/plain": [
       "[(10000, 3), (20000, 3)]"
      ]
     },
     "execution_count": 69,
     "metadata": {},
     "output_type": "execute_result"
    }
   ],
   "source": [
    "%%sql\n",
    "-- not existsの利用\n",
    "-- 最大のcountを見つける -> countよりも大きいものが存在しない -> not exists\n",
    "select income, count(*)\n",
    "from Graduates as g1\n",
    "group by income\n",
    "having not exists (\n",
    "    select count(*)\n",
    "    from Graduates as g2\n",
    "    group by income\n",
    "    having count(g1.*) < count(g2.*)\n",
    ")"
   ]
  },
  {
   "cell_type": "code",
   "execution_count": 70,
   "id": "3af3ef00-313e-49d1-af4e-4679d556031c",
   "metadata": {},
   "outputs": [
    {
     "name": "stdout",
     "output_type": "stream",
     "text": [
      "*  postgresql://padawan:***@db:5432/dsdojo_db\n",
      "2 rows affected.\n"
     ]
    },
    {
     "data": {
      "text/html": [
       "<table>\n",
       "    <thead>\n",
       "        <tr>\n",
       "            <th>income</th>\n",
       "            <th>cnt</th>\n",
       "        </tr>\n",
       "    </thead>\n",
       "    <tbody>\n",
       "        <tr>\n",
       "            <td>10000</td>\n",
       "            <td>3</td>\n",
       "        </tr>\n",
       "        <tr>\n",
       "            <td>20000</td>\n",
       "            <td>3</td>\n",
       "        </tr>\n",
       "    </tbody>\n",
       "</table>"
      ],
      "text/plain": [
       "[(10000, 3), (20000, 3)]"
      ]
     },
     "execution_count": 70,
     "metadata": {},
     "output_type": "execute_result"
    }
   ],
   "source": [
    "%%sql\n",
    "-- 極値関数の利用\n",
    "select income,\n",
    "    count(*) as cnt\n",
    "from Graduates\n",
    "group by income\n",
    "having count(*) >= (\n",
    "    select max(cnt)\n",
    "    from (\n",
    "        select count(*) as cnt\n",
    "        from Graduates\n",
    "        group by income\n",
    "    ) tmp\n",
    ")"
   ]
  },
  {
   "cell_type": "code",
   "execution_count": null,
   "id": "5de6b980-1427-472a-aae2-8c48145f0611",
   "metadata": {},
   "outputs": [],
   "source": []
  }
 ],
 "metadata": {
  "kernelspec": {
   "display_name": "Python 3 (ipykernel)",
   "language": "python",
   "name": "python3"
  },
  "language_info": {
   "codemirror_mode": {
    "name": "ipython",
    "version": 3
   },
   "file_extension": ".py",
   "mimetype": "text/x-python",
   "name": "python",
   "nbconvert_exporter": "python",
   "pygments_lexer": "ipython3",
   "version": "3.11.5"
  }
 },
 "nbformat": 4,
 "nbformat_minor": 5
}
