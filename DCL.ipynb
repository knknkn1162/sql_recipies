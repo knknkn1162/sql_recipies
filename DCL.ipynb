{
 "cells": [
  {
   "cell_type": "code",
   "execution_count": 45,
   "id": "d82b6be0-34a3-43cd-b7d1-4ea3ca908e86",
   "metadata": {},
   "outputs": [
    {
     "name": "stdout",
     "output_type": "stream",
     "text": [
      "The sql extension is already loaded. To reload it, use:\n",
      "  %reload_ext sql\n",
      "postgresql://postgres:postgres12345@db:5432/dsdojo_db\n"
     ]
    }
   ],
   "source": [
    "%load_ext sql\n",
    "import os\n",
    "from sqlalchemy import create_engine\n",
    "\n",
    "pgconfig = {\n",
    "    'host': 'db',\n",
    "    'port': os.environ['PG_PORT'],\n",
    "    'database': os.environ['PG_DATABASE'],\n",
    "    # see docker compose\n",
    "    'user': 'postgres',\n",
    "    'password': 'postgres12345',\n",
    "}\n",
    "# データベースはあらかじめ作っておく\n",
    "dsl = 'postgresql://{user}:{password}@{host}:{port}/{database}'.format(**pgconfig)\n",
    "conn = create_engine(dsl)\n",
    "print(dsl)\n",
    "# MagicコマンドでSQLを書くための設定\n",
    "%sql conn"
   ]
  },
  {
   "cell_type": "markdown",
   "id": "093639c3-34ec-401f-8a8d-e008798d8ba1",
   "metadata": {},
   "source": [
    "```bash\n",
    "> \\d+\n",
    "                                   リレーション一覧\n",
    " スキーマ |   名前   |  タイプ  | 所有者  | 永続性 | アクセスメソッド | サイズ  | 説明\n",
    "----------+----------+----------+---------+--------+------------------+---------+------\n",
    " public   | category | テーブル | padawan | 永続   | heap             | 48 kB   |\n",
    " public   | customer | テーブル | padawan | 永続   | heap             | 3488 kB |\n",
    " public   | geocode  | テーブル | padawan | 永続   | heap             | 17 MB   |\n",
    " public   | product  | テーブル | padawan | 永続   | heap             | 704 kB  |\n",
    " public   | receipt  | テーブル | padawan | 永続   | heap             | 8672 kB |\n",
    " public   | store    | テーブル | padawan | 永続   | heap             | 48 kB   |\n",
    "(6 行)\n",
    "\n",
    "# database一覧\n",
    "> \\l\n",
    "                                                           データベース一覧\n",
    "   名前    |  所有者  | エンコーディング |  照合順序  | Ctype(変換演算子) | ICUロケール | ロケールプロバイダー |     アクセス権限\n",
    "-----------+----------+------------------+------------+-------------------+-------------+----------------------+-----------------------\n",
    " dsdojo_db | padawan  | UTF8             | ja_JP.utf8 | ja_JP.utf8        |             | libc                 | =Tc/padawan          +\n",
    "           |          |                  |            |                   |             |                      | padawan=CTc/padawan\n",
    " postgres  | postgres | UTF8             | ja_JP.utf8 | ja_JP.utf8        |             | libc                 |\n",
    " template0 | postgres | UTF8             | ja_JP.utf8 | ja_JP.utf8        |             | libc                 | =c/postgres          +\n",
    "           |          |                  |            |                   |             |                      | postgres=CTc/postgres\n",
    " template1 | postgres | UTF8             | ja_JP.utf8 | ja_JP.utf8        |             | libc                 | =c/postgres          +\n",
    "           |          |                  |            |                   |             |                      | postgres=CTc/postgres\n",
    "```"
   ]
  },
  {
   "cell_type": "code",
   "execution_count": 49,
   "id": "164cfb85-cfa1-47f0-87d8-189bf53d1a29",
   "metadata": {},
   "outputs": [
    {
     "name": "stdout",
     "output_type": "stream",
     "text": [
      "   postgresql://padawan:***@db:5432/dsdojo_db\n",
      "*  postgresql://postgres:***@db:5432/dsdojo_db\n",
      "Done.\n",
      "Done.\n"
     ]
    },
    {
     "data": {
      "text/plain": [
       "[]"
      ]
     },
     "execution_count": 49,
     "metadata": {},
     "output_type": "execute_result"
    }
   ],
   "source": [
    "%%sql\n",
    "drop database mydb;\n",
    "create database mydb;"
   ]
  },
  {
   "cell_type": "code",
   "execution_count": 53,
   "id": "5dd4b1a9-6b4f-436d-b1d8-e82d396a546c",
   "metadata": {},
   "outputs": [
    {
     "name": "stdout",
     "output_type": "stream",
     "text": [
      "   postgresql://padawan:***@db:5432/dsdojo_db\n",
      "*  postgresql://postgres:***@db:5432/dsdojo_db\n",
      "Done.\n",
      "Done.\n"
     ]
    },
    {
     "data": {
      "text/plain": [
       "[]"
      ]
     },
     "execution_count": 53,
     "metadata": {},
     "output_type": "execute_result"
    }
   ],
   "source": [
    "%%sql\n",
    "-- これでもOK\n",
    "DROP ROLE testuser;\n",
    "-- CREATE ROLE testuser LOGIN PASSWORD 'test';\n",
    "CREATE USER testuser PASSWORD 'test';"
   ]
  },
  {
   "cell_type": "code",
   "execution_count": 55,
   "id": "03dbb535-d954-40c0-99a6-6fc907a75be3",
   "metadata": {},
   "outputs": [
    {
     "name": "stdout",
     "output_type": "stream",
     "text": [
      "   postgresql://padawan:***@db:5432/dsdojo_db\n",
      "*  postgresql://postgres:***@db:5432/dsdojo_db\n",
      "Done.\n",
      "Done.\n"
     ]
    },
    {
     "data": {
      "text/plain": [
       "[]"
      ]
     },
     "execution_count": 55,
     "metadata": {},
     "output_type": "execute_result"
    }
   ],
   "source": [
    "%%sql\n",
    "-- allの他にselect, insertなどを指定できる\n",
    "-- -- database全体の場合は\n",
    "grant all on database mydb to testuser;\n",
    "-- GRANT ALL ON DATABASE mydb TO testuser; でも同じ\n",
    "-- -- [WITH GRANT OPTION] を付けた場合、権限を与えられたロールは同じ権限を別のロールに追加出来るようになります\n",
    "-- mydbの所有者をpostgres -> testuserに移動\n",
    "-- -> testuserの権限でselectやinsertを行える\n",
    "ALTER DATABASE mydb OWNER TO testuser;"
   ]
  },
  {
   "cell_type": "code",
   "execution_count": 58,
   "id": "aadf6771-fd4a-4bc0-95cf-bdcf04f899e9",
   "metadata": {},
   "outputs": [
    {
     "name": "stdout",
     "output_type": "stream",
     "text": [
      "postgresql://testuser:test@db:5432/mydb\n"
     ]
    }
   ],
   "source": [
    "# Python\n",
    "# ユーザー変更\n",
    "dsl = 'postgresql://testuser:test@{host}:{port}/mydb'.format(**pgconfig)\n",
    "conn = create_engine(dsl)\n",
    "print(dsl)\n",
    "# MagicコマンドでSQLを書くための設定\n",
    "%sql conn"
   ]
  },
  {
   "cell_type": "code",
   "execution_count": 59,
   "id": "f5d89279-5be4-4bbb-8e7c-00a6125cd6e0",
   "metadata": {},
   "outputs": [
    {
     "name": "stdout",
     "output_type": "stream",
     "text": [
      "   postgresql://padawan:***@db:5432/dsdojo_db\n",
      "   postgresql://postgres:***@db:5432/dsdojo_db\n",
      "   postgresql://testuser:***@db:5432/dsdojo_db\n",
      "*  postgresql://testuser:***@db:5432/mydb\n",
      "Done.\n",
      "1 rows affected.\n",
      "1 rows affected.\n"
     ]
    },
    {
     "data": {
      "text/html": [
       "<table>\n",
       "    <thead>\n",
       "        <tr>\n",
       "            <th>id</th>\n",
       "            <th>name</th>\n",
       "        </tr>\n",
       "    </thead>\n",
       "    <tbody>\n",
       "        <tr>\n",
       "            <td>1</td>\n",
       "            <td>aaa</td>\n",
       "        </tr>\n",
       "    </tbody>\n",
       "</table>"
      ],
      "text/plain": [
       "[(1, 'aaa')]"
      ]
     },
     "execution_count": 59,
     "metadata": {},
     "output_type": "execute_result"
    }
   ],
   "source": [
    "%%sql\n",
    "-- 権限付与したのでSQLクエリを実行できる\n",
    "CREATE TABLE sample (id int, name varchar);\n",
    "insert into sample values (1,'aaa');\n",
    "select * from sample;"
   ]
  },
  {
   "cell_type": "code",
   "execution_count": null,
   "id": "bfb7c0e0-a52a-4432-8e5a-06d91ce324da",
   "metadata": {},
   "outputs": [],
   "source": []
  }
 ],
 "metadata": {
  "kernelspec": {
   "display_name": "Python 3 (ipykernel)",
   "language": "python",
   "name": "python3"
  },
  "language_info": {
   "codemirror_mode": {
    "name": "ipython",
    "version": 3
   },
   "file_extension": ".py",
   "mimetype": "text/x-python",
   "name": "python",
   "nbconvert_exporter": "python",
   "pygments_lexer": "ipython3",
   "version": "3.11.5"
  }
 },
 "nbformat": 4,
 "nbformat_minor": 5
}
