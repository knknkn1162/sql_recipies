{
 "cells": [
  {
   "cell_type": "code",
   "execution_count": 35,
   "id": "6ea4b324-fc27-4969-833a-28c4fd68a3d9",
   "metadata": {},
   "outputs": [
    {
     "name": "stdout",
     "output_type": "stream",
     "text": [
      "The sql extension is already loaded. To reload it, use:\n",
      "  %reload_ext sql\n"
     ]
    }
   ],
   "source": [
    "%load_ext sql\n",
    "import os\n",
    "from sqlalchemy import create_engine\n",
    "\n",
    "pgconfig = {\n",
    "    'host': 'db',\n",
    "    'port': os.environ['PG_PORT'],\n",
    "    'database': os.environ['PG_DATABASE'],\n",
    "    'user': os.environ['PG_USER'],\n",
    "    'password': os.environ['PG_PASSWORD'],\n",
    "}\n",
    "dsl = 'postgresql://{user}:{password}@{host}:{port}/{database}'.format(**pgconfig)\n",
    "conn = create_engine(dsl)\n",
    "\n",
    "# MagicコマンドでSQLを書くための設定\n",
    "%sql conn"
   ]
  },
  {
   "cell_type": "markdown",
   "id": "bf019e85-c2fd-4084-aa02-a0816369af38",
   "metadata": {},
   "source": [
    "INSERT INTO OrgChart VALUES ('足立', NULL,  '社長');\n",
    "INSERT INTO OrgChart VALUES ('猪狩', '足立', '部長');\n",
    "INSERT INTO OrgChart VALUES ('上田', '足立', '部長');\n",
    "INSERT INTO OrgChart VALUES ('江崎', '上田', '課長');\n",
    "INSERT INTO OrgChart VALUES ('大神', '上田', '課長');\n",
    "INSERT INTO OrgChart VALUES ('加藤', '上田', '課長');\n",
    "INSERT INTO OrgChart VALUES ('木島', '江崎', 'ヒラ');"
   ]
  },
  {
   "cell_type": "code",
   "execution_count": 38,
   "id": "6495eb76-0d36-48d1-8b17-db9c4bcf4c9e",
   "metadata": {},
   "outputs": [
    {
     "name": "stdout",
     "output_type": "stream",
     "text": [
      "*  postgresql://padawan:***@db:5432/dsdojo_db\n",
      "Done.\n",
      "Done.\n",
      "0 rows affected.\n",
      "1 rows affected.\n",
      "1 rows affected.\n",
      "1 rows affected.\n",
      "1 rows affected.\n",
      "1 rows affected.\n",
      "1 rows affected.\n",
      "1 rows affected.\n"
     ]
    },
    {
     "data": {
      "text/plain": [
       "[]"
      ]
     },
     "execution_count": 38,
     "metadata": {},
     "output_type": "execute_result"
    }
   ],
   "source": [
    "%%sql\n",
    "drop table if exists TreePaths, Persons;\n",
    "Create table Persons (\n",
    "    id integer primary key,\n",
    "    name varchar(32) not null\n",
    ");\n",
    "\n",
    "create table TreePaths (\n",
    "    ancestor_id not null references Persons(id),\n",
    "    descendant_id not null references Persons(id)\n",
    ");  "
   ]
  },
  {
   "cell_type": "code",
   "execution_count": null,
   "id": "8afeff5e-de3d-4c51-add8-507ca2ff3416",
   "metadata": {},
   "outputs": [],
   "source": []
  }
 ],
 "metadata": {
  "kernelspec": {
   "display_name": "Python 3 (ipykernel)",
   "language": "python",
   "name": "python3"
  },
  "language_info": {
   "codemirror_mode": {
    "name": "ipython",
    "version": 3
   },
   "file_extension": ".py",
   "mimetype": "text/x-python",
   "name": "python",
   "nbconvert_exporter": "python",
   "pygments_lexer": "ipython3",
   "version": "3.11.5"
  }
 },
 "nbformat": 4,
 "nbformat_minor": 5
}
