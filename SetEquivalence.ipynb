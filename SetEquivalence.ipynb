{
 "cells": [
  {
   "cell_type": "code",
   "execution_count": 159,
   "id": "ba8f78f3-718c-47fd-b4a1-1e432d3d8085",
   "metadata": {},
   "outputs": [
    {
     "name": "stdout",
     "output_type": "stream",
     "text": [
      "The sql extension is already loaded. To reload it, use:\n",
      "  %reload_ext sql\n",
      "\u001b[33mThere's a new jupysql version available (0.10.2), you're running 0.7.2. To upgrade: pip install jupysql --upgrade\u001b[0m\n"
     ]
    }
   ],
   "source": [
    "%load_ext sql\n",
    "import os\n",
    "from sqlalchemy import create_engine\n",
    "\n",
    "pgconfig = {\n",
    "    'host': 'db',\n",
    "    'port': os.environ['PG_PORT'],\n",
    "    'database': os.environ['PG_DATABASE'],\n",
    "    'user': os.environ['PG_USER'],\n",
    "    'password': os.environ['PG_PASSWORD'],\n",
    "}\n",
    "dsl = 'postgresql://{user}:{password}@{host}:{port}/{database}'.format(**pgconfig)\n",
    "conn = create_engine(dsl)\n",
    "\n",
    "# MagicコマンドでSQLを書くための設定\n",
    "%sql conn"
   ]
  },
  {
   "cell_type": "code",
   "execution_count": 207,
   "id": "212eaf01-b6b3-4b48-a90b-6d0816ed9cd4",
   "metadata": {},
   "outputs": [
    {
     "name": "stdout",
     "output_type": "stream",
     "text": [
      "*  postgresql://padawan:***@db:5432/dsdojo_db\n",
      "Done.\n",
      "Done.\n",
      "1 rows affected.\n",
      "1 rows affected.\n",
      "1 rows affected.\n",
      "1 rows affected.\n",
      "1 rows affected.\n",
      "1 rows affected.\n",
      "1 rows affected.\n",
      "1 rows affected.\n",
      "1 rows affected.\n",
      "1 rows affected.\n",
      "1 rows affected.\n",
      "1 rows affected.\n",
      "1 rows affected.\n",
      "13 rows affected.\n"
     ]
    },
    {
     "data": {
      "text/html": [
       "<table>\n",
       "    <thead>\n",
       "        <tr>\n",
       "            <th>sno</th>\n",
       "            <th>pno</th>\n",
       "        </tr>\n",
       "    </thead>\n",
       "    <tbody>\n",
       "        <tr>\n",
       "            <td>1</td>\n",
       "            <td>1</td>\n",
       "        </tr>\n",
       "        <tr>\n",
       "            <td>1</td>\n",
       "            <td>2</td>\n",
       "        </tr>\n",
       "        <tr>\n",
       "            <td>1</td>\n",
       "            <td>3</td>\n",
       "        </tr>\n",
       "        <tr>\n",
       "            <td>2</td>\n",
       "            <td>1</td>\n",
       "        </tr>\n",
       "        <tr>\n",
       "            <td>2</td>\n",
       "            <td>3</td>\n",
       "        </tr>\n",
       "        <tr>\n",
       "            <td>3</td>\n",
       "            <td>1</td>\n",
       "        </tr>\n",
       "        <tr>\n",
       "            <td>3</td>\n",
       "            <td>2</td>\n",
       "        </tr>\n",
       "        <tr>\n",
       "            <td>3</td>\n",
       "            <td>3</td>\n",
       "        </tr>\n",
       "        <tr>\n",
       "            <td>4</td>\n",
       "            <td>1</td>\n",
       "        </tr>\n",
       "        <tr>\n",
       "            <td>4</td>\n",
       "            <td>3</td>\n",
       "        </tr>\n",
       "        <tr>\n",
       "            <td>5</td>\n",
       "            <td>5</td>\n",
       "        </tr>\n",
       "        <tr>\n",
       "            <td>6</td>\n",
       "            <td>1</td>\n",
       "        </tr>\n",
       "        <tr>\n",
       "            <td>6</td>\n",
       "            <td>2</td>\n",
       "        </tr>\n",
       "    </tbody>\n",
       "</table>"
      ],
      "text/plain": [
       "[(1, 1),\n",
       " (1, 2),\n",
       " (1, 3),\n",
       " (2, 1),\n",
       " (2, 3),\n",
       " (3, 1),\n",
       " (3, 2),\n",
       " (3, 3),\n",
       " (4, 1),\n",
       " (4, 3),\n",
       " (5, 5),\n",
       " (6, 1),\n",
       " (6, 2)]"
      ]
     },
     "execution_count": 207,
     "metadata": {},
     "output_type": "execute_result"
    }
   ],
   "source": [
    "%%sql\n",
    "drop table if exists Supparts;\n",
    "CREATE TABLE SupParts\n",
    "(sno INTEGER NOT NULL,\n",
    " pno INTEGER NOT NULL,\n",
    "    PRIMARY KEY (sno, pno));\n",
    "\n",
    "--1と3、2と4が一致する\n",
    "INSERT INTO SupParts VALUES(1, 01);\n",
    "INSERT INTO SupParts VALUES(1, 02);\n",
    "INSERT INTO SupParts VALUES(1, 03);\n",
    "\n",
    "INSERT INTO SupParts VALUES(2, 01);\n",
    "INSERT INTO SupParts VALUES(2, 03);\n",
    "\n",
    "INSERT INTO SupParts VALUES(3, 01);\n",
    "INSERT INTO SupParts VALUES(3, 02);\n",
    "INSERT INTO SupParts VALUES(3, 03);\n",
    "\n",
    "INSERT INTO SupParts VALUES(4, 01);\n",
    "INSERT INTO SupParts VALUES(4, 03);\n",
    "\n",
    "INSERT INTO SupParts VALUES(5, 05);\n",
    "\n",
    "INSERT INTO SupParts VALUES(6, 01);\n",
    "INSERT INTO SupParts VALUES(6, 02);\n",
    "select *\n",
    "from Supparts;"
   ]
  },
  {
   "cell_type": "markdown",
   "id": "e1b94ecc-2b52-48fc-9230-54fd78b7b843",
   "metadata": {},
   "source": [
    "# やりたいこと\n",
    "+ 集合の相等チェック\n",
    "    + 数も種類も全く同じ部品を取り扱う供給業者のペアを見つける"
   ]
  },
  {
   "cell_type": "code",
   "execution_count": 208,
   "id": "e5d1d92e-eec5-486d-933b-d41e016845e5",
   "metadata": {},
   "outputs": [
    {
     "name": "stdout",
     "output_type": "stream",
     "text": [
      "*  postgresql://padawan:***@db:5432/dsdojo_db\n",
      "2 rows affected.\n"
     ]
    },
    {
     "data": {
      "text/html": [
       "<table>\n",
       "    <thead>\n",
       "        <tr>\n",
       "            <th>sno</th>\n",
       "            <th>sno_1</th>\n",
       "        </tr>\n",
       "    </thead>\n",
       "    <tbody>\n",
       "        <tr>\n",
       "            <td>1</td>\n",
       "            <td>3</td>\n",
       "        </tr>\n",
       "        <tr>\n",
       "            <td>2</td>\n",
       "            <td>4</td>\n",
       "        </tr>\n",
       "    </tbody>\n",
       "</table>"
      ],
      "text/plain": [
       "[(1, 3), (2, 4)]"
      ]
     },
     "execution_count": 208,
     "metadata": {},
     "output_type": "execute_result"
    }
   ],
   "source": [
    "%%sql\n",
    "select distinct s1.sno, s2.sno\n",
    "from Supparts as s1, Supparts as s2\n",
    "where s1.sno < s2.sno and\n",
    "-- 「S1 の方がS2より真に大きい」でないか\n",
    "not exists (\n",
    "    select *\n",
    "    from Supparts as s3\n",
    "    where s1.sno = s3.sno and\n",
    "    not exists (\n",
    "        select *\n",
    "        from Supparts as s4\n",
    "        where s2.sno = s4.sno and\n",
    "        s3.pno = s4.pno\n",
    "    )\n",
    "-- 「S2の方がS1より真に大きい」でないか\n",
    ") and not exists (\n",
    "    select *\n",
    "    from Supparts as s3\n",
    "    where s2.sno = s3.sno and\n",
    "    not exists (\n",
    "        select *\n",
    "        from Supparts as s4\n",
    "        where s1.sno = s4.sno and\n",
    "        s3.pno = s4.pno\n",
    "    )\n",
    ")"
   ]
  },
  {
   "cell_type": "code",
   "execution_count": 213,
   "id": "dea4e34a-b54b-448d-89da-2466b8ab1a4f",
   "metadata": {},
   "outputs": [
    {
     "name": "stdout",
     "output_type": "stream",
     "text": [
      "*  postgresql://padawan:***@db:5432/dsdojo_db\n",
      "2 rows affected.\n"
     ]
    },
    {
     "data": {
      "text/html": [
       "<table>\n",
       "    <thead>\n",
       "        <tr>\n",
       "            <th>sno</th>\n",
       "            <th>sno_1</th>\n",
       "        </tr>\n",
       "    </thead>\n",
       "    <tbody>\n",
       "        <tr>\n",
       "            <td>1</td>\n",
       "            <td>3</td>\n",
       "        </tr>\n",
       "        <tr>\n",
       "            <td>2</td>\n",
       "            <td>4</td>\n",
       "        </tr>\n",
       "    </tbody>\n",
       "</table>"
      ],
      "text/plain": [
       "[(1, 3), (2, 4)]"
      ]
     },
     "execution_count": 213,
     "metadata": {},
     "output_type": "execute_result"
    }
   ],
   "source": [
    "%%sql\n",
    "select distinct s1.sno, s2.sno\n",
    "from Supparts as s1, Supparts as s2\n",
    "where s1.sno < s2.sno\n",
    "-- 「S1 の方がS2より真に大きい」でないか\n",
    "and not exists (\n",
    "    select s3.pno\n",
    "    from Supparts as s3\n",
    "    where s1.sno = s3.sno\n",
    "    except\n",
    "    select s3.pno\n",
    "    from Supparts as s3\n",
    "    where s2.sno = s3.sno\n",
    ")\n",
    "-- 「S2の方がS1より真に大きい」でないか\n",
    "and not exists (\n",
    "    select s3.pno\n",
    "    from Supparts as s3\n",
    "    where s2.sno = s3.sno\n",
    "    except\n",
    "    select s3.pno\n",
    "    from Supparts as s3\n",
    "    where s1.sno = s3.sno\n",
    ")"
   ]
  },
  {
   "cell_type": "code",
   "execution_count": 193,
   "id": "7a3d2393-0ad8-45dc-b3f1-703296923150",
   "metadata": {},
   "outputs": [
    {
     "name": "stdout",
     "output_type": "stream",
     "text": [
      "*  postgresql://padawan:***@db:5432/dsdojo_db\n",
      "2 rows affected.\n"
     ]
    },
    {
     "data": {
      "text/html": [
       "<table>\n",
       "    <thead>\n",
       "        <tr>\n",
       "            <th>sno</th>\n",
       "            <th>sno_1</th>\n",
       "        </tr>\n",
       "    </thead>\n",
       "    <tbody>\n",
       "        <tr>\n",
       "            <td>2</td>\n",
       "            <td>4</td>\n",
       "        </tr>\n",
       "        <tr>\n",
       "            <td>1</td>\n",
       "            <td>3</td>\n",
       "        </tr>\n",
       "    </tbody>\n",
       "</table>"
      ],
      "text/plain": [
       "[(2, 4), (1, 3)]"
      ]
     },
     "execution_count": 193,
     "metadata": {},
     "output_type": "execute_result"
    }
   ],
   "source": [
    "%%sql\n",
    "select s1.sno, s2.sno\n",
    "from SupParts as s1, Supparts as s2, (\n",
    "    select sno, count(*)\n",
    "    from Supparts\n",
    "    group by sno\n",
    ") as s3, (\n",
    "    select sno, count(*)\n",
    "    from Supparts\n",
    "    group by sno\n",
    ") as s4\n",
    "where s1.sno < s2.sno and s1.pno = s2.pno and\n",
    "s1.sno = s3.sno and s2.sno = s4.sno\n",
    "group by s1.sno, s2.sno\n",
    "having count(*) = min(s3.count) and\n",
    "count(*) = min(s4.count)"
   ]
  },
  {
   "cell_type": "code",
   "execution_count": 183,
   "id": "fe6881d6-d6ff-49cb-9c36-627a7380853d",
   "metadata": {},
   "outputs": [
    {
     "name": "stdout",
     "output_type": "stream",
     "text": [
      "*  postgresql://padawan:***@db:5432/dsdojo_db\n",
      "2 rows affected.\n"
     ]
    },
    {
     "data": {
      "text/html": [
       "<table>\n",
       "    <thead>\n",
       "        <tr>\n",
       "            <th>sno</th>\n",
       "            <th>sno_1</th>\n",
       "        </tr>\n",
       "    </thead>\n",
       "    <tbody>\n",
       "        <tr>\n",
       "            <td>2</td>\n",
       "            <td>4</td>\n",
       "        </tr>\n",
       "        <tr>\n",
       "            <td>1</td>\n",
       "            <td>3</td>\n",
       "        </tr>\n",
       "    </tbody>\n",
       "</table>"
      ],
      "text/plain": [
       "[(2, 4), (1, 3)]"
      ]
     },
     "execution_count": 183,
     "metadata": {},
     "output_type": "execute_result"
    }
   ],
   "source": [
    "%%sql\n",
    "-- 関係除算と似た考えで,havingをつかう\n",
    "select s1.sno, s2.sno\n",
    "from SupParts as s1, Supparts as s2\n",
    "where s1.sno < s2.sno and s1.pno = s2.pno\n",
    "group by s1.sno, s2.sno\n",
    "having count(*) = (\n",
    "    select count(*)\n",
    "    from Supparts as s3\n",
    "    where s2.sno = s3.sno\n",
    "    group by sno\n",
    ") and count(*) = (\n",
    "    select count(*)\n",
    "    from Supparts as s3\n",
    "    where s1.sno = s3.sno\n",
    "    group by sno\n",
    ")"
   ]
  },
  {
   "cell_type": "code",
   "execution_count": 227,
   "id": "78120994-0ccf-4f88-8f0c-fb292b8789cf",
   "metadata": {},
   "outputs": [
    {
     "name": "stdout",
     "output_type": "stream",
     "text": [
      "*  postgresql://padawan:***@db:5432/dsdojo_db\n",
      "2 rows affected.\n"
     ]
    },
    {
     "data": {
      "text/html": [
       "<table>\n",
       "    <thead>\n",
       "        <tr>\n",
       "            <th>sno</th>\n",
       "            <th>sno_1</th>\n",
       "        </tr>\n",
       "    </thead>\n",
       "    <tbody>\n",
       "        <tr>\n",
       "            <td>1</td>\n",
       "            <td>3</td>\n",
       "        </tr>\n",
       "        <tr>\n",
       "            <td>2</td>\n",
       "            <td>4</td>\n",
       "        </tr>\n",
       "    </tbody>\n",
       "</table>"
      ],
      "text/plain": [
       "[(1, 3), (2, 4)]"
      ]
     },
     "execution_count": 227,
     "metadata": {},
     "output_type": "execute_result"
    }
   ],
   "source": [
    "%%sql\n",
    "select distinct s1.sno, s2.sno\n",
    "from Supparts as s1, Supparts as s2\n",
    "where s1.sno < s2.sno and\n",
    "-- 空集合ならs3 = s4とわかる\n",
    "-- 重なり(intersection) \\subset 和集合の場合、一方が他方をはみ出している\n",
    "not exists (\n",
    "    (\n",
    "        -- s3 \\cup s4\n",
    "        select s3.pno\n",
    "        from Supparts as s3\n",
    "        where s1.sno = s3.sno\n",
    "        union\n",
    "        select s4.pno\n",
    "        from Supparts as s4\n",
    "        where s2.sno = s4.sno\n",
    "    ) except (\n",
    "        -- s3 \\cap s4(重なり)\n",
    "        select s3.pno\n",
    "        from Supparts as s3\n",
    "        where s1.sno = s3.sno\n",
    "        intersect\n",
    "        select s4.pno\n",
    "        from Supparts as s4\n",
    "        where s2.sno = s4.sno\n",
    "    )\n",
    ")"
   ]
  },
  {
   "cell_type": "code",
   "execution_count": 210,
   "id": "c535a13c-b53a-42db-a20e-a680e4da79b7",
   "metadata": {},
   "outputs": [
    {
     "name": "stdout",
     "output_type": "stream",
     "text": [
      "*  postgresql://padawan:***@db:5432/dsdojo_db\n",
      "(psycopg2.errors.UndefinedFunction) 演算子が存在しません: integer || integer\n",
      "LINE 14: having count(s1.sno || s2.sno) = (\n",
      "                             ^\n",
      "HINT:  指定した名称と引数の型に合う演算子がありません。明示的な型キャストが必要かもしれません。\n",
      "\n",
      "[SQL: select s1.sno, s2.sno\n",
      "from Supparts as s1, Supparts as s2\n",
      "where s1.sno < s2.sno and s1.pno = s2.pno and\n",
      "(\n",
      "    select count(*)\n",
      "    from Supparts as s3\n",
      "    where s3.sno = s1.sno\n",
      ") = (\n",
      "    select count(*)\n",
      "    from Supparts as s3\n",
      "    where s3.sno = s2.sno\n",
      ")\n",
      "group by s1.sno, s2.sno\n",
      "having count(s1.sno || s2.sno) = (\n",
      "    select count(*)\n",
      "    from Supparts as s3\n",
      "    where s3.sno = s1.sno\n",
      ")]\n",
      "(Background on this error at: https://sqlalche.me/e/14/f405)\n"
     ]
    }
   ],
   "source": [
    "%%sql\n",
    "-- おまけ\n",
    "select s1.sno, s2.sno\n",
    "from Supparts as s1, Supparts as s2\n",
    "where s1.sno < s2.sno and s1.pno = s2.pno and\n",
    "(\n",
    "    select count(*)\n",
    "    from Supparts as s3\n",
    "    where s3.sno = s1.sno\n",
    ") = (\n",
    "    select count(*)\n",
    "    from Supparts as s3\n",
    "    where s3.sno = s2.sno\n",
    ")\n",
    "group by s1.sno, s2.sno\n",
    "having count(s1.sno || s2.sno) = (\n",
    "    select count(*)\n",
    "    from Supparts as s3\n",
    "    where s3.sno = s1.sno\n",
    ")"
   ]
  },
  {
   "cell_type": "code",
   "execution_count": null,
   "id": "2d2ab304-3c1b-4019-8506-ece2a4702f31",
   "metadata": {},
   "outputs": [],
   "source": []
  }
 ],
 "metadata": {
  "kernelspec": {
   "display_name": "Python 3 (ipykernel)",
   "language": "python",
   "name": "python3"
  },
  "language_info": {
   "codemirror_mode": {
    "name": "ipython",
    "version": 3
   },
   "file_extension": ".py",
   "mimetype": "text/x-python",
   "name": "python",
   "nbconvert_exporter": "python",
   "pygments_lexer": "ipython3",
   "version": "3.11.5"
  }
 },
 "nbformat": 4,
 "nbformat_minor": 5
}
