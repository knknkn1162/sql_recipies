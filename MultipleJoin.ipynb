{
 "cells": [
  {
   "cell_type": "code",
   "execution_count": 1,
   "id": "faf7a82c-d5d4-4e02-bd97-c7dbf2aeb680",
   "metadata": {},
   "outputs": [],
   "source": [
    "%load_ext sql\n",
    "import os\n",
    "from sqlalchemy import create_engine\n",
    "\n",
    "pgconfig = {\n",
    "    'host': 'db',\n",
    "    'port': os.environ['PG_PORT'],\n",
    "    'database': os.environ['PG_DATABASE'],\n",
    "    'user': os.environ['PG_USER'],\n",
    "    'password': os.environ['PG_PASSWORD'],\n",
    "}\n",
    "dsl = 'postgresql://{user}:{password}@{host}:{port}/{database}'.format(**pgconfig)\n",
    "conn = create_engine(dsl)\n",
    "\n",
    "# MagicコマンドでSQLを書くための設定\n",
    "%sql conn"
   ]
  },
  {
   "cell_type": "markdown",
   "id": "9215c77b-262a-4020-8d31-36a51d909bb3",
   "metadata": {},
   "source": [
    "# やりたいこと\n",
    "+ サブクエリのネストにならずに複数のjoin条件をSQL実装する"
   ]
  },
  {
   "cell_type": "markdown",
   "id": "6504f3bd-ad37-42dd-95f6-2d53ebcb31bb",
   "metadata": {},
   "source": [
    "## 3つのテーブルをacct_nbr軸に結合する\n",
    "+ acct_nbrとfoo_qty(合計値)、bar_qty(合計値)を繋げる\n",
    "+ sql puzzle #74"
   ]
  },
  {
   "cell_type": "code",
   "execution_count": 3,
   "id": "4285f382-cc7d-4bd6-9483-621ef7005ecb",
   "metadata": {},
   "outputs": [
    {
     "name": "stdout",
     "output_type": "stream",
     "text": [
      "*  postgresql://padawan:***@db:5432/dsdojo_db\n",
      "Done.\n",
      "Done.\n",
      "Done.\n",
      "Done.\n",
      "1 rows affected.\n",
      "1 rows affected.\n",
      "1 rows affected.\n",
      "1 rows affected.\n",
      "1 rows affected.\n",
      "1 rows affected.\n",
      "1 rows affected.\n",
      "1 rows affected.\n",
      "1 rows affected.\n",
      "1 rows affected.\n",
      "1 rows affected.\n",
      "1 rows affected.\n"
     ]
    },
    {
     "data": {
      "text/plain": [
       "[]"
      ]
     },
     "execution_count": 3,
     "metadata": {},
     "output_type": "execute_result"
    }
   ],
   "source": [
    "%%sql\n",
    "drop table if exists Foo, Bar, Accounts;\n",
    "CREATE TABLE Accounts\n",
    " (acct_nbr INTEGER NOT NULL PRIMARY KEY);\n",
    "\n",
    "CREATE TABLE Foo\n",
    " (acct_nbr INTEGER NOT NULL\n",
    "    REFERENCES Accounts(acct_nbr),\n",
    "  foo_qty INTEGER NOT NULL);\n",
    "\n",
    "CREATE TABLE Bar\n",
    "(acct_nbr INTEGER NOT NULL\n",
    "    REFERENCES Accounts(acct_nbr),\n",
    " bar_qty INTEGER NOT NULL);\n",
    "\n",
    "INSERT INTO Accounts VALUES (1);\n",
    "INSERT INTO Accounts VALUES (2);\n",
    "INSERT INTO Accounts VALUES (3);\n",
    "INSERT INTO Accounts VALUES (4);\n",
    "\n",
    "INSERT INTO Foo VALUES (1, 10);\n",
    "INSERT INTO Foo VALUES (2, 20);\n",
    "INSERT INTO Foo VALUES (2, 40);\n",
    "INSERT INTO Foo VALUES (3, 80);\n",
    "\n",
    "INSERT INTO Bar VALUES (2, 160);\n",
    "INSERT INTO Bar VALUES (3, 320);\n",
    "INSERT INTO Bar VALUES (3, 640);\n",
    "INSERT INTO Bar VALUES (3, 1);"
   ]
  },
  {
   "cell_type": "code",
   "execution_count": 4,
   "id": "71e619f2-5f16-43f5-b51b-6ac434bdc1a8",
   "metadata": {},
   "outputs": [
    {
     "name": "stdout",
     "output_type": "stream",
     "text": [
      "*  postgresql://padawan:***@db:5432/dsdojo_db\n",
      "4 rows affected.\n"
     ]
    },
    {
     "data": {
      "text/html": [
       "<table>\n",
       "    <thead>\n",
       "        <tr>\n",
       "            <th>acct_nbr</th>\n",
       "            <th>tot_foo_qty</th>\n",
       "            <th>tot_bar_qty</th>\n",
       "        </tr>\n",
       "    </thead>\n",
       "    <tbody>\n",
       "        <tr>\n",
       "            <td>1</td>\n",
       "            <td>10</td>\n",
       "            <td>None</td>\n",
       "        </tr>\n",
       "        <tr>\n",
       "            <td>2</td>\n",
       "            <td>60</td>\n",
       "            <td>160</td>\n",
       "        </tr>\n",
       "        <tr>\n",
       "            <td>3</td>\n",
       "            <td>80</td>\n",
       "            <td>961</td>\n",
       "        </tr>\n",
       "        <tr>\n",
       "            <td>4</td>\n",
       "            <td>None</td>\n",
       "            <td>None</td>\n",
       "        </tr>\n",
       "    </tbody>\n",
       "</table>"
      ],
      "text/plain": [
       "[(1, 10, None), (2, 60, 160), (3, 80, 961), (4, None, None)]"
      ]
     },
     "execution_count": 4,
     "metadata": {},
     "output_type": "execute_result"
    }
   ],
   "source": [
    "%%sql\n",
    "-- こちらは普通にやった時の回答\n",
    "select tmp.acct_nbr, tot_foo_qty, sum(bar_qty) as tot_bar_qty\n",
    "from (\n",
    "    select a.acct_nbr, sum(foo_qty)\n",
    "    from Accounts as a\n",
    "    left join Foo as f\n",
    "    on a.acct_nbr = f.acct_nbr\n",
    "    group by a.acct_nbr\n",
    ") as tmp(acct_nbr, tot_foo_qty)\n",
    "left join Bar as b\n",
    "on tmp.acct_nbr = b.acct_nbr\n",
    "group by tmp.acct_nbr, tot_foo_qty\n",
    "order by acct_nbr"
   ]
  },
  {
   "cell_type": "code",
   "execution_count": 24,
   "id": "c346b8ea-95a2-4de3-93ad-97075ae534f1",
   "metadata": {},
   "outputs": [
    {
     "name": "stdout",
     "output_type": "stream",
     "text": [
      "*  postgresql://padawan:***@db:5432/dsdojo_db\n",
      "4 rows affected.\n"
     ]
    },
    {
     "data": {
      "text/html": [
       "<table>\n",
       "    <thead>\n",
       "        <tr>\n",
       "            <th>acct_nbr</th>\n",
       "            <th>sum</th>\n",
       "            <th>sum_1</th>\n",
       "        </tr>\n",
       "    </thead>\n",
       "    <tbody>\n",
       "        <tr>\n",
       "            <td>1</td>\n",
       "            <td>10</td>\n",
       "            <td>0</td>\n",
       "        </tr>\n",
       "        <tr>\n",
       "            <td>2</td>\n",
       "            <td>60</td>\n",
       "            <td>160</td>\n",
       "        </tr>\n",
       "        <tr>\n",
       "            <td>3</td>\n",
       "            <td>80</td>\n",
       "            <td>961</td>\n",
       "        </tr>\n",
       "        <tr>\n",
       "            <td>4</td>\n",
       "            <td>None</td>\n",
       "            <td>None</td>\n",
       "        </tr>\n",
       "    </tbody>\n",
       "</table>"
      ],
      "text/plain": [
       "[(1, 10, 0), (2, 60, 160), (3, 80, 961), (4, None, None)]"
      ]
     },
     "execution_count": 24,
     "metadata": {},
     "output_type": "execute_result"
    }
   ],
   "source": [
    "%%sql\n",
    "select acct_nbr, sum(foo_qty), sum(bar_qty)\n",
    "from  (\n",
    "    (\n",
    "        select a.acct_nbr, foo_qty, bar_qty\n",
    "        from Accounts as a\n",
    "        left join (select acct_nbr, foo_qty, 0 as bar_qty from foo) as f\n",
    "        on a.acct_nbr = f.acct_nbr\n",
    "    )\n",
    "    union all\n",
    "    (\n",
    "        select a.acct_nbr, foo_qty, bar_qty\n",
    "        from Accounts as a\n",
    "        left join (select acct_nbr, 0 as foo_qty, bar_qty from bar) as b\n",
    "        on a.acct_nbr = b.acct_nbr\n",
    "    )\n",
    ") as tmp\n",
    "group by acct_nbr\n",
    "order by acct_nbr"
   ]
  },
  {
   "cell_type": "markdown",
   "id": "c756bc54-1b8a-4639-9ae5-0710ff95b878",
   "metadata": {},
   "source": [
    "## 3つのテーブルをitem_nbr軸に結合する\n",
    "+ estimated_amt(合計値), actual_amt(合計値)とする\n",
    "+ sql puzzle #41"
   ]
  },
  {
   "cell_type": "code",
   "execution_count": 5,
   "id": "89534d48-cb27-4eb8-9b41-85d529ed1ee7",
   "metadata": {},
   "outputs": [
    {
     "name": "stdout",
     "output_type": "stream",
     "text": [
      "*  postgresql://padawan:***@db:5432/dsdojo_db\n",
      "Done.\n",
      "Done.\n",
      "Done.\n",
      "Done.\n",
      "1 rows affected.\n",
      "1 rows affected.\n",
      "1 rows affected.\n",
      "1 rows affected.\n",
      "1 rows affected.\n",
      "1 rows affected.\n",
      "1 rows affected.\n",
      "1 rows affected.\n",
      "1 rows affected.\n",
      "1 rows affected.\n",
      "1 rows affected.\n",
      "1 rows affected.\n",
      "1 rows affected.\n",
      "1 rows affected.\n"
     ]
    },
    {
     "data": {
      "text/plain": [
       "[]"
      ]
     },
     "execution_count": 5,
     "metadata": {},
     "output_type": "execute_result"
    }
   ],
   "source": [
    "%%sql\n",
    "drop table if exists Items, Actuals, Estimates;\n",
    "CREATE TABLE Items\n",
    "(item_nbr INTEGER,\n",
    " item_descr CHAR(10));\n",
    "\n",
    "CREATE TABLE Actuals\n",
    "(item_nbr   INTEGER, \n",
    " actual_amt DECIMAL(5,2),\n",
    " check_nbr  CHAR(4));\n",
    "\n",
    "CREATE TABLE Estimates\n",
    "(item_nbr      INTEGER, \n",
    " estimated_amt DECIMAL(5,2));\n",
    "\n",
    "INSERT INTO Items VALUES(10, 'Item 10');\n",
    "INSERT INTO Items VALUES(20, 'Item 20');\n",
    "INSERT INTO Items VALUES(30, 'Item 30');\n",
    "INSERT INTO Items VALUES(40, 'Item 40');\n",
    "INSERT INTO Items VALUES(50, 'item 50');\n",
    "\n",
    "INSERT INTO Actuals VALUES(10, 300.00, '1111');\n",
    "INSERT INTO Actuals VALUES(20, 325.00, '2222');\n",
    "INSERT INTO Actuals VALUES(20, 100.00, '3333');\n",
    "INSERT INTO Actuals VALUES(30, 525.00, '1111');\n",
    "\n",
    "INSERT INTO Estimates VALUES(10, 300.00);\n",
    "INSERT INTO Estimates VALUES(10, 50.00);\n",
    "INSERT INTO Estimates VALUES(20, 325.00);\n",
    "INSERT INTO Estimates VALUES(20, 110.00);\n",
    "INSERT INTO Estimates VALUES(40, 25.00);"
   ]
  },
  {
   "cell_type": "code",
   "execution_count": 17,
   "id": "6d3a10eb-a94c-4833-ad2c-be0273fe1bf5",
   "metadata": {},
   "outputs": [
    {
     "name": "stdout",
     "output_type": "stream",
     "text": [
      "*  postgresql://padawan:***@db:5432/dsdojo_db\n",
      "4 rows affected.\n"
     ]
    },
    {
     "data": {
      "text/html": [
       "<table>\n",
       "    <thead>\n",
       "        <tr>\n",
       "            <th>item_nbr</th>\n",
       "            <th>max</th>\n",
       "            <th>est_sum</th>\n",
       "            <th>act_sum</th>\n",
       "            <th>check_nbr</th>\n",
       "        </tr>\n",
       "    </thead>\n",
       "    <tbody>\n",
       "        <tr>\n",
       "            <td>10</td>\n",
       "            <td>Item 10   </td>\n",
       "            <td>350.00</td>\n",
       "            <td>300.00</td>\n",
       "            <td>1111</td>\n",
       "        </tr>\n",
       "        <tr>\n",
       "            <td>20</td>\n",
       "            <td>Item 20   </td>\n",
       "            <td>435.00</td>\n",
       "            <td>425.00</td>\n",
       "            <td>mixed</td>\n",
       "        </tr>\n",
       "        <tr>\n",
       "            <td>30</td>\n",
       "            <td>Item 30   </td>\n",
       "            <td>0</td>\n",
       "            <td>525.00</td>\n",
       "            <td>1111</td>\n",
       "        </tr>\n",
       "        <tr>\n",
       "            <td>40</td>\n",
       "            <td>Item 40   </td>\n",
       "            <td>25.00</td>\n",
       "            <td>0</td>\n",
       "            <td>None</td>\n",
       "        </tr>\n",
       "    </tbody>\n",
       "</table>"
      ],
      "text/plain": [
       "[(10, 'Item 10   ', Decimal('350.00'), Decimal('300.00'), '1111'),\n",
       " (20, 'Item 20   ', Decimal('435.00'), Decimal('425.00'), 'mixed'),\n",
       " (30, 'Item 30   ', Decimal('0'), Decimal('525.00'), '1111'),\n",
       " (40, 'Item 40   ', Decimal('25.00'), Decimal('0'), None)]"
      ]
     },
     "execution_count": 17,
     "metadata": {},
     "output_type": "execute_result"
    }
   ],
   "source": [
    "%%sql\n",
    "-- 先ほどと同様にfromの中をunion allで繋げてみる\n",
    "select\n",
    "    item_nbr,\n",
    "    max(item_descr),\n",
    "    sum(est) as est_sum,\n",
    "    sum(act) as act_sum,\n",
    "    case\n",
    "        when count(check_nbr) >= 2 then 'mixed' else max(check_nbr)\n",
    "    end as check_nbr\n",
    "from (\n",
    "    (\n",
    "        select item_nbr, item_descr, 0 as est, 0 as act, NULL as check_nbr\n",
    "        from Items\n",
    "    )\n",
    "    union all\n",
    "    (\n",
    "        select item_nbr, null as item_descr, 0 as est, actual_amt as act, check_nbr as check_nbr\n",
    "        from Actuals\n",
    "    )\n",
    "    union all\n",
    "    (\n",
    "        select item_nbr, null as item_descr, estimated_amt as est, 0 as act, NULL as check_nbr\n",
    "        from Estimates\n",
    "    )\n",
    ") as tmp\n",
    "group by item_nbr\n",
    "having sum(est) <> 0 or sum(act) <> 0\n",
    "order by item_nbr"
   ]
  },
  {
   "cell_type": "markdown",
   "id": "0db8d69c-bfe1-4168-bb5f-fd0a959a6419",
   "metadata": {},
   "source": [
    "## \n",
    "+ --\n",
    "+ sql puzzle #51"
   ]
  },
  {
   "cell_type": "code",
   "execution_count": 19,
   "id": "a1a45701-dff9-4a48-a95b-2c5edce0eddc",
   "metadata": {},
   "outputs": [
    {
     "name": "stdout",
     "output_type": "stream",
     "text": [
      "*  postgresql://padawan:***@db:5432/dsdojo_db\n",
      "Done.\n",
      "Done.\n",
      "Done.\n",
      "1 rows affected.\n",
      "1 rows affected.\n",
      "1 rows affected.\n",
      "1 rows affected.\n",
      "1 rows affected.\n",
      "1 rows affected.\n",
      "1 rows affected.\n",
      "1 rows affected.\n",
      "1 rows affected.\n",
      "1 rows affected.\n",
      "1 rows affected.\n",
      "1 rows affected.\n"
     ]
    },
    {
     "data": {
      "text/plain": [
       "[]"
      ]
     },
     "execution_count": 19,
     "metadata": {},
     "output_type": "execute_result"
    }
   ],
   "source": [
    "%%sql\n",
    "drop table if exists Budgeted, Actual;\n",
    "create table Budgeted (\n",
    "    task integer not null primary key,\n",
    "    category integer not null,\n",
    "    est_cost decimal(8,2) not null\n",
    ");\n",
    "\n",
    "create table actual (\n",
    "    voucher integer not null primary key,\n",
    "    task integer not null references Budgeted(task),\n",
    "    act_cost decimal(8,2) not null\n",
    ");\n",
    "\n",
    "INSERT INTO Budgeted VALUES(1, 9100, 100.00);\n",
    "INSERT INTO Budgeted VALUES(2, 9100,  15.00);\n",
    "INSERT INTO Budgeted VALUES(3, 9100,   6.00);\n",
    "INSERT INTO Budgeted VALUES(4, 9200,   8.00);\n",
    "INSERT INTO Budgeted VALUES(5, 9200,  11.00);\n",
    "\n",
    "INSERT INTO Actual VALUES(1,  1,  10.00);\n",
    "INSERT INTO Actual VALUES(2,  1,  20.00);\n",
    "INSERT INTO Actual VALUES(3,  1,  15.00);\n",
    "INSERT INTO Actual VALUES(4,  2,  32.00);\n",
    "INSERT INTO Actual VALUES(5,  4,  8.00);\n",
    "INSERT INTO Actual VALUES(6,  5,  3.00);\n",
    "INSERT INTO Actual VALUES(7,  5,  4.00);"
   ]
  },
  {
   "cell_type": "code",
   "execution_count": 20,
   "id": "05b54d1d-7a6c-40c4-b2d0-28b96ef27b5f",
   "metadata": {},
   "outputs": [
    {
     "name": "stdout",
     "output_type": "stream",
     "text": [
      "*  postgresql://padawan:***@db:5432/dsdojo_db\n",
      "2 rows affected.\n"
     ]
    },
    {
     "data": {
      "text/html": [
       "<table>\n",
       "    <thead>\n",
       "        <tr>\n",
       "            <th>category</th>\n",
       "            <th>sum</th>\n",
       "            <th>sum_1</th>\n",
       "        </tr>\n",
       "    </thead>\n",
       "    <tbody>\n",
       "        <tr>\n",
       "            <td>9100</td>\n",
       "            <td>121.00</td>\n",
       "            <td>77.00</td>\n",
       "        </tr>\n",
       "        <tr>\n",
       "            <td>9200</td>\n",
       "            <td>19.00</td>\n",
       "            <td>15.00</td>\n",
       "        </tr>\n",
       "    </tbody>\n",
       "</table>"
      ],
      "text/plain": [
       "[(9100, Decimal('121.00'), Decimal('77.00')),\n",
       " (9200, Decimal('19.00'), Decimal('15.00'))]"
      ]
     },
     "execution_count": 20,
     "metadata": {},
     "output_type": "execute_result"
    }
   ],
   "source": [
    "%%sql\n",
    "-- 普通の解き方\n",
    "select category, sum(est_cost), sum(sum_act)\n",
    "from Budgeted as b\n",
    "left join (\n",
    "    select task, sum(act_cost)\n",
    "    from Actual\n",
    "    group by task\n",
    ") as a(task, sum_act)\n",
    "on b.task = a.task\n",
    "group by category"
   ]
  },
  {
   "cell_type": "code",
   "execution_count": 26,
   "id": "851d13a0-b37c-4bdd-a459-2179d6961067",
   "metadata": {},
   "outputs": [
    {
     "name": "stdout",
     "output_type": "stream",
     "text": [
      "*  postgresql://padawan:***@db:5432/dsdojo_db\n",
      "2 rows affected.\n"
     ]
    },
    {
     "data": {
      "text/html": [
       "<table>\n",
       "    <thead>\n",
       "        <tr>\n",
       "            <th>category</th>\n",
       "            <th>sum</th>\n",
       "            <th>sum_1</th>\n",
       "        </tr>\n",
       "    </thead>\n",
       "    <tbody>\n",
       "        <tr>\n",
       "            <td>9100</td>\n",
       "            <td>121.00</td>\n",
       "            <td>77.00</td>\n",
       "        </tr>\n",
       "        <tr>\n",
       "            <td>9200</td>\n",
       "            <td>19.00</td>\n",
       "            <td>15.00</td>\n",
       "        </tr>\n",
       "    </tbody>\n",
       "</table>"
      ],
      "text/plain": [
       "[(9100, Decimal('121.00'), Decimal('77.00')),\n",
       " (9200, Decimal('19.00'), Decimal('15.00'))]"
      ]
     },
     "execution_count": 26,
     "metadata": {},
     "output_type": "execute_result"
    }
   ],
   "source": [
    "%%sql\n",
    "select b.category,\n",
    "    sum(est_cost),\n",
    "    sum(act_cost)\n",
    "from (\n",
    "    (\n",
    "        select task, est_cost, 0 as act_cost\n",
    "        from Budgeted\n",
    "    )\n",
    "    union all\n",
    "    (\n",
    "        select task, 0 as est_cost, act_cost as act_cost\n",
    "        from Actual\n",
    "    )\n",
    ") as tmp\n",
    "inner join (select task, category from Budgeted) as b\n",
    "on tmp.task = b.task\n",
    "group by b.category"
   ]
  },
  {
   "cell_type": "code",
   "execution_count": null,
   "id": "6550ad72-dd62-4d84-8a51-7817f7b537f5",
   "metadata": {},
   "outputs": [],
   "source": []
  }
 ],
 "metadata": {
  "kernelspec": {
   "display_name": "Python 3 (ipykernel)",
   "language": "python",
   "name": "python3"
  },
  "language_info": {
   "codemirror_mode": {
    "name": "ipython",
    "version": 3
   },
   "file_extension": ".py",
   "mimetype": "text/x-python",
   "name": "python",
   "nbconvert_exporter": "python",
   "pygments_lexer": "ipython3",
   "version": "3.11.5"
  }
 },
 "nbformat": 4,
 "nbformat_minor": 5
}
