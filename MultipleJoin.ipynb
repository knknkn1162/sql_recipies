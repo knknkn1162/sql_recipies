{
 "cells": [
  {
   "cell_type": "code",
   "execution_count": 1,
   "id": "faf7a82c-d5d4-4e02-bd97-c7dbf2aeb680",
   "metadata": {},
   "outputs": [],
   "source": [
    "%load_ext sql\n",
    "import os\n",
    "from sqlalchemy import create_engine\n",
    "\n",
    "pgconfig = {\n",
    "    'host': 'db',\n",
    "    'port': os.environ['PG_PORT'],\n",
    "    'database': os.environ['PG_DATABASE'],\n",
    "    'user': os.environ['PG_USER'],\n",
    "    'password': os.environ['PG_PASSWORD'],\n",
    "}\n",
    "dsl = 'postgresql://{user}:{password}@{host}:{port}/{database}'.format(**pgconfig)\n",
    "conn = create_engine(dsl)\n",
    "\n",
    "# MagicコマンドでSQLを書くための設定\n",
    "%sql conn"
   ]
  },
  {
   "cell_type": "markdown",
   "id": "9215c77b-262a-4020-8d31-36a51d909bb3",
   "metadata": {},
   "source": [
    "## やりたいこと\n",
    "+ サブクエリのネストにならずに複数のjoin条件をSQL実装する"
   ]
  },
  {
   "cell_type": "code",
   "execution_count": 3,
   "id": "4285f382-cc7d-4bd6-9483-621ef7005ecb",
   "metadata": {},
   "outputs": [
    {
     "name": "stdout",
     "output_type": "stream",
     "text": [
      "*  postgresql://padawan:***@db:5432/dsdojo_db\n",
      "Done.\n",
      "Done.\n",
      "Done.\n",
      "Done.\n",
      "1 rows affected.\n",
      "1 rows affected.\n",
      "1 rows affected.\n",
      "1 rows affected.\n",
      "1 rows affected.\n",
      "1 rows affected.\n",
      "1 rows affected.\n",
      "1 rows affected.\n",
      "1 rows affected.\n",
      "1 rows affected.\n",
      "1 rows affected.\n",
      "1 rows affected.\n"
     ]
    },
    {
     "data": {
      "text/plain": [
       "[]"
      ]
     },
     "execution_count": 3,
     "metadata": {},
     "output_type": "execute_result"
    }
   ],
   "source": [
    "%%sql\n",
    "drop table if exists Foo, Bar, Accounts;\n",
    "CREATE TABLE Accounts\n",
    " (acct_nbr INTEGER NOT NULL PRIMARY KEY);\n",
    "\n",
    "CREATE TABLE Foo\n",
    " (acct_nbr INTEGER NOT NULL\n",
    "    REFERENCES Accounts(acct_nbr),\n",
    "  foo_qty INTEGER NOT NULL);\n",
    "\n",
    "CREATE TABLE Bar\n",
    "(acct_nbr INTEGER NOT NULL\n",
    "    REFERENCES Accounts(acct_nbr),\n",
    " bar_qty INTEGER NOT NULL);\n",
    "\n",
    "INSERT INTO Accounts VALUES (1);\n",
    "INSERT INTO Accounts VALUES (2);\n",
    "INSERT INTO Accounts VALUES (3);\n",
    "INSERT INTO Accounts VALUES (4);\n",
    "\n",
    "INSERT INTO Foo VALUES (1, 10);\n",
    "INSERT INTO Foo VALUES (2, 20);\n",
    "INSERT INTO Foo VALUES (2, 40);\n",
    "INSERT INTO Foo VALUES (3, 80);\n",
    "\n",
    "INSERT INTO Bar VALUES (2, 160);\n",
    "INSERT INTO Bar VALUES (3, 320);\n",
    "INSERT INTO Bar VALUES (3, 640);\n",
    "INSERT INTO Bar VALUES (3, 1);"
   ]
  },
  {
   "cell_type": "code",
   "execution_count": 4,
   "id": "71e619f2-5f16-43f5-b51b-6ac434bdc1a8",
   "metadata": {},
   "outputs": [
    {
     "name": "stdout",
     "output_type": "stream",
     "text": [
      "*  postgresql://padawan:***@db:5432/dsdojo_db\n",
      "4 rows affected.\n"
     ]
    },
    {
     "data": {
      "text/html": [
       "<table>\n",
       "    <thead>\n",
       "        <tr>\n",
       "            <th>acct_nbr</th>\n",
       "            <th>tot_foo_qty</th>\n",
       "            <th>tot_bar_qty</th>\n",
       "        </tr>\n",
       "    </thead>\n",
       "    <tbody>\n",
       "        <tr>\n",
       "            <td>1</td>\n",
       "            <td>10</td>\n",
       "            <td>None</td>\n",
       "        </tr>\n",
       "        <tr>\n",
       "            <td>2</td>\n",
       "            <td>60</td>\n",
       "            <td>160</td>\n",
       "        </tr>\n",
       "        <tr>\n",
       "            <td>3</td>\n",
       "            <td>80</td>\n",
       "            <td>961</td>\n",
       "        </tr>\n",
       "        <tr>\n",
       "            <td>4</td>\n",
       "            <td>None</td>\n",
       "            <td>None</td>\n",
       "        </tr>\n",
       "    </tbody>\n",
       "</table>"
      ],
      "text/plain": [
       "[(1, 10, None), (2, 60, 160), (3, 80, 961), (4, None, None)]"
      ]
     },
     "execution_count": 4,
     "metadata": {},
     "output_type": "execute_result"
    }
   ],
   "source": [
    "%%sql\n",
    "-- こちらは普通にやった時の回答\n",
    "select tmp.acct_nbr, tot_foo_qty, sum(bar_qty) as tot_bar_qty\n",
    "from (\n",
    "    select a.acct_nbr, sum(foo_qty)\n",
    "    from Accounts as a\n",
    "    left join Foo as f\n",
    "    on a.acct_nbr = f.acct_nbr\n",
    "    group by a.acct_nbr\n",
    ") as tmp(acct_nbr, tot_foo_qty)\n",
    "left join Bar as b\n",
    "on tmp.acct_nbr = b.acct_nbr\n",
    "group by tmp.acct_nbr, tot_foo_qty\n",
    "order by acct_nbr"
   ]
  },
  {
   "cell_type": "code",
   "execution_count": 24,
   "id": "c346b8ea-95a2-4de3-93ad-97075ae534f1",
   "metadata": {},
   "outputs": [
    {
     "name": "stdout",
     "output_type": "stream",
     "text": [
      "*  postgresql://padawan:***@db:5432/dsdojo_db\n",
      "4 rows affected.\n"
     ]
    },
    {
     "data": {
      "text/html": [
       "<table>\n",
       "    <thead>\n",
       "        <tr>\n",
       "            <th>acct_nbr</th>\n",
       "            <th>sum</th>\n",
       "            <th>sum_1</th>\n",
       "        </tr>\n",
       "    </thead>\n",
       "    <tbody>\n",
       "        <tr>\n",
       "            <td>1</td>\n",
       "            <td>10</td>\n",
       "            <td>0</td>\n",
       "        </tr>\n",
       "        <tr>\n",
       "            <td>2</td>\n",
       "            <td>60</td>\n",
       "            <td>160</td>\n",
       "        </tr>\n",
       "        <tr>\n",
       "            <td>3</td>\n",
       "            <td>80</td>\n",
       "            <td>961</td>\n",
       "        </tr>\n",
       "        <tr>\n",
       "            <td>4</td>\n",
       "            <td>None</td>\n",
       "            <td>None</td>\n",
       "        </tr>\n",
       "    </tbody>\n",
       "</table>"
      ],
      "text/plain": [
       "[(1, 10, 0), (2, 60, 160), (3, 80, 961), (4, None, None)]"
      ]
     },
     "execution_count": 24,
     "metadata": {},
     "output_type": "execute_result"
    }
   ],
   "source": [
    "%%sql\n",
    "select acct_nbr, sum(foo_qty), sum(bar_qty)\n",
    "from  (\n",
    "    (\n",
    "        select a.acct_nbr, foo_qty, bar_qty\n",
    "        from Accounts as a\n",
    "        left join (select acct_nbr, foo_qty, 0 as bar_qty from foo) as f\n",
    "        on a.acct_nbr = f.acct_nbr\n",
    "    )\n",
    "    union all\n",
    "    (\n",
    "        select a.acct_nbr, foo_qty, bar_qty\n",
    "        from Accounts as a\n",
    "        left join (select acct_nbr, 0 as foo_qty, bar_qty from bar) as b\n",
    "        on a.acct_nbr = b.acct_nbr\n",
    "    )\n",
    ") as tmp\n",
    "group by acct_nbr\n",
    "order by acct_nbr"
   ]
  },
  {
   "cell_type": "code",
   "execution_count": null,
   "id": "89534d48-cb27-4eb8-9b41-85d529ed1ee7",
   "metadata": {},
   "outputs": [],
   "source": []
  }
 ],
 "metadata": {
  "kernelspec": {
   "display_name": "Python 3 (ipykernel)",
   "language": "python",
   "name": "python3"
  },
  "language_info": {
   "codemirror_mode": {
    "name": "ipython",
    "version": 3
   },
   "file_extension": ".py",
   "mimetype": "text/x-python",
   "name": "python",
   "nbconvert_exporter": "python",
   "pygments_lexer": "ipython3",
   "version": "3.11.5"
  }
 },
 "nbformat": 4,
 "nbformat_minor": 5
}
