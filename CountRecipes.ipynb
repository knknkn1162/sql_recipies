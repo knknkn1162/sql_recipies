{
 "cells": [
  {
   "cell_type": "code",
   "execution_count": 1,
   "id": "940f24fa-9679-430d-89db-541e45377e72",
   "metadata": {},
   "outputs": [],
   "source": [
    "%load_ext sql\n",
    "import os\n",
    "from sqlalchemy import create_engine\n",
    "\n",
    "pgconfig = {\n",
    "    'host': 'db',\n",
    "    'port': os.environ['PG_PORT'],\n",
    "    'database': os.environ['PG_DATABASE'],\n",
    "    'user': os.environ['PG_USER'],\n",
    "    'password': os.environ['PG_PASSWORD'],\n",
    "}\n",
    "dsl = 'postgresql://{user}:{password}@{host}:{port}/{database}'.format(**pgconfig)\n",
    "conn = create_engine(dsl)\n",
    "\n",
    "# MagicコマンドでSQLを書くための設定\n",
    "%sql conn"
   ]
  },
  {
   "cell_type": "markdown",
   "id": "2f788251-04a6-4206-8d93-9d7f202bde0f",
   "metadata": {},
   "source": [
    "#　やりたいこと\n",
    "+ (havingの中の)count(*), count(col1), count(distinct col1)を使えるようにする"
   ]
  },
  {
   "cell_type": "markdown",
   "id": "fafcd33b-bdde-4198-8544-e2d8ccac6839",
   "metadata": {},
   "source": [
    "## 非nullであるレコード数とすべてのレコード数を比較する\n",
    "+ すべての学生がレポートを提出済みである学部を列挙する"
   ]
  },
  {
   "cell_type": "code",
   "execution_count": 3,
   "id": "c462b53f-899f-4fd9-91cd-dffffbddd153",
   "metadata": {},
   "outputs": [
    {
     "name": "stdout",
     "output_type": "stream",
     "text": [
      "*  postgresql://padawan:***@db:5432/dsdojo_db\n",
      "Done.\n",
      "1 rows affected.\n",
      "1 rows affected.\n",
      "1 rows affected.\n",
      "1 rows affected.\n",
      "1 rows affected.\n",
      "1 rows affected.\n",
      "1 rows affected.\n"
     ]
    },
    {
     "data": {
      "text/plain": [
       "[]"
      ]
     },
     "execution_count": 3,
     "metadata": {},
     "output_type": "execute_result"
    }
   ],
   "source": [
    "%%sql\n",
    "CREATE TABLE Students\n",
    "(student_id   INTEGER PRIMARY KEY,\n",
    " dpt          VARCHAR(16) NOT NULL,\n",
    " sbmt_date    DATE);\n",
    "\n",
    "INSERT INTO Students VALUES(100,  '理学部',   '2018-10-10');\n",
    "INSERT INTO Students VALUES(101,  '理学部',   '2018-09-22');\n",
    "INSERT INTO Students VALUES(102,  '文学部',   NULL);\n",
    "INSERT INTO Students VALUES(103,  '文学部',   '2018-09-10');\n",
    "INSERT INTO Students VALUES(200,  '文学部',   '2018-09-22');\n",
    "INSERT INTO Students VALUES(201,  '工学部',   NULL);\n",
    "INSERT INTO Students VALUES(202,  '経済学部', '2018-09-25');"
   ]
  },
  {
   "cell_type": "code",
   "execution_count": 4,
   "id": "21d88dfe-846e-4539-a2b3-b701fb7df6ce",
   "metadata": {},
   "outputs": [
    {
     "name": "stdout",
     "output_type": "stream",
     "text": [
      "*  postgresql://padawan:***@db:5432/dsdojo_db\n",
      "2 rows affected.\n"
     ]
    },
    {
     "data": {
      "text/html": [
       "<table>\n",
       "    <thead>\n",
       "        <tr>\n",
       "            <th>dpt</th>\n",
       "        </tr>\n",
       "    </thead>\n",
       "    <tbody>\n",
       "        <tr>\n",
       "            <td>理学部</td>\n",
       "        </tr>\n",
       "        <tr>\n",
       "            <td>経済学部</td>\n",
       "        </tr>\n",
       "    </tbody>\n",
       "</table>"
      ],
      "text/plain": [
       "[('理学部',), ('経済学部',)]"
      ]
     },
     "execution_count": 4,
     "metadata": {},
     "output_type": "execute_result"
    }
   ],
   "source": [
    "%%sql\n",
    "select dpt\n",
    "from Students\n",
    "group by dpt\n",
    "having count(*) = count(sbmt_date)"
   ]
  },
  {
   "cell_type": "markdown",
   "id": "32ccdc9d-fb62-4040-bcf1-20e377b0bff2",
   "metadata": {},
   "source": [
    "## 重複を排除して数えた要素数と重複を気にせずに数えた要素数を比較する\n",
    "+ 各拠点について資材がダブっているような拠点を列挙する"
   ]
  },
  {
   "cell_type": "code",
   "execution_count": 5,
   "id": "5954d2dd-9571-4e05-b262-a5f5a5c4f0a2",
   "metadata": {},
   "outputs": [
    {
     "name": "stdout",
     "output_type": "stream",
     "text": [
      "*  postgresql://padawan:***@db:5432/dsdojo_db\n",
      "Done.\n",
      "1 rows affected.\n",
      "1 rows affected.\n",
      "1 rows affected.\n",
      "1 rows affected.\n",
      "1 rows affected.\n",
      "1 rows affected.\n",
      "1 rows affected.\n",
      "1 rows affected.\n",
      "1 rows affected.\n",
      "1 rows affected.\n",
      "1 rows affected.\n",
      "1 rows affected.\n",
      "1 rows affected.\n",
      "1 rows affected.\n"
     ]
    },
    {
     "data": {
      "text/plain": [
       "[]"
      ]
     },
     "execution_count": 5,
     "metadata": {},
     "output_type": "execute_result"
    }
   ],
   "source": [
    "%%sql\n",
    "-- 一意集合と多重集合\n",
    "CREATE TABLE Materials\n",
    "(center         CHAR(12) NOT NULL,\n",
    " receive_date   DATE     NOT NULL,\n",
    " material       CHAR(12) NOT NULL,\n",
    " PRIMARY KEY(center, receive_date));\n",
    "\n",
    "INSERT INTO Materials VALUES('東京'\t,'2018-4-01',\t'錫');\n",
    "INSERT INTO Materials VALUES('東京'\t,'2018-4-12',\t'亜鉛');\n",
    "INSERT INTO Materials VALUES('東京'\t,'2018-5-17',\t'アルミニウム');\n",
    "INSERT INTO Materials VALUES('東京'\t,'2018-5-20',\t'亜鉛');\n",
    "INSERT INTO Materials VALUES('大阪'\t,'2018-4-20',\t'銅');\n",
    "INSERT INTO Materials VALUES('大阪'\t,'2018-4-22',\t'ニッケル');\n",
    "INSERT INTO Materials VALUES('大阪'\t,'2018-4-29',\t'鉛');\n",
    "INSERT INTO Materials VALUES('名古屋',\t'2018-3-15',\t'チタン');\n",
    "INSERT INTO Materials VALUES('名古屋',\t'2018-4-01',\t'炭素鋼');\n",
    "INSERT INTO Materials VALUES('名古屋',\t'2018-4-24',\t'炭素鋼');\n",
    "INSERT INTO Materials VALUES('名古屋',\t'2018-5-02',\t'マグネシウム');\n",
    "INSERT INTO Materials VALUES('名古屋',\t'2018-5-10',\t'チタン');\n",
    "INSERT INTO Materials VALUES('福岡'\t,'2018-5-10',\t'亜鉛');\n",
    "INSERT INTO Materials VALUES('福岡'\t,'2018-5-28',\t'錫');"
   ]
  },
  {
   "cell_type": "code",
   "execution_count": 7,
   "id": "6a7e1310-e0a8-490f-a310-6d38a06abb0c",
   "metadata": {},
   "outputs": [
    {
     "name": "stdout",
     "output_type": "stream",
     "text": [
      "*  postgresql://padawan:***@db:5432/dsdojo_db\n",
      "2 rows affected.\n"
     ]
    },
    {
     "data": {
      "text/html": [
       "<table>\n",
       "    <thead>\n",
       "        <tr>\n",
       "            <th>center</th>\n",
       "        </tr>\n",
       "    </thead>\n",
       "    <tbody>\n",
       "        <tr>\n",
       "            <td>東京          </td>\n",
       "        </tr>\n",
       "        <tr>\n",
       "            <td>名古屋         </td>\n",
       "        </tr>\n",
       "    </tbody>\n",
       "</table>"
      ],
      "text/plain": [
       "[('東京          ',), ('名古屋         ',)]"
      ]
     },
     "execution_count": 7,
     "metadata": {},
     "output_type": "execute_result"
    }
   ],
   "source": [
    "%%sql\n",
    "select center\n",
    "from Materials\n",
    "group by center\n",
    "having count(material) <> count(distinct material)"
   ]
  },
  {
   "cell_type": "code",
   "execution_count": null,
   "id": "58c27968-c4c0-442d-bd48-c15a0b6d4461",
   "metadata": {},
   "outputs": [],
   "source": []
  }
 ],
 "metadata": {
  "kernelspec": {
   "display_name": "Python 3 (ipykernel)",
   "language": "python",
   "name": "python3"
  },
  "language_info": {
   "codemirror_mode": {
    "name": "ipython",
    "version": 3
   },
   "file_extension": ".py",
   "mimetype": "text/x-python",
   "name": "python",
   "nbconvert_exporter": "python",
   "pygments_lexer": "ipython3",
   "version": "3.11.5"
  }
 },
 "nbformat": 4,
 "nbformat_minor": 5
}
