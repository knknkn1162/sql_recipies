{
 "cells": [
  {
   "cell_type": "code",
   "execution_count": 1,
   "id": "96290ea5-0031-4da2-9b61-d341f8f5714a",
   "metadata": {},
   "outputs": [],
   "source": [
    "%load_ext sql\n",
    "import os\n",
    "from sqlalchemy import create_engine\n",
    "\n",
    "pgconfig = {\n",
    "    'host': 'db',\n",
    "    'port': os.environ['PG_PORT'],\n",
    "    'database': os.environ['PG_DATABASE'],\n",
    "    'user': os.environ['PG_USER'],\n",
    "    'password': os.environ['PG_PASSWORD'],\n",
    "}\n",
    "dsl = 'postgresql://{user}:{password}@{host}:{port}/{database}'.format(**pgconfig)\n",
    "conn = create_engine(dsl)\n",
    "\n",
    "# MagicコマンドでSQLを書くための設定\n",
    "%sql conn"
   ]
  },
  {
   "cell_type": "code",
   "execution_count": 2,
   "id": "35306ce6-45d3-4591-a700-bedf024e9d83",
   "metadata": {},
   "outputs": [
    {
     "name": "stdout",
     "output_type": "stream",
     "text": [
      "*  postgresql://padawan:***@db:5432/dsdojo_db\n",
      "Done.\n",
      "Done.\n",
      "1 rows affected.\n",
      "1 rows affected.\n",
      "1 rows affected.\n",
      "1 rows affected.\n",
      "1 rows affected.\n",
      "1 rows affected.\n",
      "1 rows affected.\n",
      "1 rows affected.\n",
      "1 rows affected.\n"
     ]
    },
    {
     "data": {
      "text/plain": [
       "[]"
      ]
     },
     "execution_count": 2,
     "metadata": {},
     "output_type": "execute_result"
    }
   ],
   "source": [
    "%%sql\n",
    "drop table if exists TestScores;\n",
    "CREATE TABLE TestScores\n",
    "(student_id INTEGER,\n",
    " subject    VARCHAR(32) ,\n",
    " score      INTEGER,\n",
    "  PRIMARY KEY(student_id, subject));\n",
    "\n",
    "INSERT INTO TestScores VALUES(100, '算数',100);\n",
    "INSERT INTO TestScores VALUES(100, '国語',80);\n",
    "INSERT INTO TestScores VALUES(100, '理科',80);\n",
    "INSERT INTO TestScores VALUES(200, '算数',80);\n",
    "INSERT INTO TestScores VALUES(200, '国語',95);\n",
    "INSERT INTO TestScores VALUES(300, '算数',40);\n",
    "INSERT INTO TestScores VALUES(300, '国語',90);\n",
    "INSERT INTO TestScores VALUES(300, '社会',55);\n",
    "INSERT INTO TestScores VALUES(400, '算数',80);"
   ]
  },
  {
   "cell_type": "markdown",
   "id": "df7da6c3-36d0-4b3f-a19c-2cd1742fc8ba",
   "metadata": {},
   "source": [
    "## やりたいこと\n",
    "\n",
    "+ 各生徒で抜けている教科があるので、それを埋める(埋まっていなかったものはNoneにしておく)"
   ]
  },
  {
   "cell_type": "code",
   "execution_count": 10,
   "id": "f2520656-36de-405b-96f1-21eb82f353ab",
   "metadata": {},
   "outputs": [
    {
     "name": "stdout",
     "output_type": "stream",
     "text": [
      "*  postgresql://padawan:***@db:5432/dsdojo_db\n",
      "16 rows affected.\n"
     ]
    },
    {
     "data": {
      "text/html": [
       "<table>\n",
       "    <thead>\n",
       "        <tr>\n",
       "            <th>student_id</th>\n",
       "            <th>subject</th>\n",
       "            <th>score</th>\n",
       "        </tr>\n",
       "    </thead>\n",
       "    <tbody>\n",
       "        <tr>\n",
       "            <td>100</td>\n",
       "            <td>国語</td>\n",
       "            <td>80</td>\n",
       "        </tr>\n",
       "        <tr>\n",
       "            <td>100</td>\n",
       "            <td>算数</td>\n",
       "            <td>100</td>\n",
       "        </tr>\n",
       "        <tr>\n",
       "            <td>100</td>\n",
       "            <td>社会</td>\n",
       "            <td>None</td>\n",
       "        </tr>\n",
       "        <tr>\n",
       "            <td>100</td>\n",
       "            <td>理科</td>\n",
       "            <td>80</td>\n",
       "        </tr>\n",
       "        <tr>\n",
       "            <td>200</td>\n",
       "            <td>国語</td>\n",
       "            <td>95</td>\n",
       "        </tr>\n",
       "        <tr>\n",
       "            <td>200</td>\n",
       "            <td>算数</td>\n",
       "            <td>80</td>\n",
       "        </tr>\n",
       "        <tr>\n",
       "            <td>200</td>\n",
       "            <td>社会</td>\n",
       "            <td>None</td>\n",
       "        </tr>\n",
       "        <tr>\n",
       "            <td>200</td>\n",
       "            <td>理科</td>\n",
       "            <td>None</td>\n",
       "        </tr>\n",
       "        <tr>\n",
       "            <td>300</td>\n",
       "            <td>国語</td>\n",
       "            <td>90</td>\n",
       "        </tr>\n",
       "        <tr>\n",
       "            <td>300</td>\n",
       "            <td>算数</td>\n",
       "            <td>40</td>\n",
       "        </tr>\n",
       "        <tr>\n",
       "            <td>300</td>\n",
       "            <td>社会</td>\n",
       "            <td>55</td>\n",
       "        </tr>\n",
       "        <tr>\n",
       "            <td>300</td>\n",
       "            <td>理科</td>\n",
       "            <td>None</td>\n",
       "        </tr>\n",
       "        <tr>\n",
       "            <td>400</td>\n",
       "            <td>国語</td>\n",
       "            <td>None</td>\n",
       "        </tr>\n",
       "        <tr>\n",
       "            <td>400</td>\n",
       "            <td>算数</td>\n",
       "            <td>80</td>\n",
       "        </tr>\n",
       "        <tr>\n",
       "            <td>400</td>\n",
       "            <td>社会</td>\n",
       "            <td>None</td>\n",
       "        </tr>\n",
       "        <tr>\n",
       "            <td>400</td>\n",
       "            <td>理科</td>\n",
       "            <td>None</td>\n",
       "        </tr>\n",
       "    </tbody>\n",
       "</table>"
      ],
      "text/plain": [
       "[(100, '国語', 80),\n",
       " (100, '算数', 100),\n",
       " (100, '社会', None),\n",
       " (100, '理科', 80),\n",
       " (200, '国語', 95),\n",
       " (200, '算数', 80),\n",
       " (200, '社会', None),\n",
       " (200, '理科', None),\n",
       " (300, '国語', 90),\n",
       " (300, '算数', 40),\n",
       " (300, '社会', 55),\n",
       " (300, '理科', None),\n",
       " (400, '国語', None),\n",
       " (400, '算数', 80),\n",
       " (400, '社会', None),\n",
       " (400, '理科', None)]"
      ]
     },
     "execution_count": 10,
     "metadata": {},
     "output_type": "execute_result"
    }
   ],
   "source": [
    "%%sql\n",
    "-- left joinですべての候補に対して強制joinさせる\n",
    "select distinct\n",
    "    t1.student_id,\n",
    "    t2.subject,\n",
    "    t3.score\n",
    "from TestScores t1\n",
    "cross join TestScores t2\n",
    "left join TestScores t3\n",
    "on t1.student_id = t3.student_id and\n",
    "t2.subject = t3.subject"
   ]
  },
  {
   "cell_type": "code",
   "execution_count": null,
   "id": "a23c606d-73ef-46ed-8ee2-9923eeb8a181",
   "metadata": {},
   "outputs": [],
   "source": []
  }
 ],
 "metadata": {
  "kernelspec": {
   "display_name": "Python 3 (ipykernel)",
   "language": "python",
   "name": "python3"
  },
  "language_info": {
   "codemirror_mode": {
    "name": "ipython",
    "version": 3
   },
   "file_extension": ".py",
   "mimetype": "text/x-python",
   "name": "python",
   "nbconvert_exporter": "python",
   "pygments_lexer": "ipython3",
   "version": "3.11.5"
  }
 },
 "nbformat": 4,
 "nbformat_minor": 5
}
