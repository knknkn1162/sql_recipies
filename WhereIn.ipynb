{
 "cells": [
  {
   "cell_type": "code",
   "execution_count": 1,
   "id": "ce015323-9cf0-489d-8c1a-899aa0a42ffb",
   "metadata": {},
   "outputs": [
    {
     "name": "stdout",
     "output_type": "stream",
     "text": [
      "\u001b[33mThere's a new jupysql version available (0.10.3), you're running 0.7.2. To upgrade: pip install jupysql --upgrade\u001b[0m\n"
     ]
    }
   ],
   "source": [
    "%load_ext sql\n",
    "import os\n",
    "from sqlalchemy import create_engine\n",
    "\n",
    "pgconfig = {\n",
    "    'host': 'db',\n",
    "    'port': os.environ['PG_PORT'],\n",
    "    'database': os.environ['PG_DATABASE'],\n",
    "    'user': os.environ['PG_USER'],\n",
    "    'password': os.environ['PG_PASSWORD'],\n",
    "}\n",
    "dsl = 'postgresql://{user}:{password}@{host}:{port}/{database}'.format(**pgconfig)\n",
    "conn = create_engine(dsl)\n",
    "\n",
    "# MagicコマンドでSQLを書くための設定\n",
    "%sql conn"
   ]
  },
  {
   "cell_type": "markdown",
   "id": "fdf65619-cc1e-44e2-967b-b522374f0270",
   "metadata": {},
   "source": [
    "# Where inを使うと効果的な場合"
   ]
  },
  {
   "cell_type": "markdown",
   "id": "00e94077-1974-43c4-92ee-c8f9f44a573e",
   "metadata": {},
   "source": [
    "## 3つのcategoryのうち2つを持っている人を見つける"
   ]
  },
  {
   "cell_type": "code",
   "execution_count": 5,
   "id": "63804e92-2e7c-40d6-b412-a58e2c2f7635",
   "metadata": {},
   "outputs": [
    {
     "name": "stdout",
     "output_type": "stream",
     "text": [
      "*  postgresql://padawan:***@db:5432/dsdojo_db\n",
      "Done.\n",
      "Done.\n",
      "1 rows affected.\n",
      "1 rows affected.\n",
      "1 rows affected.\n",
      "1 rows affected.\n",
      "1 rows affected.\n",
      "1 rows affected.\n",
      "1 rows affected.\n",
      "1 rows affected.\n",
      "1 rows affected.\n",
      "1 rows affected.\n",
      "1 rows affected.\n",
      "1 rows affected.\n"
     ]
    },
    {
     "data": {
      "text/plain": [
       "[]"
      ]
     },
     "execution_count": 5,
     "metadata": {},
     "output_type": "execute_result"
    }
   ],
   "source": [
    "%%sql\n",
    "drop table if exists AnthologyContributors;\n",
    "CREATE TABLE AnthologyContributors\n",
    "(isbn CHAR(10) NOT NULL,\n",
    " contributor CHAR(20) NOT NULL,\n",
    " category INTEGER NOT NULL,\n",
    "    PRIMARY KEY (isbn, contributor));\n",
    "\n",
    "INSERT INTO AnthologyContributors VALUES(1, 'スミス', 1);\n",
    "INSERT INTO AnthologyContributors VALUES(2, 'スミス', 2);\n",
    "INSERT INTO AnthologyContributors VALUES(3, 'スミス', 3);\n",
    "INSERT INTO AnthologyContributors VALUES(4, 'ジョン', 1);\n",
    "INSERT INTO AnthologyContributors VALUES(5, 'ジョン', 2);\n",
    "INSERT INTO AnthologyContributors VALUES(6, 'メアリ', 1);\n",
    "INSERT INTO AnthologyContributors VALUES(7, 'メアリ', 1);\n",
    "INSERT INTO AnthologyContributors VALUES(8, 'ガトー', 2);\n",
    "INSERT INTO AnthologyContributors VALUES(9, 'ガトー', 3);\n",
    "INSERT INTO AnthologyContributors VALUES(10,'シモン', 1);\n",
    "INSERT INTO AnthologyContributors VALUES(11,'アン', 4);\n",
    "INSERT INTO AnthologyContributors VALUES(12,'アン', 3);"
   ]
  },
  {
   "cell_type": "code",
   "execution_count": 6,
   "id": "970d4905-3bfd-42aa-a30c-f959a091e0d3",
   "metadata": {},
   "outputs": [
    {
     "name": "stdout",
     "output_type": "stream",
     "text": [
      "*  postgresql://padawan:***@db:5432/dsdojo_db\n",
      "3 rows affected.\n"
     ]
    },
    {
     "data": {
      "text/html": [
       "<table>\n",
       "    <thead>\n",
       "        <tr>\n",
       "            <th>contributor</th>\n",
       "        </tr>\n",
       "    </thead>\n",
       "    <tbody>\n",
       "        <tr>\n",
       "            <td>ガトー                 </td>\n",
       "        </tr>\n",
       "        <tr>\n",
       "            <td>ジョン                 </td>\n",
       "        </tr>\n",
       "        <tr>\n",
       "            <td>メアリ                 </td>\n",
       "        </tr>\n",
       "    </tbody>\n",
       "</table>"
      ],
      "text/plain": [
       "[('ガトー                 ',),\n",
       " ('ジョン                 ',),\n",
       " ('メアリ                 ',)]"
      ]
     },
     "execution_count": 6,
     "metadata": {},
     "output_type": "execute_result"
    }
   ],
   "source": [
    "%%sql\n",
    "SELECT contributor\n",
    "  FROM AnthologyContributors AS A1\n",
    " WHERE A1.category IN (1, 2, 3)\n",
    " GROUP BY contributor\n",
    "having count(*) = 2"
   ]
  },
  {
   "cell_type": "markdown",
   "id": "a6d9f585-448b-4c80-8e5e-2c6263b5ac69",
   "metadata": {},
   "source": [
    "## 複数の候補にどれか当てはまる場合の合計値を出す\n",
    "+ 1~3位の合計入賞回数をもとめる"
   ]
  },
  {
   "cell_type": "code",
   "execution_count": 2,
   "id": "4b3a4572-88b3-4112-b197-8c3bd57575a2",
   "metadata": {},
   "outputs": [
    {
     "name": "stdout",
     "output_type": "stream",
     "text": [
      "*  postgresql://padawan:***@db:5432/dsdojo_db\n",
      "Done.\n",
      "Done.\n",
      "Done.\n",
      "1 rows affected.\n",
      "1 rows affected.\n",
      "1 rows affected.\n",
      "1 rows affected.\n",
      "1 rows affected.\n",
      "1 rows affected.\n",
      "1 rows affected.\n",
      "1 rows affected.\n",
      "1 rows affected.\n",
      "1 rows affected.\n",
      "1 rows affected.\n",
      "1 rows affected.\n",
      "1 rows affected.\n",
      "1 rows affected.\n"
     ]
    },
    {
     "data": {
      "text/plain": [
       "[]"
      ]
     },
     "execution_count": 2,
     "metadata": {},
     "output_type": "execute_result"
    }
   ],
   "source": [
    "%%sql\n",
    "drop table if exists RacingResults, HorseNames;\n",
    "CREATE TABLE RacingResults\n",
    "(track_id CHAR(3) NOT NULL,\n",
    " race_date DATE NOT NULL,\n",
    " race_nbr INTEGER NOT NULL,\n",
    " win_name CHAR(30) NOT NULL,\n",
    " place_name CHAR(30) NOT NULL,\n",
    " show_name CHAR(30) NOT NULL,\n",
    "    PRIMARY KEY (track_id, race_date, race_nbr));\n",
    "\n",
    "CREATE TABLE HorseNames\n",
    "(horse CHAR(30) NOT NULL PRIMARY KEY);\n",
    "\n",
    "INSERT INTO RacingResults VALUES(1, '2007-05-01', 1, 'A', 'B', 'C');\n",
    "INSERT INTO RacingResults VALUES(1, '2007-05-01', 2, 'E', 'F', 'P');\n",
    "INSERT INTO RacingResults VALUES(1, '2007-05-02', 1, 'B', 'C', 'A');\n",
    "INSERT INTO RacingResults VALUES(2, '2007-05-02', 1, 'O', 'P', 'Q');\n",
    "INSERT INTO RacingResults VALUES(2, '2007-05-02', 2, 'A', 'P', 'Q');\n",
    "\n",
    "INSERT INTO HorseNames VALUES('A');\n",
    "INSERT INTO HorseNames VALUES('B');\n",
    "INSERT INTO HorseNames VALUES('C');\n",
    "INSERT INTO HorseNames VALUES('D');\n",
    "INSERT INTO HorseNames VALUES('E');\n",
    "INSERT INTO HorseNames VALUES('F');\n",
    "INSERT INTO HorseNames VALUES('O');\n",
    "INSERT INTO HorseNames VALUES('P');\n",
    "INSERT INTO HorseNames VALUES('Q');"
   ]
  },
  {
   "cell_type": "code",
   "execution_count": 3,
   "id": "ef4b6789-dfcf-4e20-a783-12f380b79c6e",
   "metadata": {},
   "outputs": [
    {
     "name": "stdout",
     "output_type": "stream",
     "text": [
      "*  postgresql://padawan:***@db:5432/dsdojo_db\n",
      "8 rows affected.\n"
     ]
    },
    {
     "data": {
      "text/html": [
       "<table>\n",
       "    <thead>\n",
       "        <tr>\n",
       "            <th>horse</th>\n",
       "            <th>count</th>\n",
       "        </tr>\n",
       "    </thead>\n",
       "    <tbody>\n",
       "        <tr>\n",
       "            <td>A                             </td>\n",
       "            <td>3</td>\n",
       "        </tr>\n",
       "        <tr>\n",
       "            <td>B                             </td>\n",
       "            <td>2</td>\n",
       "        </tr>\n",
       "        <tr>\n",
       "            <td>C                             </td>\n",
       "            <td>2</td>\n",
       "        </tr>\n",
       "        <tr>\n",
       "            <td>E                             </td>\n",
       "            <td>1</td>\n",
       "        </tr>\n",
       "        <tr>\n",
       "            <td>F                             </td>\n",
       "            <td>1</td>\n",
       "        </tr>\n",
       "        <tr>\n",
       "            <td>O                             </td>\n",
       "            <td>1</td>\n",
       "        </tr>\n",
       "        <tr>\n",
       "            <td>P                             </td>\n",
       "            <td>3</td>\n",
       "        </tr>\n",
       "        <tr>\n",
       "            <td>Q                             </td>\n",
       "            <td>2</td>\n",
       "        </tr>\n",
       "    </tbody>\n",
       "</table>"
      ],
      "text/plain": [
       "[('A                             ', 3),\n",
       " ('B                             ', 2),\n",
       " ('C                             ', 2),\n",
       " ('E                             ', 1),\n",
       " ('F                             ', 1),\n",
       " ('O                             ', 1),\n",
       " ('P                             ', 3),\n",
       " ('Q                             ', 2)]"
      ]
     },
     "execution_count": 3,
     "metadata": {},
     "output_type": "execute_result"
    }
   ],
   "source": [
    "%%sql\n",
    "-- ちなみに1~3位の合計入賞回数ももとめる場合、さらに簡単にできる:\n",
    "select h.horse, count(*)\n",
    "from RacingResults as r, HorseNames as h\n",
    "where h.horse in (r.win_name, r.place_name, r.show_name)\n",
    "group by h.horse\n",
    "order by h.horse"
   ]
  },
  {
   "cell_type": "code",
   "execution_count": null,
   "id": "53247660-eaa4-4346-b92c-7b2fd726719b",
   "metadata": {},
   "outputs": [],
   "source": []
  }
 ],
 "metadata": {
  "kernelspec": {
   "display_name": "Python 3 (ipykernel)",
   "language": "python",
   "name": "python3"
  },
  "language_info": {
   "codemirror_mode": {
    "name": "ipython",
    "version": 3
   },
   "file_extension": ".py",
   "mimetype": "text/x-python",
   "name": "python",
   "nbconvert_exporter": "python",
   "pygments_lexer": "ipython3",
   "version": "3.11.5"
  }
 },
 "nbformat": 4,
 "nbformat_minor": 5
}
