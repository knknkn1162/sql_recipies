{
 "cells": [
  {
   "cell_type": "code",
   "execution_count": 2,
   "id": "ce015323-9cf0-489d-8c1a-899aa0a42ffb",
   "metadata": {},
   "outputs": [
    {
     "name": "stdout",
     "output_type": "stream",
     "text": [
      "The sql extension is already loaded. To reload it, use:\n",
      "  %reload_ext sql\n"
     ]
    }
   ],
   "source": [
    "%load_ext sql\n",
    "import os\n",
    "from sqlalchemy import create_engine\n",
    "\n",
    "pgconfig = {\n",
    "    'host': 'db',\n",
    "    'port': os.environ['PG_PORT'],\n",
    "    'database': os.environ['PG_DATABASE'],\n",
    "    'user': os.environ['PG_USER'],\n",
    "    'password': os.environ['PG_PASSWORD'],\n",
    "}\n",
    "dsl = 'postgresql://{user}:{password}@{host}:{port}/{database}'.format(**pgconfig)\n",
    "conn = create_engine(dsl)\n",
    "\n",
    "# MagicコマンドでSQLを書くための設定\n",
    "%sql conn"
   ]
  },
  {
   "cell_type": "markdown",
   "id": "fdf65619-cc1e-44e2-967b-b522374f0270",
   "metadata": {},
   "source": [
    "# Where inを使うと効果的な場合"
   ]
  },
  {
   "cell_type": "markdown",
   "id": "00e94077-1974-43c4-92ee-c8f9f44a573e",
   "metadata": {},
   "source": [
    "## 3つのcategoryのうち2つを持っている人を見つける"
   ]
  },
  {
   "cell_type": "code",
   "execution_count": 5,
   "id": "63804e92-2e7c-40d6-b412-a58e2c2f7635",
   "metadata": {},
   "outputs": [
    {
     "name": "stdout",
     "output_type": "stream",
     "text": [
      "*  postgresql://padawan:***@db:5432/dsdojo_db\n",
      "Done.\n",
      "Done.\n",
      "1 rows affected.\n",
      "1 rows affected.\n",
      "1 rows affected.\n",
      "1 rows affected.\n",
      "1 rows affected.\n",
      "1 rows affected.\n",
      "1 rows affected.\n",
      "1 rows affected.\n",
      "1 rows affected.\n",
      "1 rows affected.\n",
      "1 rows affected.\n",
      "1 rows affected.\n"
     ]
    },
    {
     "data": {
      "text/plain": [
       "[]"
      ]
     },
     "execution_count": 5,
     "metadata": {},
     "output_type": "execute_result"
    }
   ],
   "source": [
    "%%sql\n",
    "drop table if exists AnthologyContributors;\n",
    "CREATE TABLE AnthologyContributors\n",
    "(isbn CHAR(10) NOT NULL,\n",
    " contributor CHAR(20) NOT NULL,\n",
    " category INTEGER NOT NULL,\n",
    "    PRIMARY KEY (isbn, contributor));\n",
    "\n",
    "INSERT INTO AnthologyContributors VALUES(1, 'スミス', 1);\n",
    "INSERT INTO AnthologyContributors VALUES(2, 'スミス', 2);\n",
    "INSERT INTO AnthologyContributors VALUES(3, 'スミス', 3);\n",
    "INSERT INTO AnthologyContributors VALUES(4, 'ジョン', 1);\n",
    "INSERT INTO AnthologyContributors VALUES(5, 'ジョン', 2);\n",
    "INSERT INTO AnthologyContributors VALUES(6, 'メアリ', 1);\n",
    "INSERT INTO AnthologyContributors VALUES(7, 'メアリ', 1);\n",
    "INSERT INTO AnthologyContributors VALUES(8, 'ガトー', 2);\n",
    "INSERT INTO AnthologyContributors VALUES(9, 'ガトー', 3);\n",
    "INSERT INTO AnthologyContributors VALUES(10,'シモン', 1);\n",
    "INSERT INTO AnthologyContributors VALUES(11,'アン', 4);\n",
    "INSERT INTO AnthologyContributors VALUES(12,'アン', 3);"
   ]
  },
  {
   "cell_type": "code",
   "execution_count": 6,
   "id": "970d4905-3bfd-42aa-a30c-f959a091e0d3",
   "metadata": {},
   "outputs": [
    {
     "name": "stdout",
     "output_type": "stream",
     "text": [
      "*  postgresql://padawan:***@db:5432/dsdojo_db\n",
      "3 rows affected.\n"
     ]
    },
    {
     "data": {
      "text/html": [
       "<table>\n",
       "    <thead>\n",
       "        <tr>\n",
       "            <th>contributor</th>\n",
       "        </tr>\n",
       "    </thead>\n",
       "    <tbody>\n",
       "        <tr>\n",
       "            <td>ガトー                 </td>\n",
       "        </tr>\n",
       "        <tr>\n",
       "            <td>ジョン                 </td>\n",
       "        </tr>\n",
       "        <tr>\n",
       "            <td>メアリ                 </td>\n",
       "        </tr>\n",
       "    </tbody>\n",
       "</table>"
      ],
      "text/plain": [
       "[('ガトー                 ',),\n",
       " ('ジョン                 ',),\n",
       " ('メアリ                 ',)]"
      ]
     },
     "execution_count": 6,
     "metadata": {},
     "output_type": "execute_result"
    }
   ],
   "source": [
    "%%sql\n",
    "SELECT contributor\n",
    "  FROM AnthologyContributors AS A1\n",
    " WHERE A1.category IN (1, 2, 3)\n",
    " GROUP BY contributor\n",
    "having count(*) = 2"
   ]
  },
  {
   "cell_type": "code",
   "execution_count": null,
   "id": "a99caf6f-51cd-4c97-9923-90e8e911f227",
   "metadata": {},
   "outputs": [],
   "source": []
  }
 ],
 "metadata": {
  "kernelspec": {
   "display_name": "Python 3 (ipykernel)",
   "language": "python",
   "name": "python3"
  },
  "language_info": {
   "codemirror_mode": {
    "name": "ipython",
    "version": 3
   },
   "file_extension": ".py",
   "mimetype": "text/x-python",
   "name": "python",
   "nbconvert_exporter": "python",
   "pygments_lexer": "ipython3",
   "version": "3.11.5"
  }
 },
 "nbformat": 4,
 "nbformat_minor": 5
}
