{
 "cells": [
  {
   "cell_type": "code",
   "execution_count": 2,
   "id": "37979641-8fef-455e-89b3-95e856793012",
   "metadata": {},
   "outputs": [],
   "source": [
    "%load_ext sql\n",
    "import os\n",
    "from sqlalchemy import create_engine\n",
    "\n",
    "pgconfig = {\n",
    "    'host': 'db',\n",
    "    'port': os.environ['PG_PORT'],\n",
    "    'database': os.environ['PG_DATABASE'],\n",
    "    'user': os.environ['PG_USER'],\n",
    "    'password': os.environ['PG_PASSWORD'],\n",
    "}\n",
    "dsl = 'postgresql://{user}:{password}@{host}:{port}/{database}'.format(**pgconfig)\n",
    "conn = create_engine(dsl)\n",
    "\n",
    "# MagicコマンドでSQLを書くための設定\n",
    "%sql conn"
   ]
  },
  {
   "cell_type": "markdown",
   "id": "7e5648e9-ce30-4f0a-8eaa-59b3834777d9",
   "metadata": {},
   "source": [
    "## やりたいこと\n",
    "+ それぞれの人について重複するスケジュールになってしまっているproj_idを求める。(順序も含めて)\n",
    "    + 端点が一致する場合も含む\n",
    "    + 包含する場合は除く"
   ]
  },
  {
   "cell_type": "code",
   "execution_count": 26,
   "id": "efe23e7a-1f43-4e17-9c1e-da9a33ac9a1e",
   "metadata": {},
   "outputs": [
    {
     "name": "stdout",
     "output_type": "stream",
     "text": [
      "*  postgresql://padawan:***@db:5432/dsdojo_db\n",
      "Done.\n",
      "Done.\n",
      "Done.\n",
      "17 rows affected.\n"
     ]
    },
    {
     "data": {
      "text/plain": [
       "[]"
      ]
     },
     "execution_count": 26,
     "metadata": {},
     "output_type": "execute_result"
    }
   ],
   "source": [
    "%%sql\n",
    "drop view if exists tbl10;\n",
    "drop table if exists emp_project;\n",
    "CREATE TABLE emp_project (\n",
    "    empno varchar NULL,\n",
    "    ename varchar NULL,\n",
    "    proj_id integer NULL,\n",
    "    proj_start date NULL,\n",
    "    proj_end date NULL\n",
    ");\n",
    "\n",
    "INSERT INTO emp_project (empno,ename,proj_id,proj_start,proj_end) VALUES\n",
    "     ('7782','CLARK','1','2005-01-16','2005-01-18'),\n",
    "     ('7782','CLARK','4','2005-01-19','2005-01-24'),\n",
    "     ('7782','CLARK','7','2005-01-22','2005-01-25'),\n",
    "     ('7782','CLARK','10','2005-01-25','2005-01-28'),\n",
    "     ('7782','CLARK','13','2005-01-28','2005-02-02'),\n",
    "     ('7839','KING','2','2005-01-17','2005-01-21'),\n",
    "     ('7839','KING','8','2005-01-23','2005-01-25'),\n",
    "     ('7839','KING','14','2005-01-29','2005-01-30'),\n",
    "     ('7839','KING','11','2005-01-26','2005-01-27'),\n",
    "     ('7839','KING','5','2005-01-20','2005-01-24'),\n",
    "     ('7939','KING','17','2005-01-20','2005-01-30'),\n",
    "     ('7934','MILLER','3','2005-01-18','2005-01-22'),\n",
    "     ('7934','MILLER','12','2005-01-27','2005-01-28'),\n",
    "     ('7934','MILLER','15','2005-01-30','2005-02-03'),\n",
    "     ('7934','MILLER','9','2005-01-24','2005-01-27'),\n",
    "     ('7934','MILLER','6','2005-01-21','2005-01-23'),\n",
    "     ('7934','MILLER','16','2005-01-22','2005-01-23');"
   ]
  },
  {
   "cell_type": "code",
   "execution_count": 32,
   "id": "edb61cae-905b-4b4e-98eb-2ecc62e09ce4",
   "metadata": {},
   "outputs": [
    {
     "name": "stdout",
     "output_type": "stream",
     "text": [
      "*  postgresql://padawan:***@db:5432/dsdojo_db\n",
      "8 rows affected.\n"
     ]
    },
    {
     "data": {
      "text/html": [
       "<table>\n",
       "    <thead>\n",
       "        <tr>\n",
       "            <th>empno</th>\n",
       "            <th>ename</th>\n",
       "            <th>overlaps</th>\n",
       "            <th>e1_start</th>\n",
       "            <th>e1_end</th>\n",
       "            <th>e2_start</th>\n",
       "            <th>e2_end</th>\n",
       "        </tr>\n",
       "    </thead>\n",
       "    <tbody>\n",
       "        <tr>\n",
       "            <td>7782</td>\n",
       "            <td>CLARK</td>\n",
       "            <td>4 < 7</td>\n",
       "            <td>2005-01-19</td>\n",
       "            <td>2005-01-24</td>\n",
       "            <td>2005-01-22</td>\n",
       "            <td>2005-01-25</td>\n",
       "        </tr>\n",
       "        <tr>\n",
       "            <td>7782</td>\n",
       "            <td>CLARK</td>\n",
       "            <td>7 < 10</td>\n",
       "            <td>2005-01-22</td>\n",
       "            <td>2005-01-25</td>\n",
       "            <td>2005-01-25</td>\n",
       "            <td>2005-01-28</td>\n",
       "        </tr>\n",
       "        <tr>\n",
       "            <td>7782</td>\n",
       "            <td>CLARK</td>\n",
       "            <td>10 < 13</td>\n",
       "            <td>2005-01-25</td>\n",
       "            <td>2005-01-28</td>\n",
       "            <td>2005-01-28</td>\n",
       "            <td>2005-02-02</td>\n",
       "        </tr>\n",
       "        <tr>\n",
       "            <td>7839</td>\n",
       "            <td>KING</td>\n",
       "            <td>2 < 5</td>\n",
       "            <td>2005-01-17</td>\n",
       "            <td>2005-01-21</td>\n",
       "            <td>2005-01-20</td>\n",
       "            <td>2005-01-24</td>\n",
       "        </tr>\n",
       "        <tr>\n",
       "            <td>7839</td>\n",
       "            <td>KING</td>\n",
       "            <td>5 < 8</td>\n",
       "            <td>2005-01-20</td>\n",
       "            <td>2005-01-24</td>\n",
       "            <td>2005-01-23</td>\n",
       "            <td>2005-01-25</td>\n",
       "        </tr>\n",
       "        <tr>\n",
       "            <td>7934</td>\n",
       "            <td>MILLER</td>\n",
       "            <td>3 < 16</td>\n",
       "            <td>2005-01-18</td>\n",
       "            <td>2005-01-22</td>\n",
       "            <td>2005-01-22</td>\n",
       "            <td>2005-01-23</td>\n",
       "        </tr>\n",
       "        <tr>\n",
       "            <td>7934</td>\n",
       "            <td>MILLER</td>\n",
       "            <td>3 < 6</td>\n",
       "            <td>2005-01-18</td>\n",
       "            <td>2005-01-22</td>\n",
       "            <td>2005-01-21</td>\n",
       "            <td>2005-01-23</td>\n",
       "        </tr>\n",
       "        <tr>\n",
       "            <td>7934</td>\n",
       "            <td>MILLER</td>\n",
       "            <td>9 < 12</td>\n",
       "            <td>2005-01-24</td>\n",
       "            <td>2005-01-27</td>\n",
       "            <td>2005-01-27</td>\n",
       "            <td>2005-01-28</td>\n",
       "        </tr>\n",
       "    </tbody>\n",
       "</table>"
      ],
      "text/plain": [
       "[('7782', 'CLARK', '4 < 7', datetime.date(2005, 1, 19), datetime.date(2005, 1, 24), datetime.date(2005, 1, 22), datetime.date(2005, 1, 25)),\n",
       " ('7782', 'CLARK', '7 < 10', datetime.date(2005, 1, 22), datetime.date(2005, 1, 25), datetime.date(2005, 1, 25), datetime.date(2005, 1, 28)),\n",
       " ('7782', 'CLARK', '10 < 13', datetime.date(2005, 1, 25), datetime.date(2005, 1, 28), datetime.date(2005, 1, 28), datetime.date(2005, 2, 2)),\n",
       " ('7839', 'KING', '2 < 5', datetime.date(2005, 1, 17), datetime.date(2005, 1, 21), datetime.date(2005, 1, 20), datetime.date(2005, 1, 24)),\n",
       " ('7839', 'KING', '5 < 8', datetime.date(2005, 1, 20), datetime.date(2005, 1, 24), datetime.date(2005, 1, 23), datetime.date(2005, 1, 25)),\n",
       " ('7934', 'MILLER', '3 < 16', datetime.date(2005, 1, 18), datetime.date(2005, 1, 22), datetime.date(2005, 1, 22), datetime.date(2005, 1, 23)),\n",
       " ('7934', 'MILLER', '3 < 6', datetime.date(2005, 1, 18), datetime.date(2005, 1, 22), datetime.date(2005, 1, 21), datetime.date(2005, 1, 23)),\n",
       " ('7934', 'MILLER', '9 < 12', datetime.date(2005, 1, 24), datetime.date(2005, 1, 27), datetime.date(2005, 1, 27), datetime.date(2005, 1, 28))]"
      ]
     },
     "execution_count": 32,
     "metadata": {},
     "output_type": "execute_result"
    }
   ],
   "source": [
    "%%sql\n",
    "select e1.empno, e1.ename,\n",
    "    e1.proj_id || ' < ' || e2.proj_id as overlaps,\n",
    "    e1.proj_start as e1_start, e1.proj_end as e1_end,\n",
    "    e2.proj_start as e2_start, e2.proj_end as e2_end\n",
    "from emp_project as e1, emp_project as e2\n",
    "where e1.empno = e2.empno and\n",
    "e1.proj_id <> e2.proj_id and\n",
    "e1.proj_start < e2.proj_start and\n",
    "e1.proj_end < e2.proj_end and\n",
    "(e1.proj_end >= e2.proj_start and e2.proj_end >= e1.proj_start)"
   ]
  },
  {
   "cell_type": "code",
   "execution_count": 41,
   "id": "dc761979-b10f-4a6b-a9ad-a646ba342cee",
   "metadata": {},
   "outputs": [
    {
     "name": "stdout",
     "output_type": "stream",
     "text": [
      "*  postgresql://padawan:***@db:5432/dsdojo_db\n",
      "7 rows affected.\n"
     ]
    },
    {
     "data": {
      "text/html": [
       "<table>\n",
       "    <thead>\n",
       "        <tr>\n",
       "            <th>empno</th>\n",
       "            <th>ename</th>\n",
       "            <th>overlaps</th>\n",
       "        </tr>\n",
       "    </thead>\n",
       "    <tbody>\n",
       "        <tr>\n",
       "            <td>7782</td>\n",
       "            <td>CLARK</td>\n",
       "            <td>4 < 7</td>\n",
       "        </tr>\n",
       "        <tr>\n",
       "            <td>7782</td>\n",
       "            <td>CLARK</td>\n",
       "            <td>7 < 10</td>\n",
       "        </tr>\n",
       "        <tr>\n",
       "            <td>7782</td>\n",
       "            <td>CLARK</td>\n",
       "            <td>10 < 13</td>\n",
       "        </tr>\n",
       "        <tr>\n",
       "            <td>7839</td>\n",
       "            <td>KING</td>\n",
       "            <td>2 < 5</td>\n",
       "        </tr>\n",
       "        <tr>\n",
       "            <td>7839</td>\n",
       "            <td>KING</td>\n",
       "            <td>5 < 8</td>\n",
       "        </tr>\n",
       "        <tr>\n",
       "            <td>7934</td>\n",
       "            <td>MILLER</td>\n",
       "            <td>3 < 6</td>\n",
       "        </tr>\n",
       "        <tr>\n",
       "            <td>7934</td>\n",
       "            <td>MILLER</td>\n",
       "            <td>9 < 12</td>\n",
       "        </tr>\n",
       "    </tbody>\n",
       "</table>"
      ],
      "text/plain": [
       "[('7782', 'CLARK', '4 < 7'),\n",
       " ('7782', 'CLARK', '7 < 10'),\n",
       " ('7782', 'CLARK', '10 < 13'),\n",
       " ('7839', 'KING', '2 < 5'),\n",
       " ('7839', 'KING', '5 < 8'),\n",
       " ('7934', 'MILLER', '3 < 6'),\n",
       " ('7934', 'MILLER', '9 < 12')]"
      ]
     },
     "execution_count": 41,
     "metadata": {},
     "output_type": "execute_result"
    }
   ],
   "source": [
    "%%sql\n",
    "-- 3<16は3<6の中に包含されている\n",
    "select empno, ename,\n",
    "    proj_id || ' < ' || nxt_proj_id as overlaps\n",
    "from (\n",
    "    select *,\n",
    "        lead(proj_start, 1) over (\n",
    "            partition by ename\n",
    "            order by proj_end, proj_start\n",
    "        ) as nxt_proj_start,\n",
    "        lead(proj_end, 1) over (\n",
    "            partition by ename\n",
    "            order by proj_end, proj_start\n",
    "        ) as nxt_proj_end,\n",
    "        lead(proj_id,1) over (\n",
    "            partition by ename\n",
    "            order by proj_end, proj_start\n",
    "        ) as nxt_proj_id\n",
    "    from emp_project\n",
    ") as tmp\n",
    "where nxt_proj_start between proj_start and proj_end and\n",
    "nxt_proj_end > proj_end"
   ]
  },
  {
   "cell_type": "markdown",
   "id": "0e88c721-bd50-4a86-93c4-3f998566c0e0",
   "metadata": {},
   "source": [
    "+ 各人でoverlapする期間を求める"
   ]
  },
  {
   "cell_type": "code",
   "execution_count": null,
   "id": "ac3d0a45-cf1d-4159-aa92-ff7e86966797",
   "metadata": {},
   "outputs": [],
   "source": []
  }
 ],
 "metadata": {
  "kernelspec": {
   "display_name": "Python 3 (ipykernel)",
   "language": "python",
   "name": "python3"
  },
  "language_info": {
   "codemirror_mode": {
    "name": "ipython",
    "version": 3
   },
   "file_extension": ".py",
   "mimetype": "text/x-python",
   "name": "python",
   "nbconvert_exporter": "python",
   "pygments_lexer": "ipython3",
   "version": "3.11.5"
  }
 },
 "nbformat": 4,
 "nbformat_minor": 5
}
