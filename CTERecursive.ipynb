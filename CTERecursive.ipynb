{
 "cells": [
  {
   "cell_type": "code",
   "execution_count": 2,
   "id": "d50604dc-72d3-4492-86ce-d1c9229d0fc5",
   "metadata": {},
   "outputs": [],
   "source": [
    "%load_ext sql\n",
    "import os\n",
    "from sqlalchemy import create_engine\n",
    "\n",
    "pgconfig = {\n",
    "    'host': 'db',\n",
    "    'port': os.environ['PG_PORT'],\n",
    "    'database': os.environ['PG_DATABASE'],\n",
    "    'user': os.environ['PG_USER'],\n",
    "    'password': os.environ['PG_PASSWORD'],\n",
    "}\n",
    "dsl = 'postgresql://{user}:{password}@{host}:{port}/{database}'.format(**pgconfig)\n",
    "conn = create_engine(dsl)\n",
    "\n",
    "# MagicコマンドでSQLを書くための設定\n",
    "%sql conn"
   ]
  },
  {
   "cell_type": "markdown",
   "id": "16d57721-5ea8-4b2b-bb78-2eee79cd7f3a",
   "metadata": {},
   "source": [
    "## やりたいこと\n",
    "+ フィボナッチ数を求める"
   ]
  },
  {
   "cell_type": "code",
   "execution_count": 15,
   "id": "6f8cc7f5-1c4d-4371-9ef3-f76a0ed66a79",
   "metadata": {},
   "outputs": [
    {
     "name": "stdout",
     "output_type": "stream",
     "text": [
      "*  postgresql://padawan:***@db:5432/dsdojo_db\n",
      "12 rows affected.\n"
     ]
    },
    {
     "data": {
      "text/html": [
       "<table>\n",
       "    <thead>\n",
       "        <tr>\n",
       "            <th>a</th>\n",
       "        </tr>\n",
       "    </thead>\n",
       "    <tbody>\n",
       "        <tr>\n",
       "            <td>0</td>\n",
       "        </tr>\n",
       "        <tr>\n",
       "            <td>1</td>\n",
       "        </tr>\n",
       "        <tr>\n",
       "            <td>1</td>\n",
       "        </tr>\n",
       "        <tr>\n",
       "            <td>2</td>\n",
       "        </tr>\n",
       "        <tr>\n",
       "            <td>3</td>\n",
       "        </tr>\n",
       "        <tr>\n",
       "            <td>5</td>\n",
       "        </tr>\n",
       "        <tr>\n",
       "            <td>8</td>\n",
       "        </tr>\n",
       "        <tr>\n",
       "            <td>13</td>\n",
       "        </tr>\n",
       "        <tr>\n",
       "            <td>21</td>\n",
       "        </tr>\n",
       "        <tr>\n",
       "            <td>34</td>\n",
       "        </tr>\n",
       "        <tr>\n",
       "            <td>55</td>\n",
       "        </tr>\n",
       "        <tr>\n",
       "            <td>89</td>\n",
       "        </tr>\n",
       "    </tbody>\n",
       "</table>"
      ],
      "text/plain": [
       "[(0,), (1,), (1,), (2,), (3,), (5,), (8,), (13,), (21,), (34,), (55,), (89,)]"
      ]
     },
     "execution_count": 15,
     "metadata": {},
     "output_type": "execute_result"
    }
   ],
   "source": [
    "%%sql\n",
    "-- CTEの再帰\n",
    "with recursive fib(a,b) as (\n",
    "    select * from (values (0,1)) as foo\n",
    "    union all\n",
    "    select b, a+b\n",
    "    from fib\n",
    "    where b < 100\n",
    ")\n",
    "\n",
    "select a\n",
    "from fib"
   ]
  },
  {
   "cell_type": "markdown",
   "id": "796b3913-056d-49d0-8c64-e6c382901cb9",
   "metadata": {},
   "source": [
    "## やりたいこと\n",
    "+ uncountのようなことをやる(例: ('A', 3) -> 3つの('A', 1)に分解する"
   ]
  },
  {
   "cell_type": "code",
   "execution_count": 3,
   "id": "32aa377a-acb4-44d9-a7b4-5ac72ca9f1fc",
   "metadata": {},
   "outputs": [
    {
     "name": "stdout",
     "output_type": "stream",
     "text": [
      "*  postgresql://padawan:***@db:5432/dsdojo_db\n",
      "Done.\n",
      "Done.\n",
      "2 rows affected.\n"
     ]
    },
    {
     "data": {
      "text/plain": [
       "[]"
      ]
     },
     "execution_count": 3,
     "metadata": {},
     "output_type": "execute_result"
    }
   ],
   "source": [
    "%%sql\n",
    "drop table if exists Inventory;\n",
    "create table Inventory (\n",
    "    goods char(10) not null primary key,\n",
    "    pieces integer not null check (pieces >= 0)\n",
    ");\n",
    "\n",
    "insert into Inventory\n",
    "values ('CD-rom', 3), ('zz', 2);"
   ]
  },
  {
   "cell_type": "code",
   "execution_count": 5,
   "id": "97118fea-5827-44c6-b79b-0485b7fcf464",
   "metadata": {},
   "outputs": [
    {
     "name": "stdout",
     "output_type": "stream",
     "text": [
      "*  postgresql://padawan:***@db:5432/dsdojo_db\n",
      "5 rows affected.\n"
     ]
    },
    {
     "data": {
      "text/html": [
       "<table>\n",
       "    <thead>\n",
       "        <tr>\n",
       "            <th>goods</th>\n",
       "            <th>one</th>\n",
       "        </tr>\n",
       "    </thead>\n",
       "    <tbody>\n",
       "        <tr>\n",
       "            <td>CD-rom    </td>\n",
       "            <td>1</td>\n",
       "        </tr>\n",
       "        <tr>\n",
       "            <td>CD-rom    </td>\n",
       "            <td>1</td>\n",
       "        </tr>\n",
       "        <tr>\n",
       "            <td>CD-rom    </td>\n",
       "            <td>1</td>\n",
       "        </tr>\n",
       "        <tr>\n",
       "            <td>zz        </td>\n",
       "            <td>1</td>\n",
       "        </tr>\n",
       "        <tr>\n",
       "            <td>zz        </td>\n",
       "            <td>1</td>\n",
       "        </tr>\n",
       "    </tbody>\n",
       "</table>"
      ],
      "text/plain": [
       "[('CD-rom    ', 1),\n",
       " ('CD-rom    ', 1),\n",
       " ('CD-rom    ', 1),\n",
       " ('zz        ', 1),\n",
       " ('zz        ', 1)]"
      ]
     },
     "execution_count": 5,
     "metadata": {},
     "output_type": "execute_result"
    }
   ],
   "source": [
    "%%sql\n",
    "WITH recursive cte(goods, pieces, one) AS\n",
    "(\n",
    "    SELECT goods, pieces, 1 FROM Inventory\n",
    "    UNION ALL\n",
    "    SELECT cte.goods, cte.pieces - 1, 1\n",
    "    FROM cte\n",
    "    WHERE cte.pieces > 1\n",
    ")\n",
    "select goods, one\n",
    "from cte\n",
    "order by goods;"
   ]
  },
  {
   "cell_type": "code",
   "execution_count": null,
   "id": "60eaa53b-4c68-4c01-8077-688103f144da",
   "metadata": {},
   "outputs": [],
   "source": []
  }
 ],
 "metadata": {
  "kernelspec": {
   "display_name": "Python 3 (ipykernel)",
   "language": "python",
   "name": "python3"
  },
  "language_info": {
   "codemirror_mode": {
    "name": "ipython",
    "version": 3
   },
   "file_extension": ".py",
   "mimetype": "text/x-python",
   "name": "python",
   "nbconvert_exporter": "python",
   "pygments_lexer": "ipython3",
   "version": "3.11.5"
  }
 },
 "nbformat": 4,
 "nbformat_minor": 5
}
