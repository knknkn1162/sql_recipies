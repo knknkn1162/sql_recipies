{
 "cells": [
  {
   "cell_type": "code",
   "execution_count": 68,
   "id": "a98cc465-f3fe-4bd5-8a5c-e0b1df0740ec",
   "metadata": {},
   "outputs": [
    {
     "name": "stdout",
     "output_type": "stream",
     "text": [
      "The sql extension is already loaded. To reload it, use:\n",
      "  %reload_ext sql\n"
     ]
    }
   ],
   "source": [
    "%load_ext sql\n",
    "import os\n",
    "from sqlalchemy import create_engine\n",
    "\n",
    "pgconfig = {\n",
    "    'host': 'db',\n",
    "    'port': os.environ['PG_PORT'],\n",
    "    'database': os.environ['PG_DATABASE'],\n",
    "    'user': os.environ['PG_USER'],\n",
    "    'password': os.environ['PG_PASSWORD'],\n",
    "}\n",
    "dsl = 'postgresql://{user}:{password}@{host}:{port}/{database}'.format(**pgconfig)\n",
    "conn = create_engine(dsl)\n",
    "\n",
    "# MagicコマンドでSQLを書くための設定\n",
    "%sql conn"
   ]
  },
  {
   "cell_type": "code",
   "execution_count": 69,
   "id": "dc2af2f4-da42-4aec-8d42-777fc8e169c4",
   "metadata": {},
   "outputs": [
    {
     "name": "stdout",
     "output_type": "stream",
     "text": [
      "*  postgresql://padawan:***@db:5432/dsdojo_db\n",
      "Done.\n",
      "Done.\n",
      "7 rows affected.\n"
     ]
    },
    {
     "data": {
      "text/plain": [
       "[]"
      ]
     },
     "execution_count": 69,
     "metadata": {},
     "output_type": "execute_result"
    }
   ],
   "source": [
    "%%sql\n",
    "drop table if exists tbl;\n",
    "create table tbl (\n",
    "    id integer primary key,\n",
    "    group_id integer not null,\n",
    "    value integer not null\n",
    ");\n",
    "\n",
    "insert into tbl\n",
    "values (1,1,4),\n",
    "    (2,1,6),\n",
    "    (3,1,7),\n",
    "    (4,1,0),\n",
    "    (5,2,5),\n",
    "    (6,2,10),\n",
    "    (7,3,8);"
   ]
  },
  {
   "cell_type": "markdown",
   "id": "3eafe9a5-532d-4dc0-a52a-cb7506cd0df1",
   "metadata": {},
   "source": [
    "## やりたいこと\n",
    "+ 各グループで2番目に大きい要素を取得する"
   ]
  },
  {
   "cell_type": "code",
   "execution_count": 74,
   "id": "562ea90d-2c7d-4177-b1e0-87cc372183ec",
   "metadata": {},
   "outputs": [
    {
     "name": "stdout",
     "output_type": "stream",
     "text": [
      "*  postgresql://padawan:***@db:5432/dsdojo_db\n",
      "2 rows affected.\n"
     ]
    },
    {
     "data": {
      "text/html": [
       "<table>\n",
       "    <thead>\n",
       "        <tr>\n",
       "            <th>id</th>\n",
       "            <th>group_id</th>\n",
       "            <th>value</th>\n",
       "        </tr>\n",
       "    </thead>\n",
       "    <tbody>\n",
       "        <tr>\n",
       "            <td>3</td>\n",
       "            <td>1</td>\n",
       "            <td>6</td>\n",
       "        </tr>\n",
       "        <tr>\n",
       "            <td>6</td>\n",
       "            <td>2</td>\n",
       "            <td>5</td>\n",
       "        </tr>\n",
       "    </tbody>\n",
       "</table>"
      ],
      "text/plain": [
       "[(3, 1, 6), (6, 2, 5)]"
      ]
     },
     "execution_count": 74,
     "metadata": {},
     "output_type": "execute_result"
    }
   ],
   "source": [
    "%%sql\n",
    "-- cross joinでt1は最大、t2はt1をもとに2番目に大きいものに絞り込む\n",
    "select t1.id,\n",
    "    t1.group_id,\n",
    "    t2.value\n",
    "from tbl as t1, tbl as t2\n",
    "where t1.group_id = t2.group_id and\n",
    "t1.value = (\n",
    "    select max(t3.value)\n",
    "    from tbl as t3\n",
    "    where t3.group_id = t1.group_id\n",
    ") and\n",
    "t2.value = (\n",
    "    select max(t3.value)\n",
    "    from tbl as t3\n",
    "    where t3.group_id = t2.group_id and\n",
    "    t3.value < t1.value\n",
    ")"
   ]
  },
  {
   "cell_type": "code",
   "execution_count": 78,
   "id": "00f17a60-3d95-4fec-97ec-adcd82196bac",
   "metadata": {},
   "outputs": [
    {
     "name": "stdout",
     "output_type": "stream",
     "text": [
      "*  postgresql://padawan:***@db:5432/dsdojo_db\n",
      "5 rows affected.\n"
     ]
    },
    {
     "data": {
      "text/html": [
       "<table>\n",
       "    <thead>\n",
       "        <tr>\n",
       "            <th>max</th>\n",
       "            <th>group_id</th>\n",
       "            <th>max_1</th>\n",
       "        </tr>\n",
       "    </thead>\n",
       "    <tbody>\n",
       "        <tr>\n",
       "            <td>2</td>\n",
       "            <td>1</td>\n",
       "            <td>6</td>\n",
       "        </tr>\n",
       "        <tr>\n",
       "            <td>3</td>\n",
       "            <td>1</td>\n",
       "            <td>7</td>\n",
       "        </tr>\n",
       "        <tr>\n",
       "            <td>6</td>\n",
       "            <td>2</td>\n",
       "            <td>10</td>\n",
       "        </tr>\n",
       "        <tr>\n",
       "            <td>5</td>\n",
       "            <td>2</td>\n",
       "            <td>5</td>\n",
       "        </tr>\n",
       "        <tr>\n",
       "            <td>7</td>\n",
       "            <td>3</td>\n",
       "            <td>8</td>\n",
       "        </tr>\n",
       "    </tbody>\n",
       "</table>"
      ],
      "text/plain": [
       "[(2, 1, 6), (3, 1, 7), (6, 2, 10), (5, 2, 5), (7, 3, 8)]"
      ]
     },
     "execution_count": 78,
     "metadata": {},
     "output_type": "execute_result"
    }
   ],
   "source": [
    "%%sql\n",
    "-- cross join\n",
    "select\n",
    "    max(t1.id),\n",
    "    t1.group_id,\n",
    "    max(t1.value)\n",
    "from tbl as t1, tbl as t2\n",
    "where t1.group_id = t2.group_id and\n",
    "t1.value <= t2.value\n",
    "group by t1.group_id, t1.value\n",
    "having count(*) = 2"
   ]
  },
  {
   "cell_type": "code",
   "execution_count": 21,
   "id": "f5be134d-bf70-4348-a467-19f4f2d1ee61",
   "metadata": {},
   "outputs": [
    {
     "name": "stdout",
     "output_type": "stream",
     "text": [
      "*  postgresql://padawan:***@db:5432/dsdojo_db\n",
      "2 rows affected.\n"
     ]
    },
    {
     "data": {
      "text/html": [
       "<table>\n",
       "    <thead>\n",
       "        <tr>\n",
       "            <th>id</th>\n",
       "            <th>group_id</th>\n",
       "            <th>value</th>\n",
       "        </tr>\n",
       "    </thead>\n",
       "    <tbody>\n",
       "        <tr>\n",
       "            <td>2</td>\n",
       "            <td>1</td>\n",
       "            <td>6</td>\n",
       "        </tr>\n",
       "        <tr>\n",
       "            <td>5</td>\n",
       "            <td>2</td>\n",
       "            <td>5</td>\n",
       "        </tr>\n",
       "    </tbody>\n",
       "</table>"
      ],
      "text/plain": [
       "[(2, 1, 6), (5, 2, 5)]"
      ]
     },
     "execution_count": 21,
     "metadata": {},
     "output_type": "execute_result"
    }
   ],
   "source": [
    "%%sql\n",
    "-- 相関サブクエリ\n",
    "select *\n",
    "from tbl as t1\n",
    "where value = (\n",
    "    select max(t2.value)\n",
    "    from tbl as t2\n",
    "    where t1.group_id = t2.group_id and\n",
    "    t2.value < (\n",
    "        select max(t3.value)\n",
    "        from tbl as t3\n",
    "        where t1.group_id = t3.group_id\n",
    "    )\n",
    ")"
   ]
  },
  {
   "cell_type": "code",
   "execution_count": 65,
   "id": "53e0190e-12f0-4dfb-8455-197edba10fe0",
   "metadata": {},
   "outputs": [
    {
     "name": "stdout",
     "output_type": "stream",
     "text": [
      "*  postgresql://padawan:***@db:5432/dsdojo_db\n",
      "2 rows affected.\n"
     ]
    },
    {
     "data": {
      "text/html": [
       "<table>\n",
       "    <thead>\n",
       "        <tr>\n",
       "            <th>id</th>\n",
       "            <th>group_id</th>\n",
       "            <th>value</th>\n",
       "            <th>second</th>\n",
       "        </tr>\n",
       "    </thead>\n",
       "    <tbody>\n",
       "        <tr>\n",
       "            <td>2</td>\n",
       "            <td>1</td>\n",
       "            <td>6</td>\n",
       "            <td>6</td>\n",
       "        </tr>\n",
       "        <tr>\n",
       "            <td>5</td>\n",
       "            <td>2</td>\n",
       "            <td>5</td>\n",
       "            <td>5</td>\n",
       "        </tr>\n",
       "    </tbody>\n",
       "</table>"
      ],
      "text/plain": [
       "[(2, 1, 6, 6), (5, 2, 5, 5)]"
      ]
     },
     "execution_count": 65,
     "metadata": {},
     "output_type": "execute_result"
    }
   ],
   "source": [
    "%%sql\n",
    "-- window関数\n",
    "select *\n",
    "from (\n",
    "    select *,\n",
    "        nth_value(value,2) over (\n",
    "            partition by group_id\n",
    "            order by value desc\n",
    "        ) as second\n",
    "    from tbl\n",
    ") as tmp\n",
    "where value = second"
   ]
  },
  {
   "cell_type": "code",
   "execution_count": 52,
   "id": "90da7480-85b5-4787-8b9e-253aba720a17",
   "metadata": {},
   "outputs": [
    {
     "name": "stdout",
     "output_type": "stream",
     "text": [
      "*  postgresql://padawan:***@db:5432/dsdojo_db\n",
      "3 rows affected.\n"
     ]
    },
    {
     "data": {
      "text/html": [
       "<table>\n",
       "    <thead>\n",
       "        <tr>\n",
       "            <th>min</th>\n",
       "            <th>group_id</th>\n",
       "            <th>val</th>\n",
       "        </tr>\n",
       "    </thead>\n",
       "    <tbody>\n",
       "        <tr>\n",
       "            <td>2</td>\n",
       "            <td>1</td>\n",
       "            <td>6</td>\n",
       "        </tr>\n",
       "        <tr>\n",
       "            <td>5</td>\n",
       "            <td>2</td>\n",
       "            <td>5</td>\n",
       "        </tr>\n",
       "        <tr>\n",
       "            <td>7</td>\n",
       "            <td>3</td>\n",
       "            <td>None</td>\n",
       "        </tr>\n",
       "    </tbody>\n",
       "</table>"
      ],
      "text/plain": [
       "[(2, 1, 6), (5, 2, 5), (7, 3, None)]"
      ]
     },
     "execution_count": 52,
     "metadata": {},
     "output_type": "execute_result"
    }
   ],
   "source": [
    "%%sql\n",
    "-- 要素が1の場合も候補として出したい時\n",
    "select min(id), group_id,\n",
    "    case when count(*) >= 2 then min(value) else NULL end as val\n",
    "from (\n",
    "    select t1.id,\n",
    "        min(t1.group_id) as group_id,\n",
    "        min(t1.value) as value,\n",
    "        min(t2.value) as nxt\n",
    "    from tbl as t1\n",
    "    left join tbl t2\n",
    "    on t1.group_id = t2.group_id\n",
    "    and t1.value < t2.value\n",
    "    group by t1.id\n",
    "    having count(*) = 1\n",
    ") as tmp\n",
    "group by group_id"
   ]
  },
  {
   "cell_type": "code",
   "execution_count": null,
   "id": "1dd2995e-5fdd-45b1-a72c-8c36af4e98dc",
   "metadata": {},
   "outputs": [],
   "source": []
  }
 ],
 "metadata": {
  "kernelspec": {
   "display_name": "Python 3 (ipykernel)",
   "language": "python",
   "name": "python3"
  },
  "language_info": {
   "codemirror_mode": {
    "name": "ipython",
    "version": 3
   },
   "file_extension": ".py",
   "mimetype": "text/x-python",
   "name": "python",
   "nbconvert_exporter": "python",
   "pygments_lexer": "ipython3",
   "version": "3.11.5"
  }
 },
 "nbformat": 4,
 "nbformat_minor": 5
}
