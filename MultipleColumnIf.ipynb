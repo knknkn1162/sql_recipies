{
 "cells": [
  {
   "cell_type": "code",
   "execution_count": 2,
   "id": "1a273ffd-3144-4e66-ba96-8ba75d10114c",
   "metadata": {},
   "outputs": [],
   "source": [
    "%load_ext sql\n",
    "import os\n",
    "from sqlalchemy import create_engine\n",
    "\n",
    "pgconfig = {\n",
    "    'host': 'db',\n",
    "    'port': os.environ['PG_PORT'],\n",
    "    'database': os.environ['PG_DATABASE'],\n",
    "    'user': os.environ['PG_USER'],\n",
    "    'password': os.environ['PG_PASSWORD'],\n",
    "}\n",
    "dsl = 'postgresql://{user}:{password}@{host}:{port}/{database}'.format(**pgconfig)\n",
    "conn = create_engine(dsl)\n",
    "\n",
    "# MagicコマンドでSQLを書くための設定\n",
    "%sql conn"
   ]
  },
  {
   "cell_type": "code",
   "execution_count": 33,
   "id": "761356f2-7786-4ad9-b982-b4894f9ec6f0",
   "metadata": {},
   "outputs": [
    {
     "name": "stdout",
     "output_type": "stream",
     "text": [
      "*  postgresql://padawan:***@db:5432/dsdojo_db\n",
      "Done.\n",
      "Done.\n"
     ]
    },
    {
     "data": {
      "text/plain": [
       "[]"
      ]
     },
     "execution_count": 33,
     "metadata": {},
     "output_type": "execute_result"
    }
   ],
   "source": [
    "%%sql\n",
    "drop table if exists ArrayTbl;\n",
    "CREATE TABLE ArrayTbl\n",
    " (keycol CHAR(1) PRIMARY KEY,\n",
    "  col1  INTEGER,\n",
    "  col2  INTEGER,\n",
    "  col3  INTEGER,\n",
    "  col4  INTEGER,\n",
    "  col5  INTEGER,\n",
    "  col6  INTEGER,\n",
    "  col7  INTEGER,\n",
    "  col8  INTEGER,\n",
    "  col9  INTEGER,\n",
    "  col10 INTEGER);"
   ]
  },
  {
   "cell_type": "code",
   "execution_count": 34,
   "id": "c9c6f46c-da79-4282-8578-268b2501f941",
   "metadata": {},
   "outputs": [
    {
     "name": "stdout",
     "output_type": "stream",
     "text": [
      "*  postgresql://padawan:***@db:5432/dsdojo_db\n",
      "0 rows affected.\n",
      "1 rows affected.\n",
      "1 rows affected.\n",
      "1 rows affected.\n",
      "1 rows affected.\n",
      "1 rows affected.\n"
     ]
    },
    {
     "data": {
      "text/plain": [
       "[]"
      ]
     },
     "execution_count": 34,
     "metadata": {},
     "output_type": "execute_result"
    }
   ],
   "source": [
    "%%sql\n",
    "delete from ArrayTbl;\n",
    "INSERT INTO ArrayTbl VALUES('A', NULL, NULL, NULL, NULL, NULL, NULL, NULL, NULL, NULL, NULL);\n",
    "INSERT INTO ArrayTbl VALUES('B', 3, NULL, NULL, NULL, NULL, NULL, NULL, NULL, NULL, NULL);\n",
    "\n",
    "INSERT INTO ArrayTbl VALUES('D', NULL, NULL, 9, NULL, NULL, NULL, NULL, NULL, NULL, NULL);\n",
    "INSERT INTO ArrayTbl VALUES('E', NULL, NULL, 9, NULL, NULL, 9, NULL, NULL, NULL, NULL);\n",
    "INSERT INTO ArrayTbl VALUES('F', NULL, 3, NULL, 1, 9, NULL, NULL, 9, NULL, NULL);"
   ]
  },
  {
   "cell_type": "code",
   "execution_count": null,
   "id": "7ed0b39e-41e0-491c-9255-b2030add1d7a",
   "metadata": {},
   "outputs": [],
   "source": [
    "## やりたいこと\n",
    "+ すべてnullであるものを見つける\n",
    "+ 少なくとも一つがnot nullであるものを見つける\n",
    "+ nつだけnot nullであるものを見つける"
   ]
  },
  {
   "cell_type": "code",
   "execution_count": 29,
   "id": "273ecd8e-6ced-4059-aeaa-ab490b9aca99",
   "metadata": {},
   "outputs": [
    {
     "name": "stdout",
     "output_type": "stream",
     "text": [
      "*  postgresql://padawan:***@db:5432/dsdojo_db\n",
      "1 rows affected.\n"
     ]
    },
    {
     "data": {
      "text/html": [
       "<table>\n",
       "    <thead>\n",
       "        <tr>\n",
       "            <th>keycol</th>\n",
       "            <th>col1</th>\n",
       "            <th>col2</th>\n",
       "            <th>col3</th>\n",
       "            <th>col4</th>\n",
       "            <th>col5</th>\n",
       "            <th>col6</th>\n",
       "            <th>col7</th>\n",
       "            <th>col8</th>\n",
       "            <th>col9</th>\n",
       "            <th>col10</th>\n",
       "        </tr>\n",
       "    </thead>\n",
       "    <tbody>\n",
       "        <tr>\n",
       "            <td>A</td>\n",
       "            <td>None</td>\n",
       "            <td>None</td>\n",
       "            <td>None</td>\n",
       "            <td>None</td>\n",
       "            <td>None</td>\n",
       "            <td>None</td>\n",
       "            <td>None</td>\n",
       "            <td>None</td>\n",
       "            <td>None</td>\n",
       "            <td>None</td>\n",
       "        </tr>\n",
       "    </tbody>\n",
       "</table>"
      ],
      "text/plain": [
       "[('A', None, None, None, None, None, None, None, None, None, None)]"
      ]
     },
     "execution_count": 29,
     "metadata": {},
     "output_type": "execute_result"
    }
   ],
   "source": [
    "%%sql\n",
    "-- すべてnullであるものを見つける\n",
    "select *\n",
    "from ArrayTbl\n",
    "where coalesce(col1,col2,col3,col4,col5,col6,col7,col8,col9,col10) is null"
   ]
  },
  {
   "cell_type": "code",
   "execution_count": 30,
   "id": "09b72a0d-0be2-4e61-9757-6cab40691e02",
   "metadata": {},
   "outputs": [
    {
     "name": "stdout",
     "output_type": "stream",
     "text": [
      "*  postgresql://padawan:***@db:5432/dsdojo_db\n",
      "4 rows affected.\n"
     ]
    },
    {
     "data": {
      "text/html": [
       "<table>\n",
       "    <thead>\n",
       "        <tr>\n",
       "            <th>keycol</th>\n",
       "            <th>col1</th>\n",
       "            <th>col2</th>\n",
       "            <th>col3</th>\n",
       "            <th>col4</th>\n",
       "            <th>col5</th>\n",
       "            <th>col6</th>\n",
       "            <th>col7</th>\n",
       "            <th>col8</th>\n",
       "            <th>col9</th>\n",
       "            <th>col10</th>\n",
       "        </tr>\n",
       "    </thead>\n",
       "    <tbody>\n",
       "        <tr>\n",
       "            <td>B</td>\n",
       "            <td>3</td>\n",
       "            <td>None</td>\n",
       "            <td>None</td>\n",
       "            <td>None</td>\n",
       "            <td>None</td>\n",
       "            <td>None</td>\n",
       "            <td>None</td>\n",
       "            <td>None</td>\n",
       "            <td>None</td>\n",
       "            <td>None</td>\n",
       "        </tr>\n",
       "        <tr>\n",
       "            <td>D</td>\n",
       "            <td>None</td>\n",
       "            <td>None</td>\n",
       "            <td>9</td>\n",
       "            <td>None</td>\n",
       "            <td>None</td>\n",
       "            <td>None</td>\n",
       "            <td>None</td>\n",
       "            <td>None</td>\n",
       "            <td>None</td>\n",
       "            <td>None</td>\n",
       "        </tr>\n",
       "        <tr>\n",
       "            <td>E</td>\n",
       "            <td>None</td>\n",
       "            <td>None</td>\n",
       "            <td>9</td>\n",
       "            <td>None</td>\n",
       "            <td>None</td>\n",
       "            <td>9</td>\n",
       "            <td>None</td>\n",
       "            <td>None</td>\n",
       "            <td>None</td>\n",
       "            <td>None</td>\n",
       "        </tr>\n",
       "        <tr>\n",
       "            <td>F</td>\n",
       "            <td>None</td>\n",
       "            <td>3</td>\n",
       "            <td>None</td>\n",
       "            <td>1</td>\n",
       "            <td>9</td>\n",
       "            <td>None</td>\n",
       "            <td>None</td>\n",
       "            <td>9</td>\n",
       "            <td>None</td>\n",
       "            <td>None</td>\n",
       "        </tr>\n",
       "    </tbody>\n",
       "</table>"
      ],
      "text/plain": [
       "[('B', 3, None, None, None, None, None, None, None, None, None),\n",
       " ('D', None, None, 9, None, None, None, None, None, None, None),\n",
       " ('E', None, None, 9, None, None, 9, None, None, None, None),\n",
       " ('F', None, 3, None, 1, 9, None, None, 9, None, None)]"
      ]
     },
     "execution_count": 30,
     "metadata": {},
     "output_type": "execute_result"
    }
   ],
   "source": [
    "%%sql\n",
    "-- すくなくとも1つがnot null\n",
    "select *\n",
    "from ArrayTbl\n",
    "where coalesce(col1,col2,col3,col4,col5,col6,col7,col8,col9,col10) is not null"
   ]
  },
  {
   "cell_type": "code",
   "execution_count": 36,
   "id": "e4926ea0-3034-4706-8ea2-cb06b3b511c9",
   "metadata": {},
   "outputs": [
    {
     "name": "stdout",
     "output_type": "stream",
     "text": [
      "*  postgresql://padawan:***@db:5432/dsdojo_db\n",
      "2 rows affected.\n"
     ]
    },
    {
     "data": {
      "text/html": [
       "<table>\n",
       "    <thead>\n",
       "        <tr>\n",
       "            <th>keycol</th>\n",
       "        </tr>\n",
       "    </thead>\n",
       "    <tbody>\n",
       "        <tr>\n",
       "            <td>B</td>\n",
       "        </tr>\n",
       "        <tr>\n",
       "            <td>D</td>\n",
       "        </tr>\n",
       "    </tbody>\n",
       "</table>"
      ],
      "text/plain": [
       "[('B',), ('D',)]"
      ]
     },
     "execution_count": 36,
     "metadata": {},
     "output_type": "execute_result"
    }
   ],
   "source": [
    "%%sql\n",
    "-- 1つだけnot nullであるものを見つける\n",
    "select keycol\n",
    "from (\n",
    "    select keycol, col1, 'col1'\n",
    "    from ArrayTbl\n",
    "    union all\n",
    "    select keycol, col2, 'col2'\n",
    "    from ArrayTbl\n",
    "    union all\n",
    "    select keycol, col3, 'col3'\n",
    "    from ArrayTbl\n",
    "    union all\n",
    "    select keycol, col4, 'col4'\n",
    "    from ArrayTbl\n",
    "    union all\n",
    "    select keycol, col5, 'col5'\n",
    "    from ArrayTbl\n",
    "    union all\n",
    "    select keycol, col6, 'col6'\n",
    "    from ArrayTbl\n",
    "    union all\n",
    "    select keycol, col7, 'col7'\n",
    "    from ArrayTbl\n",
    "    union all\n",
    "    select keycol, col8, 'col8'\n",
    "    from ArrayTbl\n",
    "    union all\n",
    "    select keycol, col9, 'col9'\n",
    "    from ArrayTbl\n",
    "    union all\n",
    "    select keycol, col10, 'col10'\n",
    "    from ArrayTbl\n",
    ") as tbl(keycol, col, label)\n",
    "group by keycol\n",
    "having count(case when col is not null then 1 else null end) = 1"
   ]
  },
  {
   "cell_type": "code",
   "execution_count": 31,
   "id": "f1f8b6c1-5ebd-4a33-b24c-bcda9537e0d7",
   "metadata": {},
   "outputs": [
    {
     "name": "stdout",
     "output_type": "stream",
     "text": [
      "*  postgresql://padawan:***@db:5432/dsdojo_db\n",
      "5 rows affected.\n",
      "1 rows affected.\n",
      "1 rows affected.\n",
      "1 rows affected.\n",
      "1 rows affected.\n",
      "1 rows affected.\n",
      "1 rows affected.\n"
     ]
    },
    {
     "data": {
      "text/html": [
       "<table>\n",
       "    <thead>\n",
       "        <tr>\n",
       "            <th>keycol</th>\n",
       "        </tr>\n",
       "    </thead>\n",
       "    <tbody>\n",
       "        <tr>\n",
       "            <td>A</td>\n",
       "        </tr>\n",
       "    </tbody>\n",
       "</table>"
      ],
      "text/plain": [
       "[('A',)]"
      ]
     },
     "execution_count": 31,
     "metadata": {},
     "output_type": "execute_result"
    }
   ],
   "source": [
    "%%sql\n",
    "delete from ArrayTbl;\n",
    "INSERT INTO ArrayTbl VALUES('A', 0, 0, 0, 0, 0, 0, 0, 0, 0, 0);\n",
    "INSERT INTO ArrayTbl VALUES('B', 3, 0, 0, 0, 0, 0, 0, 0, 0, 0);\n",
    "\n",
    "INSERT INTO ArrayTbl VALUES('D', 0, 0, 9, 0, 0, 0, 0, 0, 0, 0);\n",
    "INSERT INTO ArrayTbl VALUES('E', 0, 0, 9, 0, 0, 9, 0, 0, 0, 0);\n",
    "INSERT INTO ArrayTbl VALUES('F', 0, 3, 0, 1, 9, 0, 0, 9, 0, 0);\n",
    "-- すべて0であるものを見つける\n",
    "select keycol\n",
    "from ArrayTbl\n",
    "where 0 = all(array[col1,col2,col3,col4,col5,col6,col7,col8,col9,col10]);"
   ]
  },
  {
   "cell_type": "code",
   "execution_count": 22,
   "id": "10bfd8a2-6b96-42be-b323-3852719788f8",
   "metadata": {},
   "outputs": [
    {
     "name": "stdout",
     "output_type": "stream",
     "text": [
      "*  postgresql://padawan:***@db:5432/dsdojo_db\n",
      "4 rows affected.\n"
     ]
    },
    {
     "data": {
      "text/html": [
       "<table>\n",
       "    <thead>\n",
       "        <tr>\n",
       "            <th>keycol</th>\n",
       "        </tr>\n",
       "    </thead>\n",
       "    <tbody>\n",
       "        <tr>\n",
       "            <td>B</td>\n",
       "        </tr>\n",
       "        <tr>\n",
       "            <td>D</td>\n",
       "        </tr>\n",
       "        <tr>\n",
       "            <td>E</td>\n",
       "        </tr>\n",
       "        <tr>\n",
       "            <td>F</td>\n",
       "        </tr>\n",
       "    </tbody>\n",
       "</table>"
      ],
      "text/plain": [
       "[('B',), ('D',), ('E',), ('F',)]"
      ]
     },
     "execution_count": 22,
     "metadata": {},
     "output_type": "execute_result"
    }
   ],
   "source": [
    "%%sql\n",
    "-- すくなくとも1つがnot null\n",
    "select keycol\n",
    "from ArrayTbl\n",
    "where 0 <> any(array[col1,col2,col3,col4,col5,col6,col7,col8,col9,col10]);"
   ]
  },
  {
   "cell_type": "code",
   "execution_count": 19,
   "id": "9973f5e2-dc5d-478e-89bb-e4bc8905904c",
   "metadata": {},
   "outputs": [
    {
     "name": "stdout",
     "output_type": "stream",
     "text": [
      "*  postgresql://padawan:***@db:5432/dsdojo_db\n",
      "2 rows affected.\n"
     ]
    },
    {
     "data": {
      "text/html": [
       "<table>\n",
       "    <thead>\n",
       "        <tr>\n",
       "            <th>keycol</th>\n",
       "        </tr>\n",
       "    </thead>\n",
       "    <tbody>\n",
       "        <tr>\n",
       "            <td>B</td>\n",
       "        </tr>\n",
       "        <tr>\n",
       "            <td>D</td>\n",
       "        </tr>\n",
       "    </tbody>\n",
       "</table>"
      ],
      "text/plain": [
       "[('B',), ('D',)]"
      ]
     },
     "execution_count": 19,
     "metadata": {},
     "output_type": "execute_result"
    }
   ],
   "source": [
    "%%sql\n",
    "-- 1つのみが0\n",
    "select keycol\n",
    "from ArrayTbl\n",
    "where sign(abs(col1))+\n",
    "    sign(abs(col2))+\n",
    "    sign(abs(col3))+\n",
    "    sign(abs(col4))+\n",
    "    sign(abs(col5))+\n",
    "    sign(abs(col6))+\n",
    "    sign(abs(col7))+\n",
    "    sign(abs(col8))+\n",
    "    sign(abs(col9))+\n",
    "    sign(abs(col10)) = 1"
   ]
  },
  {
   "cell_type": "code",
   "execution_count": null,
   "id": "16c1ca7a-13a0-4ea8-8b64-97558b0dc698",
   "metadata": {},
   "outputs": [],
   "source": []
  }
 ],
 "metadata": {
  "kernelspec": {
   "display_name": "Python 3 (ipykernel)",
   "language": "python",
   "name": "python3"
  },
  "language_info": {
   "codemirror_mode": {
    "name": "ipython",
    "version": 3
   },
   "file_extension": ".py",
   "mimetype": "text/x-python",
   "name": "python",
   "nbconvert_exporter": "python",
   "pygments_lexer": "ipython3",
   "version": "3.11.5"
  }
 },
 "nbformat": 4,
 "nbformat_minor": 5
}
