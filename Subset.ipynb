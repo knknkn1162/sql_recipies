{
 "cells": [
  {
   "cell_type": "code",
   "execution_count": 1,
   "id": "1f39ec3a-4d9c-40f8-bd46-e9eca9ffce9e",
   "metadata": {},
   "outputs": [],
   "source": [
    "%load_ext sql\n",
    "import os\n",
    "from sqlalchemy import create_engine\n",
    "\n",
    "pgconfig = {\n",
    "    'host': 'db',\n",
    "    'port': os.environ['PG_PORT'],\n",
    "    'database': os.environ['PG_DATABASE'],\n",
    "    'user': os.environ['PG_USER'],\n",
    "    'password': os.environ['PG_PASSWORD'],\n",
    "}\n",
    "dsl = 'postgresql://{user}:{password}@{host}:{port}/{database}'.format(**pgconfig)\n",
    "conn = create_engine(dsl)\n",
    "\n",
    "# MagicコマンドでSQLを書くための設定\n",
    "%sql conn"
   ]
  },
  {
   "cell_type": "code",
   "execution_count": 2,
   "id": "e702fc8e-f004-45a1-89f9-209e71087484",
   "metadata": {},
   "outputs": [
    {
     "name": "stdout",
     "output_type": "stream",
     "text": [
      "*  postgresql://padawan:***@db:5432/dsdojo_db\n",
      "Done.\n",
      "Done.\n",
      "Done.\n",
      "1 rows affected.\n",
      "1 rows affected.\n",
      "1 rows affected.\n",
      "1 rows affected.\n",
      "1 rows affected.\n",
      "1 rows affected.\n",
      "1 rows affected.\n",
      "1 rows affected.\n",
      "1 rows affected.\n",
      "1 rows affected.\n",
      "1 rows affected.\n",
      "1 rows affected.\n",
      "1 rows affected.\n"
     ]
    },
    {
     "data": {
      "text/plain": [
       "[]"
      ]
     },
     "execution_count": 2,
     "metadata": {},
     "output_type": "execute_result"
    }
   ],
   "source": [
    "%%sql\n",
    "drop table if exists Items,ShopItems;\n",
    "CREATE TABLE Items\n",
    "(item VARCHAR(16) PRIMARY KEY);\n",
    " \n",
    "CREATE TABLE ShopItems\n",
    "(shop VARCHAR(16),\n",
    " item VARCHAR(16),\n",
    "    PRIMARY KEY(shop, item));\n",
    "\n",
    "INSERT INTO Items VALUES('ビール');\n",
    "INSERT INTO Items VALUES('紙オムツ');\n",
    "INSERT INTO Items VALUES('自転車');\n",
    "\n",
    "INSERT INTO ShopItems VALUES('仙台',  'ビール');\n",
    "INSERT INTO ShopItems VALUES('仙台',  '紙オムツ');\n",
    "INSERT INTO ShopItems VALUES('仙台',  '自転車');\n",
    "INSERT INTO ShopItems VALUES('仙台',  'カーテン');\n",
    "INSERT INTO ShopItems VALUES('東京',  'ビール');\n",
    "INSERT INTO ShopItems VALUES('東京',  '紙オムツ');\n",
    "INSERT INTO ShopItems VALUES('東京',  '自転車');\n",
    "INSERT INTO ShopItems VALUES('大阪',  'テレビ');\n",
    "INSERT INTO ShopItems VALUES('大阪',  '紙オムツ');\n",
    "INSERT INTO ShopItems VALUES('大阪',  '自転車');"
   ]
  },
  {
   "cell_type": "markdown",
   "id": "a08361f5-7a08-4613-b9fa-8327ed30016c",
   "metadata": {},
   "source": [
    "## やりたいこと\n",
    "+ 各グループ(各店舗グループ)において、Itemsを全て持っている店舗を探す(集合 vs 集合)\n",
    "  + (要求するitem) \\subset (店舗にあるitem)であればよい\n",
    "  + (要求するitem) \\equal (店舗にあるitem)の場合はSetEqual.ipynbを参照"
   ]
  },
  {
   "cell_type": "code",
   "execution_count": 51,
   "id": "1601237c-ac63-4491-82fc-57851c8cb17f",
   "metadata": {},
   "outputs": [
    {
     "name": "stdout",
     "output_type": "stream",
     "text": [
      "*  postgresql://padawan:***@db:5432/dsdojo_db\n",
      "2 rows affected.\n"
     ]
    },
    {
     "data": {
      "text/html": [
       "<table>\n",
       "    <thead>\n",
       "        <tr>\n",
       "            <th>shop</th>\n",
       "        </tr>\n",
       "    </thead>\n",
       "    <tbody>\n",
       "        <tr>\n",
       "            <td>東京</td>\n",
       "        </tr>\n",
       "        <tr>\n",
       "            <td>仙台</td>\n",
       "        </tr>\n",
       "    </tbody>\n",
       "</table>"
      ],
      "text/plain": [
       "[('東京',), ('仙台',)]"
      ]
     },
     "execution_count": 51,
     "metadata": {},
     "output_type": "execute_result"
    }
   ],
   "source": [
    "%%sql\n",
    "-- havingを利用\n",
    "select sh.shop\n",
    "from ShopItems as sh\n",
    "join Items it\n",
    "on sh.item = it.item\n",
    "group by sh.shop\n",
    "having count(sh.item) = (\n",
    "    select count(item)\n",
    "    from Items\n",
    ")"
   ]
  },
  {
   "cell_type": "code",
   "execution_count": 4,
   "id": "3f25cd08-82db-452c-9692-176b0505f9b5",
   "metadata": {},
   "outputs": [
    {
     "name": "stdout",
     "output_type": "stream",
     "text": [
      "*  postgresql://padawan:***@db:5432/dsdojo_db\n",
      "2 rows affected.\n"
     ]
    },
    {
     "data": {
      "text/html": [
       "<table>\n",
       "    <thead>\n",
       "        <tr>\n",
       "            <th>shop</th>\n",
       "        </tr>\n",
       "    </thead>\n",
       "    <tbody>\n",
       "        <tr>\n",
       "            <td>仙台</td>\n",
       "        </tr>\n",
       "        <tr>\n",
       "            <td>東京</td>\n",
       "        </tr>\n",
       "    </tbody>\n",
       "</table>"
      ],
      "text/plain": [
       "[('仙台',), ('東京',)]"
      ]
     },
     "execution_count": 4,
     "metadata": {},
     "output_type": "execute_result"
    }
   ],
   "source": [
    "%%sql\n",
    "-- 相関サブクエリのnot exists入れ子\n",
    "select distinct shop\n",
    "from ShopItems as si1\n",
    "where not exists (\n",
    "    select *\n",
    "    from items as it\n",
    "    where not exists (\n",
    "        select *\n",
    "        from ShopItems as si2\n",
    "        where it.item = si2.item and\n",
    "        si1.shop = si2.shop\n",
    "    )\n",
    ")"
   ]
  },
  {
   "cell_type": "code",
   "execution_count": 22,
   "id": "8ac64968-bb13-4f1f-b06e-7c7eb9191da3",
   "metadata": {},
   "outputs": [
    {
     "name": "stdout",
     "output_type": "stream",
     "text": [
      "*  postgresql://padawan:***@db:5432/dsdojo_db\n",
      "2 rows affected.\n"
     ]
    },
    {
     "data": {
      "text/html": [
       "<table>\n",
       "    <thead>\n",
       "        <tr>\n",
       "            <th>shop</th>\n",
       "        </tr>\n",
       "    </thead>\n",
       "    <tbody>\n",
       "        <tr>\n",
       "            <td>東京</td>\n",
       "        </tr>\n",
       "        <tr>\n",
       "            <td>仙台</td>\n",
       "        </tr>\n",
       "    </tbody>\n",
       "</table>"
      ],
      "text/plain": [
       "[('東京',), ('仙台',)]"
      ]
     },
     "execution_count": 22,
     "metadata": {},
     "output_type": "execute_result"
    }
   ],
   "source": [
    "%%sql\n",
    "-- 相関サブクエリ(中身はleft join)\n",
    "select distinct shop\n",
    "from ShopItems si1\n",
    "where not exists (\n",
    "    select *\n",
    "    from items as it\n",
    "    left join ShopItems si2\n",
    "    on it.item = si2.item and\n",
    "    si1.shop = si2.shop\n",
    "    where si2.item is null\n",
    ")"
   ]
  },
  {
   "cell_type": "code",
   "execution_count": 37,
   "id": "1368de62-f3d4-4402-b112-a7c038d17878",
   "metadata": {},
   "outputs": [
    {
     "name": "stdout",
     "output_type": "stream",
     "text": [
      "*  postgresql://padawan:***@db:5432/dsdojo_db\n",
      "3 rows affected.\n"
     ]
    },
    {
     "data": {
      "text/html": [
       "<table>\n",
       "    <thead>\n",
       "        <tr>\n",
       "            <th>item</th>\n",
       "            <th>shop</th>\n",
       "            <th>item_1</th>\n",
       "        </tr>\n",
       "    </thead>\n",
       "    <tbody>\n",
       "        <tr>\n",
       "            <td>ビール</td>\n",
       "            <td>None</td>\n",
       "            <td>None</td>\n",
       "        </tr>\n",
       "        <tr>\n",
       "            <td>紙オムツ</td>\n",
       "            <td>大阪</td>\n",
       "            <td>紙オムツ</td>\n",
       "        </tr>\n",
       "        <tr>\n",
       "            <td>自転車</td>\n",
       "            <td>大阪</td>\n",
       "            <td>自転車</td>\n",
       "        </tr>\n",
       "    </tbody>\n",
       "</table>"
      ],
      "text/plain": [
       "[('ビール', None, None), ('紙オムツ', '大阪', '紙オムツ'), ('自転車', '大阪', '自転車')]"
      ]
     },
     "execution_count": 37,
     "metadata": {},
     "output_type": "execute_result"
    }
   ],
   "source": [
    "%%sql\n",
    "-- 上の解説\n",
    "select *\n",
    "    from items as it\n",
    "    left join ShopItems si2\n",
    "    on si2.shop = '大阪' and\n",
    "    -- この条件がなくてもleft joinなので、(it.item, None)のレコードができる\n",
    "    it.item = si2.item"
   ]
  },
  {
   "cell_type": "code",
   "execution_count": 35,
   "id": "061ff014-392f-4407-8666-8f6f2f8177db",
   "metadata": {},
   "outputs": [
    {
     "name": "stdout",
     "output_type": "stream",
     "text": [
      "*  postgresql://padawan:***@db:5432/dsdojo_db\n",
      "2 rows affected.\n"
     ]
    },
    {
     "data": {
      "text/html": [
       "<table>\n",
       "    <thead>\n",
       "        <tr>\n",
       "            <th>shop</th>\n",
       "        </tr>\n",
       "    </thead>\n",
       "    <tbody>\n",
       "        <tr>\n",
       "            <td>東京</td>\n",
       "        </tr>\n",
       "        <tr>\n",
       "            <td>仙台</td>\n",
       "        </tr>\n",
       "    </tbody>\n",
       "</table>"
      ],
      "text/plain": [
       "[('東京',), ('仙台',)]"
      ]
     },
     "execution_count": 35,
     "metadata": {},
     "output_type": "execute_result"
    }
   ],
   "source": [
    "%%sql\n",
    "select distinct shop\n",
    "from ShopItems si1\n",
    "-- (要求されるitem) \\subset (shopのitem) であればよい\n",
    "where not exists (\n",
    "    -- 要求されるitem\n",
    "    select item\n",
    "    from items as it\n",
    "    except\n",
    "    -- shopのitem\n",
    "    select item\n",
    "    from ShopItems as si2\n",
    "    where si1.shop = si2.shop\n",
    ")"
   ]
  },
  {
   "cell_type": "code",
   "execution_count": null,
   "id": "47d4e540-2887-4ae1-b928-8d4d56a7f756",
   "metadata": {},
   "outputs": [],
   "source": []
  }
 ],
 "metadata": {
  "kernelspec": {
   "display_name": "Python 3 (ipykernel)",
   "language": "python",
   "name": "python3"
  },
  "language_info": {
   "codemirror_mode": {
    "name": "ipython",
    "version": 3
   },
   "file_extension": ".py",
   "mimetype": "text/x-python",
   "name": "python",
   "nbconvert_exporter": "python",
   "pygments_lexer": "ipython3",
   "version": "3.11.5"
  }
 },
 "nbformat": 4,
 "nbformat_minor": 5
}
