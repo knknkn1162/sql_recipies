{
 "cells": [
  {
   "cell_type": "code",
   "execution_count": 2,
   "id": "4dc91060-7b2b-4b36-b53c-16ad23ecedda",
   "metadata": {},
   "outputs": [],
   "source": [
    "%load_ext sql\n",
    "import os\n",
    "from sqlalchemy import create_engine\n",
    "\n",
    "pgconfig = {\n",
    "    'host': 'db',\n",
    "    'port': os.environ['PG_PORT'],\n",
    "    'database': os.environ['PG_DATABASE'],\n",
    "    'user': os.environ['PG_USER'],\n",
    "    'password': os.environ['PG_PASSWORD'],\n",
    "}\n",
    "dsl = 'postgresql://{user}:{password}@{host}:{port}/{database}'.format(**pgconfig)\n",
    "conn = create_engine(dsl)\n",
    "\n",
    "# MagicコマンドでSQLを書くための設定\n",
    "%sql conn"
   ]
  },
  {
   "cell_type": "code",
   "execution_count": 3,
   "id": "62ae604c-b48f-4fad-943a-6a4091feda49",
   "metadata": {},
   "outputs": [
    {
     "name": "stdout",
     "output_type": "stream",
     "text": [
      "*  postgresql://padawan:***@db:5432/dsdojo_db\n",
      "Done.\n",
      "Done.\n",
      "1 rows affected.\n",
      "1 rows affected.\n",
      "1 rows affected.\n",
      "1 rows affected.\n",
      "1 rows affected.\n",
      "1 rows affected.\n",
      "1 rows affected.\n",
      "1 rows affected.\n",
      "1 rows affected.\n",
      "1 rows affected.\n",
      "1 rows affected.\n",
      "1 rows affected.\n",
      "1 rows affected.\n",
      "1 rows affected.\n",
      "1 rows affected.\n",
      "1 rows affected.\n",
      "1 rows affected.\n",
      "1 rows affected.\n",
      "1 rows affected.\n",
      "1 rows affected.\n",
      "1 rows affected.\n",
      "1 rows affected.\n",
      "1 rows affected.\n",
      "1 rows affected.\n",
      "1 rows affected.\n",
      "1 rows affected.\n",
      "1 rows affected.\n",
      "1 rows affected.\n",
      "1 rows affected.\n",
      "1 rows affected.\n"
     ]
    },
    {
     "data": {
      "text/plain": [
       "[]"
      ]
     },
     "execution_count": 3,
     "metadata": {},
     "output_type": "execute_result"
    }
   ],
   "source": [
    "%%sql\n",
    "drop table if exists ArrayTbl2;\n",
    "CREATE TABLE ArrayTbl2\n",
    " (key   CHAR(1) NOT NULL,\n",
    "    i   INTEGER NOT NULL,\n",
    "  val   INTEGER,\n",
    "  PRIMARY KEY (key, i));\n",
    "\n",
    "/* AはオールNULL、Bは一つだけ非NULL、Cはオール非NULL */\n",
    "INSERT INTO ArrayTbl2 VALUES('A', 1, NULL);\n",
    "INSERT INTO ArrayTbl2 VALUES('A', 2, NULL);\n",
    "INSERT INTO ArrayTbl2 VALUES('A', 3, NULL);\n",
    "INSERT INTO ArrayTbl2 VALUES('A', 4, NULL);\n",
    "INSERT INTO ArrayTbl2 VALUES('A', 5, NULL);\n",
    "INSERT INTO ArrayTbl2 VALUES('A', 6, NULL);\n",
    "INSERT INTO ArrayTbl2 VALUES('A', 7, NULL);\n",
    "INSERT INTO ArrayTbl2 VALUES('A', 8, NULL);\n",
    "INSERT INTO ArrayTbl2 VALUES('A', 9, NULL);\n",
    "INSERT INTO ArrayTbl2 VALUES('A',10, NULL);\n",
    "INSERT INTO ArrayTbl2 VALUES('B', 1, 3);\n",
    "INSERT INTO ArrayTbl2 VALUES('B', 2, NULL);\n",
    "INSERT INTO ArrayTbl2 VALUES('B', 3, NULL);\n",
    "INSERT INTO ArrayTbl2 VALUES('B', 4, NULL);\n",
    "INSERT INTO ArrayTbl2 VALUES('B', 5, NULL);\n",
    "INSERT INTO ArrayTbl2 VALUES('B', 6, NULL);\n",
    "INSERT INTO ArrayTbl2 VALUES('B', 7, NULL);\n",
    "INSERT INTO ArrayTbl2 VALUES('B', 8, NULL);\n",
    "INSERT INTO ArrayTbl2 VALUES('B', 9, NULL);\n",
    "INSERT INTO ArrayTbl2 VALUES('B',10, NULL);\n",
    "INSERT INTO ArrayTbl2 VALUES('C', 1, 1);\n",
    "INSERT INTO ArrayTbl2 VALUES('C', 2, 1);\n",
    "INSERT INTO ArrayTbl2 VALUES('C', 3, 1);\n",
    "INSERT INTO ArrayTbl2 VALUES('C', 4, 1);\n",
    "INSERT INTO ArrayTbl2 VALUES('C', 5, 1);\n",
    "INSERT INTO ArrayTbl2 VALUES('C', 6, 1);\n",
    "INSERT INTO ArrayTbl2 VALUES('C', 7, 1);\n",
    "INSERT INTO ArrayTbl2 VALUES('C', 8, 1);\n",
    "INSERT INTO ArrayTbl2 VALUES('C', 9, 1);\n",
    "INSERT INTO ArrayTbl2 VALUES('C',10, 1);\n"
   ]
  },
  {
   "cell_type": "markdown",
   "id": "86a2dee6-2d70-4297-9d0b-57914f9dd3dd",
   "metadata": {},
   "source": [
    "## やりたいこと\n",
    "+ テーブルから「オール1」のエンティティだけを選択したい"
   ]
  },
  {
   "cell_type": "code",
   "execution_count": 3,
   "id": "34462e22-14d6-46d4-ac26-74960d6efca1",
   "metadata": {},
   "outputs": [
    {
     "name": "stdout",
     "output_type": "stream",
     "text": [
      "*  postgresql://padawan:***@db:5432/dsdojo_db\n",
      "1 rows affected.\n"
     ]
    },
    {
     "data": {
      "text/html": [
       "<table>\n",
       "    <thead>\n",
       "        <tr>\n",
       "            <th>key</th>\n",
       "        </tr>\n",
       "    </thead>\n",
       "    <tbody>\n",
       "        <tr>\n",
       "            <td>C</td>\n",
       "        </tr>\n",
       "    </tbody>\n",
       "</table>"
      ],
      "text/plain": [
       "[('C',)]"
      ]
     },
     "execution_count": 3,
     "metadata": {},
     "output_type": "execute_result"
    }
   ],
   "source": [
    "%%sql\n",
    "select distinct key\n",
    "from ArrayTbl2 as a1\n",
    "where not exists (\n",
    "    select *\n",
    "    from ArrayTbl2 as a2\n",
    "    where a1.key = a2.key and\n",
    "    -- valがnullもありうることに注意\n",
    "    (a2.val is null or a2.val <> 1)\n",
    ")"
   ]
  },
  {
   "cell_type": "code",
   "execution_count": 4,
   "id": "959fe58c-fa1f-45d7-9083-b1c23e5c1f66",
   "metadata": {},
   "outputs": [
    {
     "name": "stdout",
     "output_type": "stream",
     "text": [
      "*  postgresql://padawan:***@db:5432/dsdojo_db\n",
      "1 rows affected.\n"
     ]
    },
    {
     "data": {
      "text/html": [
       "<table>\n",
       "    <thead>\n",
       "        <tr>\n",
       "            <th>key</th>\n",
       "        </tr>\n",
       "    </thead>\n",
       "    <tbody>\n",
       "        <tr>\n",
       "            <td>C</td>\n",
       "        </tr>\n",
       "    </tbody>\n",
       "</table>"
      ],
      "text/plain": [
       "[('C',)]"
      ]
     },
     "execution_count": 4,
     "metadata": {},
     "output_type": "execute_result"
    }
   ],
   "source": [
    "%%sql\n",
    "select distinct key\n",
    "from ArrayTbl2 as a1\n",
    "where not exists (\n",
    "    select *\n",
    "    from ArrayTbl2 as a2\n",
    "    where a1.key = a2.key and\n",
    "    -- valがnullである対策としてcoalesceをつかうのもよい\n",
    "    coalesce(a2.val, 0) <> 1\n",
    ")"
   ]
  },
  {
   "cell_type": "code",
   "execution_count": 40,
   "id": "8130c117-dc1d-49c0-b421-33ac999732c7",
   "metadata": {},
   "outputs": [
    {
     "name": "stdout",
     "output_type": "stream",
     "text": [
      "*  postgresql://padawan:***@db:5432/dsdojo_db\n",
      "1 rows affected.\n"
     ]
    },
    {
     "data": {
      "text/html": [
       "<table>\n",
       "    <thead>\n",
       "        <tr>\n",
       "            <th>key</th>\n",
       "        </tr>\n",
       "    </thead>\n",
       "    <tbody>\n",
       "        <tr>\n",
       "            <td>C</td>\n",
       "        </tr>\n",
       "    </tbody>\n",
       "</table>"
      ],
      "text/plain": [
       "[('C',)]"
      ]
     },
     "execution_count": 40,
     "metadata": {},
     "output_type": "execute_result"
    }
   ],
   "source": [
    "%%sql\n",
    "-- havingを利用\n",
    "select key\n",
    "from ArrayTbl2\n",
    "group by key\n",
    "having max(val) = 1 and\n",
    "    min(val) = 1"
   ]
  },
  {
   "cell_type": "code",
   "execution_count": 67,
   "id": "a6ea95c6-c982-457c-9106-717ab0d5309f",
   "metadata": {},
   "outputs": [
    {
     "name": "stdout",
     "output_type": "stream",
     "text": [
      "*  postgresql://padawan:***@db:5432/dsdojo_db\n",
      "1 rows affected.\n"
     ]
    },
    {
     "data": {
      "text/html": [
       "<table>\n",
       "    <thead>\n",
       "        <tr>\n",
       "            <th>key</th>\n",
       "        </tr>\n",
       "    </thead>\n",
       "    <tbody>\n",
       "        <tr>\n",
       "            <td>C</td>\n",
       "        </tr>\n",
       "    </tbody>\n",
       "</table>"
      ],
      "text/plain": [
       "[('C',)]"
      ]
     },
     "execution_count": 67,
     "metadata": {},
     "output_type": "execute_result"
    }
   ],
   "source": [
    "%%sql\n",
    "-- select部で集合に対する条件を書く\n",
    "select key\n",
    "from (\n",
    "    select key,\n",
    "        case when max(val) = 1 and min(val) = 1 then 1 else 0 end as flag\n",
    "    from ArrayTbl2\n",
    "    group by key\n",
    ") as tmp\n",
    "where flag = 1"
   ]
  },
  {
   "cell_type": "code",
   "execution_count": 41,
   "id": "8c834c7d-e0ba-45a9-a93f-7826d7565dcd",
   "metadata": {},
   "outputs": [
    {
     "name": "stdout",
     "output_type": "stream",
     "text": [
      "*  postgresql://padawan:***@db:5432/dsdojo_db\n",
      "1 rows affected.\n"
     ]
    },
    {
     "data": {
      "text/html": [
       "<table>\n",
       "    <thead>\n",
       "        <tr>\n",
       "            <th>key</th>\n",
       "        </tr>\n",
       "    </thead>\n",
       "    <tbody>\n",
       "        <tr>\n",
       "            <td>C</td>\n",
       "        </tr>\n",
       "    </tbody>\n",
       "</table>"
      ],
      "text/plain": [
       "[('C',)]"
      ]
     },
     "execution_count": 41,
     "metadata": {},
     "output_type": "execute_result"
    }
   ],
   "source": [
    "%%sql\n",
    "-- havingを利用\n",
    "select key\n",
    "from ArrayTbl2\n",
    "Group by key\n",
    "having sum(case when val = 1 then 1 else 0 end) = 10"
   ]
  },
  {
   "cell_type": "code",
   "execution_count": 42,
   "id": "0fd75b69-36a2-4356-abc1-86c537c46862",
   "metadata": {},
   "outputs": [
    {
     "name": "stdout",
     "output_type": "stream",
     "text": [
      "*  postgresql://padawan:***@db:5432/dsdojo_db\n",
      "1 rows affected.\n"
     ]
    },
    {
     "data": {
      "text/html": [
       "<table>\n",
       "    <thead>\n",
       "        <tr>\n",
       "            <th>key</th>\n",
       "        </tr>\n",
       "    </thead>\n",
       "    <tbody>\n",
       "        <tr>\n",
       "            <td>C</td>\n",
       "        </tr>\n",
       "    </tbody>\n",
       "</table>"
      ],
      "text/plain": [
       "[('C',)]"
      ]
     },
     "execution_count": 42,
     "metadata": {},
     "output_type": "execute_result"
    }
   ],
   "source": [
    "%%sql\n",
    "-- allを利用(allの入力値は1次元のデータ)\n",
    "select distinct key\n",
    "from ArrayTbl2 as a1\n",
    "where 1 = all(\n",
    "    select val\n",
    "    from ArrayTbl2 as a2\n",
    "    where a1.key = a2.key\n",
    ")"
   ]
  },
  {
   "cell_type": "code",
   "execution_count": null,
   "id": "9eb33c0f-0fb8-454a-81a2-a22c316a880e",
   "metadata": {},
   "outputs": [],
   "source": []
  }
 ],
 "metadata": {
  "kernelspec": {
   "display_name": "Python 3 (ipykernel)",
   "language": "python",
   "name": "python3"
  },
  "language_info": {
   "codemirror_mode": {
    "name": "ipython",
    "version": 3
   },
   "file_extension": ".py",
   "mimetype": "text/x-python",
   "name": "python",
   "nbconvert_exporter": "python",
   "pygments_lexer": "ipython3",
   "version": "3.11.5"
  }
 },
 "nbformat": 4,
 "nbformat_minor": 5
}
