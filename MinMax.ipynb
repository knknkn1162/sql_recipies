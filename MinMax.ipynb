{
 "cells": [
  {
   "cell_type": "code",
   "execution_count": 3,
   "id": "4fb2bcd1-caa4-4753-931c-e091e5a975ab",
   "metadata": {},
   "outputs": [
    {
     "name": "stdout",
     "output_type": "stream",
     "text": [
      "\u001b[33mThere's a new jupysql version available (0.10.2), you're running 0.7.2. To upgrade: pip install jupysql --upgrade\u001b[0m\n"
     ]
    }
   ],
   "source": [
    "%load_ext sql\n",
    "import os\n",
    "from sqlalchemy import create_engine\n",
    "\n",
    "pgconfig = {\n",
    "    'host': 'db',\n",
    "    'port': os.environ['PG_PORT'],\n",
    "    'database': os.environ['PG_DATABASE'],\n",
    "    'user': os.environ['PG_USER'],\n",
    "    'password': os.environ['PG_PASSWORD'],\n",
    "}\n",
    "dsl = 'postgresql://{user}:{password}@{host}:{port}/{database}'.format(**pgconfig)\n",
    "conn = create_engine(dsl)\n",
    "\n",
    "# MagicコマンドでSQLを書くための設定\n",
    "%sql conn"
   ]
  },
  {
   "cell_type": "code",
   "execution_count": 4,
   "id": "c61bc904-b8eb-4c26-99b5-0dfc090628a5",
   "metadata": {},
   "outputs": [
    {
     "name": "stdout",
     "output_type": "stream",
     "text": [
      "*  postgresql://padawan:***@db:5432/dsdojo_db\n",
      "Done.\n",
      "Done.\n"
     ]
    },
    {
     "data": {
      "text/plain": [
       "[]"
      ]
     },
     "execution_count": 4,
     "metadata": {},
     "output_type": "execute_result"
    }
   ],
   "source": [
    "%%sql\n",
    "drop table if exists tbl;\n",
    "create table tbl (\n",
    "    id integer primary key,\n",
    "    group_id integer not null,\n",
    "    value integer not null\n",
    ");"
   ]
  },
  {
   "cell_type": "code",
   "execution_count": 5,
   "id": "3bba0605-01ad-4d88-94a0-c202adb6166e",
   "metadata": {},
   "outputs": [
    {
     "name": "stdout",
     "output_type": "stream",
     "text": [
      "*  postgresql://padawan:***@db:5432/dsdojo_db\n",
      "7 rows affected.\n"
     ]
    },
    {
     "data": {
      "text/plain": [
       "[]"
      ]
     },
     "execution_count": 5,
     "metadata": {},
     "output_type": "execute_result"
    }
   ],
   "source": [
    "%%sql\n",
    "insert into tbl \n",
    "values (1,1,40),\n",
    "    (2,1,70),\n",
    "    (3,1,100),\n",
    "    (4,2,30),\n",
    "    (5,2,60),\n",
    "    (6,2,100),\n",
    "    (7,3,80);"
   ]
  },
  {
   "cell_type": "code",
   "execution_count": 6,
   "id": "a602954f-f72d-479c-b157-7b8a75d94bde",
   "metadata": {},
   "outputs": [
    {
     "name": "stdout",
     "output_type": "stream",
     "text": [
      "*  postgresql://padawan:***@db:5432/dsdojo_db\n",
      "2 rows affected.\n"
     ]
    },
    {
     "data": {
      "text/html": [
       "<table>\n",
       "    <thead>\n",
       "        <tr>\n",
       "            <th>id</th>\n",
       "            <th>group_id</th>\n",
       "            <th>value</th>\n",
       "        </tr>\n",
       "    </thead>\n",
       "    <tbody>\n",
       "        <tr>\n",
       "            <td>2</td>\n",
       "            <td>1</td>\n",
       "            <td>70</td>\n",
       "        </tr>\n",
       "        <tr>\n",
       "            <td>5</td>\n",
       "            <td>2</td>\n",
       "            <td>60</td>\n",
       "        </tr>\n",
       "    </tbody>\n",
       "</table>"
      ],
      "text/plain": [
       "[(2, 1, 70), (5, 2, 60)]"
      ]
     },
     "execution_count": 6,
     "metadata": {},
     "output_type": "execute_result"
    }
   ],
   "source": [
    "%%sql\n",
    "-- where句のなかで絞り込み(こっちの書き方を慣れる)\n",
    "select *\n",
    "from tbl as t1\n",
    "where value = (\n",
    "    select max(value)\n",
    "    from tbl as t2\n",
    "    where t1.group_id = t2.group_id and\n",
    "    value <= 70\n",
    ")"
   ]
  },
  {
   "cell_type": "code",
   "execution_count": 7,
   "id": "9e605dc8-a115-45a3-91bd-c58b5398f663",
   "metadata": {},
   "outputs": [
    {
     "name": "stdout",
     "output_type": "stream",
     "text": [
      "*  postgresql://padawan:***@db:5432/dsdojo_db\n",
      "2 rows affected.\n"
     ]
    },
    {
     "data": {
      "text/html": [
       "<table>\n",
       "    <thead>\n",
       "        <tr>\n",
       "            <th>id</th>\n",
       "            <th>group_id</th>\n",
       "            <th>value</th>\n",
       "        </tr>\n",
       "    </thead>\n",
       "    <tbody>\n",
       "        <tr>\n",
       "            <td>2</td>\n",
       "            <td>1</td>\n",
       "            <td>70</td>\n",
       "        </tr>\n",
       "        <tr>\n",
       "            <td>5</td>\n",
       "            <td>2</td>\n",
       "            <td>60</td>\n",
       "        </tr>\n",
       "    </tbody>\n",
       "</table>"
      ],
      "text/plain": [
       "[(2, 1, 70), (5, 2, 60)]"
      ]
     },
     "execution_count": 7,
     "metadata": {},
     "output_type": "execute_result"
    }
   ],
   "source": [
    "%%sql\n",
    "-- 鈍臭いやりかた\n",
    "select *\n",
    "from tbl\n",
    "where (group_id, value) in (\n",
    "    select group_id, max(value)\n",
    "    from tbl\n",
    "    where value <= 70\n",
    "    group by group_id\n",
    ")"
   ]
  },
  {
   "cell_type": "code",
   "execution_count": null,
   "id": "af133e76-0ee0-4a78-ba99-f18f0bac933e",
   "metadata": {},
   "outputs": [],
   "source": []
  }
 ],
 "metadata": {
  "kernelspec": {
   "display_name": "Python 3 (ipykernel)",
   "language": "python",
   "name": "python3"
  },
  "language_info": {
   "codemirror_mode": {
    "name": "ipython",
    "version": 3
   },
   "file_extension": ".py",
   "mimetype": "text/x-python",
   "name": "python",
   "nbconvert_exporter": "python",
   "pygments_lexer": "ipython3",
   "version": "3.11.5"
  }
 },
 "nbformat": 4,
 "nbformat_minor": 5
}
