{
 "cells": [
  {
   "cell_type": "code",
   "execution_count": 263,
   "id": "172346d6-f3df-4a2c-a8bc-b3902687d5ef",
   "metadata": {},
   "outputs": [
    {
     "name": "stdout",
     "output_type": "stream",
     "text": [
      "The sql extension is already loaded. To reload it, use:\n",
      "  %reload_ext sql\n"
     ]
    }
   ],
   "source": [
    "%load_ext sql\n",
    "import os\n",
    "from sqlalchemy import create_engine\n",
    "\n",
    "pgconfig = {\n",
    "    'host': 'db',\n",
    "    'port': os.environ['PG_PORT'],\n",
    "    'database': os.environ['PG_DATABASE'],\n",
    "    'user': os.environ['PG_USER'],\n",
    "    'password': os.environ['PG_PASSWORD'],\n",
    "}\n",
    "dsl = 'postgresql://{user}:{password}@{host}:{port}/{database}'.format(**pgconfig)\n",
    "conn = create_engine(dsl)\n",
    "\n",
    "# MagicコマンドでSQLを書くための設定\n",
    "%sql conn"
   ]
  },
  {
   "cell_type": "code",
   "execution_count": 269,
   "id": "e38753fb-5622-4324-becb-cb7b8d6be2b3",
   "metadata": {},
   "outputs": [
    {
     "name": "stdout",
     "output_type": "stream",
     "text": [
      "*  postgresql://padawan:***@db:5432/dsdojo_db\n",
      "Done.\n",
      "Done.\n",
      "1 rows affected.\n",
      "1 rows affected.\n",
      "1 rows affected.\n",
      "1 rows affected.\n",
      "1 rows affected.\n",
      "1 rows affected.\n"
     ]
    },
    {
     "data": {
      "text/plain": [
       "[]"
      ]
     },
     "execution_count": 269,
     "metadata": {},
     "output_type": "execute_result"
    }
   ],
   "source": [
    "%%sql\n",
    "DROP TABLE if exists Products;\n",
    "CREATE TABLE Products\n",
    "(\n",
    "    id integer primary key,\n",
    "    name VARCHAR(16) NOT NULL,\n",
    "    price INTEGER NOT NULL\n",
    ");\n",
    "\n",
    "\n",
    "--重複するレコード\n",
    "INSERT INTO Products VALUES(1,'りんご',\t50);\n",
    "INSERT INTO Products VALUES(2,'みかん',\t100);\n",
    "INSERT INTO Products VALUES(3,'みかん',\t80);\n",
    "INSERT INTO Products VALUES(4,'みかん',\t110);\n",
    "INSERT INTO Products VALUES(5,'バナナ',\t80);\n",
    "INSERT INTO Products VALUES(6,'バナナ',\t60);"
   ]
  },
  {
   "cell_type": "code",
   "execution_count": 272,
   "id": "5effcb98-16d1-4e06-b452-301a9e6448c6",
   "metadata": {},
   "outputs": [
    {
     "name": "stdout",
     "output_type": "stream",
     "text": [
      "*  postgresql://padawan:***@db:5432/dsdojo_db\n",
      "6 rows affected.\n"
     ]
    },
    {
     "data": {
      "text/html": [
       "<table>\n",
       "    <thead>\n",
       "        <tr>\n",
       "            <th>id</th>\n",
       "            <th>name</th>\n",
       "            <th>price</th>\n",
       "            <th>seq</th>\n",
       "        </tr>\n",
       "    </thead>\n",
       "    <tbody>\n",
       "        <tr>\n",
       "            <td>3</td>\n",
       "            <td>みかん</td>\n",
       "            <td>80</td>\n",
       "            <td>1</td>\n",
       "        </tr>\n",
       "        <tr>\n",
       "            <td>2</td>\n",
       "            <td>みかん</td>\n",
       "            <td>100</td>\n",
       "            <td>2</td>\n",
       "        </tr>\n",
       "        <tr>\n",
       "            <td>4</td>\n",
       "            <td>みかん</td>\n",
       "            <td>110</td>\n",
       "            <td>3</td>\n",
       "        </tr>\n",
       "        <tr>\n",
       "            <td>1</td>\n",
       "            <td>りんご</td>\n",
       "            <td>50</td>\n",
       "            <td>1</td>\n",
       "        </tr>\n",
       "        <tr>\n",
       "            <td>6</td>\n",
       "            <td>バナナ</td>\n",
       "            <td>60</td>\n",
       "            <td>1</td>\n",
       "        </tr>\n",
       "        <tr>\n",
       "            <td>5</td>\n",
       "            <td>バナナ</td>\n",
       "            <td>80</td>\n",
       "            <td>2</td>\n",
       "        </tr>\n",
       "    </tbody>\n",
       "</table>"
      ],
      "text/plain": [
       "[(3, 'みかん', 80, 1),\n",
       " (2, 'みかん', 100, 2),\n",
       " (4, 'みかん', 110, 3),\n",
       " (1, 'りんご', 50, 1),\n",
       " (6, 'バナナ', 60, 1),\n",
       " (5, 'バナナ', 80, 2)]"
      ]
     },
     "execution_count": 272,
     "metadata": {},
     "output_type": "execute_result"
    }
   ],
   "source": [
    "%%sql\n",
    "-- window関数を使う方法\n",
    "select *,\n",
    "    row_number() over (\n",
    "        partition by name\n",
    "        order by price\n",
    "    ) as seq\n",
    "from Products\n",
    "order by name, price"
   ]
  },
  {
   "cell_type": "code",
   "execution_count": 273,
   "id": "482a831e-f996-432e-becb-078eac77568a",
   "metadata": {},
   "outputs": [
    {
     "name": "stdout",
     "output_type": "stream",
     "text": [
      "*  postgresql://padawan:***@db:5432/dsdojo_db\n",
      "6 rows affected.\n"
     ]
    },
    {
     "data": {
      "text/html": [
       "<table>\n",
       "    <thead>\n",
       "        <tr>\n",
       "            <th>id</th>\n",
       "            <th>name</th>\n",
       "            <th>price</th>\n",
       "            <th>seq</th>\n",
       "        </tr>\n",
       "    </thead>\n",
       "    <tbody>\n",
       "        <tr>\n",
       "            <td>3</td>\n",
       "            <td>みかん</td>\n",
       "            <td>80</td>\n",
       "            <td>1</td>\n",
       "        </tr>\n",
       "        <tr>\n",
       "            <td>2</td>\n",
       "            <td>みかん</td>\n",
       "            <td>100</td>\n",
       "            <td>2</td>\n",
       "        </tr>\n",
       "        <tr>\n",
       "            <td>4</td>\n",
       "            <td>みかん</td>\n",
       "            <td>110</td>\n",
       "            <td>3</td>\n",
       "        </tr>\n",
       "        <tr>\n",
       "            <td>1</td>\n",
       "            <td>りんご</td>\n",
       "            <td>50</td>\n",
       "            <td>1</td>\n",
       "        </tr>\n",
       "        <tr>\n",
       "            <td>6</td>\n",
       "            <td>バナナ</td>\n",
       "            <td>60</td>\n",
       "            <td>1</td>\n",
       "        </tr>\n",
       "        <tr>\n",
       "            <td>5</td>\n",
       "            <td>バナナ</td>\n",
       "            <td>80</td>\n",
       "            <td>2</td>\n",
       "        </tr>\n",
       "    </tbody>\n",
       "</table>"
      ],
      "text/plain": [
       "[(3, 'みかん', 80, 1),\n",
       " (2, 'みかん', 100, 2),\n",
       " (4, 'みかん', 110, 3),\n",
       " (1, 'りんご', 50, 1),\n",
       " (6, 'バナナ', 60, 1),\n",
       " (5, 'バナナ', 80, 2)]"
      ]
     },
     "execution_count": 273,
     "metadata": {},
     "output_type": "execute_result"
    }
   ],
   "source": [
    "%%sql\n",
    "-- 相関サブクエリを使う方法\n",
    "select *, (\n",
    "    select count(*)\n",
    "    from Products as p2\n",
    "    where p1.name = p2.name and\n",
    "    p1.price >= p2.price\n",
    ") as seq\n",
    "from Products as p1\n",
    "order by name, price"
   ]
  },
  {
   "cell_type": "code",
   "execution_count": null,
   "id": "baffce35-d302-48a8-940c-882c4c5fa203",
   "metadata": {},
   "outputs": [],
   "source": []
  }
 ],
 "metadata": {
  "kernelspec": {
   "display_name": "Python 3 (ipykernel)",
   "language": "python",
   "name": "python3"
  },
  "language_info": {
   "codemirror_mode": {
    "name": "ipython",
    "version": 3
   },
   "file_extension": ".py",
   "mimetype": "text/x-python",
   "name": "python",
   "nbconvert_exporter": "python",
   "pygments_lexer": "ipython3",
   "version": "3.11.5"
  }
 },
 "nbformat": 4,
 "nbformat_minor": 5
}
