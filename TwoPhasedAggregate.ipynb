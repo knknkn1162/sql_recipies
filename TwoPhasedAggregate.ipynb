{
 "cells": [
  {
   "cell_type": "code",
   "execution_count": 1,
   "id": "c240df8a-1b6a-4d6a-a69e-592563978d54",
   "metadata": {},
   "outputs": [],
   "source": [
    "%load_ext sql\n",
    "import os\n",
    "from sqlalchemy import create_engine\n",
    "\n",
    "pgconfig = {\n",
    "    'host': 'db',\n",
    "    'port': os.environ['PG_PORT'],\n",
    "    'database': os.environ['PG_DATABASE'],\n",
    "    'user': os.environ['PG_USER'],\n",
    "    'password': os.environ['PG_PASSWORD'],\n",
    "}\n",
    "dsl = 'postgresql://{user}:{password}@{host}:{port}/{database}'.format(**pgconfig)\n",
    "conn = create_engine(dsl)\n",
    "\n",
    "# MagicコマンドでSQLを書くための設定\n",
    "%sql conn"
   ]
  },
  {
   "cell_type": "code",
   "execution_count": 2,
   "id": "44481bc1-22c2-472a-88c1-4d5cfbace43d",
   "metadata": {},
   "outputs": [
    {
     "name": "stdout",
     "output_type": "stream",
     "text": [
      "*  postgresql://padawan:***@db:5432/dsdojo_db\n",
      "Done.\n",
      "Done.\n",
      "9 rows affected.\n"
     ]
    },
    {
     "data": {
      "text/plain": [
       "[]"
      ]
     },
     "execution_count": 2,
     "metadata": {},
     "output_type": "execute_result"
    }
   ],
   "source": [
    "%%sql\n",
    "drop table if exists Stores;\n",
    "CREATE TABLE Stores\n",
    "(manager_name CHAR(16),\n",
    " product_id CHAR(4),\n",
    "     PRIMARY KEY(manager_name, product_id));\n",
    "\n",
    "INSERT INTO Stores VALUES\n",
    "     ('Adam',  '0001'),\n",
    "     ('Adam',  '0002'),\n",
    "     ('Adam',  '0003'),\n",
    "     ('Barray','0002'),\n",
    "     ('Curt',  '0001'),\n",
    "     ('Curt',  '0002'),\n",
    "     ('Dave',  '0001'),\n",
    "     ('Dave',  '0002'),\n",
    "     ('Dave',  '0003');"
   ]
  },
  {
   "cell_type": "markdown",
   "id": "fc2061d7-cec0-42e0-9f38-3e0a7ac947bc",
   "metadata": {},
   "source": [
    "## やりたいこと\n",
    "+ 最も多くの製品を扱う店長を見つけたい\n",
    "    + 普通に考えるとcount -> maxと必要だが.."
   ]
  },
  {
   "cell_type": "code",
   "execution_count": 5,
   "id": "6b79f095-3c60-4130-ad71-69c9f23ab111",
   "metadata": {},
   "outputs": [
    {
     "name": "stdout",
     "output_type": "stream",
     "text": [
      "*  postgresql://padawan:***@db:5432/dsdojo_db\n",
      "2 rows affected.\n"
     ]
    },
    {
     "data": {
      "text/html": [
       "<table>\n",
       "    <thead>\n",
       "        <tr>\n",
       "            <th>manager_name</th>\n",
       "            <th>count</th>\n",
       "        </tr>\n",
       "    </thead>\n",
       "    <tbody>\n",
       "        <tr>\n",
       "            <td>Dave            </td>\n",
       "            <td>3</td>\n",
       "        </tr>\n",
       "        <tr>\n",
       "            <td>Adam            </td>\n",
       "            <td>3</td>\n",
       "        </tr>\n",
       "    </tbody>\n",
       "</table>"
      ],
      "text/plain": [
       "[('Dave            ', 3), ('Adam            ', 3)]"
      ]
     },
     "execution_count": 5,
     "metadata": {},
     "output_type": "execute_result"
    }
   ],
   "source": [
    "%%sql\n",
    "select manager_name, count(*)\n",
    "from Stores\n",
    "group by manager_name\n",
    "having count(*) >= all(\n",
    "    -- allの負荷を減らすためdistinctつけてる\n",
    "    select distinct count(*)\n",
    "    from Stores\n",
    "    group by manager_name\n",
    ")"
   ]
  },
  {
   "cell_type": "code",
   "execution_count": null,
   "id": "506d9e29-9985-4291-8453-e16abe070d63",
   "metadata": {},
   "outputs": [],
   "source": []
  }
 ],
 "metadata": {
  "kernelspec": {
   "display_name": "Python 3 (ipykernel)",
   "language": "python",
   "name": "python3"
  },
  "language_info": {
   "codemirror_mode": {
    "name": "ipython",
    "version": 3
   },
   "file_extension": ".py",
   "mimetype": "text/x-python",
   "name": "python",
   "nbconvert_exporter": "python",
   "pygments_lexer": "ipython3",
   "version": "3.11.5"
  }
 },
 "nbformat": 4,
 "nbformat_minor": 5
}
