{
 "cells": [
  {
   "cell_type": "code",
   "execution_count": 1,
   "id": "a876074b-fc15-4679-992a-61e748191fd7",
   "metadata": {},
   "outputs": [],
   "source": [
    "%load_ext sql\n",
    "import os\n",
    "from sqlalchemy import create_engine\n",
    "\n",
    "pgconfig = {\n",
    "    'host': 'db',\n",
    "    'port': os.environ['PG_PORT'],\n",
    "    'database': os.environ['PG_DATABASE'],\n",
    "    'user': os.environ['PG_USER'],\n",
    "    'password': os.environ['PG_PASSWORD'],\n",
    "}\n",
    "dsl = 'postgresql://{user}:{password}@{host}:{port}/{database}'.format(**pgconfig)\n",
    "conn = create_engine(dsl)\n",
    "\n",
    "# MagicコマンドでSQLを書くための設定\n",
    "%sql conn"
   ]
  },
  {
   "cell_type": "code",
   "execution_count": 2,
   "id": "da3425b0-dc08-4330-926b-9cf9956c2526",
   "metadata": {},
   "outputs": [
    {
     "name": "stdout",
     "output_type": "stream",
     "text": [
      "*  postgresql://padawan:***@db:5432/dsdojo_db\n",
      "Done.\n",
      "Done.\n",
      "8 rows affected.\n"
     ]
    },
    {
     "data": {
      "text/plain": [
       "[]"
      ]
     },
     "execution_count": 2,
     "metadata": {},
     "output_type": "execute_result"
    }
   ],
   "source": [
    "%%sql\n",
    "drop table if exists tbl;\n",
    "create table tbl (\n",
    "    id integer primary key,\n",
    "    group_id integer not null,\n",
    "    value integer not null\n",
    ");\n",
    "\n",
    "insert into tbl\n",
    "values (1,1,2),\n",
    "    (2,1,4),\n",
    "    (3,1,2),\n",
    "    (4,1,6),\n",
    "    (5,1,4),\n",
    "    (6,2,4),\n",
    "    (7,2,3),\n",
    "    (8,3,10);"
   ]
  },
  {
   "cell_type": "markdown",
   "id": "156e1b92-3bd8-495e-ab21-56e60fa0603f",
   "metadata": {},
   "source": [
    "## やりたいこと\n",
    "+ 各グループの要素をつなげる"
   ]
  },
  {
   "cell_type": "code",
   "execution_count": 10,
   "id": "93470531-f0e4-46d6-9447-aa0fb0f55efb",
   "metadata": {},
   "outputs": [
    {
     "name": "stdout",
     "output_type": "stream",
     "text": [
      "*  postgresql://padawan:***@db:5432/dsdojo_db\n",
      "3 rows affected.\n"
     ]
    },
    {
     "data": {
      "text/html": [
       "<table>\n",
       "    <thead>\n",
       "        <tr>\n",
       "            <th>group_id</th>\n",
       "            <th>ids</th>\n",
       "        </tr>\n",
       "    </thead>\n",
       "    <tbody>\n",
       "        <tr>\n",
       "            <td>1</td>\n",
       "            <td>1,2,3,4,5</td>\n",
       "        </tr>\n",
       "        <tr>\n",
       "            <td>2</td>\n",
       "            <td>6,7</td>\n",
       "        </tr>\n",
       "        <tr>\n",
       "            <td>3</td>\n",
       "            <td>8</td>\n",
       "        </tr>\n",
       "    </tbody>\n",
       "</table>"
      ],
      "text/plain": [
       "[(1, '1,2,3,4,5'), (2, '6,7'), (3, '8')]"
      ]
     },
     "execution_count": 10,
     "metadata": {},
     "output_type": "execute_result"
    }
   ],
   "source": [
    "%%sql\n",
    "-- Postgresqlの場合、string_aggを使う\n",
    "select group_id,\n",
    "    string_agg(cast(id as varchar(16)), ',' order by group_id) as ids\n",
    "from tbl\n",
    "group by group_id"
   ]
  },
  {
   "cell_type": "code",
   "execution_count": null,
   "id": "5d2b46fc-b7ac-47fc-9fe8-4ce5cf53c8ef",
   "metadata": {},
   "outputs": [],
   "source": []
  }
 ],
 "metadata": {
  "kernelspec": {
   "display_name": "Python 3 (ipykernel)",
   "language": "python",
   "name": "python3"
  },
  "language_info": {
   "codemirror_mode": {
    "name": "ipython",
    "version": 3
   },
   "file_extension": ".py",
   "mimetype": "text/x-python",
   "name": "python",
   "nbconvert_exporter": "python",
   "pygments_lexer": "ipython3",
   "version": "3.11.5"
  }
 },
 "nbformat": 4,
 "nbformat_minor": 5
}
