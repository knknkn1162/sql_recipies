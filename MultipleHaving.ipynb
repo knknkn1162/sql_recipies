{
 "cells": [
  {
   "cell_type": "code",
   "execution_count": 29,
   "id": "6e23b92d-b36b-4513-aaf9-1124a2326acc",
   "metadata": {},
   "outputs": [
    {
     "name": "stdout",
     "output_type": "stream",
     "text": [
      "The sql extension is already loaded. To reload it, use:\n",
      "  %reload_ext sql\n"
     ]
    }
   ],
   "source": [
    "%load_ext sql\n",
    "import os\n",
    "from sqlalchemy import create_engine\n",
    "\n",
    "pgconfig = {\n",
    "    'host': 'db',\n",
    "    'port': os.environ['PG_PORT'],\n",
    "    'database': os.environ['PG_DATABASE'],\n",
    "    'user': os.environ['PG_USER'],\n",
    "    'password': os.environ['PG_PASSWORD'],\n",
    "}\n",
    "dsl = 'postgresql://{user}:{password}@{host}:{port}/{database}'.format(**pgconfig)\n",
    "conn = create_engine(dsl)\n",
    "\n",
    "# MagicコマンドでSQLを書くための設定\n",
    "%sql conn"
   ]
  },
  {
   "cell_type": "code",
   "execution_count": 32,
   "id": "0d7acbc5-17f3-47b0-bd01-a6581417490e",
   "metadata": {},
   "outputs": [
    {
     "name": "stdout",
     "output_type": "stream",
     "text": [
      "*  postgresql://padawan:***@db:5432/dsdojo_db\n",
      "Done.\n",
      "Done.\n",
      "Done.\n",
      "Done.\n",
      "1 rows affected.\n",
      "1 rows affected.\n",
      "1 rows affected.\n",
      "1 rows affected.\n",
      "1 rows affected.\n",
      "1 rows affected.\n",
      "1 rows affected.\n",
      "1 rows affected.\n",
      "1 rows affected.\n",
      "1 rows affected.\n",
      "1 rows affected.\n",
      "1 rows affected.\n",
      "1 rows affected.\n",
      "1 rows affected.\n",
      "1 rows affected.\n",
      "1 rows affected.\n",
      "1 rows affected.\n",
      "1 rows affected.\n",
      "1 rows affected.\n",
      "1 rows affected.\n",
      "1 rows affected.\n",
      "1 rows affected.\n",
      "1 rows affected.\n",
      "1 rows affected.\n",
      "1 rows affected.\n",
      "1 rows affected.\n",
      "1 rows affected.\n",
      "1 rows affected.\n",
      "1 rows affected.\n",
      "1 rows affected.\n",
      "1 rows affected.\n",
      "1 rows affected.\n",
      "1 rows affected.\n",
      "1 rows affected.\n",
      "1 rows affected.\n",
      "1 rows affected.\n"
     ]
    },
    {
     "data": {
      "text/plain": [
       "[]"
      ]
     },
     "execution_count": 32,
     "metadata": {},
     "output_type": "execute_result"
    }
   ],
   "source": [
    "%%sql\n",
    "drop table if exists Sales, Titles, Newsstands;\n",
    "CREATE TABLE Titles\n",
    "(product_id INTEGER NOT NULL PRIMARY KEY,\n",
    " magazine_sku INTEGER NOT NULL,\n",
    " issn INTEGER NOT NULL,\n",
    " issn_year INTEGER NOT NULL);\n",
    "\n",
    "CREATE TABLE Newsstands\n",
    " (stand_nbr INTEGER NOT NULL PRIMARY KEY,\n",
    "  stand_name CHAR(20) NOT NULL);\n",
    "\n",
    "CREATE TABLE Sales\n",
    "(product_id   INTEGER NOT NULL REFERENCES Titles(product_id),\n",
    " stand_nbr    INTEGER NOT NULL REFERENCES Newsstands(stand_nbr),\n",
    " net_sold_qty INTEGER NOT NULL,\n",
    " PRIMARY KEY(product_id, stand_nbr));\n",
    "\n",
    "INSERT INTO Titles VALUES(1, 12345, 1, 2006);\n",
    "INSERT INTO Titles VALUES(2, 2667,  1, 2006);\n",
    "INSERT INTO Titles VALUES(3, 48632, 1, 2006);\n",
    "INSERT INTO Titles VALUES(4, 1107,  1, 2006);\n",
    "INSERT INTO Titles VALUES(5, 12345, 2, 2006);\n",
    "INSERT INTO Titles VALUES(6, 2667,  2, 2006);\n",
    "INSERT INTO Titles VALUES(7, 48632, 2, 2006);\n",
    "INSERT INTO Titles VALUES(8, 1107,  2, 2006);\n",
    "\n",
    "INSERT INTO Newsstands VALUES(1, 'Newsstands1');\n",
    "INSERT INTO Newsstands VALUES(2, 'Newsstands2');\n",
    "INSERT INTO Newsstands VALUES(3, 'Newsstands3');\n",
    "INSERT INTO Newsstands VALUES(4, 'Newsstands4');\n",
    "\n",
    "INSERT INTO Sales VALUES(1, 1, 1);\n",
    "INSERT INTO Sales VALUES(2, 1, 4);\n",
    "INSERT INTO Sales VALUES(3, 1, 1);\n",
    "INSERT INTO Sales VALUES(4, 1, 1);\n",
    "INSERT INTO Sales VALUES(5, 1, 1);\n",
    "INSERT INTO Sales VALUES(6, 1, 2);\n",
    "INSERT INTO Sales VALUES(7, 1, 1);\n",
    "INSERT INTO Sales VALUES(3, 2, 1);\n",
    "INSERT INTO Sales VALUES(4, 2, 5);\n",
    "INSERT INTO Sales VALUES(8, 2, 6);\n",
    "INSERT INTO Sales VALUES(1, 3, 1);\n",
    "INSERT INTO Sales VALUES(2, 3, 3);\n",
    "INSERT INTO Sales VALUES(3, 3, 3);\n",
    "INSERT INTO Sales VALUES(4, 3, 1);\n",
    "INSERT INTO Sales VALUES(5, 3, 1);\n",
    "INSERT INTO Sales VALUES(6, 3, 3);\n",
    "INSERT INTO Sales VALUES(7, 3, 3);\n",
    "INSERT INTO Sales VALUES(1, 4, 1);\n",
    "INSERT INTO Sales VALUES(2, 4, 1);\n",
    "INSERT INTO Sales VALUES(3, 4, 4);\n",
    "INSERT INTO Sales VALUES(4, 4, 1);\n",
    "INSERT INTO Sales VALUES(5, 4, 1);\n",
    "INSERT INTO Sales VALUES(6, 4, 1);\n",
    "INSERT INTO Sales VALUES(7, 4, 2);"
   ]
  },
  {
   "cell_type": "code",
   "execution_count": 15,
   "id": "2082d1b3-eba9-4514-8fe7-69542da424b9",
   "metadata": {},
   "outputs": [
    {
     "name": "stdout",
     "output_type": "stream",
     "text": [
      "*  postgresql://padawan:***@db:5432/dsdojo_db\n",
      "2 rows affected.\n"
     ]
    },
    {
     "data": {
      "text/html": [
       "<table>\n",
       "    <thead>\n",
       "        <tr>\n",
       "            <th>stand_nbr</th>\n",
       "        </tr>\n",
       "    </thead>\n",
       "    <tbody>\n",
       "        <tr>\n",
       "            <td>3</td>\n",
       "        </tr>\n",
       "        <tr>\n",
       "            <td>2</td>\n",
       "        </tr>\n",
       "    </tbody>\n",
       "</table>"
      ],
      "text/plain": [
       "[(3,), (2,)]"
      ]
     },
     "execution_count": 15,
     "metadata": {},
     "output_type": "execute_result"
    }
   ],
   "source": [
    "%%sql\n",
    "select stand_nbr\n",
    "from Sales as s\n",
    "right join Titles as t\n",
    "on s.product_id = t.product_id\n",
    "group by stand_nbr\n",
    "having (\n",
    "    avg(\n",
    "        case when t.magazine_sku = 2667 then s.net_sold_qty else null end\n",
    "    ) > 2 and\n",
    "    avg(\n",
    "        case when t.magazine_sku = 48632 then s.net_sold_qty else null end\n",
    "    ) > 2\n",
    ") or (\n",
    "    avg(\n",
    "        case when t.magazine_sku = 1107 then s.net_sold_qty else null end\n",
    "    ) > 5\n",
    ")"
   ]
  },
  {
   "cell_type": "code",
   "execution_count": 54,
   "id": "44756dca-3404-4e13-8a1f-761dd116b024",
   "metadata": {},
   "outputs": [
    {
     "name": "stdout",
     "output_type": "stream",
     "text": [
      "*  postgresql://padawan:***@db:5432/dsdojo_db\n",
      "2 rows affected.\n"
     ]
    },
    {
     "data": {
      "text/html": [
       "<table>\n",
       "    <thead>\n",
       "        <tr>\n",
       "            <th>stand_nbr</th>\n",
       "        </tr>\n",
       "    </thead>\n",
       "    <tbody>\n",
       "        <tr>\n",
       "            <td>3</td>\n",
       "        </tr>\n",
       "        <tr>\n",
       "            <td>2</td>\n",
       "        </tr>\n",
       "    </tbody>\n",
       "</table>"
      ],
      "text/plain": [
       "[(3,), (2,)]"
      ]
     },
     "execution_count": 54,
     "metadata": {},
     "output_type": "execute_result"
    }
   ],
   "source": [
    "%%sql\n",
    "select stand_nbr\n",
    "from (\n",
    "    select s.stand_nbr, t.magazine_sku, avg(s.net_sold_qty)\n",
    "    from Sales as s, Titles as t\n",
    "    where s.product_id = t.product_id\n",
    "    group by s.stand_nbr, t.magazine_sku\n",
    ") as s\n",
    "group by stand_nbr\n",
    "having count(case when magazine_sku in (2667, 48632) and avg > 2 then 1 else null end) = 2 or\n",
    "count(case when magazine_sku = 1107 and avg > 5 then 0 else null end) = 1"
   ]
  },
  {
   "cell_type": "code",
   "execution_count": 48,
   "id": "9ba11054-c4ef-4103-8a1d-b6b517095c80",
   "metadata": {},
   "outputs": [
    {
     "name": "stdout",
     "output_type": "stream",
     "text": [
      "*  postgresql://padawan:***@db:5432/dsdojo_db\n",
      "2 rows affected.\n"
     ]
    },
    {
     "data": {
      "text/html": [
       "<table>\n",
       "    <thead>\n",
       "        <tr>\n",
       "            <th>stand_nbr</th>\n",
       "        </tr>\n",
       "    </thead>\n",
       "    <tbody>\n",
       "        <tr>\n",
       "            <td>3</td>\n",
       "        </tr>\n",
       "        <tr>\n",
       "            <td>2</td>\n",
       "        </tr>\n",
       "    </tbody>\n",
       "</table>"
      ],
      "text/plain": [
       "[(3,), (2,)]"
      ]
     },
     "execution_count": 48,
     "metadata": {},
     "output_type": "execute_result"
    }
   ],
   "source": [
    "%%sql\n",
    "-- havingをselectにもってくる方法\n",
    "select stand_nbr\n",
    "from (\n",
    "    select stand_nbr,\n",
    "        avg(\n",
    "            case when t.magazine_sku = 2667 then s.net_sold_qty else null end\n",
    "        ),\n",
    "        avg(\n",
    "            case when t.magazine_sku = 48632 then s.net_sold_qty else null end\n",
    "        ),\n",
    "        avg(\n",
    "            case when t.magazine_sku = 1107 then s.net_sold_qty else null end\n",
    "        )\n",
    "    from Sales as s, Titles as t\n",
    "    where s.product_id = t.product_id\n",
    "    group by stand_nbr\n",
    ") as tmp(stand_nbr, avg_2667, avg_48632, avg_1107)\n",
    "where avg_2667 > 2 and avg_48632 > 2 or avg_1107 > 5"
   ]
  },
  {
   "cell_type": "code",
   "execution_count": 26,
   "id": "2a6931e5-aa61-4f0d-8ac6-1c847930fa62",
   "metadata": {},
   "outputs": [
    {
     "name": "stdout",
     "output_type": "stream",
     "text": [
      "*  postgresql://padawan:***@db:5432/dsdojo_db\n",
      "1 rows affected.\n"
     ]
    },
    {
     "data": {
      "text/html": [
       "<table>\n",
       "    <thead>\n",
       "        <tr>\n",
       "            <th>stand_nbr</th>\n",
       "        </tr>\n",
       "    </thead>\n",
       "    <tbody>\n",
       "        <tr>\n",
       "            <td>3</td>\n",
       "        </tr>\n",
       "    </tbody>\n",
       "</table>"
      ],
      "text/plain": [
       "[(3,)]"
      ]
     },
     "execution_count": 26,
     "metadata": {},
     "output_type": "execute_result"
    }
   ],
   "source": [
    "%%sql\n",
    "select stand_nbr\n",
    "from (\n",
    "    select s.stand_nbr, t.magazine_sku, avg(s.net_sold_qty)\n",
    "    from Sales as s\n",
    "    right join Titles as t\n",
    "    on s.product_id = t.product_id\n",
    "    where t.magazine_sku in (2667, 48632)\n",
    "    group by s.stand_nbr, t.magazine_sku\n",
    "    having avg(s.net_sold_qty) >2\n",
    ") as tmp\n",
    "group by stand_nbr\n",
    "having count(*) = 2"
   ]
  },
  {
   "cell_type": "code",
   "execution_count": 9,
   "id": "e193e6c9-78b0-4878-9b7e-f7d1da1f165e",
   "metadata": {},
   "outputs": [
    {
     "name": "stdout",
     "output_type": "stream",
     "text": [
      "*  postgresql://padawan:***@db:5432/dsdojo_db\n",
      "2 rows affected.\n"
     ]
    },
    {
     "data": {
      "text/html": [
       "<table>\n",
       "    <thead>\n",
       "        <tr>\n",
       "            <th>magazine_sku</th>\n",
       "        </tr>\n",
       "    </thead>\n",
       "    <tbody>\n",
       "        <tr>\n",
       "            <td>2667</td>\n",
       "        </tr>\n",
       "        <tr>\n",
       "            <td>48632</td>\n",
       "        </tr>\n",
       "    </tbody>\n",
       "</table>"
      ],
      "text/plain": [
       "[(2667,), (48632,)]"
      ]
     },
     "execution_count": 9,
     "metadata": {},
     "output_type": "execute_result"
    }
   ],
   "source": [
    "%%sql\n",
    "select t.magazine_sku\n",
    "from Titles as t\n",
    "inner join Sales as s\n",
    "on s.product_id = t.product_id\n",
    "where t.magazine_sku in (2667, 48632)\n",
    "group by t.magazine_sku\n",
    "having avg(s.net_sold_qty) > 2"
   ]
  },
  {
   "cell_type": "code",
   "execution_count": null,
   "id": "aa97381d-7e8c-4f9c-8c6a-278be0c42690",
   "metadata": {},
   "outputs": [],
   "source": []
  }
 ],
 "metadata": {
  "kernelspec": {
   "display_name": "Python 3 (ipykernel)",
   "language": "python",
   "name": "python3"
  },
  "language_info": {
   "codemirror_mode": {
    "name": "ipython",
    "version": 3
   },
   "file_extension": ".py",
   "mimetype": "text/x-python",
   "name": "python",
   "nbconvert_exporter": "python",
   "pygments_lexer": "ipython3",
   "version": "3.11.5"
  }
 },
 "nbformat": 4,
 "nbformat_minor": 5
}
