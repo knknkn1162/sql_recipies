{
 "cells": [
  {
   "cell_type": "code",
   "execution_count": 6,
   "id": "ab58c790-0cb0-4296-abd4-211d9c89f8af",
   "metadata": {},
   "outputs": [
    {
     "name": "stdout",
     "output_type": "stream",
     "text": [
      "The sql extension is already loaded. To reload it, use:\n",
      "  %reload_ext sql\n"
     ]
    }
   ],
   "source": [
    "%load_ext sql\n",
    "import os\n",
    "from sqlalchemy import create_engine\n",
    "\n",
    "pgconfig = {\n",
    "    'host': 'db',\n",
    "    'port': os.environ['PG_PORT'],\n",
    "    'database': os.environ['PG_DATABASE'],\n",
    "    'user': os.environ['PG_USER'],\n",
    "    'password': os.environ['PG_PASSWORD'],\n",
    "}\n",
    "dsl = 'postgresql://{user}:{password}@{host}:{port}/{database}'.format(**pgconfig)\n",
    "conn = create_engine(dsl)\n",
    "\n",
    "# MagicコマンドでSQLを書くための設定\n",
    "%sql conn"
   ]
  },
  {
   "cell_type": "code",
   "execution_count": 7,
   "id": "beda7044-a7ad-41aa-9a6d-d9e947b533bb",
   "metadata": {},
   "outputs": [
    {
     "name": "stdout",
     "output_type": "stream",
     "text": [
      "*  postgresql://padawan:***@db:5432/dsdojo_db\n",
      "Done.\n",
      "Done.\n",
      "Done.\n"
     ]
    },
    {
     "data": {
      "text/plain": [
       "[]"
      ]
     },
     "execution_count": 7,
     "metadata": {},
     "output_type": "execute_result"
    }
   ],
   "source": [
    "%%sql\n",
    "drop table if exists Budgeted, Actual;\n",
    "create table Budgeted (\n",
    "    task integer not null primary key,\n",
    "    category integer not null,\n",
    "    est_cost decimal(8,2) not null\n",
    ");\n",
    "\n",
    "create table actual (\n",
    "    voucher integer not null primary key,\n",
    "    task integer not null references Budgeted(task),\n",
    "    act_cost decimal(8,2) not null\n",
    ");"
   ]
  },
  {
   "cell_type": "code",
   "execution_count": 8,
   "id": "7622a182-beba-4ee4-a776-4383d9cf8a31",
   "metadata": {},
   "outputs": [
    {
     "name": "stdout",
     "output_type": "stream",
     "text": [
      "*  postgresql://padawan:***@db:5432/dsdojo_db\n",
      "1 rows affected.\n",
      "1 rows affected.\n",
      "1 rows affected.\n",
      "1 rows affected.\n",
      "1 rows affected.\n",
      "1 rows affected.\n",
      "1 rows affected.\n",
      "1 rows affected.\n",
      "1 rows affected.\n",
      "1 rows affected.\n",
      "1 rows affected.\n",
      "1 rows affected.\n"
     ]
    },
    {
     "data": {
      "text/plain": [
       "[]"
      ]
     },
     "execution_count": 8,
     "metadata": {},
     "output_type": "execute_result"
    }
   ],
   "source": [
    "%%sql\n",
    "INSERT INTO Budgeted VALUES(1, 9100, 100.00);\n",
    "INSERT INTO Budgeted VALUES(2, 9100,  15.00);\n",
    "INSERT INTO Budgeted VALUES(3, 9100,   6.00);\n",
    "INSERT INTO Budgeted VALUES(4, 9200,   8.00);\n",
    "INSERT INTO Budgeted VALUES(5, 9200,  11.00);\n",
    "\n",
    "INSERT INTO Actual VALUES(1,  1,  10.00);\n",
    "INSERT INTO Actual VALUES(2,  1,  20.00);\n",
    "INSERT INTO Actual VALUES(3,  1,  15.00);\n",
    "INSERT INTO Actual VALUES(4,  2,  32.00);\n",
    "INSERT INTO Actual VALUES(5,  4,  8.00);\n",
    "INSERT INTO Actual VALUES(6,  5,  3.00);\n",
    "INSERT INTO Actual VALUES(7,  5,  4.00);"
   ]
  },
  {
   "cell_type": "markdown",
   "id": "f7f7a136-04d3-4574-b549-1f8e74b11bdd",
   "metadata": {},
   "source": [
    "## やりたいこと\n",
    "+ 各categoryについて、budgetedとactualを出す\n",
    "  + join(または相関サブクエリ)とgroupが必要。相関サブクエリを使用する場合はどうかけるか?"
   ]
  },
  {
   "cell_type": "code",
   "execution_count": 14,
   "id": "966ef0ff-6a07-490f-b143-62f76758cd80",
   "metadata": {},
   "outputs": [
    {
     "name": "stdout",
     "output_type": "stream",
     "text": [
      "*  postgresql://padawan:***@db:5432/dsdojo_db\n",
      "2 rows affected.\n"
     ]
    },
    {
     "data": {
      "text/html": [
       "<table>\n",
       "    <thead>\n",
       "        <tr>\n",
       "            <th>category</th>\n",
       "            <th>sum</th>\n",
       "            <th>sum_1</th>\n",
       "        </tr>\n",
       "    </thead>\n",
       "    <tbody>\n",
       "        <tr>\n",
       "            <td>9100</td>\n",
       "            <td>121.00</td>\n",
       "            <td>77.00</td>\n",
       "        </tr>\n",
       "        <tr>\n",
       "            <td>9200</td>\n",
       "            <td>19.00</td>\n",
       "            <td>15.00</td>\n",
       "        </tr>\n",
       "    </tbody>\n",
       "</table>"
      ],
      "text/plain": [
       "[(9100, Decimal('121.00'), Decimal('77.00')),\n",
       " (9200, Decimal('19.00'), Decimal('15.00'))]"
      ]
     },
     "execution_count": 14,
     "metadata": {},
     "output_type": "execute_result"
    }
   ],
   "source": [
    "%%sql\n",
    "select category, sum(est_cost), sum(sum_act)\n",
    "from Budgeted as b\n",
    "left join (\n",
    "    select task, sum(act_cost)\n",
    "    from Actual\n",
    "    group by task\n",
    ") as a(task, sum_act)\n",
    "on b.task = a.task\n",
    "group by category"
   ]
  },
  {
   "cell_type": "code",
   "execution_count": 28,
   "id": "1df01ffa-4ae9-4597-9207-bd32540d5c49",
   "metadata": {},
   "outputs": [
    {
     "name": "stdout",
     "output_type": "stream",
     "text": [
      "*  postgresql://padawan:***@db:5432/dsdojo_db\n",
      "2 rows affected.\n"
     ]
    },
    {
     "data": {
      "text/html": [
       "<table>\n",
       "    <thead>\n",
       "        <tr>\n",
       "            <th>category</th>\n",
       "            <th>sum</th>\n",
       "            <th>act</th>\n",
       "        </tr>\n",
       "    </thead>\n",
       "    <tbody>\n",
       "        <tr>\n",
       "            <td>9100</td>\n",
       "            <td>121.00</td>\n",
       "            <td>77.00</td>\n",
       "        </tr>\n",
       "        <tr>\n",
       "            <td>9200</td>\n",
       "            <td>19.00</td>\n",
       "            <td>15.00</td>\n",
       "        </tr>\n",
       "    </tbody>\n",
       "</table>"
      ],
      "text/plain": [
       "[(9100, Decimal('121.00'), Decimal('77.00')),\n",
       " (9200, Decimal('19.00'), Decimal('15.00'))]"
      ]
     },
     "execution_count": 28,
     "metadata": {},
     "output_type": "execute_result"
    }
   ],
   "source": [
    "%%sql\n",
    "select category, sum(b.est_cost) as est,\n",
    "    sum((\n",
    "        select sum(act_cost)\n",
    "        from Actual as a\n",
    "        where b.task = a.task\n",
    "    )) as act\n",
    "from Budgeted as b\n",
    "group by category"
   ]
  },
  {
   "cell_type": "code",
   "execution_count": 30,
   "id": "1877f8c9-f011-433c-990e-1006d2d8d9bd",
   "metadata": {},
   "outputs": [
    {
     "name": "stdout",
     "output_type": "stream",
     "text": [
      "*  postgresql://padawan:***@db:5432/dsdojo_db\n",
      "2 rows affected.\n"
     ]
    },
    {
     "data": {
      "text/html": [
       "<table>\n",
       "    <thead>\n",
       "        <tr>\n",
       "            <th>category</th>\n",
       "            <th>est</th>\n",
       "            <th>act</th>\n",
       "        </tr>\n",
       "    </thead>\n",
       "    <tbody>\n",
       "        <tr>\n",
       "            <td>9100</td>\n",
       "            <td>121.00</td>\n",
       "            <td>77.00</td>\n",
       "        </tr>\n",
       "        <tr>\n",
       "            <td>9200</td>\n",
       "            <td>19.00</td>\n",
       "            <td>15.00</td>\n",
       "        </tr>\n",
       "    </tbody>\n",
       "</table>"
      ],
      "text/plain": [
       "[(9100, Decimal('121.00'), Decimal('77.00')),\n",
       " (9200, Decimal('19.00'), Decimal('15.00'))]"
      ]
     },
     "execution_count": 30,
     "metadata": {},
     "output_type": "execute_result"
    }
   ],
   "source": [
    "%%sql\n",
    "select category, sum(b.est_cost) as est,\n",
    "    (\n",
    "        select sum(a.act_cost)\n",
    "        from actual as a\n",
    "        where a.task between min(b.task) and max(b.task)\n",
    "    ) as act\n",
    "from Budgeted as b\n",
    "group by category"
   ]
  }
 ],
 "metadata": {
  "kernelspec": {
   "display_name": "Python 3 (ipykernel)",
   "language": "python",
   "name": "python3"
  },
  "language_info": {
   "codemirror_mode": {
    "name": "ipython",
    "version": 3
   },
   "file_extension": ".py",
   "mimetype": "text/x-python",
   "name": "python",
   "nbconvert_exporter": "python",
   "pygments_lexer": "ipython3",
   "version": "3.11.5"
  }
 },
 "nbformat": 4,
 "nbformat_minor": 5
}
