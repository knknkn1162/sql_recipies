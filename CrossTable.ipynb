{
 "cells": [
  {
   "cell_type": "code",
   "execution_count": 44,
   "id": "ae8be20a-d570-492f-9146-5afe3745c55b",
   "metadata": {},
   "outputs": [
    {
     "name": "stdout",
     "output_type": "stream",
     "text": [
      "The sql extension is already loaded. To reload it, use:\n",
      "  %reload_ext sql\n"
     ]
    }
   ],
   "source": [
    "%load_ext sql\n",
    "import os\n",
    "from sqlalchemy import create_engine\n",
    "\n",
    "pgconfig = {\n",
    "    'host': 'db',\n",
    "    'port': os.environ['PG_PORT'],\n",
    "    'database': os.environ['PG_DATABASE'],\n",
    "    'user': os.environ['PG_USER'],\n",
    "    'password': os.environ['PG_PASSWORD'],\n",
    "}\n",
    "dsl = 'postgresql://{user}:{password}@{host}:{port}/{database}'.format(**pgconfig)\n",
    "conn = create_engine(dsl)\n",
    "\n",
    "# MagicコマンドでSQLを書くための設定\n",
    "%sql conn"
   ]
  },
  {
   "cell_type": "code",
   "execution_count": 45,
   "id": "e4b17608-8a4f-4bb3-b4e4-1797b4d6457c",
   "metadata": {},
   "outputs": [
    {
     "name": "stdout",
     "output_type": "stream",
     "text": [
      "*  postgresql://padawan:***@db:5432/dsdojo_db\n",
      "Done.\n",
      "Done.\n",
      "1 rows affected.\n",
      "1 rows affected.\n",
      "1 rows affected.\n",
      "1 rows affected.\n",
      "1 rows affected.\n",
      "1 rows affected.\n",
      "6 rows affected.\n"
     ]
    },
    {
     "data": {
      "text/html": [
       "<table>\n",
       "    <thead>\n",
       "        <tr>\n",
       "            <th>month</th>\n",
       "            <th>course_id</th>\n",
       "        </tr>\n",
       "    </thead>\n",
       "    <tbody>\n",
       "        <tr>\n",
       "            <td>201806</td>\n",
       "            <td>1</td>\n",
       "        </tr>\n",
       "        <tr>\n",
       "            <td>201806</td>\n",
       "            <td>3</td>\n",
       "        </tr>\n",
       "        <tr>\n",
       "            <td>201806</td>\n",
       "            <td>4</td>\n",
       "        </tr>\n",
       "        <tr>\n",
       "            <td>201807</td>\n",
       "            <td>4</td>\n",
       "        </tr>\n",
       "        <tr>\n",
       "            <td>201808</td>\n",
       "            <td>2</td>\n",
       "        </tr>\n",
       "        <tr>\n",
       "            <td>201808</td>\n",
       "            <td>4</td>\n",
       "        </tr>\n",
       "    </tbody>\n",
       "</table>"
      ],
      "text/plain": [
       "[(201806, 1), (201806, 3), (201806, 4), (201807, 4), (201808, 2), (201808, 4)]"
      ]
     },
     "execution_count": 45,
     "metadata": {},
     "output_type": "execute_result"
    }
   ],
   "source": [
    "%%sql\n",
    "drop table if exists OpenCourses;\n",
    "CREATE TABLE OpenCourses\n",
    "(month       INTEGER ,\n",
    " course_id   INTEGER ,\n",
    "    PRIMARY KEY(month, course_id));\n",
    "\n",
    "INSERT INTO OpenCourses VALUES(201806, 1);\n",
    "INSERT INTO OpenCourses VALUES(201806, 3);\n",
    "INSERT INTO OpenCourses VALUES(201806, 4);\n",
    "INSERT INTO OpenCourses VALUES(201807, 4);\n",
    "INSERT INTO OpenCourses VALUES(201808, 2);\n",
    "INSERT INTO OpenCourses VALUES(201808, 4);\n",
    "\n",
    "select *\n",
    "from OpenCourses;"
   ]
  },
  {
   "cell_type": "markdown",
   "id": "14caa6ac-37e0-4f8d-9664-edc118dcf8eb",
   "metadata": {},
   "source": [
    "## やりたいこと\n",
    "+ 下のようなクロス表を作成する"
   ]
  },
  {
   "cell_type": "code",
   "execution_count": 3,
   "id": "c32ebb04-e308-4a34-bd59-2799bde99f27",
   "metadata": {},
   "outputs": [
    {
     "name": "stdout",
     "output_type": "stream",
     "text": [
      "*  postgresql://padawan:***@db:5432/dsdojo_db\n",
      "4 rows affected.\n"
     ]
    },
    {
     "data": {
      "text/html": [
       "<table>\n",
       "    <thead>\n",
       "        <tr>\n",
       "            <th>course_id</th>\n",
       "            <th>June</th>\n",
       "            <th>July</th>\n",
       "            <th>August</th>\n",
       "        </tr>\n",
       "    </thead>\n",
       "    <tbody>\n",
       "        <tr>\n",
       "            <td>1</td>\n",
       "            <td>o</td>\n",
       "            <td>x</td>\n",
       "            <td>x</td>\n",
       "        </tr>\n",
       "        <tr>\n",
       "            <td>2</td>\n",
       "            <td>x</td>\n",
       "            <td>x</td>\n",
       "            <td>o</td>\n",
       "        </tr>\n",
       "        <tr>\n",
       "            <td>3</td>\n",
       "            <td>o</td>\n",
       "            <td>x</td>\n",
       "            <td>x</td>\n",
       "        </tr>\n",
       "        <tr>\n",
       "            <td>4</td>\n",
       "            <td>o</td>\n",
       "            <td>o</td>\n",
       "            <td>o</td>\n",
       "        </tr>\n",
       "    </tbody>\n",
       "</table>"
      ],
      "text/plain": [
       "[(1, 'o', 'x', 'x'),\n",
       " (2, 'x', 'x', 'o'),\n",
       " (3, 'o', 'x', 'x'),\n",
       " (4, 'o', 'o', 'o')]"
      ]
     },
     "execution_count": 3,
     "metadata": {},
     "output_type": "execute_result"
    }
   ],
   "source": [
    "%%sql\n",
    "select course_id,\n",
    "    min(case when month=201806 then 'o' else 'x' end) as \"June\",\n",
    "    min(case when month=201807 then 'o' else 'x' end) as \"July\",\n",
    "    min(case when month=201808 then 'o' else 'x' end) as \"August\"\n",
    "from OpenCourses\n",
    "group by course_id\n",
    "order by course_id"
   ]
  },
  {
   "cell_type": "code",
   "execution_count": 50,
   "id": "629d70fe-c756-46b5-a7cd-0b3c0e88aba6",
   "metadata": {},
   "outputs": [
    {
     "name": "stdout",
     "output_type": "stream",
     "text": [
      "*  postgresql://padawan:***@db:5432/dsdojo_db\n",
      "4 rows affected.\n"
     ]
    },
    {
     "data": {
      "text/html": [
       "<table>\n",
       "    <thead>\n",
       "        <tr>\n",
       "            <th>course_id</th>\n",
       "            <th>June</th>\n",
       "            <th>July</th>\n",
       "            <th>August</th>\n",
       "        </tr>\n",
       "    </thead>\n",
       "    <tbody>\n",
       "        <tr>\n",
       "            <td>1</td>\n",
       "            <td>o</td>\n",
       "            <td>x</td>\n",
       "            <td>x</td>\n",
       "        </tr>\n",
       "        <tr>\n",
       "            <td>2</td>\n",
       "            <td>x</td>\n",
       "            <td>x</td>\n",
       "            <td>o</td>\n",
       "        </tr>\n",
       "        <tr>\n",
       "            <td>3</td>\n",
       "            <td>o</td>\n",
       "            <td>x</td>\n",
       "            <td>x</td>\n",
       "        </tr>\n",
       "        <tr>\n",
       "            <td>4</td>\n",
       "            <td>o</td>\n",
       "            <td>o</td>\n",
       "            <td>o</td>\n",
       "        </tr>\n",
       "    </tbody>\n",
       "</table>"
      ],
      "text/plain": [
       "[(1, 'o', 'x', 'x'),\n",
       " (2, 'x', 'x', 'o'),\n",
       " (3, 'o', 'x', 'x'),\n",
       " (4, 'o', 'o', 'o')]"
      ]
     },
     "execution_count": 50,
     "metadata": {},
     "output_type": "execute_result"
    }
   ],
   "source": [
    "%%sql\n",
    "-- case..endとsumを合わせる\n",
    "select course_id,\n",
    "    case when sum(case when month = '201806' then 1 else null end) = 1\n",
    "        then 'o' else 'x'\n",
    "    end as \"June\",\n",
    "    case when sum(case when month = '201807' then 1 else null end) = 1\n",
    "        then 'o' else 'x'\n",
    "    end as \"July\",\n",
    "    case when sum(case when month = '201808' then 1 else null end) = 1\n",
    "        then 'o' else 'x'\n",
    "    end as \"August\"\n",
    "from OpenCourses as oc\n",
    "group by oc.course_id\n",
    "order by oc.course_id"
   ]
  },
  {
   "cell_type": "markdown",
   "id": "304a5dd4-6594-4802-aaa1-1cf7a472077a",
   "metadata": {},
   "source": [
    "\n",
    "1. groupで一覧を出す -> 集約関数で答えを出す\n",
    "2. 重複機にせず計算して、distinctで最終結果を出す\n",
    "3. distinctでsourceを出す\n",
    "  + select部は case whenとinで対応\n",
    "  + select部は case whenとexistsで対応 -> 相関サブクエリ\n",
    "4. distinctでsourceを出し、joinで対応する"
   ]
  },
  {
   "cell_type": "code",
   "execution_count": 4,
   "id": "28314c20-867e-483d-a3a2-ecf10bd0a555",
   "metadata": {},
   "outputs": [
    {
     "name": "stdout",
     "output_type": "stream",
     "text": [
      "*  postgresql://padawan:***@db:5432/dsdojo_db\n",
      "4 rows affected.\n"
     ]
    },
    {
     "data": {
      "text/html": [
       "<table>\n",
       "    <thead>\n",
       "        <tr>\n",
       "            <th>course_id</th>\n",
       "            <th>June</th>\n",
       "            <th>July</th>\n",
       "            <th>August</th>\n",
       "        </tr>\n",
       "    </thead>\n",
       "    <tbody>\n",
       "        <tr>\n",
       "            <td>1</td>\n",
       "            <td>o</td>\n",
       "            <td>x</td>\n",
       "            <td>x</td>\n",
       "        </tr>\n",
       "        <tr>\n",
       "            <td>2</td>\n",
       "            <td>x</td>\n",
       "            <td>x</td>\n",
       "            <td>o</td>\n",
       "        </tr>\n",
       "        <tr>\n",
       "            <td>3</td>\n",
       "            <td>o</td>\n",
       "            <td>x</td>\n",
       "            <td>x</td>\n",
       "        </tr>\n",
       "        <tr>\n",
       "            <td>4</td>\n",
       "            <td>o</td>\n",
       "            <td>o</td>\n",
       "            <td>o</td>\n",
       "        </tr>\n",
       "    </tbody>\n",
       "</table>"
      ],
      "text/plain": [
       "[(1, 'o', 'x', 'x'),\n",
       " (2, 'x', 'x', 'o'),\n",
       " (3, 'o', 'x', 'x'),\n",
       " (4, 'o', 'o', 'o')]"
      ]
     },
     "execution_count": 4,
     "metadata": {},
     "output_type": "execute_result"
    }
   ],
   "source": [
    "%%sql\n",
    "-- existsと相関サブクエリ\n",
    "select distinct course_id,\n",
    "    case when exists (\n",
    "        select *\n",
    "        from OpenCourses as oc2\n",
    "        where oc1.course_id = oc2.course_id and\n",
    "        oc2.month = 201806\n",
    "    ) then 'o' else 'x' end as \"June\",\n",
    "    case when exists (\n",
    "        select *\n",
    "        from OpenCourses as oc2\n",
    "        where oc1.course_id = oc2.course_id and\n",
    "        oc2.month = 201807\n",
    "    ) then 'o' else 'x' end as \"July\",\n",
    "    case when exists (\n",
    "        select *\n",
    "        from OpenCourses as oc2\n",
    "        where oc1.course_id = oc2.course_id and\n",
    "        oc2.month = 201808\n",
    "    ) then 'o' else 'x' end as \"August\"\n",
    "from OpenCourses as oc1"
   ]
  },
  {
   "cell_type": "code",
   "execution_count": 5,
   "id": "789a1334-d3c6-49ea-b50d-2f225e8c7224",
   "metadata": {},
   "outputs": [
    {
     "name": "stdout",
     "output_type": "stream",
     "text": [
      "*  postgresql://padawan:***@db:5432/dsdojo_db\n",
      "4 rows affected.\n"
     ]
    },
    {
     "data": {
      "text/html": [
       "<table>\n",
       "    <thead>\n",
       "        <tr>\n",
       "            <th>course_id</th>\n",
       "            <th>June</th>\n",
       "            <th>July</th>\n",
       "            <th>August</th>\n",
       "        </tr>\n",
       "    </thead>\n",
       "    <tbody>\n",
       "        <tr>\n",
       "            <td>1</td>\n",
       "            <td>True</td>\n",
       "            <td>False</td>\n",
       "            <td>False</td>\n",
       "        </tr>\n",
       "        <tr>\n",
       "            <td>2</td>\n",
       "            <td>False</td>\n",
       "            <td>False</td>\n",
       "            <td>True</td>\n",
       "        </tr>\n",
       "        <tr>\n",
       "            <td>3</td>\n",
       "            <td>True</td>\n",
       "            <td>False</td>\n",
       "            <td>False</td>\n",
       "        </tr>\n",
       "        <tr>\n",
       "            <td>4</td>\n",
       "            <td>True</td>\n",
       "            <td>True</td>\n",
       "            <td>True</td>\n",
       "        </tr>\n",
       "    </tbody>\n",
       "</table>"
      ],
      "text/plain": [
       "[(1, True, False, False),\n",
       " (2, False, False, True),\n",
       " (3, True, False, False),\n",
       " (4, True, True, True)]"
      ]
     },
     "execution_count": 5,
     "metadata": {},
     "output_type": "execute_result"
    }
   ],
   "source": [
    "%%sql\n",
    "-- inを使う\n",
    "select oc1.course_id,\n",
    "    course_id in (\n",
    "    select course_id\n",
    "    from OpenCourses\n",
    "    where month = 201806\n",
    ") as \"June\",\n",
    "    course_id in (\n",
    "    select course_id\n",
    "    from OpenCourses\n",
    "    where month = 201807\n",
    ") as \"July\",\n",
    "    course_id in (\n",
    "    select course_id\n",
    "    from OpenCourses\n",
    "    where month = 201808\n",
    ") as \"August\"\n",
    "from (\n",
    "    select distinct course_id\n",
    "    from OpenCourses\n",
    "    order by course_id\n",
    ") as oc1"
   ]
  },
  {
   "cell_type": "code",
   "execution_count": 55,
   "id": "8480b77f-b7c1-426b-9681-f10ae617b78e",
   "metadata": {},
   "outputs": [
    {
     "name": "stdout",
     "output_type": "stream",
     "text": [
      "*  postgresql://padawan:***@db:5432/dsdojo_db\n",
      "4 rows affected.\n"
     ]
    },
    {
     "data": {
      "text/html": [
       "<table>\n",
       "    <thead>\n",
       "        <tr>\n",
       "            <th>course_id</th>\n",
       "            <th>June</th>\n",
       "            <th>July</th>\n",
       "            <th>August</th>\n",
       "        </tr>\n",
       "    </thead>\n",
       "    <tbody>\n",
       "        <tr>\n",
       "            <td>1</td>\n",
       "            <td>o</td>\n",
       "            <td>None</td>\n",
       "            <td>None</td>\n",
       "        </tr>\n",
       "        <tr>\n",
       "            <td>2</td>\n",
       "            <td>None</td>\n",
       "            <td>None</td>\n",
       "            <td>o</td>\n",
       "        </tr>\n",
       "        <tr>\n",
       "            <td>3</td>\n",
       "            <td>o</td>\n",
       "            <td>None</td>\n",
       "            <td>None</td>\n",
       "        </tr>\n",
       "        <tr>\n",
       "            <td>4</td>\n",
       "            <td>o</td>\n",
       "            <td>o</td>\n",
       "            <td>o</td>\n",
       "        </tr>\n",
       "    </tbody>\n",
       "</table>"
      ],
      "text/plain": [
       "[(1, 'o', None, None),\n",
       " (2, None, None, 'o'),\n",
       " (3, 'o', None, None),\n",
       " (4, 'o', 'o', 'o')]"
      ]
     },
     "execution_count": 55,
     "metadata": {},
     "output_type": "execute_result"
    }
   ],
   "source": [
    "%%sql\n",
    "-- where使わないでselectの中に相関サブクエリを書いてもできる:\n",
    "select course_id,\n",
    "    (\n",
    "        select 'o'\n",
    "        from OpenCourses as c1\n",
    "        where c1.course_id = c2.course_id and\n",
    "        month = '201806'\n",
    "    ) as \"June\",\n",
    "    (\n",
    "        select 'o'\n",
    "        from OpenCourses as c1\n",
    "        where c1.course_id = c2.course_id and\n",
    "        month = '201807'\n",
    "    ) as \"July\",\n",
    "    (\n",
    "        select 'o'\n",
    "        from OpenCourses as c1\n",
    "        where c1.course_id = c2.course_id and\n",
    "        month = '201808'\n",
    "    ) as \"August\"\n",
    "from (\n",
    "    select distinct course_id\n",
    "    from OpenCourses\n",
    ") as c2\n",
    "order by c2.course_id"
   ]
  },
  {
   "cell_type": "code",
   "execution_count": 6,
   "id": "69ae658b-6c11-4707-bff2-c3e004b28df5",
   "metadata": {},
   "outputs": [
    {
     "name": "stdout",
     "output_type": "stream",
     "text": [
      "*  postgresql://padawan:***@db:5432/dsdojo_db\n",
      "4 rows affected.\n"
     ]
    },
    {
     "data": {
      "text/html": [
       "<table>\n",
       "    <thead>\n",
       "        <tr>\n",
       "            <th>course_id</th>\n",
       "            <th>June</th>\n",
       "            <th>July</th>\n",
       "            <th>August</th>\n",
       "        </tr>\n",
       "    </thead>\n",
       "    <tbody>\n",
       "        <tr>\n",
       "            <td>1</td>\n",
       "            <td>o</td>\n",
       "            <td>None</td>\n",
       "            <td>None</td>\n",
       "        </tr>\n",
       "        <tr>\n",
       "            <td>2</td>\n",
       "            <td>None</td>\n",
       "            <td>None</td>\n",
       "            <td>o</td>\n",
       "        </tr>\n",
       "        <tr>\n",
       "            <td>3</td>\n",
       "            <td>o</td>\n",
       "            <td>None</td>\n",
       "            <td>None</td>\n",
       "        </tr>\n",
       "        <tr>\n",
       "            <td>4</td>\n",
       "            <td>o</td>\n",
       "            <td>o</td>\n",
       "            <td>o</td>\n",
       "        </tr>\n",
       "    </tbody>\n",
       "</table>"
      ],
      "text/plain": [
       "[(1, 'o', None, None),\n",
       " (2, None, None, 'o'),\n",
       " (3, 'o', None, None),\n",
       " (4, 'o', 'o', 'o')]"
      ]
     },
     "execution_count": 6,
     "metadata": {},
     "output_type": "execute_result"
    }
   ],
   "source": [
    "%%sql\n",
    "select\n",
    "    oc1.course_id,\n",
    "    \"June\",\n",
    "    \"July\",\n",
    "    \"August\"\n",
    "-- 表側固定のクロス表を作る\n",
    "from (\n",
    "    select distinct course_id\n",
    "    from OpenCourses\n",
    "    order by course_id\n",
    ") as oc1\n",
    "left join (\n",
    "    select course_id, 'o' as \"June\"\n",
    "    from OpenCourses\n",
    "    where month = 201806 \n",
    ") as oc2\n",
    "on oc1.course_id = oc2.course_id\n",
    "left join (\n",
    "    select course_id, 'o' as \"July\"\n",
    "    from OpenCourses\n",
    "    where month = 201807\n",
    ") as oc3\n",
    "on oc1.course_id = oc3.course_id\n",
    "left join (\n",
    "    select course_id, 'o' as \"August\"\n",
    "    from OpenCourses\n",
    "    where month = 201808\n",
    ") as oc4\n",
    "on oc1.course_id = oc4.course_id"
   ]
  },
  {
   "cell_type": "code",
   "execution_count": 46,
   "id": "a79a5e62-4cd5-4ae4-bd2f-3c5e9170b1ca",
   "metadata": {},
   "outputs": [],
   "source": [
    "# ------\n",
    "# ServerLoadSampleに対して\n",
    "# 計測日をcompleteした表を出す"
   ]
  },
  {
   "cell_type": "code",
   "execution_count": null,
   "id": "7202af57-db12-4e2b-950e-3a00ab3ff9e6",
   "metadata": {},
   "outputs": [],
   "source": []
  },
  {
   "cell_type": "code",
   "execution_count": null,
   "id": "e343ec95-61f1-4328-af62-659a4cb47e5a",
   "metadata": {},
   "outputs": [],
   "source": []
  }
 ],
 "metadata": {
  "kernelspec": {
   "display_name": "Python 3 (ipykernel)",
   "language": "python",
   "name": "python3"
  },
  "language_info": {
   "codemirror_mode": {
    "name": "ipython",
    "version": 3
   },
   "file_extension": ".py",
   "mimetype": "text/x-python",
   "name": "python",
   "nbconvert_exporter": "python",
   "pygments_lexer": "ipython3",
   "version": "3.11.5"
  }
 },
 "nbformat": 4,
 "nbformat_minor": 5
}
