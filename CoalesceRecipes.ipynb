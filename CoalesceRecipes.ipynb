{
 "cells": [
  {
   "cell_type": "code",
   "execution_count": 2,
   "id": "3ad78e39-5fd3-47f8-a729-e4659ff9f6da",
   "metadata": {},
   "outputs": [
    {
     "name": "stdout",
     "output_type": "stream",
     "text": [
      "\u001b[33mThere's a new jupysql version available (0.10.2), you're running 0.7.2. To upgrade: pip install jupysql --upgrade\u001b[0m\n"
     ]
    }
   ],
   "source": [
    "%load_ext sql\n",
    "import os\n",
    "from sqlalchemy import create_engine\n",
    "\n",
    "pgconfig = {\n",
    "    'host': 'db',\n",
    "    'port': os.environ['PG_PORT'],\n",
    "    'database': os.environ['PG_DATABASE'],\n",
    "    'user': os.environ['PG_USER'],\n",
    "    'password': os.environ['PG_PASSWORD'],\n",
    "}\n",
    "dsl = 'postgresql://{user}:{password}@{host}:{port}/{database}'.format(**pgconfig)\n",
    "conn = create_engine(dsl)\n",
    "\n",
    "# MagicコマンドでSQLを書くための設定\n",
    "%sql conn"
   ]
  },
  {
   "cell_type": "markdown",
   "id": "84eea0ac-198e-4694-b945-2f4a25f92273",
   "metadata": {},
   "source": [
    "# coalesceの使い所"
   ]
  },
  {
   "cell_type": "markdown",
   "id": "e6d9d95f-64b5-44db-929a-b0608631046b",
   "metadata": {},
   "source": [
    "## 条件が1つも当てはまらなかった時(=NULL)のデフォルト値をうめる\n",
    "+ 空行の場合はsumはNULLを返すので、それの穴埋め\n",
    "  + countの場合は空行の場合0を返す。"
   ]
  },
  {
   "cell_type": "code",
   "execution_count": 23,
   "id": "701e64d1-04dd-4b67-9284-14f559ee5619",
   "metadata": {},
   "outputs": [
    {
     "name": "stdout",
     "output_type": "stream",
     "text": [
      "*  postgresql://padawan:***@db:5432/dsdojo_db\n",
      "Done.\n",
      "Done.\n",
      "1 rows affected.\n",
      "1 rows affected.\n",
      "1 rows affected.\n",
      "1 rows affected.\n",
      "1 rows affected.\n"
     ]
    },
    {
     "data": {
      "text/plain": [
       "[]"
      ]
     },
     "execution_count": 23,
     "metadata": {},
     "output_type": "execute_result"
    }
   ],
   "source": [
    "%%sql\n",
    "drop table if exists PrinterControl;\n",
    "CREATE TABLE PrinterControl\n",
    "(user_id CHAR(10), -- NULLは空きプリンタを意味する\n",
    " printer_name CHAR(4) NOT NULL PRIMARY KEY,\n",
    " printer_description CHAR(40) NOT NULL);\n",
    "\n",
    "INSERT INTO PrinterControl VALUES( 'chacha',  'LPT1',  '一階のプリンタ');\n",
    "INSERT INTO PrinterControl VALUES( 'lee'   ,  'LPT2',  '二階のプリンタ'); \n",
    "INSERT INTO PrinterControl VALUES( 'thomas',  'LPT3',  '三階のプリンタ' );\n",
    "INSERT INTO PrinterControl VALUES( NULL    ,  'LPT4',  '共有プリンタ' );\n",
    "INSERT INTO PrinterControl VALUES( NULL    ,  'LPT5',  '共有プリンタ' );"
   ]
  },
  {
   "cell_type": "code",
   "execution_count": 25,
   "id": "c48972b3-942c-4fd2-ae32-eb51bbaf0b8a",
   "metadata": {},
   "outputs": [
    {
     "name": "stdout",
     "output_type": "stream",
     "text": [
      "*  postgresql://padawan:***@db:5432/dsdojo_db\n",
      "1 rows affected.\n"
     ]
    },
    {
     "data": {
      "text/html": [
       "<table>\n",
       "    <thead>\n",
       "        <tr>\n",
       "            <th>coalesce</th>\n",
       "        </tr>\n",
       "    </thead>\n",
       "    <tbody>\n",
       "        <tr>\n",
       "            <td>LPT4</td>\n",
       "        </tr>\n",
       "    </tbody>\n",
       "</table>"
      ],
      "text/plain": [
       "[('LPT4',)]"
      ]
     },
     "execution_count": 25,
     "metadata": {},
     "output_type": "execute_result"
    }
   ],
   "source": [
    "%%sql\n",
    "-- 空行の場合もmin(printer_name) -> NULLを返す\n",
    "select coalesce(\n",
    "        min(printer_name),\n",
    "        (\n",
    "            select min(printer_name)\n",
    "            from PrinterControl\n",
    "            where user_id is null\n",
    "        )\n",
    "    )\n",
    "from PrinterControl\n",
    "where user_id = 'dummy'"
   ]
  },
  {
   "cell_type": "markdown",
   "id": "4867c05e-a1e3-458c-be84-626e1248cf21",
   "metadata": {},
   "source": [
    "## すべての列がnullであるものを探す"
   ]
  },
  {
   "cell_type": "code",
   "execution_count": 21,
   "id": "88616edf-e870-45b6-8d44-f011b61bee16",
   "metadata": {},
   "outputs": [
    {
     "name": "stdout",
     "output_type": "stream",
     "text": [
      "*  postgresql://padawan:***@db:5432/dsdojo_db\n",
      "Done.\n",
      "Done.\n",
      "1 rows affected.\n",
      "1 rows affected.\n"
     ]
    },
    {
     "data": {
      "text/plain": [
       "[]"
      ]
     },
     "execution_count": 21,
     "metadata": {},
     "output_type": "execute_result"
    }
   ],
   "source": [
    "%%sql\n",
    "drop table if exists Arraytbl;\n",
    "CREATE TABLE ArrayTbl\n",
    " (keycol CHAR(1) PRIMARY KEY,\n",
    "  col1  INTEGER,\n",
    "  col2  INTEGER,\n",
    "  col3  INTEGER,\n",
    "  col4  INTEGER,\n",
    "  col5  INTEGER,\n",
    "  col6  INTEGER,\n",
    "  col7  INTEGER,\n",
    "  col8  INTEGER,\n",
    "  col9  INTEGER,\n",
    "  col10 INTEGER);\n",
    "\n",
    "--オールNULL\n",
    "INSERT INTO ArrayTbl VALUES('A', NULL, NULL, NULL, NULL, NULL, NULL, NULL, NULL, NULL, NULL);\n",
    "INSERT INTO ArrayTbl VALUES('B', 3, NULL, NULL, NULL, NULL, NULL, NULL, NULL, NULL, NULL);"
   ]
  },
  {
   "cell_type": "code",
   "execution_count": 22,
   "id": "b46ae037-b941-445d-a066-67584064f3f7",
   "metadata": {},
   "outputs": [
    {
     "name": "stdout",
     "output_type": "stream",
     "text": [
      "*  postgresql://padawan:***@db:5432/dsdojo_db\n",
      "1 rows affected.\n"
     ]
    },
    {
     "data": {
      "text/html": [
       "<table>\n",
       "    <thead>\n",
       "        <tr>\n",
       "            <th>keycol</th>\n",
       "            <th>col1</th>\n",
       "            <th>col2</th>\n",
       "            <th>col3</th>\n",
       "            <th>col4</th>\n",
       "            <th>col5</th>\n",
       "            <th>col6</th>\n",
       "            <th>col7</th>\n",
       "            <th>col8</th>\n",
       "            <th>col9</th>\n",
       "            <th>col10</th>\n",
       "        </tr>\n",
       "    </thead>\n",
       "    <tbody>\n",
       "        <tr>\n",
       "            <td>A</td>\n",
       "            <td>None</td>\n",
       "            <td>None</td>\n",
       "            <td>None</td>\n",
       "            <td>None</td>\n",
       "            <td>None</td>\n",
       "            <td>None</td>\n",
       "            <td>None</td>\n",
       "            <td>None</td>\n",
       "            <td>None</td>\n",
       "            <td>None</td>\n",
       "        </tr>\n",
       "    </tbody>\n",
       "</table>"
      ],
      "text/plain": [
       "[('A', None, None, None, None, None, None, None, None, None, None)]"
      ]
     },
     "execution_count": 22,
     "metadata": {},
     "output_type": "execute_result"
    }
   ],
   "source": [
    "%%sql\n",
    "SELECT *\n",
    "  FROM ArrayTbl\n",
    " WHERE COALESCE(col1, col2, col3, col4, col5, col6, col7, col8, col9, col10) IS NULL;"
   ]
  },
  {
   "cell_type": "markdown",
   "id": "79526c85-f736-40cf-adfb-d57a5a29f124",
   "metadata": {},
   "source": [
    "## 現在行と次の行を比較して一括updateする\n",
    "  + 最後の行はnullになるのでcoalesce使う"
   ]
  },
  {
   "cell_type": "code",
   "execution_count": 17,
   "id": "4e090fef-80f8-414f-8366-869ca6631ac6",
   "metadata": {},
   "outputs": [
    {
     "name": "stdout",
     "output_type": "stream",
     "text": [
      "*  postgresql://padawan:***@db:5432/dsdojo_db\n",
      "Done.\n",
      "Done.\n",
      "7 rows affected.\n"
     ]
    },
    {
     "data": {
      "text/plain": [
       "[]"
      ]
     },
     "execution_count": 17,
     "metadata": {},
     "output_type": "execute_result"
    }
   ],
   "source": [
    "%%sql\n",
    "drop table if exists seq;\n",
    "create table seq (\n",
    "    id integer primary key,\n",
    "    value integer not null,\n",
    "    diff integer not null\n",
    ");\n",
    "insert into seq\n",
    "values (1,1,0),\n",
    "    (2,3,0),\n",
    "    (3,4,0),\n",
    "    (4,6,0),\n",
    "    (5,7,0),\n",
    "    (6,8,0),\n",
    "    (7,9,0);"
   ]
  },
  {
   "cell_type": "code",
   "execution_count": 20,
   "id": "930bd48b-d8a3-4612-a1b2-882a8d625442",
   "metadata": {},
   "outputs": [
    {
     "name": "stdout",
     "output_type": "stream",
     "text": [
      "*  postgresql://padawan:***@db:5432/dsdojo_db\n",
      "7 rows affected.\n",
      "7 rows affected.\n"
     ]
    },
    {
     "data": {
      "text/html": [
       "<table>\n",
       "    <thead>\n",
       "        <tr>\n",
       "            <th>id</th>\n",
       "            <th>value</th>\n",
       "            <th>diff</th>\n",
       "        </tr>\n",
       "    </thead>\n",
       "    <tbody>\n",
       "        <tr>\n",
       "            <td>1</td>\n",
       "            <td>1</td>\n",
       "            <td>2</td>\n",
       "        </tr>\n",
       "        <tr>\n",
       "            <td>2</td>\n",
       "            <td>3</td>\n",
       "            <td>1</td>\n",
       "        </tr>\n",
       "        <tr>\n",
       "            <td>3</td>\n",
       "            <td>4</td>\n",
       "            <td>2</td>\n",
       "        </tr>\n",
       "        <tr>\n",
       "            <td>4</td>\n",
       "            <td>6</td>\n",
       "            <td>1</td>\n",
       "        </tr>\n",
       "        <tr>\n",
       "            <td>5</td>\n",
       "            <td>7</td>\n",
       "            <td>1</td>\n",
       "        </tr>\n",
       "        <tr>\n",
       "            <td>6</td>\n",
       "            <td>8</td>\n",
       "            <td>1</td>\n",
       "        </tr>\n",
       "        <tr>\n",
       "            <td>7</td>\n",
       "            <td>9</td>\n",
       "            <td>0</td>\n",
       "        </tr>\n",
       "    </tbody>\n",
       "</table>"
      ],
      "text/plain": [
       "[(1, 1, 2), (2, 3, 1), (3, 4, 2), (4, 6, 1), (5, 7, 1), (6, 8, 1), (7, 9, 0)]"
      ]
     },
     "execution_count": 20,
     "metadata": {},
     "output_type": "execute_result"
    }
   ],
   "source": [
    "%%sql\n",
    "update seq as s1\n",
    "set diff = coalesce(\n",
    "    (\n",
    "        select min(value)\n",
    "        from seq as s2\n",
    "        where s1.value < s2.value\n",
    "    ) - s1.value\n",
    ", 0);\n",
    "\n",
    "select *\n",
    "from seq;"
   ]
  },
  {
   "cell_type": "markdown",
   "id": "5b09581f-ee2d-4005-879d-84557afa851d",
   "metadata": {},
   "source": [
    "## マスターデータの中で実績のない行を列挙する\n",
    "+ 顧客(Customer_id)の中で売上実績(Order)がないものなど"
   ]
  },
  {
   "cell_type": "code",
   "execution_count": 27,
   "id": "bdc035d7-87e7-4d3f-866f-9be6896081da",
   "metadata": {},
   "outputs": [
    {
     "name": "stdout",
     "output_type": "stream",
     "text": [
      "*  postgresql://padawan:***@db:5432/dsdojo_db\n",
      "Done.\n",
      "Done.\n",
      "Done.\n"
     ]
    },
    {
     "data": {
      "text/plain": [
       "[]"
      ]
     },
     "execution_count": 27,
     "metadata": {},
     "output_type": "execute_result"
    }
   ],
   "source": [
    "%%sql\n",
    "drop table if exists orders, customers;\n",
    "create table customers (\n",
    "    id integer primary key,\n",
    "    name varchar(32) not null\n",
    ");\n",
    "\n",
    "create table orders (\n",
    "    customer_id integer references Customers(id),\n",
    "    product_name varchar(32),\n",
    "    amount integer not null check (amount > 0),\n",
    "    primary key(customer_id, product_name)\n",
    ");"
   ]
  },
  {
   "cell_type": "code",
   "execution_count": 28,
   "id": "e6d4f080-bd69-4650-9fae-ad8976392c1c",
   "metadata": {},
   "outputs": [
    {
     "name": "stdout",
     "output_type": "stream",
     "text": [
      "*  postgresql://padawan:***@db:5432/dsdojo_db\n",
      "4 rows affected.\n",
      "3 rows affected.\n"
     ]
    },
    {
     "data": {
      "text/plain": [
       "[]"
      ]
     },
     "execution_count": 28,
     "metadata": {},
     "output_type": "execute_result"
    }
   ],
   "source": [
    "%%sql\n",
    "insert into customers\n",
    "values (1, 'AAA'),\n",
    "    (2, 'BBB'),\n",
    "    (3, 'CCC'),\n",
    "    (4, 'DDD');\n",
    "\n",
    "insert into orders\n",
    "values (1, 'zz', 2),\n",
    "    (1, 'yy', 3),\n",
    "    (3, 'xx', 1);"
   ]
  },
  {
   "cell_type": "code",
   "execution_count": 31,
   "id": "f3b67919-4542-4de7-9857-d1071aa3ffa8",
   "metadata": {},
   "outputs": [
    {
     "name": "stdout",
     "output_type": "stream",
     "text": [
      "*  postgresql://padawan:***@db:5432/dsdojo_db\n",
      "2 rows affected.\n"
     ]
    },
    {
     "data": {
      "text/html": [
       "<table>\n",
       "    <thead>\n",
       "        <tr>\n",
       "            <th>id</th>\n",
       "        </tr>\n",
       "    </thead>\n",
       "    <tbody>\n",
       "        <tr>\n",
       "            <td>4</td>\n",
       "        </tr>\n",
       "        <tr>\n",
       "            <td>2</td>\n",
       "        </tr>\n",
       "    </tbody>\n",
       "</table>"
      ],
      "text/plain": [
       "[(4,), (2,)]"
      ]
     },
     "execution_count": 31,
     "metadata": {},
     "output_type": "execute_result"
    }
   ],
   "source": [
    "%%sql\n",
    "-- left join + where is nullで対応\n",
    "select distinct id\n",
    "from customers as c\n",
    "left join orders as o\n",
    "on c.id = o.customer_id\n",
    "where customer_id is null"
   ]
  },
  {
   "cell_type": "markdown",
   "id": "a5c698aa-2573-401b-ae3c-f3acad541473",
   "metadata": {},
   "source": [
    "## 1行同士をjoinする\n",
    "+ 問題自体は各カラムについて初めて登場する(下から上に走査)非nullを見つけて、テーブル表示する"
   ]
  },
  {
   "cell_type": "code",
   "execution_count": 3,
   "id": "62966043-379b-4e59-b684-e9eebde73bde",
   "metadata": {},
   "outputs": [
    {
     "name": "stdout",
     "output_type": "stream",
     "text": [
      "*  postgresql://padawan:***@db:5432/dsdojo_db\n",
      "Done.\n",
      "Done.\n",
      "1 rows affected.\n",
      "1 rows affected.\n",
      "1 rows affected.\n",
      "1 rows affected.\n",
      "1 rows affected.\n"
     ]
    },
    {
     "data": {
      "text/plain": [
       "[]"
      ]
     },
     "execution_count": 3,
     "metadata": {},
     "output_type": "execute_result"
    }
   ],
   "source": [
    "%%sql\n",
    "drop table if exists Foobar;\n",
    "CREATE TABLE Foobar\n",
    "(lvl INTEGER NOT NULL PRIMARY KEY,\n",
    " color VARCHAR(10),\n",
    " length INTEGER,\n",
    " width INTEGER,\n",
    " hgt INTEGER);\n",
    "\n",
    "INSERT INTO Foobar VALUES (1, 'RED', 8, 10, 12);\n",
    "INSERT INTO Foobar VALUES (2, NULL, NULL, NULL, 20);\n",
    "INSERT INTO Foobar VALUES (3, NULL, 9, 82, 25);\n",
    "INSERT INTO Foobar VALUES (4, 'BLUE', NULL, 67, NULL);\n",
    "INSERT INTO Foobar VALUES (5, 'GRAY', NULL, NULL, NULL);"
   ]
  },
  {
   "cell_type": "code",
   "execution_count": 4,
   "id": "a1282a1c-1781-43d1-8495-69293e97d641",
   "metadata": {},
   "outputs": [
    {
     "name": "stdout",
     "output_type": "stream",
     "text": [
      "*  postgresql://padawan:***@db:5432/dsdojo_db\n",
      "1 rows affected.\n"
     ]
    },
    {
     "data": {
      "text/html": [
       "<table>\n",
       "    <thead>\n",
       "        <tr>\n",
       "            <th>color</th>\n",
       "            <th>length</th>\n",
       "            <th>width</th>\n",
       "            <th>hgt</th>\n",
       "        </tr>\n",
       "    </thead>\n",
       "    <tbody>\n",
       "        <tr>\n",
       "            <td>GRAY</td>\n",
       "            <td>9</td>\n",
       "            <td>67</td>\n",
       "            <td>25</td>\n",
       "        </tr>\n",
       "    </tbody>\n",
       "</table>"
      ],
      "text/plain": [
       "[('GRAY', 9, 67, 25)]"
      ]
     },
     "execution_count": 4,
     "metadata": {},
     "output_type": "execute_result"
    }
   ],
   "source": [
    "%%sql\n",
    "select\n",
    "    coalesce(f5.color, f4.color, f3.color, f2.color, f1.color) as color,\n",
    "    coalesce(f5.length, f4.length, f3.length, f2.length, f1.length) as length,\n",
    "    coalesce(f5.width, f4.width, f3.width, f2.width, f1.width) as width,\n",
    "    coalesce(f5.hgt, f4.hgt, f3.hgt, f2.hgt, f1.hgt) as hgt\n",
    "from Foobar as f1, Foobar as f2, Foobar as f3, Foobar as f4, Foobar as f5\n",
    "where f1.lvl = 1 and f2.lvl = 2 and f3.lvl = 3 and f4.lvl = 4 and f5.lvl = 5"
   ]
  },
  {
   "cell_type": "code",
   "execution_count": null,
   "id": "21b54609-3fa5-4eb1-a5e8-eb0ec24a03b9",
   "metadata": {},
   "outputs": [],
   "source": []
  }
 ],
 "metadata": {
  "kernelspec": {
   "display_name": "Python 3 (ipykernel)",
   "language": "python",
   "name": "python3"
  },
  "language_info": {
   "codemirror_mode": {
    "name": "ipython",
    "version": 3
   },
   "file_extension": ".py",
   "mimetype": "text/x-python",
   "name": "python",
   "nbconvert_exporter": "python",
   "pygments_lexer": "ipython3",
   "version": "3.11.5"
  }
 },
 "nbformat": 4,
 "nbformat_minor": 5
}
