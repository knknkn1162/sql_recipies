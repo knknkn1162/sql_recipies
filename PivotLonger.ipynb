{
 "cells": [
  {
   "cell_type": "code",
   "execution_count": 1,
   "id": "0758c0cb-cf1c-43af-b215-b4195d5b3848",
   "metadata": {},
   "outputs": [],
   "source": [
    "%load_ext sql\n",
    "import os\n",
    "from sqlalchemy import create_engine\n",
    "\n",
    "pgconfig = {\n",
    "    'host': 'db',\n",
    "    'port': os.environ['PG_PORT'],\n",
    "    'database': os.environ['PG_DATABASE'],\n",
    "    'user': os.environ['PG_USER'],\n",
    "    'password': os.environ['PG_PASSWORD'],\n",
    "}\n",
    "dsl = 'postgresql://{user}:{password}@{host}:{port}/{database}'.format(**pgconfig)\n",
    "conn = create_engine(dsl)\n",
    "\n",
    "# MagicコマンドでSQLを書くための設定\n",
    "%sql conn"
   ]
  },
  {
   "cell_type": "code",
   "execution_count": 2,
   "id": "7d368c3e-b4ac-41b5-8746-23855962c263",
   "metadata": {},
   "outputs": [
    {
     "name": "stdout",
     "output_type": "stream",
     "text": [
      "*  postgresql://padawan:***@db:5432/dsdojo_db\n",
      "Done.\n",
      "4 rows affected.\n"
     ]
    },
    {
     "data": {
      "text/plain": [
       "[]"
      ]
     },
     "execution_count": 2,
     "metadata": {},
     "output_type": "execute_result"
    }
   ],
   "source": [
    "%%sql\n",
    "create table WiderTbl (\n",
    "    id integer primary key,\n",
    "    cola integer,\n",
    "    colb integer,\n",
    "    colc integer\n",
    ");\n",
    "\n",
    "insert into WiderTbl\n",
    "values (1, 2,3,4),\n",
    "    (2, 3,NULL,NULL),\n",
    "    (3, NULL, 2,2),\n",
    "    (4, NULL, NULL, NULL);"
   ]
  },
  {
   "cell_type": "code",
   "execution_count": null,
   "id": "83d2fcc6-cf9f-46f3-a4a3-6d04db31b5f8",
   "metadata": {},
   "outputs": [],
   "source": [
    "## やりたいこと\n",
    "+ 列持ち(wider) -> 行持ち(longer)へ変換する(Rのpivot_longer相当)\n",
    "+ テーブル設計の鉄則：列持ちのメリットはほとんどない。速攻で行持ちへ変換せよ。"
   ]
  },
  {
   "cell_type": "code",
   "execution_count": 6,
   "id": "0bd95064-7e3f-47a4-88b7-2124f2d6a42d",
   "metadata": {},
   "outputs": [
    {
     "name": "stdout",
     "output_type": "stream",
     "text": [
      "*  postgresql://padawan:***@db:5432/dsdojo_db\n",
      "Done.\n",
      "Done.\n",
      "12 rows affected.\n"
     ]
    },
    {
     "data": {
      "text/html": [
       "<table>\n",
       "    <thead>\n",
       "        <tr>\n",
       "            <th>id</th>\n",
       "            <th>label</th>\n",
       "            <th>value</th>\n",
       "        </tr>\n",
       "    </thead>\n",
       "    <tbody>\n",
       "        <tr>\n",
       "            <td>1</td>\n",
       "            <td>a</td>\n",
       "            <td>2</td>\n",
       "        </tr>\n",
       "        <tr>\n",
       "            <td>1</td>\n",
       "            <td>b</td>\n",
       "            <td>3</td>\n",
       "        </tr>\n",
       "        <tr>\n",
       "            <td>1</td>\n",
       "            <td>c</td>\n",
       "            <td>4</td>\n",
       "        </tr>\n",
       "        <tr>\n",
       "            <td>2</td>\n",
       "            <td>c</td>\n",
       "            <td>None</td>\n",
       "        </tr>\n",
       "        <tr>\n",
       "            <td>2</td>\n",
       "            <td>a</td>\n",
       "            <td>3</td>\n",
       "        </tr>\n",
       "        <tr>\n",
       "            <td>2</td>\n",
       "            <td>b</td>\n",
       "            <td>None</td>\n",
       "        </tr>\n",
       "        <tr>\n",
       "            <td>3</td>\n",
       "            <td>b</td>\n",
       "            <td>2</td>\n",
       "        </tr>\n",
       "        <tr>\n",
       "            <td>3</td>\n",
       "            <td>c</td>\n",
       "            <td>2</td>\n",
       "        </tr>\n",
       "        <tr>\n",
       "            <td>3</td>\n",
       "            <td>a</td>\n",
       "            <td>None</td>\n",
       "        </tr>\n",
       "        <tr>\n",
       "            <td>4</td>\n",
       "            <td>a</td>\n",
       "            <td>None</td>\n",
       "        </tr>\n",
       "        <tr>\n",
       "            <td>4</td>\n",
       "            <td>c</td>\n",
       "            <td>None</td>\n",
       "        </tr>\n",
       "        <tr>\n",
       "            <td>4</td>\n",
       "            <td>b</td>\n",
       "            <td>None</td>\n",
       "        </tr>\n",
       "    </tbody>\n",
       "</table>"
      ],
      "text/plain": [
       "[(1, 'a', 2),\n",
       " (1, 'b', 3),\n",
       " (1, 'c', 4),\n",
       " (2, 'c', None),\n",
       " (2, 'a', 3),\n",
       " (2, 'b', None),\n",
       " (3, 'b', 2),\n",
       " (3, 'c', 2),\n",
       " (3, 'a', None),\n",
       " (4, 'a', None),\n",
       " (4, 'c', None),\n",
       " (4, 'b', None)]"
      ]
     },
     "execution_count": 6,
     "metadata": {},
     "output_type": "execute_result"
    }
   ],
   "source": [
    "%%sql\n",
    "drop view if exists LongerTbl;\n",
    "create view LongerTbl(id, label, value) as (\n",
    "    select id, 'a', cola\n",
    "    from WiderTbl\n",
    "    -- union allは重複を取り除かない\n",
    "    union all\n",
    "    select id, 'b', colb\n",
    "    from WiderTbl\n",
    "    union all\n",
    "    select id, 'c', colc\n",
    "    from WiderTbl\n",
    ");\n",
    "\n",
    "select *\n",
    "from LongerTbl\n",
    "order by id;"
   ]
  },
  {
   "cell_type": "code",
   "execution_count": null,
   "id": "1cb8441f-9586-49ea-b839-a148f3fe7d83",
   "metadata": {},
   "outputs": [],
   "source": []
  }
 ],
 "metadata": {
  "kernelspec": {
   "display_name": "Python 3 (ipykernel)",
   "language": "python",
   "name": "python3"
  },
  "language_info": {
   "codemirror_mode": {
    "name": "ipython",
    "version": 3
   },
   "file_extension": ".py",
   "mimetype": "text/x-python",
   "name": "python",
   "nbconvert_exporter": "python",
   "pygments_lexer": "ipython3",
   "version": "3.11.5"
  }
 },
 "nbformat": 4,
 "nbformat_minor": 5
}
