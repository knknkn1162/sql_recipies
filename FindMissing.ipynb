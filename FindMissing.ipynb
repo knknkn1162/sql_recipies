{
 "cells": [
  {
   "cell_type": "code",
   "execution_count": 2,
   "id": "aac3fbf3-e343-4d86-9f34-14f1c01f74aa",
   "metadata": {},
   "outputs": [],
   "source": [
    "%load_ext sql\n",
    "import os\n",
    "from sqlalchemy import create_engine\n",
    "\n",
    "pgconfig = {\n",
    "    'host': 'db',\n",
    "    'port': os.environ['PG_PORT'],\n",
    "    'database': os.environ['PG_DATABASE'],\n",
    "    'user': os.environ['PG_USER'],\n",
    "    'password': os.environ['PG_PASSWORD'],\n",
    "}\n",
    "dsl = 'postgresql://{user}:{password}@{host}:{port}/{database}'.format(**pgconfig)\n",
    "conn = create_engine(dsl)\n",
    "\n",
    "# MagicコマンドでSQLを書くための設定\n",
    "%sql conn"
   ]
  },
  {
   "cell_type": "code",
   "execution_count": 3,
   "id": "6332ee64-93e0-4ffa-b906-753f1e94b5ef",
   "metadata": {},
   "outputs": [
    {
     "name": "stdout",
     "output_type": "stream",
     "text": [
      "*  postgresql://padawan:***@db:5432/dsdojo_db\n",
      "Done.\n",
      "1 rows affected.\n",
      "1 rows affected.\n",
      "1 rows affected.\n",
      "1 rows affected.\n",
      "1 rows affected.\n",
      "1 rows affected.\n",
      "1 rows affected.\n",
      "1 rows affected.\n",
      "1 rows affected.\n"
     ]
    },
    {
     "data": {
      "text/plain": [
       "[]"
      ]
     },
     "execution_count": 3,
     "metadata": {},
     "output_type": "execute_result"
    }
   ],
   "source": [
    "%%sql\n",
    "CREATE TABLE DataFlowDiagrams\n",
    "(diagram_name CHAR(10) NOT NULL,\n",
    " bubble_name CHAR(10) NOT NULL,\n",
    " flow_name CHAR(10) NOT NULL,\n",
    "    PRIMARY KEY (diagram_name, bubble_name, flow_name));\n",
    "\n",
    "INSERT INTO DataFlowDiagrams VALUES('Proc1',  'input' ,   'guesses');\n",
    "INSERT INTO DataFlowDiagrams VALUES('Proc1',  'input' ,   'opinions'); \n",
    "INSERT INTO DataFlowDiagrams VALUES('Proc1',  'crunch',   'facts');\n",
    "INSERT INTO DataFlowDiagrams VALUES('Proc1',  'crunch',   'guesses');\n",
    "INSERT INTO DataFlowDiagrams VALUES('Proc1',  'crunch',   'opinions' );\n",
    "INSERT INTO DataFlowDiagrams VALUES('Proc1',  'output',   'facts');\n",
    "INSERT INTO DataFlowDiagrams VALUES('Proc1',  'output',   'guesses');\n",
    "INSERT INTO DataFlowDiagrams VALUES('Proc2',  'reckon',   'guesses');\n",
    "INSERT INTO DataFlowDiagrams VALUES('Proc2',  'reckon',   'opinions' );"
   ]
  },
  {
   "cell_type": "code",
   "execution_count": 51,
   "id": "69682124-b7eb-4919-bd57-c2774e5bf831",
   "metadata": {},
   "outputs": [
    {
     "name": "stdout",
     "output_type": "stream",
     "text": [
      "*  postgresql://padawan:***@db:5432/dsdojo_db\n",
      "12 rows affected.\n"
     ]
    },
    {
     "data": {
      "text/html": [
       "<table>\n",
       "    <thead>\n",
       "        <tr>\n",
       "            <th>diagram_name</th>\n",
       "            <th>bubble_name</th>\n",
       "            <th>flow_name</th>\n",
       "        </tr>\n",
       "    </thead>\n",
       "    <tbody>\n",
       "        <tr>\n",
       "            <td>Proc1     </td>\n",
       "            <td>input     </td>\n",
       "            <td>guesses   </td>\n",
       "        </tr>\n",
       "        <tr>\n",
       "            <td>Proc1     </td>\n",
       "            <td>input     </td>\n",
       "            <td>opinions  </td>\n",
       "        </tr>\n",
       "        <tr>\n",
       "            <td>Proc2     </td>\n",
       "            <td>reckon    </td>\n",
       "            <td>opinions  </td>\n",
       "        </tr>\n",
       "        <tr>\n",
       "            <td>Proc1     </td>\n",
       "            <td>crunch    </td>\n",
       "            <td>facts     </td>\n",
       "        </tr>\n",
       "        <tr>\n",
       "            <td>Proc2     </td>\n",
       "            <td>reckon    </td>\n",
       "            <td>facts     </td>\n",
       "        </tr>\n",
       "        <tr>\n",
       "            <td>Proc2     </td>\n",
       "            <td>reckon    </td>\n",
       "            <td>guesses   </td>\n",
       "        </tr>\n",
       "        <tr>\n",
       "            <td>Proc1     </td>\n",
       "            <td>input     </td>\n",
       "            <td>facts     </td>\n",
       "        </tr>\n",
       "        <tr>\n",
       "            <td>Proc1     </td>\n",
       "            <td>output    </td>\n",
       "            <td>guesses   </td>\n",
       "        </tr>\n",
       "        <tr>\n",
       "            <td>Proc1     </td>\n",
       "            <td>output    </td>\n",
       "            <td>facts     </td>\n",
       "        </tr>\n",
       "        <tr>\n",
       "            <td>Proc1     </td>\n",
       "            <td>crunch    </td>\n",
       "            <td>opinions  </td>\n",
       "        </tr>\n",
       "        <tr>\n",
       "            <td>Proc1     </td>\n",
       "            <td>crunch    </td>\n",
       "            <td>guesses   </td>\n",
       "        </tr>\n",
       "        <tr>\n",
       "            <td>Proc1     </td>\n",
       "            <td>output    </td>\n",
       "            <td>opinions  </td>\n",
       "        </tr>\n",
       "    </tbody>\n",
       "</table>"
      ],
      "text/plain": [
       "[('Proc1     ', 'input     ', 'guesses   '),\n",
       " ('Proc1     ', 'input     ', 'opinions  '),\n",
       " ('Proc2     ', 'reckon    ', 'opinions  '),\n",
       " ('Proc1     ', 'crunch    ', 'facts     '),\n",
       " ('Proc2     ', 'reckon    ', 'facts     '),\n",
       " ('Proc2     ', 'reckon    ', 'guesses   '),\n",
       " ('Proc1     ', 'input     ', 'facts     '),\n",
       " ('Proc1     ', 'output    ', 'guesses   '),\n",
       " ('Proc1     ', 'output    ', 'facts     '),\n",
       " ('Proc1     ', 'crunch    ', 'opinions  '),\n",
       " ('Proc1     ', 'crunch    ', 'guesses   '),\n",
       " ('Proc1     ', 'output    ', 'opinions  ')]"
      ]
     },
     "execution_count": 51,
     "metadata": {},
     "output_type": "execute_result"
    }
   ],
   "source": [
    "%%sql\n",
    "-- 全ての候補を列挙するクエリ\n",
    "select distinct d1.diagram_name, d1.bubble_name, d2.flow_name\n",
    "    from DataFlowDiagrams as d1, DataFlowDiagrams as d2"
   ]
  },
  {
   "cell_type": "code",
   "execution_count": 53,
   "id": "b5fac38e-6662-4150-9788-183e11b30fd2",
   "metadata": {},
   "outputs": [
    {
     "name": "stdout",
     "output_type": "stream",
     "text": [
      "*  postgresql://padawan:***@db:5432/dsdojo_db\n",
      "3 rows affected.\n"
     ]
    },
    {
     "data": {
      "text/html": [
       "<table>\n",
       "    <thead>\n",
       "        <tr>\n",
       "            <th>diagram_name</th>\n",
       "            <th>bubble_name</th>\n",
       "            <th>flow_name</th>\n",
       "        </tr>\n",
       "    </thead>\n",
       "    <tbody>\n",
       "        <tr>\n",
       "            <td>Proc2     </td>\n",
       "            <td>reckon    </td>\n",
       "            <td>facts     </td>\n",
       "        </tr>\n",
       "        <tr>\n",
       "            <td>Proc1     </td>\n",
       "            <td>input     </td>\n",
       "            <td>facts     </td>\n",
       "        </tr>\n",
       "        <tr>\n",
       "            <td>Proc1     </td>\n",
       "            <td>output    </td>\n",
       "            <td>opinions  </td>\n",
       "        </tr>\n",
       "    </tbody>\n",
       "</table>"
      ],
      "text/plain": [
       "[('Proc2     ', 'reckon    ', 'facts     '),\n",
       " ('Proc1     ', 'input     ', 'facts     '),\n",
       " ('Proc1     ', 'output    ', 'opinions  ')]"
      ]
     },
     "execution_count": 53,
     "metadata": {},
     "output_type": "execute_result"
    }
   ],
   "source": [
    "%%sql\n",
    "-- 全ての候補からnot existsでfilterする\n",
    "select distinct d1.diagram_name, d1.bubble_name, d2.flow_name\n",
    "from DataFlowDiagrams as d1, DataFlowDiagrams as d2\n",
    "where not exists (\n",
    "    select *\n",
    "    from DataFlowDiagrams as d3\n",
    "    where d1.diagram_name = d3.diagram_name and\n",
    "    d1.bubble_name = d3.bubble_name and\n",
    "    d2.flow_name = d3.flow_name\n",
    ")"
   ]
  },
  {
   "cell_type": "code",
   "execution_count": 56,
   "id": "779fd8ac-348d-4067-ba6f-38f5a1c0a683",
   "metadata": {},
   "outputs": [
    {
     "name": "stdout",
     "output_type": "stream",
     "text": [
      "*  postgresql://padawan:***@db:5432/dsdojo_db\n",
      "3 rows affected.\n"
     ]
    },
    {
     "data": {
      "text/html": [
       "<table>\n",
       "    <thead>\n",
       "        <tr>\n",
       "            <th>diagram_name</th>\n",
       "            <th>bubble_name</th>\n",
       "            <th>flow_name</th>\n",
       "        </tr>\n",
       "    </thead>\n",
       "    <tbody>\n",
       "        <tr>\n",
       "            <td>Proc2     </td>\n",
       "            <td>reckon    </td>\n",
       "            <td>facts     </td>\n",
       "        </tr>\n",
       "        <tr>\n",
       "            <td>Proc1     </td>\n",
       "            <td>input     </td>\n",
       "            <td>facts     </td>\n",
       "        </tr>\n",
       "        <tr>\n",
       "            <td>Proc1     </td>\n",
       "            <td>output    </td>\n",
       "            <td>opinions  </td>\n",
       "        </tr>\n",
       "    </tbody>\n",
       "</table>"
      ],
      "text/plain": [
       "[('Proc2     ', 'reckon    ', 'facts     '),\n",
       " ('Proc1     ', 'input     ', 'facts     '),\n",
       " ('Proc1     ', 'output    ', 'opinions  ')]"
      ]
     },
     "execution_count": 56,
     "metadata": {},
     "output_type": "execute_result"
    }
   ],
   "source": [
    "%%sql\n",
    "-- 全ての候補からexceptでフィルタする\n",
    "select distinct d1.diagram_name, d1.bubble_name, d2.flow_name\n",
    "from DataFlowDiagrams as d1, DataFlowDiagrams as d2\n",
    "except\n",
    "select *\n",
    "from DataFlowDiagrams"
   ]
  },
  {
   "cell_type": "code",
   "execution_count": 8,
   "id": "3a99ffa3-2e52-4dd6-9da3-2bdc6744ef11",
   "metadata": {},
   "outputs": [
    {
     "name": "stdout",
     "output_type": "stream",
     "text": [
      "*  postgresql://padawan:***@db:5432/dsdojo_db\n",
      "3 rows affected.\n"
     ]
    },
    {
     "data": {
      "text/html": [
       "<table>\n",
       "    <thead>\n",
       "        <tr>\n",
       "            <th>diagram_name</th>\n",
       "            <th>bubble_name</th>\n",
       "            <th>flow_name</th>\n",
       "        </tr>\n",
       "    </thead>\n",
       "    <tbody>\n",
       "        <tr>\n",
       "            <td>Proc2     </td>\n",
       "            <td>reckon    </td>\n",
       "            <td>facts     </td>\n",
       "        </tr>\n",
       "        <tr>\n",
       "            <td>Proc1     </td>\n",
       "            <td>input     </td>\n",
       "            <td>facts     </td>\n",
       "        </tr>\n",
       "        <tr>\n",
       "            <td>Proc1     </td>\n",
       "            <td>output    </td>\n",
       "            <td>opinions  </td>\n",
       "        </tr>\n",
       "    </tbody>\n",
       "</table>"
      ],
      "text/plain": [
       "[('Proc2     ', 'reckon    ', 'facts     '),\n",
       " ('Proc1     ', 'input     ', 'facts     '),\n",
       " ('Proc1     ', 'output    ', 'opinions  ')]"
      ]
     },
     "execution_count": 8,
     "metadata": {},
     "output_type": "execute_result"
    }
   ],
   "source": [
    "%%sql\n",
    "select distinct d1.diagram_name, d1.bubble_name, d2.flow_name\n",
    "from DataFlowDiagrams as d1\n",
    "cross join DataFlowDiagrams as d2\n",
    "-- left joinとNULL判定の組み合わせ\n",
    "left join DataFlowDiagrams as d3\n",
    "on d1.diagram_name = d3.diagram_name and\n",
    "d1.bubble_name = d3.bubble_name and\n",
    "d2.flow_name = d3.flow_name\n",
    "where d3.flow_name is NULL"
   ]
  },
  {
   "cell_type": "code",
   "execution_count": null,
   "id": "1995f92a-9687-4bfe-944a-9e60d9cf95a8",
   "metadata": {},
   "outputs": [],
   "source": []
  }
 ],
 "metadata": {
  "kernelspec": {
   "display_name": "Python 3 (ipykernel)",
   "language": "python",
   "name": "python3"
  },
  "language_info": {
   "codemirror_mode": {
    "name": "ipython",
    "version": 3
   },
   "file_extension": ".py",
   "mimetype": "text/x-python",
   "name": "python",
   "nbconvert_exporter": "python",
   "pygments_lexer": "ipython3",
   "version": "3.11.5"
  }
 },
 "nbformat": 4,
 "nbformat_minor": 5
}
