{
 "cells": [
  {
   "cell_type": "code",
   "execution_count": 2,
   "id": "2af04f58-40d6-48d8-812b-7c4a0fcf62cf",
   "metadata": {},
   "outputs": [],
   "source": [
    "%load_ext sql\n",
    "import os\n",
    "from sqlalchemy import create_engine\n",
    "\n",
    "pgconfig = {\n",
    "    'host': 'db',\n",
    "    'port': os.environ['PG_PORT'],\n",
    "    'database': os.environ['PG_DATABASE'],\n",
    "    'user': os.environ['PG_USER'],\n",
    "    'password': os.environ['PG_PASSWORD'],\n",
    "}\n",
    "dsl = 'postgresql://{user}:{password}@{host}:{port}/{database}'.format(**pgconfig)\n",
    "conn = create_engine(dsl)\n",
    "\n",
    "# MagicコマンドでSQLを書くための設定\n",
    "%sql conn"
   ]
  },
  {
   "cell_type": "code",
   "execution_count": 10,
   "id": "b7093acc-48b5-4f49-bca0-34ad05b01ed2",
   "metadata": {},
   "outputs": [
    {
     "name": "stdout",
     "output_type": "stream",
     "text": [
      "*  postgresql://padawan:***@db:5432/dsdojo_db\n",
      "Done.\n",
      "Done.\n",
      "8 rows affected.\n"
     ]
    },
    {
     "data": {
      "text/plain": [
       "[]"
      ]
     },
     "execution_count": 10,
     "metadata": {},
     "output_type": "execute_result"
    }
   ],
   "source": [
    "%%sql\n",
    "drop table if exists tbl;\n",
    "create table tbl (\n",
    "    id integer primary key,\n",
    "    group_id integer not null,\n",
    "    value integer not null\n",
    ");\n",
    "\n",
    "insert into tbl\n",
    "values (1,1,2),\n",
    "    (2,1,4),\n",
    "    (3,1,2),\n",
    "    (4,1,6),\n",
    "    (5,1,4),\n",
    "    (6,2,4),\n",
    "    (7,2,3),\n",
    "    (8,3,10);"
   ]
  },
  {
   "cell_type": "code",
   "execution_count": 16,
   "id": "960309c7-b0e7-4e2a-b862-5441a94708b1",
   "metadata": {},
   "outputs": [
    {
     "name": "stdout",
     "output_type": "stream",
     "text": [
      "*  postgresql://padawan:***@db:5432/dsdojo_db\n",
      "4 rows affected.\n"
     ]
    },
    {
     "data": {
      "text/html": [
       "<table>\n",
       "    <thead>\n",
       "        <tr>\n",
       "            <th>max</th>\n",
       "            <th>group_id</th>\n",
       "            <th>max_1</th>\n",
       "        </tr>\n",
       "    </thead>\n",
       "    <tbody>\n",
       "        <tr>\n",
       "            <td>7</td>\n",
       "            <td>2</td>\n",
       "            <td>3</td>\n",
       "        </tr>\n",
       "        <tr>\n",
       "            <td>4</td>\n",
       "            <td>1</td>\n",
       "            <td>6</td>\n",
       "        </tr>\n",
       "        <tr>\n",
       "            <td>6</td>\n",
       "            <td>2</td>\n",
       "            <td>4</td>\n",
       "        </tr>\n",
       "        <tr>\n",
       "            <td>8</td>\n",
       "            <td>3</td>\n",
       "            <td>10</td>\n",
       "        </tr>\n",
       "    </tbody>\n",
       "</table>"
      ],
      "text/plain": [
       "[(7, 2, 3), (4, 1, 6), (6, 2, 4), (8, 3, 10)]"
      ]
     },
     "execution_count": 16,
     "metadata": {},
     "output_type": "execute_result"
    }
   ],
   "source": [
    "%%sql\n",
    "select max(t1.id), t1.group_id, max(t1.value)\n",
    "from tbl as t1, tbl as t2\n",
    "where t1.group_id = t2.group_id and\n",
    "t1.value <= t2.value\n",
    "group by t1.group_id, t1.value\n",
    "having count(*) <= 2"
   ]
  },
  {
   "cell_type": "code",
   "execution_count": null,
   "id": "8427f87c-d41d-4c4e-aef0-0904b3c8f97f",
   "metadata": {},
   "outputs": [],
   "source": [
    "%%sql\n",
    "select *\n",
    "from (\n",
    "    select *,\n",
    "        dense_rank() over (\n",
    "            partition by group_id\n",
    "            order by value desc\n",
    "        ) as rnk\n",
    "    from tbl\n",
    ") as tmp\n",
    "where rnk <= 2"
   ]
  },
  {
   "cell_type": "code",
   "execution_count": null,
   "id": "80877387-8724-4e1d-8a92-8595141ae0cf",
   "metadata": {},
   "outputs": [],
   "source": []
  }
 ],
 "metadata": {
  "kernelspec": {
   "display_name": "Python 3 (ipykernel)",
   "language": "python",
   "name": "python3"
  },
  "language_info": {
   "codemirror_mode": {
    "name": "ipython",
    "version": 3
   },
   "file_extension": ".py",
   "mimetype": "text/x-python",
   "name": "python",
   "nbconvert_exporter": "python",
   "pygments_lexer": "ipython3",
   "version": "3.11.5"
  }
 },
 "nbformat": 4,
 "nbformat_minor": 5
}
