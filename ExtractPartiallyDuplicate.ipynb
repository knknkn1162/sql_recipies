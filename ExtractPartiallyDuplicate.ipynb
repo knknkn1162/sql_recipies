{
 "cells": [
  {
   "cell_type": "code",
   "execution_count": 4,
   "id": "00b48bdb-5a7b-43f5-8784-ca0a61f4b365",
   "metadata": {},
   "outputs": [
    {
     "name": "stdout",
     "output_type": "stream",
     "text": [
      "The sql extension is already loaded. To reload it, use:\n",
      "  %reload_ext sql\n"
     ]
    }
   ],
   "source": [
    "%load_ext sql\n",
    "import os\n",
    "from sqlalchemy import create_engine\n",
    "\n",
    "pgconfig = {\n",
    "    'host': 'db',\n",
    "    'port': os.environ['PG_PORT'],\n",
    "    'database': os.environ['PG_DATABASE'],\n",
    "    'user': os.environ['PG_USER'],\n",
    "    'password': os.environ['PG_PASSWORD'],\n",
    "}\n",
    "dsl = 'postgresql://{user}:{password}@{host}:{port}/{database}'.format(**pgconfig)\n",
    "conn = create_engine(dsl)\n",
    "\n",
    "# MagicコマンドでSQLを書くための設定\n",
    "%sql conn"
   ]
  },
  {
   "cell_type": "code",
   "execution_count": 6,
   "id": "4dbe9a25-5a96-4491-97e2-41d40b69900b",
   "metadata": {},
   "outputs": [
    {
     "name": "stdout",
     "output_type": "stream",
     "text": [
      "*  postgresql://padawan:***@db:5432/dsdojo_db\n",
      "Done.\n",
      "Done.\n",
      "1 rows affected.\n",
      "1 rows affected.\n",
      "1 rows affected.\n",
      "1 rows affected.\n",
      "1 rows affected.\n",
      "1 rows affected.\n",
      "1 rows affected.\n",
      "1 rows affected.\n",
      "1 rows affected.\n",
      "1 rows affected.\n",
      "1 rows affected.\n",
      "1 rows affected.\n",
      "1 rows affected.\n",
      "1 rows affected.\n"
     ]
    },
    {
     "data": {
      "text/plain": [
       "[]"
      ]
     },
     "execution_count": 6,
     "metadata": {},
     "output_type": "execute_result"
    }
   ],
   "source": [
    "%%sql\n",
    "drop table if exists Materials;\n",
    "CREATE TABLE Materials\n",
    "(center         CHAR(12) NOT NULL,\n",
    " receive_date   DATE     NOT NULL,\n",
    " material       CHAR(12) NOT NULL,\n",
    " PRIMARY KEY(center, receive_date));\n",
    "\n",
    "INSERT INTO Materials VALUES('東京'\t,'2018-4-01',\t'錫');\n",
    "INSERT INTO Materials VALUES('東京'\t,'2018-4-12',\t'亜鉛');\n",
    "INSERT INTO Materials VALUES('東京'\t,'2018-5-17',\t'アルミニウム');\n",
    "INSERT INTO Materials VALUES('東京'\t,'2018-5-20',\t'亜鉛');\n",
    "INSERT INTO Materials VALUES('大阪'\t,'2018-4-20',\t'銅');\n",
    "INSERT INTO Materials VALUES('大阪'\t,'2018-4-22',\t'ニッケル');\n",
    "INSERT INTO Materials VALUES('大阪'\t,'2018-4-29',\t'鉛');\n",
    "INSERT INTO Materials VALUES('名古屋',\t'2018-3-15',\t'チタン');\n",
    "INSERT INTO Materials VALUES('名古屋',\t'2018-4-01',\t'炭素鋼');\n",
    "INSERT INTO Materials VALUES('名古屋',\t'2018-4-24',\t'炭素鋼');\n",
    "INSERT INTO Materials VALUES('名古屋',\t'2018-5-02',\t'マグネシウム');\n",
    "INSERT INTO Materials VALUES('名古屋',\t'2018-5-10',\t'チタン');\n",
    "INSERT INTO Materials VALUES('福岡'\t,'2018-5-10',\t'亜鉛');\n",
    "INSERT INTO Materials VALUES('福岡'\t,'2018-5-28',\t'錫');"
   ]
  },
  {
   "cell_type": "markdown",
   "id": "d28e4dc2-fa5b-447a-9b6f-fccb31d168cc",
   "metadata": {},
   "source": [
    "## やりたいこと\n",
    "+ 各グループ(拠点)ごとに資材が重複しているような拠点(グループ名)を列挙する"
   ]
  },
  {
   "cell_type": "code",
   "execution_count": 7,
   "id": "6b166bee-db2e-478c-a6b4-0ff05d58b0db",
   "metadata": {},
   "outputs": [
    {
     "name": "stdout",
     "output_type": "stream",
     "text": [
      "*  postgresql://padawan:***@db:5432/dsdojo_db\n",
      "2 rows affected.\n"
     ]
    },
    {
     "data": {
      "text/html": [
       "<table>\n",
       "    <thead>\n",
       "        <tr>\n",
       "            <th>center</th>\n",
       "        </tr>\n",
       "    </thead>\n",
       "    <tbody>\n",
       "        <tr>\n",
       "            <td>東京          </td>\n",
       "        </tr>\n",
       "        <tr>\n",
       "            <td>名古屋         </td>\n",
       "        </tr>\n",
       "    </tbody>\n",
       "</table>"
      ],
      "text/plain": [
       "[('東京          ',), ('名古屋         ',)]"
      ]
     },
     "execution_count": 7,
     "metadata": {},
     "output_type": "execute_result"
    }
   ],
   "source": [
    "%%sql\n",
    "-- existsを使って書く\n",
    "-- existsのほうが出力できる情報量が多い\n",
    "select distinct center\n",
    "from Materials as m1\n",
    "where exists (\n",
    "    select *\n",
    "    from Materials as m2\n",
    "    where m1.center = m2.center and\n",
    "    m1.receive_date <> m2.receive_date and\n",
    "    m1.material = m2.material\n",
    ")"
   ]
  },
  {
   "cell_type": "code",
   "execution_count": 8,
   "id": "cbf780a5-688d-44a5-b5d7-4e258631ff96",
   "metadata": {},
   "outputs": [
    {
     "name": "stdout",
     "output_type": "stream",
     "text": [
      "*  postgresql://padawan:***@db:5432/dsdojo_db\n",
      "2 rows affected.\n"
     ]
    },
    {
     "data": {
      "text/html": [
       "<table>\n",
       "    <thead>\n",
       "        <tr>\n",
       "            <th>center</th>\n",
       "        </tr>\n",
       "    </thead>\n",
       "    <tbody>\n",
       "        <tr>\n",
       "            <td>東京          </td>\n",
       "        </tr>\n",
       "        <tr>\n",
       "            <td>名古屋         </td>\n",
       "        </tr>\n",
       "    </tbody>\n",
       "</table>"
      ],
      "text/plain": [
       "[('東京          ',), ('名古屋         ',)]"
      ]
     },
     "execution_count": 8,
     "metadata": {},
     "output_type": "execute_result"
    }
   ],
   "source": [
    "%%sql\n",
    "-- havingを利用\n",
    "select center\n",
    "from Materials\n",
    "group by center\n",
    "having count(material) <> count(distinct material);"
   ]
  },
  {
   "cell_type": "code",
   "execution_count": null,
   "id": "59e4b46e-02ce-43e7-96ab-7221409f7deb",
   "metadata": {},
   "outputs": [],
   "source": []
  }
 ],
 "metadata": {
  "kernelspec": {
   "display_name": "Python 3 (ipykernel)",
   "language": "python",
   "name": "python3"
  },
  "language_info": {
   "codemirror_mode": {
    "name": "ipython",
    "version": 3
   },
   "file_extension": ".py",
   "mimetype": "text/x-python",
   "name": "python",
   "nbconvert_exporter": "python",
   "pygments_lexer": "ipython3",
   "version": "3.11.5"
  }
 },
 "nbformat": 4,
 "nbformat_minor": 5
}
